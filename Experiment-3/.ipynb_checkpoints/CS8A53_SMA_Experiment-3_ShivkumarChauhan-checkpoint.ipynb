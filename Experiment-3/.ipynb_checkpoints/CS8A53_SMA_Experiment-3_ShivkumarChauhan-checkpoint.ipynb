{
 "cells": [
  {
   "cell_type": "markdown",
   "id": "cplbl_qwblRm",
   "metadata": {
    "deletable": false,
    "editable": false,
    "id": "cplbl_qwblRm",
    "run_control": {
     "frozen": true
    }
   },
   "source": [
    "## Name: Shivkumar G. Chauhan\n",
    "### Roll No.: CS8A53\n",
    "### Batch A-3\n",
    "---\n",
    "# Experiment - 3 : Data Preprocessing\n"
   ]
  },
  {
   "cell_type": "markdown",
   "id": "o_ENWMaCoql_",
   "metadata": {
    "heading_collapsed": true,
    "id": "o_ENWMaCoql_"
   },
   "source": [
    "## imports"
   ]
  },
  {
   "cell_type": "code",
   "execution_count": 14,
   "id": "c5AfQzN1oegy",
   "metadata": {
    "ExecuteTime": {
     "end_time": "2023-02-17T20:27:14.879265Z",
     "start_time": "2023-02-17T20:27:14.858207Z"
    },
    "executionInfo": {
     "elapsed": 407,
     "status": "ok",
     "timestamp": 1676272695440,
     "user": {
      "displayName": "SHIVKUMAR CHAUHAN",
      "userId": "00181769091967804430"
     },
     "user_tz": -330
    },
    "hidden": true,
    "id": "c5AfQzN1oegy"
   },
   "outputs": [],
   "source": [
    "import os\n",
    "import pandas\n",
    "import numpy"
   ]
  },
  {
   "cell_type": "markdown",
   "id": "qgy605huYrOI",
   "metadata": {
    "id": "qgy605huYrOI"
   },
   "source": [
    "## Configurations"
   ]
  },
  {
   "cell_type": "code",
   "execution_count": 15,
   "id": "QvWQuYFjoTj6",
   "metadata": {
    "ExecuteTime": {
     "end_time": "2023-02-17T21:09:17.519052Z",
     "start_time": "2023-02-17T21:09:17.503027Z"
    },
    "executionInfo": {
     "elapsed": 1055,
     "status": "ok",
     "timestamp": 1676272894786,
     "user": {
      "displayName": "SHIVKUMAR CHAUHAN",
      "userId": "00181769091967804430"
     },
     "user_tz": -330
    },
    "id": "QvWQuYFjoTj6"
   },
   "outputs": [],
   "source": [
    "Himalaya_Tweets_Data=pandas.read_csv(\"../Data/Raw_Data/Twitter_Data/Himalaya_Tweets_Data.csv\")"
   ]
  },
  {
   "cell_type": "code",
   "execution_count": 3,
   "id": "oZa4Bxk9xvIV",
   "metadata": {
    "ExecuteTime": {
     "end_time": "2023-02-17T20:18:44.178247Z",
     "start_time": "2023-02-17T20:18:44.159214Z"
    },
    "id": "oZa4Bxk9xvIV"
   },
   "outputs": [],
   "source": [
    "Tweets_Data_from_Search=pandas.read_csv(\"../Data/Raw_Data/Twitter_Data/Tweets_Data_from_Search.csv\")"
   ]
  },
  {
   "cell_type": "code",
   "execution_count": 4,
   "id": "Zy0tkWH4xvOp",
   "metadata": {
    "ExecuteTime": {
     "end_time": "2023-02-17T20:18:44.649625Z",
     "start_time": "2023-02-17T20:18:44.631622Z"
    },
    "executionInfo": {
     "elapsed": 9,
     "status": "ok",
     "timestamp": 1676275313683,
     "user": {
      "displayName": "SHIVKUMAR CHAUHAN",
      "userId": "00181769091967804430"
     },
     "user_tz": -330
    },
    "id": "Zy0tkWH4xvOp"
   },
   "outputs": [],
   "source": [
    "Himalaya_Wellness_Site_Products_Data=pandas.read_csv(\"../Data/Raw_Data/Himalaya_Wellness_Site_Data/Products_Data.csv\")"
   ]
  },
  {
   "cell_type": "code",
   "execution_count": 5,
   "id": "D1SO0l3_yHun",
   "metadata": {
    "ExecuteTime": {
     "end_time": "2023-02-17T20:18:45.044843Z",
     "start_time": "2023-02-17T20:18:45.028058Z"
    },
    "executionInfo": {
     "elapsed": 726,
     "status": "ok",
     "timestamp": 1676275540986,
     "user": {
      "displayName": "SHIVKUMAR CHAUHAN",
      "userId": "00181769091967804430"
     },
     "user_tz": -330
    },
    "id": "D1SO0l3_yHun"
   },
   "outputs": [],
   "source": [
    "Himalaya_Wellness_Site_Blog_Data=pandas.read_csv(\"../Data/Raw_Data/Himalaya_Wellness_Site_Data/Blogs_Data.csv\")"
   ]
  },
  {
   "cell_type": "markdown",
   "id": "U2s8f3KB1J-B",
   "metadata": {
    "heading_collapsed": true,
    "id": "U2s8f3KB1J-B"
   },
   "source": [
    "## Data Exploration"
   ]
  },
  {
   "cell_type": "markdown",
   "id": "17e55540",
   "metadata": {
    "heading_collapsed": true,
    "hidden": true
   },
   "source": [
    "### Initial Lookup"
   ]
  },
  {
   "cell_type": "code",
   "execution_count": 6,
   "id": "XH9imlfOoTnP",
   "metadata": {
    "ExecuteTime": {
     "end_time": "2023-02-17T20:18:45.908009Z",
     "start_time": "2023-02-17T20:18:45.886222Z"
    },
    "colab": {
     "base_uri": "https://localhost:8080/",
     "height": 207
    },
    "executionInfo": {
     "elapsed": 12,
     "status": "ok",
     "timestamp": 1676276278714,
     "user": {
      "displayName": "SHIVKUMAR CHAUHAN",
      "userId": "00181769091967804430"
     },
     "user_tz": -330
    },
    "hidden": true,
    "id": "XH9imlfOoTnP",
    "outputId": "7050f60e-1df5-4c1a-9260-0d453152fd1d"
   },
   "outputs": [
    {
     "data": {
      "text/html": [
       "<div>\n",
       "<style scoped>\n",
       "    .dataframe tbody tr th:only-of-type {\n",
       "        vertical-align: middle;\n",
       "    }\n",
       "\n",
       "    .dataframe tbody tr th {\n",
       "        vertical-align: top;\n",
       "    }\n",
       "\n",
       "    .dataframe thead th {\n",
       "        text-align: right;\n",
       "    }\n",
       "</style>\n",
       "<table border=\"1\" class=\"dataframe\">\n",
       "  <thead>\n",
       "    <tr style=\"text-align: right;\">\n",
       "      <th></th>\n",
       "      <th>date</th>\n",
       "      <th>content</th>\n",
       "      <th>username</th>\n",
       "      <th>likes</th>\n",
       "      <th>views</th>\n",
       "      <th>hashtags</th>\n",
       "      <th>url</th>\n",
       "    </tr>\n",
       "  </thead>\n",
       "  <tbody>\n",
       "    <tr>\n",
       "      <th>0</th>\n",
       "      <td>2023-01-25</td>\n",
       "      <td>The #HimalayaWellnessCompany commemorates the ...</td>\n",
       "      <td>HimalayaIndia</td>\n",
       "      <td>13</td>\n",
       "      <td>1052.0</td>\n",
       "      <td>['HimalayaWellnessCompany', 'RepublicDay', 'Ha...</td>\n",
       "      <td>https://twitter.com/HimalayaIndia/status/16181...</td>\n",
       "    </tr>\n",
       "    <tr>\n",
       "      <th>1</th>\n",
       "      <td>2023-01-23</td>\n",
       "      <td>Himalaya’s new manufacturing facility in Tumak...</td>\n",
       "      <td>HimalayaIndia</td>\n",
       "      <td>20</td>\n",
       "      <td>1284.0</td>\n",
       "      <td>['ISO', 'safety', 'HimalayaWellness']</td>\n",
       "      <td>https://twitter.com/HimalayaIndia/status/16173...</td>\n",
       "    </tr>\n",
       "    <tr>\n",
       "      <th>2</th>\n",
       "      <td>2023-01-17</td>\n",
       "      <td>@MKC1_Reddy Hi Reddy, Could you please DM us y...</td>\n",
       "      <td>HimalayaIndia</td>\n",
       "      <td>0</td>\n",
       "      <td>29.0</td>\n",
       "      <td>NaN</td>\n",
       "      <td>https://twitter.com/HimalayaIndia/status/16152...</td>\n",
       "    </tr>\n",
       "    <tr>\n",
       "      <th>3</th>\n",
       "      <td>2023-01-13</td>\n",
       "      <td>Let's celebrate the onset of warmer days and p...</td>\n",
       "      <td>HimalayaIndia</td>\n",
       "      <td>3</td>\n",
       "      <td>473.0</td>\n",
       "      <td>['HimalayaWellnessCompany', 'Lohri', 'Pongal',...</td>\n",
       "      <td>https://twitter.com/HimalayaIndia/status/16138...</td>\n",
       "    </tr>\n",
       "    <tr>\n",
       "      <th>4</th>\n",
       "      <td>2023-01-13</td>\n",
       "      <td>#Himalaya drives initiatives to enrich lives. ...</td>\n",
       "      <td>HimalayaIndia</td>\n",
       "      <td>3</td>\n",
       "      <td>679.0</td>\n",
       "      <td>['Himalaya', 'Government', 'School']</td>\n",
       "      <td>https://twitter.com/HimalayaIndia/status/16137...</td>\n",
       "    </tr>\n",
       "  </tbody>\n",
       "</table>\n",
       "</div>"
      ],
      "text/plain": [
       "         date                                            content  \\\n",
       "0  2023-01-25  The #HimalayaWellnessCompany commemorates the ...   \n",
       "1  2023-01-23  Himalaya’s new manufacturing facility in Tumak...   \n",
       "2  2023-01-17  @MKC1_Reddy Hi Reddy, Could you please DM us y...   \n",
       "3  2023-01-13  Let's celebrate the onset of warmer days and p...   \n",
       "4  2023-01-13  #Himalaya drives initiatives to enrich lives. ...   \n",
       "\n",
       "        username  likes   views  \\\n",
       "0  HimalayaIndia     13  1052.0   \n",
       "1  HimalayaIndia     20  1284.0   \n",
       "2  HimalayaIndia      0    29.0   \n",
       "3  HimalayaIndia      3   473.0   \n",
       "4  HimalayaIndia      3   679.0   \n",
       "\n",
       "                                            hashtags  \\\n",
       "0  ['HimalayaWellnessCompany', 'RepublicDay', 'Ha...   \n",
       "1              ['ISO', 'safety', 'HimalayaWellness']   \n",
       "2                                                NaN   \n",
       "3  ['HimalayaWellnessCompany', 'Lohri', 'Pongal',...   \n",
       "4               ['Himalaya', 'Government', 'School']   \n",
       "\n",
       "                                                 url  \n",
       "0  https://twitter.com/HimalayaIndia/status/16181...  \n",
       "1  https://twitter.com/HimalayaIndia/status/16173...  \n",
       "2  https://twitter.com/HimalayaIndia/status/16152...  \n",
       "3  https://twitter.com/HimalayaIndia/status/16138...  \n",
       "4  https://twitter.com/HimalayaIndia/status/16137...  "
      ]
     },
     "execution_count": 6,
     "metadata": {},
     "output_type": "execute_result"
    }
   ],
   "source": [
    "Himalaya_Tweets_Data.head()"
   ]
  },
  {
   "cell_type": "code",
   "execution_count": 10,
   "id": "a2f1d8c1",
   "metadata": {
    "ExecuteTime": {
     "end_time": "2023-02-17T20:23:13.470415Z",
     "start_time": "2023-02-17T20:23:13.442382Z"
    },
    "hidden": true
   },
   "outputs": [
    {
     "name": "stdout",
     "output_type": "stream",
     "text": [
      "<class 'pandas.core.frame.DataFrame'>\n",
      "RangeIndex: 100 entries, 0 to 99\n",
      "Data columns (total 7 columns):\n",
      " #   Column    Non-Null Count  Dtype  \n",
      "---  ------    --------------  -----  \n",
      " 0   date      100 non-null    object \n",
      " 1   content   100 non-null    object \n",
      " 2   username  100 non-null    object \n",
      " 3   likes     100 non-null    int64  \n",
      " 4   views     10 non-null     float64\n",
      " 5   hashtags  75 non-null     object \n",
      " 6   url       100 non-null    object \n",
      "dtypes: float64(1), int64(1), object(5)\n",
      "memory usage: 5.6+ KB\n"
     ]
    }
   ],
   "source": [
    "Himalaya_Tweets_Data.info()"
   ]
  },
  {
   "cell_type": "code",
   "execution_count": 7,
   "id": "0BQGthvfxvLh",
   "metadata": {
    "ExecuteTime": {
     "end_time": "2023-02-17T20:22:17.091805Z",
     "start_time": "2023-02-17T20:22:17.074056Z"
    },
    "executionInfo": {
     "elapsed": 9,
     "status": "ok",
     "timestamp": 1676275074548,
     "user": {
      "displayName": "SHIVKUMAR CHAUHAN",
      "userId": "00181769091967804430"
     },
     "user_tz": -330
    },
    "hidden": true,
    "id": "0BQGthvfxvLh"
   },
   "outputs": [
    {
     "data": {
      "text/html": [
       "<div>\n",
       "<style scoped>\n",
       "    .dataframe tbody tr th:only-of-type {\n",
       "        vertical-align: middle;\n",
       "    }\n",
       "\n",
       "    .dataframe tbody tr th {\n",
       "        vertical-align: top;\n",
       "    }\n",
       "\n",
       "    .dataframe thead th {\n",
       "        text-align: right;\n",
       "    }\n",
       "</style>\n",
       "<table border=\"1\" class=\"dataframe\">\n",
       "  <thead>\n",
       "    <tr style=\"text-align: right;\">\n",
       "      <th></th>\n",
       "      <th>date</th>\n",
       "      <th>content</th>\n",
       "      <th>username</th>\n",
       "      <th>likes</th>\n",
       "      <th>views</th>\n",
       "      <th>hashtags</th>\n",
       "      <th>url</th>\n",
       "    </tr>\n",
       "  </thead>\n",
       "  <tbody>\n",
       "    <tr>\n",
       "      <th>0</th>\n",
       "      <td>2023-02-12</td>\n",
       "      <td>@Caudalie\\n@HimalayaIndia \\n@sleepy\\n@babyturc...</td>\n",
       "      <td>rabiaerTURKc1</td>\n",
       "      <td>0</td>\n",
       "      <td>61</td>\n",
       "      <td>NaN</td>\n",
       "      <td>https://twitter.com/rabiaerTURKc1/status/16248...</td>\n",
       "    </tr>\n",
       "    <tr>\n",
       "      <th>1</th>\n",
       "      <td>2023-02-12</td>\n",
       "      <td>@PTI_News @PypAyurved @HimalayaIndia @DaburInd...</td>\n",
       "      <td>Green_Laalten</td>\n",
       "      <td>0</td>\n",
       "      <td>183</td>\n",
       "      <td>NaN</td>\n",
       "      <td>https://twitter.com/Green_Laalten/status/16245...</td>\n",
       "    </tr>\n",
       "    <tr>\n",
       "      <th>2</th>\n",
       "      <td>2023-02-10</td>\n",
       "      <td>Please declare these products  @BhagwantMann g...</td>\n",
       "      <td>azeemali3119</td>\n",
       "      <td>2</td>\n",
       "      <td>115</td>\n",
       "      <td>['Punjab', 'Ayurveda', 'unani', 'patanjalifood...</td>\n",
       "      <td>https://twitter.com/azeemali3119/status/162389...</td>\n",
       "    </tr>\n",
       "    <tr>\n",
       "      <th>3</th>\n",
       "      <td>2023-02-08</td>\n",
       "      <td>The prices of #soap are rising like anything i...</td>\n",
       "      <td>AmericanLove4u</td>\n",
       "      <td>0</td>\n",
       "      <td>58</td>\n",
       "      <td>['soap', 'India', 'AUSvsIND', 'Cricket', 'INDv...</td>\n",
       "      <td>https://twitter.com/AmericanLove4u/status/1623...</td>\n",
       "    </tr>\n",
       "    <tr>\n",
       "      <th>4</th>\n",
       "      <td>2023-02-08</td>\n",
       "      <td>Shop @HimalayaIndia 🍃 Herbal products from @iH...</td>\n",
       "      <td>ayurvedanelly</td>\n",
       "      <td>0</td>\n",
       "      <td>49</td>\n",
       "      <td>['India', 'himalaya', 'HimalayaIndia', 'Himala...</td>\n",
       "      <td>https://twitter.com/ayurvedanelly/status/16232...</td>\n",
       "    </tr>\n",
       "  </tbody>\n",
       "</table>\n",
       "</div>"
      ],
      "text/plain": [
       "         date                                            content  \\\n",
       "0  2023-02-12  @Caudalie\\n@HimalayaIndia \\n@sleepy\\n@babyturc...   \n",
       "1  2023-02-12  @PTI_News @PypAyurved @HimalayaIndia @DaburInd...   \n",
       "2  2023-02-10  Please declare these products  @BhagwantMann g...   \n",
       "3  2023-02-08  The prices of #soap are rising like anything i...   \n",
       "4  2023-02-08  Shop @HimalayaIndia 🍃 Herbal products from @iH...   \n",
       "\n",
       "         username  likes  views  \\\n",
       "0   rabiaerTURKc1      0     61   \n",
       "1   Green_Laalten      0    183   \n",
       "2    azeemali3119      2    115   \n",
       "3  AmericanLove4u      0     58   \n",
       "4   ayurvedanelly      0     49   \n",
       "\n",
       "                                            hashtags  \\\n",
       "0                                                NaN   \n",
       "1                                                NaN   \n",
       "2  ['Punjab', 'Ayurveda', 'unani', 'patanjalifood...   \n",
       "3  ['soap', 'India', 'AUSvsIND', 'Cricket', 'INDv...   \n",
       "4  ['India', 'himalaya', 'HimalayaIndia', 'Himala...   \n",
       "\n",
       "                                                 url  \n",
       "0  https://twitter.com/rabiaerTURKc1/status/16248...  \n",
       "1  https://twitter.com/Green_Laalten/status/16245...  \n",
       "2  https://twitter.com/azeemali3119/status/162389...  \n",
       "3  https://twitter.com/AmericanLove4u/status/1623...  \n",
       "4  https://twitter.com/ayurvedanelly/status/16232...  "
      ]
     },
     "execution_count": 7,
     "metadata": {},
     "output_type": "execute_result"
    }
   ],
   "source": [
    "Tweets_Data_from_Search.head()"
   ]
  },
  {
   "cell_type": "code",
   "execution_count": 11,
   "id": "3863eda4",
   "metadata": {
    "ExecuteTime": {
     "end_time": "2023-02-17T20:23:29.726568Z",
     "start_time": "2023-02-17T20:23:29.705571Z"
    },
    "hidden": true
   },
   "outputs": [
    {
     "name": "stdout",
     "output_type": "stream",
     "text": [
      "<class 'pandas.core.frame.DataFrame'>\n",
      "RangeIndex: 127 entries, 0 to 126\n",
      "Data columns (total 7 columns):\n",
      " #   Column    Non-Null Count  Dtype \n",
      "---  ------    --------------  ----- \n",
      " 0   date      127 non-null    object\n",
      " 1   content   127 non-null    object\n",
      " 2   username  127 non-null    object\n",
      " 3   likes     127 non-null    int64 \n",
      " 4   views     127 non-null    int64 \n",
      " 5   hashtags  22 non-null     object\n",
      " 6   url       127 non-null    object\n",
      "dtypes: int64(2), object(5)\n",
      "memory usage: 7.1+ KB\n"
     ]
    }
   ],
   "source": [
    "Tweets_Data_from_Search.info()"
   ]
  },
  {
   "cell_type": "code",
   "execution_count": 8,
   "id": "qFUdZS10y0By",
   "metadata": {
    "ExecuteTime": {
     "end_time": "2023-02-17T20:22:22.503608Z",
     "start_time": "2023-02-17T20:22:22.482199Z"
    },
    "executionInfo": {
     "elapsed": 16,
     "status": "ok",
     "timestamp": 1676275323667,
     "user": {
      "displayName": "SHIVKUMAR CHAUHAN",
      "userId": "00181769091967804430"
     },
     "user_tz": -330
    },
    "hidden": true,
    "id": "qFUdZS10y0By"
   },
   "outputs": [
    {
     "data": {
      "text/html": [
       "<div>\n",
       "<style scoped>\n",
       "    .dataframe tbody tr th:only-of-type {\n",
       "        vertical-align: middle;\n",
       "    }\n",
       "\n",
       "    .dataframe tbody tr th {\n",
       "        vertical-align: top;\n",
       "    }\n",
       "\n",
       "    .dataframe thead th {\n",
       "        text-align: right;\n",
       "    }\n",
       "</style>\n",
       "<table border=\"1\" class=\"dataframe\">\n",
       "  <thead>\n",
       "    <tr style=\"text-align: right;\">\n",
       "      <th></th>\n",
       "      <th>title</th>\n",
       "      <th>price</th>\n",
       "      <th>description</th>\n",
       "      <th>url</th>\n",
       "    </tr>\n",
       "  </thead>\n",
       "  <tbody>\n",
       "    <tr>\n",
       "      <th>0</th>\n",
       "      <td>Ashvagandha</td>\n",
       "      <td>₹ 200.00</td>\n",
       "      <td>Helps Boost Immunity and Overall Endurance \\nF...</td>\n",
       "      <td>https://himalayawellness.in/collections/all/pr...</td>\n",
       "    </tr>\n",
       "    <tr>\n",
       "      <th>1</th>\n",
       "      <td>Gokshura</td>\n",
       "      <td>₹ 220.00</td>\n",
       "      <td>Improves vigour</td>\n",
       "      <td>https://himalayawellness.in/collections/all/pr...</td>\n",
       "    </tr>\n",
       "    <tr>\n",
       "      <th>2</th>\n",
       "      <td>Tentex Royal</td>\n",
       "      <td>₹ 225.00</td>\n",
       "      <td>Relieves stress &amp; improves performance.\\nHimal...</td>\n",
       "      <td>https://himalayawellness.in/collections/all/pr...</td>\n",
       "    </tr>\n",
       "    <tr>\n",
       "      <th>3</th>\n",
       "      <td>Tentex Forte</td>\n",
       "      <td>₹ 90.00</td>\n",
       "      <td>Rejuvenate &amp; elevate your performance\\nHimalay...</td>\n",
       "      <td>https://himalayawellness.in/collections/all/pr...</td>\n",
       "    </tr>\n",
       "    <tr>\n",
       "      <th>4</th>\n",
       "      <td>Complete Care Toothpaste</td>\n",
       "      <td>₹ 55.00</td>\n",
       "      <td>Healthy gums . Strong teeth . Fresh breath\\nHi...</td>\n",
       "      <td>https://himalayawellness.in/collections/all/pr...</td>\n",
       "    </tr>\n",
       "  </tbody>\n",
       "</table>\n",
       "</div>"
      ],
      "text/plain": [
       "                      title     price  \\\n",
       "0               Ashvagandha  ₹ 200.00   \n",
       "1                  Gokshura  ₹ 220.00   \n",
       "2              Tentex Royal  ₹ 225.00   \n",
       "3              Tentex Forte   ₹ 90.00   \n",
       "4  Complete Care Toothpaste   ₹ 55.00   \n",
       "\n",
       "                                         description  \\\n",
       "0  Helps Boost Immunity and Overall Endurance \\nF...   \n",
       "1                                    Improves vigour   \n",
       "2  Relieves stress & improves performance.\\nHimal...   \n",
       "3  Rejuvenate & elevate your performance\\nHimalay...   \n",
       "4  Healthy gums . Strong teeth . Fresh breath\\nHi...   \n",
       "\n",
       "                                                 url  \n",
       "0  https://himalayawellness.in/collections/all/pr...  \n",
       "1  https://himalayawellness.in/collections/all/pr...  \n",
       "2  https://himalayawellness.in/collections/all/pr...  \n",
       "3  https://himalayawellness.in/collections/all/pr...  \n",
       "4  https://himalayawellness.in/collections/all/pr...  "
      ]
     },
     "execution_count": 8,
     "metadata": {},
     "output_type": "execute_result"
    }
   ],
   "source": [
    "Himalaya_Wellness_Site_Products_Data.head()"
   ]
  },
  {
   "cell_type": "code",
   "execution_count": 12,
   "id": "7d712714",
   "metadata": {
    "ExecuteTime": {
     "end_time": "2023-02-17T20:23:55.657147Z",
     "start_time": "2023-02-17T20:23:55.630931Z"
    },
    "hidden": true
   },
   "outputs": [
    {
     "name": "stdout",
     "output_type": "stream",
     "text": [
      "<class 'pandas.core.frame.DataFrame'>\n",
      "RangeIndex: 885 entries, 0 to 884\n",
      "Data columns (total 4 columns):\n",
      " #   Column       Non-Null Count  Dtype \n",
      "---  ------       --------------  ----- \n",
      " 0   title        885 non-null    object\n",
      " 1   price        882 non-null    object\n",
      " 2   description  860 non-null    object\n",
      " 3   url          885 non-null    object\n",
      "dtypes: object(4)\n",
      "memory usage: 27.8+ KB\n"
     ]
    }
   ],
   "source": [
    "Himalaya_Wellness_Site_Products_Data.info()"
   ]
  },
  {
   "cell_type": "code",
   "execution_count": 9,
   "id": "y1BR8huWyHzD",
   "metadata": {
    "ExecuteTime": {
     "end_time": "2023-02-17T20:22:26.989502Z",
     "start_time": "2023-02-17T20:22:26.964503Z"
    },
    "executionInfo": {
     "elapsed": 7,
     "status": "ok",
     "timestamp": 1676275906679,
     "user": {
      "displayName": "SHIVKUMAR CHAUHAN",
      "userId": "00181769091967804430"
     },
     "user_tz": -330
    },
    "hidden": true,
    "id": "y1BR8huWyHzD"
   },
   "outputs": [
    {
     "data": {
      "text/html": [
       "<div>\n",
       "<style scoped>\n",
       "    .dataframe tbody tr th:only-of-type {\n",
       "        vertical-align: middle;\n",
       "    }\n",
       "\n",
       "    .dataframe tbody tr th {\n",
       "        vertical-align: top;\n",
       "    }\n",
       "\n",
       "    .dataframe thead th {\n",
       "        text-align: right;\n",
       "    }\n",
       "</style>\n",
       "<table border=\"1\" class=\"dataframe\">\n",
       "  <thead>\n",
       "    <tr style=\"text-align: right;\">\n",
       "      <th></th>\n",
       "      <th>Unnamed: 0</th>\n",
       "      <th>name</th>\n",
       "      <th>posting_timestamp</th>\n",
       "      <th>content</th>\n",
       "      <th>url</th>\n",
       "    </tr>\n",
       "  </thead>\n",
       "  <tbody>\n",
       "    <tr>\n",
       "      <th>0</th>\n",
       "      <td>0</td>\n",
       "      <td>Face gel over Face cream - Top 4 benefits to m...</td>\n",
       "      <td>08/10/2022 8:33am</td>\n",
       "      <td>Face gel is becoming increasingly popular in s...</td>\n",
       "      <td>https://himalayawellness.in/a/blog/benefits-fa...</td>\n",
       "    </tr>\n",
       "    <tr>\n",
       "      <th>1</th>\n",
       "      <td>1</td>\n",
       "      <td>Himalaya Immunity Boosters (Tablets and Syrups)</td>\n",
       "      <td>07/11/2022 8:28am</td>\n",
       "      <td>Adopting a healthy and balanced diet, exercisi...</td>\n",
       "      <td>https://himalayawellness.in/a/blog/himalaya-im...</td>\n",
       "    </tr>\n",
       "    <tr>\n",
       "      <th>2</th>\n",
       "      <td>2</td>\n",
       "      <td>8 Simple Steps for a Perfect Baby Massage</td>\n",
       "      <td>01/02/2023 10:40am</td>\n",
       "      <td>Are you wondering how to give your baby a soot...</td>\n",
       "      <td>https://himalayawellness.in/a/blog/steps-perfe...</td>\n",
       "    </tr>\n",
       "    <tr>\n",
       "      <th>3</th>\n",
       "      <td>3</td>\n",
       "      <td>10 Benefits of Guduchi (Giloy) Herb</td>\n",
       "      <td>01/02/2023 8:53am</td>\n",
       "      <td>Guduchi (Giloy) is an herb that has several th...</td>\n",
       "      <td>https://himalayawellness.in/a/blog/benefits-of...</td>\n",
       "    </tr>\n",
       "    <tr>\n",
       "      <th>4</th>\n",
       "      <td>4</td>\n",
       "      <td>How to Boost Bone Health with Nutrition</td>\n",
       "      <td>10/18/2022 8:37am</td>\n",
       "      <td>Osteoporosis (OP) is one of the most common me...</td>\n",
       "      <td>https://himalayawellness.in/a/blog/boost-bone-...</td>\n",
       "    </tr>\n",
       "  </tbody>\n",
       "</table>\n",
       "</div>"
      ],
      "text/plain": [
       "   Unnamed: 0                                               name  \\\n",
       "0           0  Face gel over Face cream - Top 4 benefits to m...   \n",
       "1           1    Himalaya Immunity Boosters (Tablets and Syrups)   \n",
       "2           2          8 Simple Steps for a Perfect Baby Massage   \n",
       "3           3                10 Benefits of Guduchi (Giloy) Herb   \n",
       "4           4            How to Boost Bone Health with Nutrition   \n",
       "\n",
       "    posting_timestamp                                            content  \\\n",
       "0   08/10/2022 8:33am  Face gel is becoming increasingly popular in s...   \n",
       "1   07/11/2022 8:28am  Adopting a healthy and balanced diet, exercisi...   \n",
       "2  01/02/2023 10:40am  Are you wondering how to give your baby a soot...   \n",
       "3   01/02/2023 8:53am  Guduchi (Giloy) is an herb that has several th...   \n",
       "4   10/18/2022 8:37am  Osteoporosis (OP) is one of the most common me...   \n",
       "\n",
       "                                                 url  \n",
       "0  https://himalayawellness.in/a/blog/benefits-fa...  \n",
       "1  https://himalayawellness.in/a/blog/himalaya-im...  \n",
       "2  https://himalayawellness.in/a/blog/steps-perfe...  \n",
       "3  https://himalayawellness.in/a/blog/benefits-of...  \n",
       "4  https://himalayawellness.in/a/blog/boost-bone-...  "
      ]
     },
     "execution_count": 9,
     "metadata": {},
     "output_type": "execute_result"
    }
   ],
   "source": [
    "Himalaya_Wellness_Site_Blog_Data.head()"
   ]
  },
  {
   "cell_type": "code",
   "execution_count": 13,
   "id": "67ozcHxE1Qs7",
   "metadata": {
    "ExecuteTime": {
     "end_time": "2023-02-17T20:24:08.456651Z",
     "start_time": "2023-02-17T20:24:08.430647Z"
    },
    "hidden": true,
    "id": "67ozcHxE1Qs7",
    "run_control": {
     "marked": false
    },
    "scrolled": true
   },
   "outputs": [
    {
     "name": "stdout",
     "output_type": "stream",
     "text": [
      "<class 'pandas.core.frame.DataFrame'>\n",
      "RangeIndex: 20 entries, 0 to 19\n",
      "Data columns (total 5 columns):\n",
      " #   Column             Non-Null Count  Dtype \n",
      "---  ------             --------------  ----- \n",
      " 0   Unnamed: 0         20 non-null     int64 \n",
      " 1   name               20 non-null     object\n",
      " 2   posting_timestamp  20 non-null     object\n",
      " 3   content            20 non-null     object\n",
      " 4   url                20 non-null     object\n",
      "dtypes: int64(1), object(4)\n",
      "memory usage: 928.0+ bytes\n"
     ]
    }
   ],
   "source": [
    "Himalaya_Wellness_Site_Blog_Data.info()"
   ]
  },
  {
   "cell_type": "markdown",
   "id": "y8-77Qi6xQ3Z",
   "metadata": {
    "id": "y8-77Qi6xQ3Z"
   },
   "source": [
    "# Data Preprocessing"
   ]
  },
  {
   "cell_type": "markdown",
   "id": "a2be6d33",
   "metadata": {
    "heading_collapsed": true,
    "id": "5wgqiZgS1JC0"
   },
   "source": [
    "## 1. Data Cleaning"
   ]
  },
  {
   "cell_type": "markdown",
   "id": "551e582b",
   "metadata": {
    "heading_collapsed": true,
    "hidden": true
   },
   "source": [
    "### Handling Missing Values"
   ]
  },
  {
   "cell_type": "code",
   "execution_count": null,
   "id": "1efc6402",
   "metadata": {
    "hidden": true
   },
   "outputs": [],
   "source": []
  },
  {
   "cell_type": "code",
   "execution_count": null,
   "id": "cf402cde",
   "metadata": {
    "hidden": true
   },
   "outputs": [],
   "source": []
  },
  {
   "cell_type": "markdown",
   "id": "067db482",
   "metadata": {
    "heading_collapsed": true,
    "hidden": true
   },
   "source": [
    "### Handaling Noisy Data"
   ]
  },
  {
   "cell_type": "code",
   "execution_count": null,
   "id": "6e737653",
   "metadata": {
    "hidden": true
   },
   "outputs": [],
   "source": []
  },
  {
   "cell_type": "code",
   "execution_count": null,
   "id": "664e77f6",
   "metadata": {
    "hidden": true
   },
   "outputs": [],
   "source": []
  },
  {
   "cell_type": "code",
   "execution_count": null,
   "id": "cbdc0078",
   "metadata": {
    "hidden": true
   },
   "outputs": [],
   "source": []
  },
  {
   "cell_type": "code",
   "execution_count": null,
   "id": "13b362e0",
   "metadata": {
    "hidden": true
   },
   "outputs": [],
   "source": []
  },
  {
   "cell_type": "code",
   "execution_count": null,
   "id": "f388ae60",
   "metadata": {
    "hidden": true
   },
   "outputs": [],
   "source": []
  },
  {
   "cell_type": "markdown",
   "id": "25851555",
   "metadata": {
    "heading_collapsed": true
   },
   "source": [
    "## 2. Data Reduction"
   ]
  },
  {
   "cell_type": "markdown",
   "id": "59ce5a2c",
   "metadata": {
    "heading_collapsed": true,
    "hidden": true
   },
   "source": [
    "### Data Size Reduction"
   ]
  },
  {
   "cell_type": "code",
   "execution_count": null,
   "id": "d05f87b2",
   "metadata": {
    "hidden": true
   },
   "outputs": [],
   "source": []
  },
  {
   "cell_type": "markdown",
   "id": "1cf2574e",
   "metadata": {
    "heading_collapsed": true
   },
   "source": [
    "## 3. Data Transformation"
   ]
  },
  {
   "cell_type": "markdown",
   "id": "35a64d52",
   "metadata": {
    "heading_collapsed": true,
    "hidden": true
   },
   "source": [
    "### 1. Data Attribution"
   ]
  },
  {
   "cell_type": "code",
   "execution_count": null,
   "id": "b0973fcd",
   "metadata": {
    "hidden": true
   },
   "outputs": [],
   "source": []
  },
  {
   "cell_type": "code",
   "execution_count": null,
   "id": "b9b23034",
   "metadata": {
    "hidden": true
   },
   "outputs": [],
   "source": []
  },
  {
   "cell_type": "code",
   "execution_count": null,
   "id": "7a6ac677",
   "metadata": {
    "hidden": true
   },
   "outputs": [],
   "source": []
  },
  {
   "cell_type": "code",
   "execution_count": null,
   "id": "9fe25c2b",
   "metadata": {
    "hidden": true
   },
   "outputs": [],
   "source": []
  },
  {
   "cell_type": "code",
   "execution_count": null,
   "id": "bef04e59",
   "metadata": {
    "hidden": true
   },
   "outputs": [],
   "source": []
  },
  {
   "cell_type": "markdown",
   "id": "3a5a18cd",
   "metadata": {
    "executionInfo": {
     "elapsed": 20,
     "status": "ok",
     "timestamp": 1676274913394,
     "user": {
      "displayName": "SHIVKUMAR CHAUHAN",
      "userId": "00181769091967804430"
     },
     "user_tz": -330
    },
    "heading_collapsed": true,
    "id": "6F5X2OnirIXg"
   },
   "source": [
    "## 4. Data Integration"
   ]
  },
  {
   "cell_type": "code",
   "execution_count": null,
   "id": "9b41ecec",
   "metadata": {
    "hidden": true
   },
   "outputs": [],
   "source": []
  },
  {
   "cell_type": "code",
   "execution_count": null,
   "id": "QM7dABauxWJr",
   "metadata": {
    "hidden": true,
    "id": "QM7dABauxWJr"
   },
   "outputs": [],
   "source": []
  },
  {
   "cell_type": "code",
   "execution_count": null,
   "id": "vCz0D4JfxWAY",
   "metadata": {
    "hidden": true,
    "id": "vCz0D4JfxWAY"
   },
   "outputs": [],
   "source": []
  },
  {
   "cell_type": "code",
   "execution_count": null,
   "id": "DS7CF4HWxV8w",
   "metadata": {
    "hidden": true,
    "id": "DS7CF4HWxV8w"
   },
   "outputs": [],
   "source": []
  },
  {
   "cell_type": "markdown",
   "id": "5970c87c",
   "metadata": {
    "heading_collapsed": true,
    "id": "u_RqNKgNxV5p"
   },
   "source": [
    "## 5. Data Filtaration"
   ]
  },
  {
   "cell_type": "markdown",
   "id": "-T3LZkx51Rs_",
   "metadata": {
    "heading_collapsed": true,
    "id": "-T3LZkx51Rs_"
   },
   "source": [
    "# Data Saving on Database"
   ]
  },
  {
   "cell_type": "markdown",
   "id": "v2eCum-E1oFG",
   "metadata": {
    "heading_collapsed": true,
    "hidden": true,
    "id": "v2eCum-E1oFG"
   },
   "source": [
    "## Data Saving on Non-Relational Database\n"
   ]
  },
  {
   "cell_type": "code",
   "execution_count": null,
   "id": "rcxU1ivgxV2Q",
   "metadata": {
    "hidden": true,
    "id": "rcxU1ivgxV2Q"
   },
   "outputs": [],
   "source": []
  },
  {
   "cell_type": "code",
   "execution_count": null,
   "id": "sEYMWGK8xVzJ",
   "metadata": {
    "hidden": true,
    "id": "sEYMWGK8xVzJ"
   },
   "outputs": [],
   "source": []
  },
  {
   "cell_type": "markdown",
   "id": "oXrI8rrb2H1R",
   "metadata": {
    "heading_collapsed": true,
    "hidden": true,
    "id": "oXrI8rrb2H1R"
   },
   "source": [
    "## Data Saving on Relational Database"
   ]
  },
  {
   "cell_type": "code",
   "execution_count": null,
   "id": "huYpk9UexVvF",
   "metadata": {
    "hidden": true,
    "id": "huYpk9UexVvF"
   },
   "outputs": [],
   "source": []
  },
  {
   "cell_type": "code",
   "execution_count": null,
   "id": "Y70pdoJUxVoT",
   "metadata": {
    "hidden": true,
    "id": "Y70pdoJUxVoT"
   },
   "outputs": [],
   "source": []
  }
 ],
 "metadata": {
  "colab": {
   "provenance": [
    {
     "file_id": "157IlCs-7AnovM6nO11wjp7ZhGoWbdd2X",
     "timestamp": 1676270838737
    }
   ],
   "toc_visible": true
  },
  "hide_input": false,
  "kernelspec": {
   "display_name": "Python 3 (ipykernel)",
   "language": "python",
   "name": "python3"
  },
  "language_info": {
   "codemirror_mode": {
    "name": "ipython",
    "version": 3
   },
   "file_extension": ".py",
   "mimetype": "text/x-python",
   "name": "python",
   "nbconvert_exporter": "python",
   "pygments_lexer": "ipython3",
   "version": "3.10.8"
  }
 },
 "nbformat": 4,
 "nbformat_minor": 5
}
