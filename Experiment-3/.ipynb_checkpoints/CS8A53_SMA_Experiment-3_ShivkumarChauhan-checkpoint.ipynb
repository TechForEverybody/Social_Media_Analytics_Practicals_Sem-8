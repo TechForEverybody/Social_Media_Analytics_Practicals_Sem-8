{
 "cells": [
  {
   "cell_type": "markdown",
   "id": "cplbl_qwblRm",
   "metadata": {
    "deletable": false,
    "editable": false,
    "id": "cplbl_qwblRm",
    "run_control": {
     "frozen": true
    }
   },
   "source": [
    "## Name: Shivkumar G. Chauhan\n",
    "### Roll No.: CS8A53\n",
    "### Batch A-3\n",
    "---\n",
    "# Experiment - 3 : Data Preprocessing\n"
   ]
  },
  {
   "cell_type": "markdown",
   "id": "o_ENWMaCoql_",
   "metadata": {
    "id": "o_ENWMaCoql_"
   },
   "source": [
    "## imports"
   ]
  },
  {
   "cell_type": "code",
   "execution_count": 53,
   "id": "c5AfQzN1oegy",
   "metadata": {
    "ExecuteTime": {
     "end_time": "2023-02-19T16:31:28.486109Z",
     "start_time": "2023-02-19T16:31:26.014839Z"
    },
    "executionInfo": {
     "elapsed": 407,
     "status": "ok",
     "timestamp": 1676272695440,
     "user": {
      "displayName": "SHIVKUMAR CHAUHAN",
      "userId": "00181769091967804430"
     },
     "user_tz": -330
    },
    "id": "c5AfQzN1oegy"
   },
   "outputs": [],
   "source": [
    "import os\n",
    "import pandas\n",
    "import numpy\n",
    "\n",
    "\n",
    "from nltk.probability import FreqDist"
   ]
  },
  {
   "cell_type": "markdown",
   "id": "qgy605huYrOI",
   "metadata": {
    "id": "qgy605huYrOI"
   },
   "source": [
    "## Configurations"
   ]
  },
  {
   "cell_type": "code",
   "execution_count": null,
   "id": "d1db6962",
   "metadata": {},
   "outputs": [],
   "source": []
  },
  {
   "cell_type": "code",
   "execution_count": null,
   "id": "d1514525",
   "metadata": {},
   "outputs": [],
   "source": []
  },
  {
   "cell_type": "code",
   "execution_count": 52,
   "id": "cb0ec025",
   "metadata": {
    "ExecuteTime": {
     "end_time": "2023-02-19T16:31:01.570715Z",
     "start_time": "2023-02-19T16:31:01.550879Z"
    }
   },
   "outputs": [],
   "source": [
    "def getWordList(textList:list)->list:\n",
    "    Words_list=[text for text in textList]\n",
    "    Words_list=\" \".join(Words_list)\n",
    "    Words_list=Words_list.split()\n",
    "    return Words_list"
   ]
  },
  {
   "cell_type": "markdown",
   "id": "a2f728ea",
   "metadata": {},
   "source": [
    "### Data Loading"
   ]
  },
  {
   "cell_type": "code",
   "execution_count": 3,
   "id": "QvWQuYFjoTj6",
   "metadata": {
    "ExecuteTime": {
     "end_time": "2023-02-19T16:09:04.231045Z",
     "start_time": "2023-02-19T16:09:03.882270Z"
    },
    "executionInfo": {
     "elapsed": 1055,
     "status": "ok",
     "timestamp": 1676272894786,
     "user": {
      "displayName": "SHIVKUMAR CHAUHAN",
      "userId": "00181769091967804430"
     },
     "user_tz": -330
    },
    "id": "QvWQuYFjoTj6"
   },
   "outputs": [],
   "source": [
    "Himalaya_Tweets_Data=pandas.read_csv(\"../Data/Raw_Data/Twitter_Data/Himalaya_Tweets_Data.csv\")"
   ]
  },
  {
   "cell_type": "code",
   "execution_count": 4,
   "id": "oZa4Bxk9xvIV",
   "metadata": {
    "ExecuteTime": {
     "end_time": "2023-02-19T16:09:04.356019Z",
     "start_time": "2023-02-19T16:09:04.236550Z"
    },
    "id": "oZa4Bxk9xvIV"
   },
   "outputs": [],
   "source": [
    "Tweets_Data_from_Search=pandas.read_csv(\"../Data/Raw_Data/Twitter_Data/Tweets_Data_from_Search.csv\")"
   ]
  },
  {
   "cell_type": "code",
   "execution_count": 5,
   "id": "Zy0tkWH4xvOp",
   "metadata": {
    "ExecuteTime": {
     "end_time": "2023-02-19T16:09:04.544465Z",
     "start_time": "2023-02-19T16:09:04.477704Z"
    },
    "executionInfo": {
     "elapsed": 9,
     "status": "ok",
     "timestamp": 1676275313683,
     "user": {
      "displayName": "SHIVKUMAR CHAUHAN",
      "userId": "00181769091967804430"
     },
     "user_tz": -330
    },
    "id": "Zy0tkWH4xvOp"
   },
   "outputs": [],
   "source": [
    "Himalaya_Wellness_Site_Products_Data=pandas.read_csv(\"../Data/Raw_Data/Himalaya_Wellness_Site_Data/Products_Data.csv\")"
   ]
  },
  {
   "cell_type": "code",
   "execution_count": 6,
   "id": "D1SO0l3_yHun",
   "metadata": {
    "ExecuteTime": {
     "end_time": "2023-02-19T16:09:04.930475Z",
     "start_time": "2023-02-19T16:09:04.875735Z"
    },
    "executionInfo": {
     "elapsed": 726,
     "status": "ok",
     "timestamp": 1676275540986,
     "user": {
      "displayName": "SHIVKUMAR CHAUHAN",
      "userId": "00181769091967804430"
     },
     "user_tz": -330
    },
    "id": "D1SO0l3_yHun"
   },
   "outputs": [],
   "source": [
    "Himalaya_Wellness_Site_Blog_Data=pandas.read_csv(\"../Data/Raw_Data/Himalaya_Wellness_Site_Data/Blogs_Data.csv\")"
   ]
  },
  {
   "cell_type": "code",
   "execution_count": 7,
   "id": "b6377c3a",
   "metadata": {
    "ExecuteTime": {
     "end_time": "2023-02-19T16:09:06.004335Z",
     "start_time": "2023-02-19T16:09:05.986278Z"
    }
   },
   "outputs": [],
   "source": [
    "Facebook_Post_Data=pandas.read_csv(\"../Data/Raw_Data/Facebook_Data/Facebook_Post_Data.csv\")"
   ]
  },
  {
   "cell_type": "code",
   "execution_count": 8,
   "id": "e5caf702",
   "metadata": {
    "ExecuteTime": {
     "end_time": "2023-02-19T16:10:14.687015Z",
     "start_time": "2023-02-19T16:10:14.651458Z"
    }
   },
   "outputs": [],
   "source": [
    "Himalaya_Youtube_Video_Data=pandas.read_csv(\"../Data/Raw_Data/Youtube_Data/Himalaya_Youtube_Video_Data.csv\")"
   ]
  },
  {
   "cell_type": "code",
   "execution_count": 9,
   "id": "65ed33e3",
   "metadata": {
    "ExecuteTime": {
     "end_time": "2023-02-19T16:10:50.233439Z",
     "start_time": "2023-02-19T16:10:50.200776Z"
    }
   },
   "outputs": [],
   "source": [
    "Himalaya_Youtube_Video_Search_Data=pandas.read_csv(\"../Data/Raw_Data/Youtube_Data/Himalaya_Youtube_Video_Search_Data.csv\")"
   ]
  },
  {
   "cell_type": "code",
   "execution_count": 10,
   "id": "1ce8ff70",
   "metadata": {
    "ExecuteTime": {
     "end_time": "2023-02-19T16:11:19.157067Z",
     "start_time": "2023-02-19T16:11:19.043467Z"
    }
   },
   "outputs": [],
   "source": [
    "Youtube_Comments_Data=pandas.read_csv(\"../Data/Raw_Data/Youtube_Data/Youtube_Comments_Data.csv\")"
   ]
  },
  {
   "cell_type": "markdown",
   "id": "249672b4",
   "metadata": {
    "heading_collapsed": true
   },
   "source": [
    "### Credentials Loading"
   ]
  },
  {
   "cell_type": "code",
   "execution_count": null,
   "id": "ae86aabf",
   "metadata": {
    "hidden": true
   },
   "outputs": [],
   "source": []
  },
  {
   "cell_type": "code",
   "execution_count": null,
   "id": "3ada6897",
   "metadata": {
    "hidden": true
   },
   "outputs": [],
   "source": []
  },
  {
   "cell_type": "markdown",
   "id": "da041077",
   "metadata": {
    "heading_collapsed": true
   },
   "source": [
    "### MySQL Connection"
   ]
  },
  {
   "cell_type": "code",
   "execution_count": null,
   "id": "a1b74d2e",
   "metadata": {
    "hidden": true
   },
   "outputs": [],
   "source": []
  },
  {
   "cell_type": "code",
   "execution_count": null,
   "id": "51c9f12c",
   "metadata": {
    "hidden": true
   },
   "outputs": [],
   "source": []
  },
  {
   "cell_type": "markdown",
   "id": "bd6ea77e",
   "metadata": {
    "heading_collapsed": true
   },
   "source": [
    "### MongoDB Connection"
   ]
  },
  {
   "cell_type": "code",
   "execution_count": null,
   "id": "99ce1b76",
   "metadata": {
    "hidden": true
   },
   "outputs": [],
   "source": []
  },
  {
   "cell_type": "code",
   "execution_count": null,
   "id": "983c6e55",
   "metadata": {
    "hidden": true
   },
   "outputs": [],
   "source": []
  },
  {
   "cell_type": "markdown",
   "id": "U2s8f3KB1J-B",
   "metadata": {
    "id": "U2s8f3KB1J-B"
   },
   "source": [
    "## Data Exploration"
   ]
  },
  {
   "cell_type": "markdown",
   "id": "17e55540",
   "metadata": {},
   "source": [
    "### Initial Lookup"
   ]
  },
  {
   "cell_type": "code",
   "execution_count": 12,
   "id": "XH9imlfOoTnP",
   "metadata": {
    "ExecuteTime": {
     "end_time": "2023-02-19T16:13:47.423391Z",
     "start_time": "2023-02-19T16:13:47.393775Z"
    },
    "colab": {
     "base_uri": "https://localhost:8080/",
     "height": 207
    },
    "executionInfo": {
     "elapsed": 12,
     "status": "ok",
     "timestamp": 1676276278714,
     "user": {
      "displayName": "SHIVKUMAR CHAUHAN",
      "userId": "00181769091967804430"
     },
     "user_tz": -330
    },
    "id": "XH9imlfOoTnP",
    "outputId": "7050f60e-1df5-4c1a-9260-0d453152fd1d"
   },
   "outputs": [
    {
     "data": {
      "text/html": [
       "<div>\n",
       "<style scoped>\n",
       "    .dataframe tbody tr th:only-of-type {\n",
       "        vertical-align: middle;\n",
       "    }\n",
       "\n",
       "    .dataframe tbody tr th {\n",
       "        vertical-align: top;\n",
       "    }\n",
       "\n",
       "    .dataframe thead th {\n",
       "        text-align: right;\n",
       "    }\n",
       "</style>\n",
       "<table border=\"1\" class=\"dataframe\">\n",
       "  <thead>\n",
       "    <tr style=\"text-align: right;\">\n",
       "      <th></th>\n",
       "      <th>date</th>\n",
       "      <th>content</th>\n",
       "      <th>username</th>\n",
       "      <th>likes</th>\n",
       "      <th>views</th>\n",
       "      <th>hashtags</th>\n",
       "      <th>url</th>\n",
       "    </tr>\n",
       "  </thead>\n",
       "  <tbody>\n",
       "    <tr>\n",
       "      <th>0</th>\n",
       "      <td>2023-01-25</td>\n",
       "      <td>The #HimalayaWellnessCompany commemorates the ...</td>\n",
       "      <td>HimalayaIndia</td>\n",
       "      <td>13</td>\n",
       "      <td>1052.0</td>\n",
       "      <td>['HimalayaWellnessCompany', 'RepublicDay', 'Ha...</td>\n",
       "      <td>https://twitter.com/HimalayaIndia/status/16181...</td>\n",
       "    </tr>\n",
       "    <tr>\n",
       "      <th>1</th>\n",
       "      <td>2023-01-23</td>\n",
       "      <td>Himalaya’s new manufacturing facility in Tumak...</td>\n",
       "      <td>HimalayaIndia</td>\n",
       "      <td>20</td>\n",
       "      <td>1284.0</td>\n",
       "      <td>['ISO', 'safety', 'HimalayaWellness']</td>\n",
       "      <td>https://twitter.com/HimalayaIndia/status/16173...</td>\n",
       "    </tr>\n",
       "    <tr>\n",
       "      <th>2</th>\n",
       "      <td>2023-01-17</td>\n",
       "      <td>@MKC1_Reddy Hi Reddy, Could you please DM us y...</td>\n",
       "      <td>HimalayaIndia</td>\n",
       "      <td>0</td>\n",
       "      <td>29.0</td>\n",
       "      <td>NaN</td>\n",
       "      <td>https://twitter.com/HimalayaIndia/status/16152...</td>\n",
       "    </tr>\n",
       "    <tr>\n",
       "      <th>3</th>\n",
       "      <td>2023-01-13</td>\n",
       "      <td>Let's celebrate the onset of warmer days and p...</td>\n",
       "      <td>HimalayaIndia</td>\n",
       "      <td>3</td>\n",
       "      <td>473.0</td>\n",
       "      <td>['HimalayaWellnessCompany', 'Lohri', 'Pongal',...</td>\n",
       "      <td>https://twitter.com/HimalayaIndia/status/16138...</td>\n",
       "    </tr>\n",
       "    <tr>\n",
       "      <th>4</th>\n",
       "      <td>2023-01-13</td>\n",
       "      <td>#Himalaya drives initiatives to enrich lives. ...</td>\n",
       "      <td>HimalayaIndia</td>\n",
       "      <td>3</td>\n",
       "      <td>679.0</td>\n",
       "      <td>['Himalaya', 'Government', 'School']</td>\n",
       "      <td>https://twitter.com/HimalayaIndia/status/16137...</td>\n",
       "    </tr>\n",
       "  </tbody>\n",
       "</table>\n",
       "</div>"
      ],
      "text/plain": [
       "         date                                            content  \\\n",
       "0  2023-01-25  The #HimalayaWellnessCompany commemorates the ...   \n",
       "1  2023-01-23  Himalaya’s new manufacturing facility in Tumak...   \n",
       "2  2023-01-17  @MKC1_Reddy Hi Reddy, Could you please DM us y...   \n",
       "3  2023-01-13  Let's celebrate the onset of warmer days and p...   \n",
       "4  2023-01-13  #Himalaya drives initiatives to enrich lives. ...   \n",
       "\n",
       "        username  likes   views  \\\n",
       "0  HimalayaIndia     13  1052.0   \n",
       "1  HimalayaIndia     20  1284.0   \n",
       "2  HimalayaIndia      0    29.0   \n",
       "3  HimalayaIndia      3   473.0   \n",
       "4  HimalayaIndia      3   679.0   \n",
       "\n",
       "                                            hashtags  \\\n",
       "0  ['HimalayaWellnessCompany', 'RepublicDay', 'Ha...   \n",
       "1              ['ISO', 'safety', 'HimalayaWellness']   \n",
       "2                                                NaN   \n",
       "3  ['HimalayaWellnessCompany', 'Lohri', 'Pongal',...   \n",
       "4               ['Himalaya', 'Government', 'School']   \n",
       "\n",
       "                                                 url  \n",
       "0  https://twitter.com/HimalayaIndia/status/16181...  \n",
       "1  https://twitter.com/HimalayaIndia/status/16173...  \n",
       "2  https://twitter.com/HimalayaIndia/status/16152...  \n",
       "3  https://twitter.com/HimalayaIndia/status/16138...  \n",
       "4  https://twitter.com/HimalayaIndia/status/16137...  "
      ]
     },
     "execution_count": 12,
     "metadata": {},
     "output_type": "execute_result"
    }
   ],
   "source": [
    "Himalaya_Tweets_Data.head()"
   ]
  },
  {
   "cell_type": "code",
   "execution_count": 18,
   "id": "0BQGthvfxvLh",
   "metadata": {
    "ExecuteTime": {
     "end_time": "2023-02-19T16:14:04.871657Z",
     "start_time": "2023-02-19T16:14:04.842381Z"
    },
    "executionInfo": {
     "elapsed": 9,
     "status": "ok",
     "timestamp": 1676275074548,
     "user": {
      "displayName": "SHIVKUMAR CHAUHAN",
      "userId": "00181769091967804430"
     },
     "user_tz": -330
    },
    "id": "0BQGthvfxvLh"
   },
   "outputs": [
    {
     "data": {
      "text/html": [
       "<div>\n",
       "<style scoped>\n",
       "    .dataframe tbody tr th:only-of-type {\n",
       "        vertical-align: middle;\n",
       "    }\n",
       "\n",
       "    .dataframe tbody tr th {\n",
       "        vertical-align: top;\n",
       "    }\n",
       "\n",
       "    .dataframe thead th {\n",
       "        text-align: right;\n",
       "    }\n",
       "</style>\n",
       "<table border=\"1\" class=\"dataframe\">\n",
       "  <thead>\n",
       "    <tr style=\"text-align: right;\">\n",
       "      <th></th>\n",
       "      <th>date</th>\n",
       "      <th>content</th>\n",
       "      <th>username</th>\n",
       "      <th>likes</th>\n",
       "      <th>views</th>\n",
       "      <th>hashtags</th>\n",
       "      <th>url</th>\n",
       "    </tr>\n",
       "  </thead>\n",
       "  <tbody>\n",
       "    <tr>\n",
       "      <th>0</th>\n",
       "      <td>2023-02-12</td>\n",
       "      <td>@Caudalie\\n@HimalayaIndia \\n@sleepy\\n@babyturc...</td>\n",
       "      <td>rabiaerTURKc1</td>\n",
       "      <td>0</td>\n",
       "      <td>61</td>\n",
       "      <td>NaN</td>\n",
       "      <td>https://twitter.com/rabiaerTURKc1/status/16248...</td>\n",
       "    </tr>\n",
       "    <tr>\n",
       "      <th>1</th>\n",
       "      <td>2023-02-12</td>\n",
       "      <td>@PTI_News @PypAyurved @HimalayaIndia @DaburInd...</td>\n",
       "      <td>Green_Laalten</td>\n",
       "      <td>0</td>\n",
       "      <td>183</td>\n",
       "      <td>NaN</td>\n",
       "      <td>https://twitter.com/Green_Laalten/status/16245...</td>\n",
       "    </tr>\n",
       "    <tr>\n",
       "      <th>2</th>\n",
       "      <td>2023-02-10</td>\n",
       "      <td>Please declare these products  @BhagwantMann g...</td>\n",
       "      <td>azeemali3119</td>\n",
       "      <td>2</td>\n",
       "      <td>115</td>\n",
       "      <td>['Punjab', 'Ayurveda', 'unani', 'patanjalifood...</td>\n",
       "      <td>https://twitter.com/azeemali3119/status/162389...</td>\n",
       "    </tr>\n",
       "    <tr>\n",
       "      <th>3</th>\n",
       "      <td>2023-02-08</td>\n",
       "      <td>The prices of #soap are rising like anything i...</td>\n",
       "      <td>AmericanLove4u</td>\n",
       "      <td>0</td>\n",
       "      <td>58</td>\n",
       "      <td>['soap', 'India', 'AUSvsIND', 'Cricket', 'INDv...</td>\n",
       "      <td>https://twitter.com/AmericanLove4u/status/1623...</td>\n",
       "    </tr>\n",
       "    <tr>\n",
       "      <th>4</th>\n",
       "      <td>2023-02-08</td>\n",
       "      <td>Shop @HimalayaIndia 🍃 Herbal products from @iH...</td>\n",
       "      <td>ayurvedanelly</td>\n",
       "      <td>0</td>\n",
       "      <td>49</td>\n",
       "      <td>['India', 'himalaya', 'HimalayaIndia', 'Himala...</td>\n",
       "      <td>https://twitter.com/ayurvedanelly/status/16232...</td>\n",
       "    </tr>\n",
       "  </tbody>\n",
       "</table>\n",
       "</div>"
      ],
      "text/plain": [
       "         date                                            content  \\\n",
       "0  2023-02-12  @Caudalie\\n@HimalayaIndia \\n@sleepy\\n@babyturc...   \n",
       "1  2023-02-12  @PTI_News @PypAyurved @HimalayaIndia @DaburInd...   \n",
       "2  2023-02-10  Please declare these products  @BhagwantMann g...   \n",
       "3  2023-02-08  The prices of #soap are rising like anything i...   \n",
       "4  2023-02-08  Shop @HimalayaIndia 🍃 Herbal products from @iH...   \n",
       "\n",
       "         username  likes  views  \\\n",
       "0   rabiaerTURKc1      0     61   \n",
       "1   Green_Laalten      0    183   \n",
       "2    azeemali3119      2    115   \n",
       "3  AmericanLove4u      0     58   \n",
       "4   ayurvedanelly      0     49   \n",
       "\n",
       "                                            hashtags  \\\n",
       "0                                                NaN   \n",
       "1                                                NaN   \n",
       "2  ['Punjab', 'Ayurveda', 'unani', 'patanjalifood...   \n",
       "3  ['soap', 'India', 'AUSvsIND', 'Cricket', 'INDv...   \n",
       "4  ['India', 'himalaya', 'HimalayaIndia', 'Himala...   \n",
       "\n",
       "                                                 url  \n",
       "0  https://twitter.com/rabiaerTURKc1/status/16248...  \n",
       "1  https://twitter.com/Green_Laalten/status/16245...  \n",
       "2  https://twitter.com/azeemali3119/status/162389...  \n",
       "3  https://twitter.com/AmericanLove4u/status/1623...  \n",
       "4  https://twitter.com/ayurvedanelly/status/16232...  "
      ]
     },
     "execution_count": 18,
     "metadata": {},
     "output_type": "execute_result"
    }
   ],
   "source": [
    "Tweets_Data_from_Search.head()"
   ]
  },
  {
   "cell_type": "code",
   "execution_count": 20,
   "id": "qFUdZS10y0By",
   "metadata": {
    "ExecuteTime": {
     "end_time": "2023-02-19T16:14:05.656918Z",
     "start_time": "2023-02-19T16:14:05.631761Z"
    },
    "executionInfo": {
     "elapsed": 16,
     "status": "ok",
     "timestamp": 1676275323667,
     "user": {
      "displayName": "SHIVKUMAR CHAUHAN",
      "userId": "00181769091967804430"
     },
     "user_tz": -330
    },
    "id": "qFUdZS10y0By",
    "scrolled": true
   },
   "outputs": [
    {
     "data": {
      "text/html": [
       "<div>\n",
       "<style scoped>\n",
       "    .dataframe tbody tr th:only-of-type {\n",
       "        vertical-align: middle;\n",
       "    }\n",
       "\n",
       "    .dataframe tbody tr th {\n",
       "        vertical-align: top;\n",
       "    }\n",
       "\n",
       "    .dataframe thead th {\n",
       "        text-align: right;\n",
       "    }\n",
       "</style>\n",
       "<table border=\"1\" class=\"dataframe\">\n",
       "  <thead>\n",
       "    <tr style=\"text-align: right;\">\n",
       "      <th></th>\n",
       "      <th>title</th>\n",
       "      <th>price</th>\n",
       "      <th>description</th>\n",
       "      <th>url</th>\n",
       "    </tr>\n",
       "  </thead>\n",
       "  <tbody>\n",
       "    <tr>\n",
       "      <th>0</th>\n",
       "      <td>Ashvagandha</td>\n",
       "      <td>₹ 200.00</td>\n",
       "      <td>Helps Boost Immunity and Overall Endurance \\nF...</td>\n",
       "      <td>https://himalayawellness.in/collections/all/pr...</td>\n",
       "    </tr>\n",
       "    <tr>\n",
       "      <th>1</th>\n",
       "      <td>Gokshura</td>\n",
       "      <td>₹ 220.00</td>\n",
       "      <td>Improves vigour</td>\n",
       "      <td>https://himalayawellness.in/collections/all/pr...</td>\n",
       "    </tr>\n",
       "    <tr>\n",
       "      <th>2</th>\n",
       "      <td>Tentex Royal</td>\n",
       "      <td>₹ 225.00</td>\n",
       "      <td>Relieves stress &amp; improves performance.\\nHimal...</td>\n",
       "      <td>https://himalayawellness.in/collections/all/pr...</td>\n",
       "    </tr>\n",
       "    <tr>\n",
       "      <th>3</th>\n",
       "      <td>Tentex Forte</td>\n",
       "      <td>₹ 90.00</td>\n",
       "      <td>Rejuvenate &amp; elevate your performance\\nHimalay...</td>\n",
       "      <td>https://himalayawellness.in/collections/all/pr...</td>\n",
       "    </tr>\n",
       "    <tr>\n",
       "      <th>4</th>\n",
       "      <td>Complete Care Toothpaste</td>\n",
       "      <td>₹ 55.00</td>\n",
       "      <td>Healthy gums . Strong teeth . Fresh breath\\nHi...</td>\n",
       "      <td>https://himalayawellness.in/collections/all/pr...</td>\n",
       "    </tr>\n",
       "  </tbody>\n",
       "</table>\n",
       "</div>"
      ],
      "text/plain": [
       "                      title     price  \\\n",
       "0               Ashvagandha  ₹ 200.00   \n",
       "1                  Gokshura  ₹ 220.00   \n",
       "2              Tentex Royal  ₹ 225.00   \n",
       "3              Tentex Forte   ₹ 90.00   \n",
       "4  Complete Care Toothpaste   ₹ 55.00   \n",
       "\n",
       "                                         description  \\\n",
       "0  Helps Boost Immunity and Overall Endurance \\nF...   \n",
       "1                                    Improves vigour   \n",
       "2  Relieves stress & improves performance.\\nHimal...   \n",
       "3  Rejuvenate & elevate your performance\\nHimalay...   \n",
       "4  Healthy gums . Strong teeth . Fresh breath\\nHi...   \n",
       "\n",
       "                                                 url  \n",
       "0  https://himalayawellness.in/collections/all/pr...  \n",
       "1  https://himalayawellness.in/collections/all/pr...  \n",
       "2  https://himalayawellness.in/collections/all/pr...  \n",
       "3  https://himalayawellness.in/collections/all/pr...  \n",
       "4  https://himalayawellness.in/collections/all/pr...  "
      ]
     },
     "execution_count": 20,
     "metadata": {},
     "output_type": "execute_result"
    }
   ],
   "source": [
    "Himalaya_Wellness_Site_Products_Data.head()"
   ]
  },
  {
   "cell_type": "code",
   "execution_count": 22,
   "id": "y1BR8huWyHzD",
   "metadata": {
    "ExecuteTime": {
     "end_time": "2023-02-19T16:14:13.436029Z",
     "start_time": "2023-02-19T16:14:13.416639Z"
    },
    "executionInfo": {
     "elapsed": 7,
     "status": "ok",
     "timestamp": 1676275906679,
     "user": {
      "displayName": "SHIVKUMAR CHAUHAN",
      "userId": "00181769091967804430"
     },
     "user_tz": -330
    },
    "id": "y1BR8huWyHzD"
   },
   "outputs": [
    {
     "data": {
      "text/html": [
       "<div>\n",
       "<style scoped>\n",
       "    .dataframe tbody tr th:only-of-type {\n",
       "        vertical-align: middle;\n",
       "    }\n",
       "\n",
       "    .dataframe tbody tr th {\n",
       "        vertical-align: top;\n",
       "    }\n",
       "\n",
       "    .dataframe thead th {\n",
       "        text-align: right;\n",
       "    }\n",
       "</style>\n",
       "<table border=\"1\" class=\"dataframe\">\n",
       "  <thead>\n",
       "    <tr style=\"text-align: right;\">\n",
       "      <th></th>\n",
       "      <th>Unnamed: 0</th>\n",
       "      <th>name</th>\n",
       "      <th>posting_timestamp</th>\n",
       "      <th>content</th>\n",
       "      <th>url</th>\n",
       "    </tr>\n",
       "  </thead>\n",
       "  <tbody>\n",
       "    <tr>\n",
       "      <th>0</th>\n",
       "      <td>0</td>\n",
       "      <td>Face gel over Face cream - Top 4 benefits to m...</td>\n",
       "      <td>08/10/2022 8:33am</td>\n",
       "      <td>Face gel is becoming increasingly popular in s...</td>\n",
       "      <td>https://himalayawellness.in/a/blog/benefits-fa...</td>\n",
       "    </tr>\n",
       "    <tr>\n",
       "      <th>1</th>\n",
       "      <td>1</td>\n",
       "      <td>Himalaya Immunity Boosters (Tablets and Syrups)</td>\n",
       "      <td>07/11/2022 8:28am</td>\n",
       "      <td>Adopting a healthy and balanced diet, exercisi...</td>\n",
       "      <td>https://himalayawellness.in/a/blog/himalaya-im...</td>\n",
       "    </tr>\n",
       "    <tr>\n",
       "      <th>2</th>\n",
       "      <td>2</td>\n",
       "      <td>8 Simple Steps for a Perfect Baby Massage</td>\n",
       "      <td>01/02/2023 10:40am</td>\n",
       "      <td>Are you wondering how to give your baby a soot...</td>\n",
       "      <td>https://himalayawellness.in/a/blog/steps-perfe...</td>\n",
       "    </tr>\n",
       "    <tr>\n",
       "      <th>3</th>\n",
       "      <td>3</td>\n",
       "      <td>10 Benefits of Guduchi (Giloy) Herb</td>\n",
       "      <td>01/02/2023 8:53am</td>\n",
       "      <td>Guduchi (Giloy) is an herb that has several th...</td>\n",
       "      <td>https://himalayawellness.in/a/blog/benefits-of...</td>\n",
       "    </tr>\n",
       "    <tr>\n",
       "      <th>4</th>\n",
       "      <td>4</td>\n",
       "      <td>How to Boost Bone Health with Nutrition</td>\n",
       "      <td>10/18/2022 8:37am</td>\n",
       "      <td>Osteoporosis (OP) is one of the most common me...</td>\n",
       "      <td>https://himalayawellness.in/a/blog/boost-bone-...</td>\n",
       "    </tr>\n",
       "  </tbody>\n",
       "</table>\n",
       "</div>"
      ],
      "text/plain": [
       "   Unnamed: 0                                               name  \\\n",
       "0           0  Face gel over Face cream - Top 4 benefits to m...   \n",
       "1           1    Himalaya Immunity Boosters (Tablets and Syrups)   \n",
       "2           2          8 Simple Steps for a Perfect Baby Massage   \n",
       "3           3                10 Benefits of Guduchi (Giloy) Herb   \n",
       "4           4            How to Boost Bone Health with Nutrition   \n",
       "\n",
       "    posting_timestamp                                            content  \\\n",
       "0   08/10/2022 8:33am  Face gel is becoming increasingly popular in s...   \n",
       "1   07/11/2022 8:28am  Adopting a healthy and balanced diet, exercisi...   \n",
       "2  01/02/2023 10:40am  Are you wondering how to give your baby a soot...   \n",
       "3   01/02/2023 8:53am  Guduchi (Giloy) is an herb that has several th...   \n",
       "4   10/18/2022 8:37am  Osteoporosis (OP) is one of the most common me...   \n",
       "\n",
       "                                                 url  \n",
       "0  https://himalayawellness.in/a/blog/benefits-fa...  \n",
       "1  https://himalayawellness.in/a/blog/himalaya-im...  \n",
       "2  https://himalayawellness.in/a/blog/steps-perfe...  \n",
       "3  https://himalayawellness.in/a/blog/benefits-of...  \n",
       "4  https://himalayawellness.in/a/blog/boost-bone-...  "
      ]
     },
     "execution_count": 22,
     "metadata": {},
     "output_type": "execute_result"
    }
   ],
   "source": [
    "Himalaya_Wellness_Site_Blog_Data.head()"
   ]
  },
  {
   "cell_type": "code",
   "execution_count": 25,
   "id": "8929c6da",
   "metadata": {
    "ExecuteTime": {
     "end_time": "2023-02-19T16:16:26.154881Z",
     "start_time": "2023-02-19T16:16:26.113009Z"
    }
   },
   "outputs": [
    {
     "data": {
      "text/html": [
       "<div>\n",
       "<style scoped>\n",
       "    .dataframe tbody tr th:only-of-type {\n",
       "        vertical-align: middle;\n",
       "    }\n",
       "\n",
       "    .dataframe tbody tr th {\n",
       "        vertical-align: top;\n",
       "    }\n",
       "\n",
       "    .dataframe thead th {\n",
       "        text-align: right;\n",
       "    }\n",
       "</style>\n",
       "<table border=\"1\" class=\"dataframe\">\n",
       "  <thead>\n",
       "    <tr style=\"text-align: right;\">\n",
       "      <th></th>\n",
       "      <th>Unnamed: 0</th>\n",
       "      <th>posted_by</th>\n",
       "      <th>content</th>\n",
       "      <th>likes</th>\n",
       "    </tr>\n",
       "  </thead>\n",
       "  <tbody>\n",
       "    <tr>\n",
       "      <th>0</th>\n",
       "      <td>0</td>\n",
       "      <td>MGB Foundation</td>\n",
       "      <td>Elevate your self-care routine with HimalayaGi...</td>\n",
       "      <td>3.0</td>\n",
       "    </tr>\n",
       "    <tr>\n",
       "      <th>1</th>\n",
       "      <td>1</td>\n",
       "      <td>Himalaya Face Care Nepal</td>\n",
       "      <td>Himalaya Purifying Neem Face Wash enriched wit...</td>\n",
       "      <td>201.0</td>\n",
       "    </tr>\n",
       "    <tr>\n",
       "      <th>2</th>\n",
       "      <td>2</td>\n",
       "      <td>Bestowic</td>\n",
       "      <td>If you're looking for a natural and effective ...</td>\n",
       "      <td>2.0</td>\n",
       "    </tr>\n",
       "    <tr>\n",
       "      <th>3</th>\n",
       "      <td>3</td>\n",
       "      <td>Plant Care Today</td>\n",
       "      <td>Pink Banana: How To Grow and Care For Musa Vel...</td>\n",
       "      <td>8.0</td>\n",
       "    </tr>\n",
       "    <tr>\n",
       "      <th>4</th>\n",
       "      <td>4</td>\n",
       "      <td>Shikhar Travels</td>\n",
       "      <td>Looking for an unforgettable adventure? Join u...</td>\n",
       "      <td>1.0</td>\n",
       "    </tr>\n",
       "  </tbody>\n",
       "</table>\n",
       "</div>"
      ],
      "text/plain": [
       "   Unnamed: 0                  posted_by  \\\n",
       "0           0             MGB Foundation   \n",
       "1           1  Himalaya Face Care Nepal    \n",
       "2           2                   Bestowic   \n",
       "3           3           Plant Care Today   \n",
       "4           4            Shikhar Travels   \n",
       "\n",
       "                                             content  likes  \n",
       "0  Elevate your self-care routine with HimalayaGi...    3.0  \n",
       "1  Himalaya Purifying Neem Face Wash enriched wit...  201.0  \n",
       "2  If you're looking for a natural and effective ...    2.0  \n",
       "3  Pink Banana: How To Grow and Care For Musa Vel...    8.0  \n",
       "4  Looking for an unforgettable adventure? Join u...    1.0  "
      ]
     },
     "execution_count": 25,
     "metadata": {},
     "output_type": "execute_result"
    }
   ],
   "source": [
    "Facebook_Post_Data.head()"
   ]
  },
  {
   "cell_type": "code",
   "execution_count": 27,
   "id": "acea79ff",
   "metadata": {
    "ExecuteTime": {
     "end_time": "2023-02-19T16:16:27.186527Z",
     "start_time": "2023-02-19T16:16:27.158854Z"
    }
   },
   "outputs": [
    {
     "data": {
      "text/html": [
       "<div>\n",
       "<style scoped>\n",
       "    .dataframe tbody tr th:only-of-type {\n",
       "        vertical-align: middle;\n",
       "    }\n",
       "\n",
       "    .dataframe tbody tr th {\n",
       "        vertical-align: top;\n",
       "    }\n",
       "\n",
       "    .dataframe thead th {\n",
       "        text-align: right;\n",
       "    }\n",
       "</style>\n",
       "<table border=\"1\" class=\"dataframe\">\n",
       "  <thead>\n",
       "    <tr style=\"text-align: right;\">\n",
       "      <th></th>\n",
       "      <th>link</th>\n",
       "      <th>title</th>\n",
       "      <th>duration</th>\n",
       "      <th>views</th>\n",
       "      <th>description</th>\n",
       "      <th>upload_date</th>\n",
       "      <th>category</th>\n",
       "    </tr>\n",
       "  </thead>\n",
       "  <tbody>\n",
       "    <tr>\n",
       "      <th>0</th>\n",
       "      <td>https://www.youtube.com/watch?v=DAIFzQy3DMs</td>\n",
       "      <td>Himalaya Youth Eternity Face Sheet Mask | Heal...</td>\n",
       "      <td>20</td>\n",
       "      <td>129</td>\n",
       "      <td>Himalaya Youth Eternity Face Sheet Mask are in...</td>\n",
       "      <td>2023-02-17</td>\n",
       "      <td>Howto &amp; Style</td>\n",
       "    </tr>\n",
       "    <tr>\n",
       "      <th>1</th>\n",
       "      <td>https://www.youtube.com/watch?v=vvXGQWoLA7Q</td>\n",
       "      <td>Himalaya Youth Eternity Face Sheet Mask | Heal...</td>\n",
       "      <td>50</td>\n",
       "      <td>191</td>\n",
       "      <td>Himalaya Youth Eternity Face Sheet Mask are in...</td>\n",
       "      <td>2023-02-17</td>\n",
       "      <td>Howto &amp; Style</td>\n",
       "    </tr>\n",
       "    <tr>\n",
       "      <th>2</th>\n",
       "      <td>https://www.youtube.com/watch?v=Et8IRYf_iS0</td>\n",
       "      <td>Complete gum care protection</td>\n",
       "      <td>11</td>\n",
       "      <td>47165</td>\n",
       "      <td>Give your gums a complete natural care with he...</td>\n",
       "      <td>2023-01-23</td>\n",
       "      <td>Howto &amp; Style</td>\n",
       "    </tr>\n",
       "    <tr>\n",
       "      <th>3</th>\n",
       "      <td>https://www.youtube.com/watch?v=VogJG0BsbQw</td>\n",
       "      <td>Himalaya Ayurveda Gum Care</td>\n",
       "      <td>10</td>\n",
       "      <td>15210</td>\n",
       "      <td>Wipe out gum problems with goodness of nature!...</td>\n",
       "      <td>2023-01-23</td>\n",
       "      <td>Howto &amp; Style</td>\n",
       "    </tr>\n",
       "    <tr>\n",
       "      <th>4</th>\n",
       "      <td>https://www.youtube.com/watch?v=RFpxEatO5r0</td>\n",
       "      <td>Cure bleeding gums with Himalaya Ayurveda Gum ...</td>\n",
       "      <td>10</td>\n",
       "      <td>67714</td>\n",
       "      <td>Cure bleeding from the roots!\\nHimalaya ayurve...</td>\n",
       "      <td>2023-01-23</td>\n",
       "      <td>Howto &amp; Style</td>\n",
       "    </tr>\n",
       "  </tbody>\n",
       "</table>\n",
       "</div>"
      ],
      "text/plain": [
       "                                          link  \\\n",
       "0  https://www.youtube.com/watch?v=DAIFzQy3DMs   \n",
       "1  https://www.youtube.com/watch?v=vvXGQWoLA7Q   \n",
       "2  https://www.youtube.com/watch?v=Et8IRYf_iS0   \n",
       "3  https://www.youtube.com/watch?v=VogJG0BsbQw   \n",
       "4  https://www.youtube.com/watch?v=RFpxEatO5r0   \n",
       "\n",
       "                                               title  duration  views  \\\n",
       "0  Himalaya Youth Eternity Face Sheet Mask | Heal...        20    129   \n",
       "1  Himalaya Youth Eternity Face Sheet Mask | Heal...        50    191   \n",
       "2                       Complete gum care protection        11  47165   \n",
       "3                         Himalaya Ayurveda Gum Care        10  15210   \n",
       "4  Cure bleeding gums with Himalaya Ayurveda Gum ...        10  67714   \n",
       "\n",
       "                                         description upload_date  \\\n",
       "0  Himalaya Youth Eternity Face Sheet Mask are in...  2023-02-17   \n",
       "1  Himalaya Youth Eternity Face Sheet Mask are in...  2023-02-17   \n",
       "2  Give your gums a complete natural care with he...  2023-01-23   \n",
       "3  Wipe out gum problems with goodness of nature!...  2023-01-23   \n",
       "4  Cure bleeding from the roots!\\nHimalaya ayurve...  2023-01-23   \n",
       "\n",
       "        category  \n",
       "0  Howto & Style  \n",
       "1  Howto & Style  \n",
       "2  Howto & Style  \n",
       "3  Howto & Style  \n",
       "4  Howto & Style  "
      ]
     },
     "execution_count": 27,
     "metadata": {},
     "output_type": "execute_result"
    }
   ],
   "source": [
    "Himalaya_Youtube_Video_Data.head()"
   ]
  },
  {
   "cell_type": "code",
   "execution_count": 29,
   "id": "590f83f8",
   "metadata": {
    "ExecuteTime": {
     "end_time": "2023-02-19T16:16:29.208251Z",
     "start_time": "2023-02-19T16:16:29.177685Z"
    },
    "scrolled": true
   },
   "outputs": [
    {
     "data": {
      "text/html": [
       "<div>\n",
       "<style scoped>\n",
       "    .dataframe tbody tr th:only-of-type {\n",
       "        vertical-align: middle;\n",
       "    }\n",
       "\n",
       "    .dataframe tbody tr th {\n",
       "        vertical-align: top;\n",
       "    }\n",
       "\n",
       "    .dataframe thead th {\n",
       "        text-align: right;\n",
       "    }\n",
       "</style>\n",
       "<table border=\"1\" class=\"dataframe\">\n",
       "  <thead>\n",
       "    <tr style=\"text-align: right;\">\n",
       "      <th></th>\n",
       "      <th>link</th>\n",
       "      <th>title</th>\n",
       "      <th>duration</th>\n",
       "      <th>views</th>\n",
       "      <th>description</th>\n",
       "      <th>upload_date</th>\n",
       "      <th>category</th>\n",
       "    </tr>\n",
       "  </thead>\n",
       "  <tbody>\n",
       "    <tr>\n",
       "      <th>0</th>\n",
       "      <td>https://www.youtube.com/watch?v=0kZ-YTBxgFY</td>\n",
       "      <td>Himalaya face wash I Benefits</td>\n",
       "      <td>136</td>\n",
       "      <td>238</td>\n",
       "      <td>Himalaya face wash I Benefits\\n\\nHimalaya face...</td>\n",
       "      <td>2023-02-13</td>\n",
       "      <td>Entertainment</td>\n",
       "    </tr>\n",
       "    <tr>\n",
       "      <th>1</th>\n",
       "      <td>https://www.youtube.com/watch?v=Wvrl23CRhw0</td>\n",
       "      <td>Himalaya Moisturizing ALEO VERA gel | Product ...</td>\n",
       "      <td>236</td>\n",
       "      <td>60</td>\n",
       "      <td>Himalaya Moisturizing ALEO VERA gel\\nFeatures ...</td>\n",
       "      <td>2023-02-11</td>\n",
       "      <td>People &amp; Blogs</td>\n",
       "    </tr>\n",
       "    <tr>\n",
       "      <th>2</th>\n",
       "      <td>https://www.youtube.com/watch?v=whlQ2oI3Q9M</td>\n",
       "      <td>Best Baby 👣👶 care products Review for all moth...</td>\n",
       "      <td>351</td>\n",
       "      <td>187</td>\n",
       "      <td>Baby care Products @FashionandfoodHub \\njohnso...</td>\n",
       "      <td>2023-01-30</td>\n",
       "      <td>People &amp; Blogs</td>\n",
       "    </tr>\n",
       "    <tr>\n",
       "      <th>3</th>\n",
       "      <td>https://www.youtube.com/watch?v=K2IpqAOPblI</td>\n",
       "      <td>Top 12 best Himalaya skincare and haircare pro...</td>\n",
       "      <td>1474</td>\n",
       "      <td>117</td>\n",
       "      <td>#shri.  #himalaya     #skincare    #haircare  ...</td>\n",
       "      <td>2023-01-23</td>\n",
       "      <td>People &amp; Blogs</td>\n",
       "    </tr>\n",
       "    <tr>\n",
       "      <th>4</th>\n",
       "      <td>https://www.youtube.com/watch?v=emqJpf29V1A</td>\n",
       "      <td>बिना पैसे खर्च किए निखार लाय/ Best winter Care...</td>\n",
       "      <td>177</td>\n",
       "      <td>63</td>\n",
       "      <td>बिना पैसे खर्च किए निखार लाय/ Face Care Produc...</td>\n",
       "      <td>2022-12-09</td>\n",
       "      <td>People &amp; Blogs</td>\n",
       "    </tr>\n",
       "  </tbody>\n",
       "</table>\n",
       "</div>"
      ],
      "text/plain": [
       "                                          link  \\\n",
       "0  https://www.youtube.com/watch?v=0kZ-YTBxgFY   \n",
       "1  https://www.youtube.com/watch?v=Wvrl23CRhw0   \n",
       "2  https://www.youtube.com/watch?v=whlQ2oI3Q9M   \n",
       "3  https://www.youtube.com/watch?v=K2IpqAOPblI   \n",
       "4  https://www.youtube.com/watch?v=emqJpf29V1A   \n",
       "\n",
       "                                               title  duration  views  \\\n",
       "0                      Himalaya face wash I Benefits       136    238   \n",
       "1  Himalaya Moisturizing ALEO VERA gel | Product ...       236     60   \n",
       "2  Best Baby 👣👶 care products Review for all moth...       351    187   \n",
       "3  Top 12 best Himalaya skincare and haircare pro...      1474    117   \n",
       "4  बिना पैसे खर्च किए निखार लाय/ Best winter Care...       177     63   \n",
       "\n",
       "                                         description upload_date  \\\n",
       "0  Himalaya face wash I Benefits\\n\\nHimalaya face...  2023-02-13   \n",
       "1  Himalaya Moisturizing ALEO VERA gel\\nFeatures ...  2023-02-11   \n",
       "2  Baby care Products @FashionandfoodHub \\njohnso...  2023-01-30   \n",
       "3  #shri.  #himalaya     #skincare    #haircare  ...  2023-01-23   \n",
       "4  बिना पैसे खर्च किए निखार लाय/ Face Care Produc...  2022-12-09   \n",
       "\n",
       "         category  \n",
       "0   Entertainment  \n",
       "1  People & Blogs  \n",
       "2  People & Blogs  \n",
       "3  People & Blogs  \n",
       "4  People & Blogs  "
      ]
     },
     "execution_count": 29,
     "metadata": {},
     "output_type": "execute_result"
    }
   ],
   "source": [
    "Himalaya_Youtube_Video_Search_Data.head()"
   ]
  },
  {
   "cell_type": "code",
   "execution_count": 31,
   "id": "75a72282",
   "metadata": {
    "ExecuteTime": {
     "end_time": "2023-02-19T16:16:31.272280Z",
     "start_time": "2023-02-19T16:16:31.248168Z"
    }
   },
   "outputs": [
    {
     "data": {
      "text/html": [
       "<div>\n",
       "<style scoped>\n",
       "    .dataframe tbody tr th:only-of-type {\n",
       "        vertical-align: middle;\n",
       "    }\n",
       "\n",
       "    .dataframe tbody tr th {\n",
       "        vertical-align: top;\n",
       "    }\n",
       "\n",
       "    .dataframe thead th {\n",
       "        text-align: right;\n",
       "    }\n",
       "</style>\n",
       "<table border=\"1\" class=\"dataframe\">\n",
       "  <thead>\n",
       "    <tr style=\"text-align: right;\">\n",
       "      <th></th>\n",
       "      <th>video_link</th>\n",
       "      <th>author</th>\n",
       "      <th>content</th>\n",
       "      <th>likes</th>\n",
       "    </tr>\n",
       "  </thead>\n",
       "  <tbody>\n",
       "    <tr>\n",
       "      <th>0</th>\n",
       "      <td>https://www.youtube.com/watch?v=0kZ-YTBxgFY</td>\n",
       "      <td>jibin c j</td>\n",
       "      <td>super</td>\n",
       "      <td>NaN</td>\n",
       "    </tr>\n",
       "    <tr>\n",
       "      <th>1</th>\n",
       "      <td>https://www.youtube.com/watch?v=whlQ2oI3Q9M</td>\n",
       "      <td>@rukhsarhabib1387</td>\n",
       "      <td>Thank you for sharing such precious piece of i...</td>\n",
       "      <td>1.0</td>\n",
       "    </tr>\n",
       "    <tr>\n",
       "      <th>2</th>\n",
       "      <td>https://www.youtube.com/watch?v=whlQ2oI3Q9M</td>\n",
       "      <td>@habibacheema2922</td>\n",
       "      <td>Amazing and great efforts</td>\n",
       "      <td>NaN</td>\n",
       "    </tr>\n",
       "    <tr>\n",
       "      <th>3</th>\n",
       "      <td>https://www.youtube.com/watch?v=whlQ2oI3Q9M</td>\n",
       "      <td>@Roshni7292</td>\n",
       "      <td>Ma Sha allha dear zabrdast information thanks</td>\n",
       "      <td>1.0</td>\n",
       "    </tr>\n",
       "    <tr>\n",
       "      <th>4</th>\n",
       "      <td>https://www.youtube.com/watch?v=whlQ2oI3Q9M</td>\n",
       "      <td>@saminarazalifestyle</td>\n",
       "      <td>Mashallah Zabardast Work Nice Vlog</td>\n",
       "      <td>NaN</td>\n",
       "    </tr>\n",
       "  </tbody>\n",
       "</table>\n",
       "</div>"
      ],
      "text/plain": [
       "                                    video_link                author  \\\n",
       "0  https://www.youtube.com/watch?v=0kZ-YTBxgFY             jibin c j   \n",
       "1  https://www.youtube.com/watch?v=whlQ2oI3Q9M     @rukhsarhabib1387   \n",
       "2  https://www.youtube.com/watch?v=whlQ2oI3Q9M     @habibacheema2922   \n",
       "3  https://www.youtube.com/watch?v=whlQ2oI3Q9M           @Roshni7292   \n",
       "4  https://www.youtube.com/watch?v=whlQ2oI3Q9M  @saminarazalifestyle   \n",
       "\n",
       "                                             content  likes  \n",
       "0                                              super    NaN  \n",
       "1  Thank you for sharing such precious piece of i...    1.0  \n",
       "2                          Amazing and great efforts    NaN  \n",
       "3     Ma Sha allha dear zabrdast information thanks     1.0  \n",
       "4                 Mashallah Zabardast Work Nice Vlog    NaN  "
      ]
     },
     "execution_count": 31,
     "metadata": {},
     "output_type": "execute_result"
    }
   ],
   "source": [
    "Youtube_Comments_Data.head()"
   ]
  },
  {
   "cell_type": "code",
   "execution_count": 13,
   "id": "a2f1d8c1",
   "metadata": {
    "ExecuteTime": {
     "end_time": "2023-02-19T16:13:48.181311Z",
     "start_time": "2023-02-19T16:13:48.137811Z"
    },
    "cell_style": "split"
   },
   "outputs": [
    {
     "name": "stdout",
     "output_type": "stream",
     "text": [
      "<class 'pandas.core.frame.DataFrame'>\n",
      "RangeIndex: 100 entries, 0 to 99\n",
      "Data columns (total 7 columns):\n",
      " #   Column    Non-Null Count  Dtype  \n",
      "---  ------    --------------  -----  \n",
      " 0   date      100 non-null    object \n",
      " 1   content   100 non-null    object \n",
      " 2   username  100 non-null    object \n",
      " 3   likes     100 non-null    int64  \n",
      " 4   views     10 non-null     float64\n",
      " 5   hashtags  75 non-null     object \n",
      " 6   url       100 non-null    object \n",
      "dtypes: float64(1), int64(1), object(5)\n",
      "memory usage: 5.6+ KB\n"
     ]
    }
   ],
   "source": [
    "Himalaya_Tweets_Data.info()"
   ]
  },
  {
   "cell_type": "code",
   "execution_count": 19,
   "id": "3863eda4",
   "metadata": {
    "ExecuteTime": {
     "end_time": "2023-02-19T16:14:05.242065Z",
     "start_time": "2023-02-19T16:14:05.219458Z"
    },
    "cell_style": "split"
   },
   "outputs": [
    {
     "name": "stdout",
     "output_type": "stream",
     "text": [
      "<class 'pandas.core.frame.DataFrame'>\n",
      "RangeIndex: 127 entries, 0 to 126\n",
      "Data columns (total 7 columns):\n",
      " #   Column    Non-Null Count  Dtype \n",
      "---  ------    --------------  ----- \n",
      " 0   date      127 non-null    object\n",
      " 1   content   127 non-null    object\n",
      " 2   username  127 non-null    object\n",
      " 3   likes     127 non-null    int64 \n",
      " 4   views     127 non-null    int64 \n",
      " 5   hashtags  22 non-null     object\n",
      " 6   url       127 non-null    object\n",
      "dtypes: int64(2), object(5)\n",
      "memory usage: 7.1+ KB\n"
     ]
    }
   ],
   "source": [
    "Tweets_Data_from_Search.info()"
   ]
  },
  {
   "cell_type": "code",
   "execution_count": 21,
   "id": "7d712714",
   "metadata": {
    "ExecuteTime": {
     "end_time": "2023-02-19T16:14:06.004616Z",
     "start_time": "2023-02-19T16:14:05.981583Z"
    },
    "cell_style": "split"
   },
   "outputs": [
    {
     "name": "stdout",
     "output_type": "stream",
     "text": [
      "<class 'pandas.core.frame.DataFrame'>\n",
      "RangeIndex: 885 entries, 0 to 884\n",
      "Data columns (total 4 columns):\n",
      " #   Column       Non-Null Count  Dtype \n",
      "---  ------       --------------  ----- \n",
      " 0   title        885 non-null    object\n",
      " 1   price        882 non-null    object\n",
      " 2   description  860 non-null    object\n",
      " 3   url          885 non-null    object\n",
      "dtypes: object(4)\n",
      "memory usage: 27.8+ KB\n"
     ]
    }
   ],
   "source": [
    "Himalaya_Wellness_Site_Products_Data.info()"
   ]
  },
  {
   "cell_type": "code",
   "execution_count": 24,
   "id": "67ozcHxE1Qs7",
   "metadata": {
    "ExecuteTime": {
     "end_time": "2023-02-19T16:15:01.928558Z",
     "start_time": "2023-02-19T16:15:01.900347Z"
    },
    "cell_style": "split",
    "id": "67ozcHxE1Qs7",
    "run_control": {
     "marked": false
    },
    "scrolled": true
   },
   "outputs": [
    {
     "name": "stdout",
     "output_type": "stream",
     "text": [
      "<class 'pandas.core.frame.DataFrame'>\n",
      "RangeIndex: 20 entries, 0 to 19\n",
      "Data columns (total 5 columns):\n",
      " #   Column             Non-Null Count  Dtype \n",
      "---  ------             --------------  ----- \n",
      " 0   Unnamed: 0         20 non-null     int64 \n",
      " 1   name               20 non-null     object\n",
      " 2   posting_timestamp  20 non-null     object\n",
      " 3   content            20 non-null     object\n",
      " 4   url                20 non-null     object\n",
      "dtypes: int64(1), object(4)\n",
      "memory usage: 928.0+ bytes\n"
     ]
    }
   ],
   "source": [
    "Himalaya_Wellness_Site_Blog_Data.info()"
   ]
  },
  {
   "cell_type": "code",
   "execution_count": 26,
   "id": "f9411401",
   "metadata": {
    "ExecuteTime": {
     "end_time": "2023-02-19T16:16:26.687874Z",
     "start_time": "2023-02-19T16:16:26.655919Z"
    },
    "cell_style": "split"
   },
   "outputs": [
    {
     "name": "stdout",
     "output_type": "stream",
     "text": [
      "<class 'pandas.core.frame.DataFrame'>\n",
      "RangeIndex: 66 entries, 0 to 65\n",
      "Data columns (total 4 columns):\n",
      " #   Column      Non-Null Count  Dtype  \n",
      "---  ------      --------------  -----  \n",
      " 0   Unnamed: 0  66 non-null     int64  \n",
      " 1   posted_by   65 non-null     object \n",
      " 2   content     63 non-null     object \n",
      " 3   likes       63 non-null     float64\n",
      "dtypes: float64(1), int64(1), object(2)\n",
      "memory usage: 2.2+ KB\n"
     ]
    }
   ],
   "source": [
    "Facebook_Post_Data.info()"
   ]
  },
  {
   "cell_type": "code",
   "execution_count": 28,
   "id": "c57d8e28",
   "metadata": {
    "ExecuteTime": {
     "end_time": "2023-02-19T16:16:28.667494Z",
     "start_time": "2023-02-19T16:16:28.644983Z"
    },
    "cell_style": "split"
   },
   "outputs": [
    {
     "name": "stdout",
     "output_type": "stream",
     "text": [
      "<class 'pandas.core.frame.DataFrame'>\n",
      "RangeIndex: 100 entries, 0 to 99\n",
      "Data columns (total 7 columns):\n",
      " #   Column       Non-Null Count  Dtype \n",
      "---  ------       --------------  ----- \n",
      " 0   link         100 non-null    object\n",
      " 1   title        100 non-null    object\n",
      " 2   duration     100 non-null    int64 \n",
      " 3   views        100 non-null    int64 \n",
      " 4   description  100 non-null    object\n",
      " 5   upload_date  100 non-null    object\n",
      " 6   category     100 non-null    object\n",
      "dtypes: int64(2), object(5)\n",
      "memory usage: 5.6+ KB\n"
     ]
    }
   ],
   "source": [
    "Himalaya_Youtube_Video_Data.info()"
   ]
  },
  {
   "cell_type": "code",
   "execution_count": 30,
   "id": "fcb7afdd",
   "metadata": {
    "ExecuteTime": {
     "end_time": "2023-02-19T16:16:29.981846Z",
     "start_time": "2023-02-19T16:16:29.952848Z"
    },
    "cell_style": "split"
   },
   "outputs": [
    {
     "name": "stdout",
     "output_type": "stream",
     "text": [
      "<class 'pandas.core.frame.DataFrame'>\n",
      "RangeIndex: 175 entries, 0 to 174\n",
      "Data columns (total 7 columns):\n",
      " #   Column       Non-Null Count  Dtype \n",
      "---  ------       --------------  ----- \n",
      " 0   link         175 non-null    object\n",
      " 1   title        175 non-null    object\n",
      " 2   duration     175 non-null    int64 \n",
      " 3   views        175 non-null    int64 \n",
      " 4   description  168 non-null    object\n",
      " 5   upload_date  175 non-null    object\n",
      " 6   category     175 non-null    object\n",
      "dtypes: int64(2), object(5)\n",
      "memory usage: 9.7+ KB\n"
     ]
    }
   ],
   "source": [
    "Himalaya_Youtube_Video_Search_Data.info()"
   ]
  },
  {
   "cell_type": "code",
   "execution_count": 32,
   "id": "e566b9d5",
   "metadata": {
    "ExecuteTime": {
     "end_time": "2023-02-19T16:16:32.618590Z",
     "start_time": "2023-02-19T16:16:32.586894Z"
    },
    "cell_style": "split"
   },
   "outputs": [
    {
     "name": "stdout",
     "output_type": "stream",
     "text": [
      "<class 'pandas.core.frame.DataFrame'>\n",
      "RangeIndex: 150 entries, 0 to 149\n",
      "Data columns (total 4 columns):\n",
      " #   Column      Non-Null Count  Dtype  \n",
      "---  ------      --------------  -----  \n",
      " 0   video_link  150 non-null    object \n",
      " 1   author      150 non-null    object \n",
      " 2   content     150 non-null    object \n",
      " 3   likes       86 non-null     float64\n",
      "dtypes: float64(1), object(3)\n",
      "memory usage: 4.8+ KB\n"
     ]
    }
   ],
   "source": [
    "Youtube_Comments_Data.info()"
   ]
  },
  {
   "cell_type": "markdown",
   "id": "y8-77Qi6xQ3Z",
   "metadata": {
    "id": "y8-77Qi6xQ3Z"
   },
   "source": [
    "# Data Preprocessing"
   ]
  },
  {
   "cell_type": "markdown",
   "id": "a2be6d33",
   "metadata": {
    "id": "5wgqiZgS1JC0"
   },
   "source": [
    "## 1. Data Cleaning"
   ]
  },
  {
   "cell_type": "markdown",
   "id": "551e582b",
   "metadata": {},
   "source": [
    "### Handling Missing Values"
   ]
  },
  {
   "cell_type": "markdown",
   "id": "d06c92cd",
   "metadata": {},
   "source": [
    "#### Searching for Missing Value"
   ]
  },
  {
   "cell_type": "code",
   "execution_count": 33,
   "id": "cf402cde",
   "metadata": {
    "ExecuteTime": {
     "end_time": "2023-02-19T16:21:19.822038Z",
     "start_time": "2023-02-19T16:21:19.790229Z"
    },
    "cell_style": "split"
   },
   "outputs": [
    {
     "data": {
      "text/plain": [
       "date         0\n",
       "content      0\n",
       "username     0\n",
       "likes        0\n",
       "views       90\n",
       "hashtags    25\n",
       "url          0\n",
       "dtype: int64"
      ]
     },
     "execution_count": 33,
     "metadata": {},
     "output_type": "execute_result"
    }
   ],
   "source": [
    "Himalaya_Tweets_Data.isnull().sum()"
   ]
  },
  {
   "cell_type": "code",
   "execution_count": 34,
   "id": "f8899071",
   "metadata": {
    "ExecuteTime": {
     "end_time": "2023-02-19T16:21:30.482872Z",
     "start_time": "2023-02-19T16:21:30.470773Z"
    },
    "cell_style": "split"
   },
   "outputs": [
    {
     "data": {
      "text/plain": [
       "date          0\n",
       "content       0\n",
       "username      0\n",
       "likes         0\n",
       "views         0\n",
       "hashtags    105\n",
       "url           0\n",
       "dtype: int64"
      ]
     },
     "execution_count": 34,
     "metadata": {},
     "output_type": "execute_result"
    }
   ],
   "source": [
    "Tweets_Data_from_Search.isnull().sum()"
   ]
  },
  {
   "cell_type": "code",
   "execution_count": 35,
   "id": "1357225d",
   "metadata": {
    "ExecuteTime": {
     "end_time": "2023-02-19T16:21:33.951819Z",
     "start_time": "2023-02-19T16:21:33.927382Z"
    },
    "cell_style": "split"
   },
   "outputs": [
    {
     "data": {
      "text/plain": [
       "title           0\n",
       "price           3\n",
       "description    25\n",
       "url             0\n",
       "dtype: int64"
      ]
     },
     "execution_count": 35,
     "metadata": {},
     "output_type": "execute_result"
    }
   ],
   "source": [
    "Himalaya_Wellness_Site_Products_Data.isnull().sum()"
   ]
  },
  {
   "cell_type": "code",
   "execution_count": 36,
   "id": "29f75a5e",
   "metadata": {
    "ExecuteTime": {
     "end_time": "2023-02-19T16:21:39.037254Z",
     "start_time": "2023-02-19T16:21:39.023098Z"
    },
    "cell_style": "split"
   },
   "outputs": [
    {
     "data": {
      "text/plain": [
       "Unnamed: 0           0\n",
       "name                 0\n",
       "posting_timestamp    0\n",
       "content              0\n",
       "url                  0\n",
       "dtype: int64"
      ]
     },
     "execution_count": 36,
     "metadata": {},
     "output_type": "execute_result"
    }
   ],
   "source": [
    "Himalaya_Wellness_Site_Blog_Data.isnull().sum()"
   ]
  },
  {
   "cell_type": "code",
   "execution_count": 37,
   "id": "1833d0b3",
   "metadata": {
    "ExecuteTime": {
     "end_time": "2023-02-19T16:21:47.676217Z",
     "start_time": "2023-02-19T16:21:47.655634Z"
    },
    "cell_style": "split"
   },
   "outputs": [
    {
     "data": {
      "text/plain": [
       "Unnamed: 0    0\n",
       "posted_by     1\n",
       "content       3\n",
       "likes         3\n",
       "dtype: int64"
      ]
     },
     "execution_count": 37,
     "metadata": {},
     "output_type": "execute_result"
    }
   ],
   "source": [
    "Facebook_Post_Data.isnull().sum()"
   ]
  },
  {
   "cell_type": "code",
   "execution_count": 38,
   "id": "0fce3488",
   "metadata": {
    "ExecuteTime": {
     "end_time": "2023-02-19T16:21:53.020600Z",
     "start_time": "2023-02-19T16:21:53.005604Z"
    },
    "cell_style": "split"
   },
   "outputs": [
    {
     "data": {
      "text/plain": [
       "link           0\n",
       "title          0\n",
       "duration       0\n",
       "views          0\n",
       "description    0\n",
       "upload_date    0\n",
       "category       0\n",
       "dtype: int64"
      ]
     },
     "execution_count": 38,
     "metadata": {},
     "output_type": "execute_result"
    }
   ],
   "source": [
    "Himalaya_Youtube_Video_Data.isnull().sum()"
   ]
  },
  {
   "cell_type": "code",
   "execution_count": 39,
   "id": "41d59c15",
   "metadata": {
    "ExecuteTime": {
     "end_time": "2023-02-19T16:21:58.053008Z",
     "start_time": "2023-02-19T16:21:58.030291Z"
    },
    "cell_style": "split"
   },
   "outputs": [
    {
     "data": {
      "text/plain": [
       "link           0\n",
       "title          0\n",
       "duration       0\n",
       "views          0\n",
       "description    7\n",
       "upload_date    0\n",
       "category       0\n",
       "dtype: int64"
      ]
     },
     "execution_count": 39,
     "metadata": {},
     "output_type": "execute_result"
    }
   ],
   "source": [
    "Himalaya_Youtube_Video_Search_Data.isnull().sum()"
   ]
  },
  {
   "cell_type": "code",
   "execution_count": 40,
   "id": "d38483b4",
   "metadata": {
    "ExecuteTime": {
     "end_time": "2023-02-19T16:22:03.924309Z",
     "start_time": "2023-02-19T16:22:03.912640Z"
    },
    "cell_style": "split"
   },
   "outputs": [
    {
     "data": {
      "text/plain": [
       "video_link     0\n",
       "author         0\n",
       "content        0\n",
       "likes         64\n",
       "dtype: int64"
      ]
     },
     "execution_count": 40,
     "metadata": {},
     "output_type": "execute_result"
    }
   ],
   "source": [
    "Youtube_Comments_Data.isnull().sum()"
   ]
  },
  {
   "cell_type": "code",
   "execution_count": null,
   "id": "a49e600e",
   "metadata": {},
   "outputs": [],
   "source": []
  },
  {
   "cell_type": "code",
   "execution_count": 41,
   "id": "58671af3",
   "metadata": {
    "ExecuteTime": {
     "end_time": "2023-02-19T16:23:41.367738Z",
     "start_time": "2023-02-19T16:23:41.359111Z"
    }
   },
   "outputs": [],
   "source": [
    "Himalaya_Tweets_Data['views']=Himalaya_Tweets_Data['views'].fillna(0)"
   ]
  },
  {
   "cell_type": "code",
   "execution_count": 42,
   "id": "a612ef82",
   "metadata": {
    "ExecuteTime": {
     "end_time": "2023-02-19T16:23:51.518810Z",
     "start_time": "2023-02-19T16:23:51.503419Z"
    }
   },
   "outputs": [
    {
     "data": {
      "text/plain": [
       "date         0\n",
       "content      0\n",
       "username     0\n",
       "likes        0\n",
       "views        0\n",
       "hashtags    25\n",
       "url          0\n",
       "dtype: int64"
      ]
     },
     "execution_count": 42,
     "metadata": {},
     "output_type": "execute_result"
    }
   ],
   "source": [
    "Himalaya_Tweets_Data.isnull().sum()"
   ]
  },
  {
   "cell_type": "code",
   "execution_count": 43,
   "id": "0e50cf12",
   "metadata": {
    "ExecuteTime": {
     "end_time": "2023-02-19T16:24:21.513812Z",
     "start_time": "2023-02-19T16:24:21.471362Z"
    }
   },
   "outputs": [
    {
     "data": {
      "text/html": [
       "<div>\n",
       "<style scoped>\n",
       "    .dataframe tbody tr th:only-of-type {\n",
       "        vertical-align: middle;\n",
       "    }\n",
       "\n",
       "    .dataframe tbody tr th {\n",
       "        vertical-align: top;\n",
       "    }\n",
       "\n",
       "    .dataframe thead th {\n",
       "        text-align: right;\n",
       "    }\n",
       "</style>\n",
       "<table border=\"1\" class=\"dataframe\">\n",
       "  <thead>\n",
       "    <tr style=\"text-align: right;\">\n",
       "      <th></th>\n",
       "      <th>date</th>\n",
       "      <th>content</th>\n",
       "      <th>username</th>\n",
       "      <th>likes</th>\n",
       "      <th>views</th>\n",
       "      <th>hashtags</th>\n",
       "      <th>url</th>\n",
       "    </tr>\n",
       "  </thead>\n",
       "  <tbody>\n",
       "    <tr>\n",
       "      <th>2</th>\n",
       "      <td>2023-01-17</td>\n",
       "      <td>@MKC1_Reddy Hi Reddy, Could you please DM us y...</td>\n",
       "      <td>HimalayaIndia</td>\n",
       "      <td>0</td>\n",
       "      <td>29.0</td>\n",
       "      <td>NaN</td>\n",
       "      <td>https://twitter.com/HimalayaIndia/status/16152...</td>\n",
       "    </tr>\n",
       "    <tr>\n",
       "      <th>5</th>\n",
       "      <td>2023-01-02</td>\n",
       "      <td>@kishnpalchauhan Your experience is a priority...</td>\n",
       "      <td>HimalayaIndia</td>\n",
       "      <td>0</td>\n",
       "      <td>46.0</td>\n",
       "      <td>NaN</td>\n",
       "      <td>https://twitter.com/HimalayaIndia/status/16098...</td>\n",
       "    </tr>\n",
       "    <tr>\n",
       "      <th>7</th>\n",
       "      <td>2022-12-27</td>\n",
       "      <td>@rlokeshrao @CDSCO_INDIA_INF Hi Lokesh, we alw...</td>\n",
       "      <td>HimalayaIndia</td>\n",
       "      <td>0</td>\n",
       "      <td>49.0</td>\n",
       "      <td>NaN</td>\n",
       "      <td>https://twitter.com/HimalayaIndia/status/16075...</td>\n",
       "    </tr>\n",
       "    <tr>\n",
       "      <th>12</th>\n",
       "      <td>2022-11-23</td>\n",
       "      <td>@DeshBhaktReva Please refer to our official st...</td>\n",
       "      <td>HimalayaIndia</td>\n",
       "      <td>3</td>\n",
       "      <td>0.0</td>\n",
       "      <td>NaN</td>\n",
       "      <td>https://twitter.com/HimalayaIndia/status/15952...</td>\n",
       "    </tr>\n",
       "    <tr>\n",
       "      <th>22</th>\n",
       "      <td>2022-10-09</td>\n",
       "      <td>@GA_Pansare Please refer to our official state...</td>\n",
       "      <td>HimalayaIndia</td>\n",
       "      <td>0</td>\n",
       "      <td>0.0</td>\n",
       "      <td>NaN</td>\n",
       "      <td>https://twitter.com/HimalayaIndia/status/15791...</td>\n",
       "    </tr>\n",
       "    <tr>\n",
       "      <th>23</th>\n",
       "      <td>2022-10-09</td>\n",
       "      <td>@Sunita1093 Please refer to our official state...</td>\n",
       "      <td>HimalayaIndia</td>\n",
       "      <td>0</td>\n",
       "      <td>0.0</td>\n",
       "      <td>NaN</td>\n",
       "      <td>https://twitter.com/HimalayaIndia/status/15791...</td>\n",
       "    </tr>\n",
       "    <tr>\n",
       "      <th>24</th>\n",
       "      <td>2022-10-09</td>\n",
       "      <td>@Jagdish_189 Please refer to our official stat...</td>\n",
       "      <td>HimalayaIndia</td>\n",
       "      <td>0</td>\n",
       "      <td>0.0</td>\n",
       "      <td>NaN</td>\n",
       "      <td>https://twitter.com/HimalayaIndia/status/15791...</td>\n",
       "    </tr>\n",
       "    <tr>\n",
       "      <th>26</th>\n",
       "      <td>2022-10-06</td>\n",
       "      <td>@SharadG07211098 Hi Sharad! Please be assured ...</td>\n",
       "      <td>HimalayaIndia</td>\n",
       "      <td>0</td>\n",
       "      <td>0.0</td>\n",
       "      <td>NaN</td>\n",
       "      <td>https://twitter.com/HimalayaIndia/status/15778...</td>\n",
       "    </tr>\n",
       "    <tr>\n",
       "      <th>29</th>\n",
       "      <td>2022-09-22</td>\n",
       "      <td>@NVishist17 Hi Nikhil, Please write to us at c...</td>\n",
       "      <td>HimalayaIndia</td>\n",
       "      <td>0</td>\n",
       "      <td>0.0</td>\n",
       "      <td>NaN</td>\n",
       "      <td>https://twitter.com/HimalayaIndia/status/15728...</td>\n",
       "    </tr>\n",
       "    <tr>\n",
       "      <th>33</th>\n",
       "      <td>2022-09-05</td>\n",
       "      <td>@ivnsraju65 Hi Raju, Please refer to our offic...</td>\n",
       "      <td>HimalayaIndia</td>\n",
       "      <td>0</td>\n",
       "      <td>0.0</td>\n",
       "      <td>NaN</td>\n",
       "      <td>https://twitter.com/HimalayaIndia/status/15667...</td>\n",
       "    </tr>\n",
       "    <tr>\n",
       "      <th>35</th>\n",
       "      <td>2022-09-02</td>\n",
       "      <td>@rahulbiddappa Hi Rahul, Please refer to our o...</td>\n",
       "      <td>HimalayaIndia</td>\n",
       "      <td>0</td>\n",
       "      <td>0.0</td>\n",
       "      <td>NaN</td>\n",
       "      <td>https://twitter.com/HimalayaIndia/status/15655...</td>\n",
       "    </tr>\n",
       "    <tr>\n",
       "      <th>36</th>\n",
       "      <td>2022-09-02</td>\n",
       "      <td>@Kala_ET Hi Vijay, Please refer to our officia...</td>\n",
       "      <td>HimalayaIndia</td>\n",
       "      <td>0</td>\n",
       "      <td>0.0</td>\n",
       "      <td>NaN</td>\n",
       "      <td>https://twitter.com/HimalayaIndia/status/15655...</td>\n",
       "    </tr>\n",
       "    <tr>\n",
       "      <th>37</th>\n",
       "      <td>2022-09-02</td>\n",
       "      <td>@mentorpreneur Hi Sanjiv, Please refer to our ...</td>\n",
       "      <td>HimalayaIndia</td>\n",
       "      <td>0</td>\n",
       "      <td>0.0</td>\n",
       "      <td>NaN</td>\n",
       "      <td>https://twitter.com/HimalayaIndia/status/15655...</td>\n",
       "    </tr>\n",
       "    <tr>\n",
       "      <th>38</th>\n",
       "      <td>2022-09-02</td>\n",
       "      <td>@farah_midhat Hi Midhat, Please refer to our o...</td>\n",
       "      <td>HimalayaIndia</td>\n",
       "      <td>0</td>\n",
       "      <td>0.0</td>\n",
       "      <td>NaN</td>\n",
       "      <td>https://twitter.com/HimalayaIndia/status/15655...</td>\n",
       "    </tr>\n",
       "    <tr>\n",
       "      <th>50</th>\n",
       "      <td>2022-07-27</td>\n",
       "      <td>@Word_wielder We understand your concern, Ferg...</td>\n",
       "      <td>HimalayaIndia</td>\n",
       "      <td>0</td>\n",
       "      <td>0.0</td>\n",
       "      <td>NaN</td>\n",
       "      <td>https://twitter.com/HimalayaIndia/status/15522...</td>\n",
       "    </tr>\n",
       "    <tr>\n",
       "      <th>71</th>\n",
       "      <td>2022-06-03</td>\n",
       "      <td>RT @INDIACSR: Sustainability: Himalaya’s commi...</td>\n",
       "      <td>HimalayaIndia</td>\n",
       "      <td>0</td>\n",
       "      <td>0.0</td>\n",
       "      <td>NaN</td>\n",
       "      <td>https://twitter.com/HimalayaIndia/status/15325...</td>\n",
       "    </tr>\n",
       "    <tr>\n",
       "      <th>72</th>\n",
       "      <td>2022-06-02</td>\n",
       "      <td>@iPriyaSinha This is not the experience we wan...</td>\n",
       "      <td>HimalayaIndia</td>\n",
       "      <td>3</td>\n",
       "      <td>0.0</td>\n",
       "      <td>NaN</td>\n",
       "      <td>https://twitter.com/HimalayaIndia/status/15323...</td>\n",
       "    </tr>\n",
       "    <tr>\n",
       "      <th>75</th>\n",
       "      <td>2022-05-13</td>\n",
       "      <td>RT @LogicalIndians: The earth is experiencing ...</td>\n",
       "      <td>HimalayaIndia</td>\n",
       "      <td>0</td>\n",
       "      <td>0.0</td>\n",
       "      <td>NaN</td>\n",
       "      <td>https://twitter.com/HimalayaIndia/status/15249...</td>\n",
       "    </tr>\n",
       "    <tr>\n",
       "      <th>77</th>\n",
       "      <td>2022-05-06</td>\n",
       "      <td>\"Taking proper care of a newborn helps minimiz...</td>\n",
       "      <td>HimalayaIndia</td>\n",
       "      <td>5</td>\n",
       "      <td>0.0</td>\n",
       "      <td>NaN</td>\n",
       "      <td>https://twitter.com/HimalayaIndia/status/15224...</td>\n",
       "    </tr>\n",
       "    <tr>\n",
       "      <th>81</th>\n",
       "      <td>2022-04-18</td>\n",
       "      <td>@nanditaasn @FDA @US_FDA @IndianStandards @ash...</td>\n",
       "      <td>HimalayaIndia</td>\n",
       "      <td>0</td>\n",
       "      <td>0.0</td>\n",
       "      <td>NaN</td>\n",
       "      <td>https://twitter.com/HimalayaIndia/status/15158...</td>\n",
       "    </tr>\n",
       "    <tr>\n",
       "      <th>83</th>\n",
       "      <td>2022-04-12</td>\n",
       "      <td>@Strange16179431 Hi! Please share your contact...</td>\n",
       "      <td>HimalayaIndia</td>\n",
       "      <td>1</td>\n",
       "      <td>0.0</td>\n",
       "      <td>NaN</td>\n",
       "      <td>https://twitter.com/HimalayaIndia/status/15137...</td>\n",
       "    </tr>\n",
       "    <tr>\n",
       "      <th>88</th>\n",
       "      <td>2022-04-01</td>\n",
       "      <td>@TheAtulMishra Please refer to our official st...</td>\n",
       "      <td>HimalayaIndia</td>\n",
       "      <td>4</td>\n",
       "      <td>0.0</td>\n",
       "      <td>NaN</td>\n",
       "      <td>https://twitter.com/HimalayaIndia/status/15098...</td>\n",
       "    </tr>\n",
       "    <tr>\n",
       "      <th>90</th>\n",
       "      <td>2022-04-01</td>\n",
       "      <td>https://t.co/9iCRhuQUbc</td>\n",
       "      <td>HimalayaIndia</td>\n",
       "      <td>6653</td>\n",
       "      <td>0.0</td>\n",
       "      <td>NaN</td>\n",
       "      <td>https://twitter.com/HimalayaIndia/status/15097...</td>\n",
       "    </tr>\n",
       "    <tr>\n",
       "      <th>97</th>\n",
       "      <td>2022-03-22</td>\n",
       "      <td>@Thanush34343418 Hi Shree, please share your c...</td>\n",
       "      <td>HimalayaIndia</td>\n",
       "      <td>1</td>\n",
       "      <td>0.0</td>\n",
       "      <td>NaN</td>\n",
       "      <td>https://twitter.com/HimalayaIndia/status/15061...</td>\n",
       "    </tr>\n",
       "    <tr>\n",
       "      <th>98</th>\n",
       "      <td>2022-03-21</td>\n",
       "      <td>@hardik_rathod This does not sound right, Hard...</td>\n",
       "      <td>HimalayaIndia</td>\n",
       "      <td>0</td>\n",
       "      <td>0.0</td>\n",
       "      <td>NaN</td>\n",
       "      <td>https://twitter.com/HimalayaIndia/status/15057...</td>\n",
       "    </tr>\n",
       "  </tbody>\n",
       "</table>\n",
       "</div>"
      ],
      "text/plain": [
       "          date                                            content  \\\n",
       "2   2023-01-17  @MKC1_Reddy Hi Reddy, Could you please DM us y...   \n",
       "5   2023-01-02  @kishnpalchauhan Your experience is a priority...   \n",
       "7   2022-12-27  @rlokeshrao @CDSCO_INDIA_INF Hi Lokesh, we alw...   \n",
       "12  2022-11-23  @DeshBhaktReva Please refer to our official st...   \n",
       "22  2022-10-09  @GA_Pansare Please refer to our official state...   \n",
       "23  2022-10-09  @Sunita1093 Please refer to our official state...   \n",
       "24  2022-10-09  @Jagdish_189 Please refer to our official stat...   \n",
       "26  2022-10-06  @SharadG07211098 Hi Sharad! Please be assured ...   \n",
       "29  2022-09-22  @NVishist17 Hi Nikhil, Please write to us at c...   \n",
       "33  2022-09-05  @ivnsraju65 Hi Raju, Please refer to our offic...   \n",
       "35  2022-09-02  @rahulbiddappa Hi Rahul, Please refer to our o...   \n",
       "36  2022-09-02  @Kala_ET Hi Vijay, Please refer to our officia...   \n",
       "37  2022-09-02  @mentorpreneur Hi Sanjiv, Please refer to our ...   \n",
       "38  2022-09-02  @farah_midhat Hi Midhat, Please refer to our o...   \n",
       "50  2022-07-27  @Word_wielder We understand your concern, Ferg...   \n",
       "71  2022-06-03  RT @INDIACSR: Sustainability: Himalaya’s commi...   \n",
       "72  2022-06-02  @iPriyaSinha This is not the experience we wan...   \n",
       "75  2022-05-13  RT @LogicalIndians: The earth is experiencing ...   \n",
       "77  2022-05-06  \"Taking proper care of a newborn helps minimiz...   \n",
       "81  2022-04-18  @nanditaasn @FDA @US_FDA @IndianStandards @ash...   \n",
       "83  2022-04-12  @Strange16179431 Hi! Please share your contact...   \n",
       "88  2022-04-01  @TheAtulMishra Please refer to our official st...   \n",
       "90  2022-04-01                            https://t.co/9iCRhuQUbc   \n",
       "97  2022-03-22  @Thanush34343418 Hi Shree, please share your c...   \n",
       "98  2022-03-21  @hardik_rathod This does not sound right, Hard...   \n",
       "\n",
       "         username  likes  views hashtags  \\\n",
       "2   HimalayaIndia      0   29.0      NaN   \n",
       "5   HimalayaIndia      0   46.0      NaN   \n",
       "7   HimalayaIndia      0   49.0      NaN   \n",
       "12  HimalayaIndia      3    0.0      NaN   \n",
       "22  HimalayaIndia      0    0.0      NaN   \n",
       "23  HimalayaIndia      0    0.0      NaN   \n",
       "24  HimalayaIndia      0    0.0      NaN   \n",
       "26  HimalayaIndia      0    0.0      NaN   \n",
       "29  HimalayaIndia      0    0.0      NaN   \n",
       "33  HimalayaIndia      0    0.0      NaN   \n",
       "35  HimalayaIndia      0    0.0      NaN   \n",
       "36  HimalayaIndia      0    0.0      NaN   \n",
       "37  HimalayaIndia      0    0.0      NaN   \n",
       "38  HimalayaIndia      0    0.0      NaN   \n",
       "50  HimalayaIndia      0    0.0      NaN   \n",
       "71  HimalayaIndia      0    0.0      NaN   \n",
       "72  HimalayaIndia      3    0.0      NaN   \n",
       "75  HimalayaIndia      0    0.0      NaN   \n",
       "77  HimalayaIndia      5    0.0      NaN   \n",
       "81  HimalayaIndia      0    0.0      NaN   \n",
       "83  HimalayaIndia      1    0.0      NaN   \n",
       "88  HimalayaIndia      4    0.0      NaN   \n",
       "90  HimalayaIndia   6653    0.0      NaN   \n",
       "97  HimalayaIndia      1    0.0      NaN   \n",
       "98  HimalayaIndia      0    0.0      NaN   \n",
       "\n",
       "                                                  url  \n",
       "2   https://twitter.com/HimalayaIndia/status/16152...  \n",
       "5   https://twitter.com/HimalayaIndia/status/16098...  \n",
       "7   https://twitter.com/HimalayaIndia/status/16075...  \n",
       "12  https://twitter.com/HimalayaIndia/status/15952...  \n",
       "22  https://twitter.com/HimalayaIndia/status/15791...  \n",
       "23  https://twitter.com/HimalayaIndia/status/15791...  \n",
       "24  https://twitter.com/HimalayaIndia/status/15791...  \n",
       "26  https://twitter.com/HimalayaIndia/status/15778...  \n",
       "29  https://twitter.com/HimalayaIndia/status/15728...  \n",
       "33  https://twitter.com/HimalayaIndia/status/15667...  \n",
       "35  https://twitter.com/HimalayaIndia/status/15655...  \n",
       "36  https://twitter.com/HimalayaIndia/status/15655...  \n",
       "37  https://twitter.com/HimalayaIndia/status/15655...  \n",
       "38  https://twitter.com/HimalayaIndia/status/15655...  \n",
       "50  https://twitter.com/HimalayaIndia/status/15522...  \n",
       "71  https://twitter.com/HimalayaIndia/status/15325...  \n",
       "72  https://twitter.com/HimalayaIndia/status/15323...  \n",
       "75  https://twitter.com/HimalayaIndia/status/15249...  \n",
       "77  https://twitter.com/HimalayaIndia/status/15224...  \n",
       "81  https://twitter.com/HimalayaIndia/status/15158...  \n",
       "83  https://twitter.com/HimalayaIndia/status/15137...  \n",
       "88  https://twitter.com/HimalayaIndia/status/15098...  \n",
       "90  https://twitter.com/HimalayaIndia/status/15097...  \n",
       "97  https://twitter.com/HimalayaIndia/status/15061...  \n",
       "98  https://twitter.com/HimalayaIndia/status/15057...  "
      ]
     },
     "execution_count": 43,
     "metadata": {},
     "output_type": "execute_result"
    }
   ],
   "source": [
    "Himalaya_Tweets_Data[Himalaya_Tweets_Data['hashtags'].isnull()]"
   ]
  },
  {
   "cell_type": "code",
   "execution_count": 44,
   "id": "11376da1",
   "metadata": {
    "ExecuteTime": {
     "end_time": "2023-02-19T16:25:09.838255Z",
     "start_time": "2023-02-19T16:25:09.824850Z"
    }
   },
   "outputs": [],
   "source": [
    "Himalaya_Tweets_Data['hashtags']=Himalaya_Tweets_Data['hashtags'].fillna(\"HimalayaIndia\")"
   ]
  },
  {
   "cell_type": "code",
   "execution_count": 45,
   "id": "50ccf313",
   "metadata": {
    "ExecuteTime": {
     "end_time": "2023-02-19T16:25:17.329630Z",
     "start_time": "2023-02-19T16:25:17.303968Z"
    }
   },
   "outputs": [
    {
     "data": {
      "text/plain": [
       "date        0\n",
       "content     0\n",
       "username    0\n",
       "likes       0\n",
       "views       0\n",
       "hashtags    0\n",
       "url         0\n",
       "dtype: int64"
      ]
     },
     "execution_count": 45,
     "metadata": {},
     "output_type": "execute_result"
    }
   ],
   "source": [
    "Himalaya_Tweets_Data.isnull().sum()"
   ]
  },
  {
   "cell_type": "code",
   "execution_count": null,
   "id": "950b8b15",
   "metadata": {},
   "outputs": [],
   "source": []
  },
  {
   "cell_type": "code",
   "execution_count": null,
   "id": "a0619910",
   "metadata": {},
   "outputs": [],
   "source": []
  },
  {
   "cell_type": "code",
   "execution_count": 46,
   "id": "000489d2",
   "metadata": {
    "ExecuteTime": {
     "end_time": "2023-02-19T16:25:31.848593Z",
     "start_time": "2023-02-19T16:25:31.834371Z"
    }
   },
   "outputs": [
    {
     "data": {
      "text/plain": [
       "date          0\n",
       "content       0\n",
       "username      0\n",
       "likes         0\n",
       "views         0\n",
       "hashtags    105\n",
       "url           0\n",
       "dtype: int64"
      ]
     },
     "execution_count": 46,
     "metadata": {},
     "output_type": "execute_result"
    }
   ],
   "source": [
    "Tweets_Data_from_Search.isnull().sum()"
   ]
  },
  {
   "cell_type": "code",
   "execution_count": 48,
   "id": "9a87515e",
   "metadata": {
    "ExecuteTime": {
     "end_time": "2023-02-19T16:27:43.464902Z",
     "start_time": "2023-02-19T16:27:43.450103Z"
    }
   },
   "outputs": [
    {
     "data": {
      "text/plain": [
       "0      @Caudalie\\n@HimalayaIndia \\n@sleepy\\n@babyturc...\n",
       "1      @PTI_News @PypAyurved @HimalayaIndia @DaburInd...\n",
       "5      Why are you using \"Ashvagandha\" instead of \"As...\n",
       "6      @HimalayaIndia \\nSam chaudry weekly ladies ko ...\n",
       "7      @HimalayaIndia ..\\nHii sir ...I m from Mumbai....\n",
       "                             ...                        \n",
       "122    @HimalayaIndia ma świetne pasty bez fluoru, po...\n",
       "123    Dept. of Pharm. Chemistry @McopsM organized it...\n",
       "124    @EduMinOfIndia @HimalayaIndia @dpradhanbjp Res...\n",
       "125    @dhaval351 @Pampers @Flipkart @jagograhakjago ...\n",
       "126    @HimalayaIndia Your Liv 52 tablet contains som...\n",
       "Name: content, Length: 105, dtype: object"
      ]
     },
     "execution_count": 48,
     "metadata": {},
     "output_type": "execute_result"
    }
   ],
   "source": [
    "Tweets_Data_from_Search[Tweets_Data_from_Search['hashtags'].isnull()]['content']"
   ]
  },
  {
   "cell_type": "code",
   "execution_count": 54,
   "id": "ebc31dbf",
   "metadata": {
    "ExecuteTime": {
     "end_time": "2023-02-19T16:33:24.437919Z",
     "start_time": "2023-02-19T16:33:24.419988Z"
    }
   },
   "outputs": [],
   "source": [
    "Dictionary_of_Word_Frequency=FreqDist(getWordList(Tweets_Data_from_Search[Tweets_Data_from_Search['hashtags'].isnull()]['content']))"
   ]
  },
  {
   "cell_type": "code",
   "execution_count": 55,
   "id": "2a507077",
   "metadata": {
    "ExecuteTime": {
     "end_time": "2023-02-19T16:33:29.330977Z",
     "start_time": "2023-02-19T16:33:29.303202Z"
    }
   },
   "outputs": [
    {
     "data": {
      "text/plain": [
       "FreqDist({'@HimalayaIndia': 104, 'is': 29, 'and': 19, 'to': 19, 'the': 18, '@theliverdr': 17, 'a': 16, 'of': 15, '@AyurvedaMonk': 15, 'I': 14, ...})"
      ]
     },
     "execution_count": 55,
     "metadata": {},
     "output_type": "execute_result"
    }
   ],
   "source": [
    "Dictionary_of_Word_Frequency"
   ]
  },
  {
   "cell_type": "code",
   "execution_count": 57,
   "id": "b9ea4d0f",
   "metadata": {
    "ExecuteTime": {
     "end_time": "2023-02-19T16:34:15.558500Z",
     "start_time": "2023-02-19T16:34:15.543698Z"
    }
   },
   "outputs": [],
   "source": [
    "Tweets_Data_from_Search['hashtags']=Tweets_Data_from_Search['hashtags'].fillna(\"HimalayaIndia\")"
   ]
  },
  {
   "cell_type": "code",
   "execution_count": 58,
   "id": "0b63ed4e",
   "metadata": {
    "ExecuteTime": {
     "end_time": "2023-02-19T16:34:16.117020Z",
     "start_time": "2023-02-19T16:34:16.100372Z"
    }
   },
   "outputs": [
    {
     "data": {
      "text/plain": [
       "date        0\n",
       "content     0\n",
       "username    0\n",
       "likes       0\n",
       "views       0\n",
       "hashtags    0\n",
       "url         0\n",
       "dtype: int64"
      ]
     },
     "execution_count": 58,
     "metadata": {},
     "output_type": "execute_result"
    }
   ],
   "source": [
    "Tweets_Data_from_Search.isnull().sum()"
   ]
  },
  {
   "cell_type": "code",
   "execution_count": null,
   "id": "e3048e21",
   "metadata": {},
   "outputs": [],
   "source": []
  },
  {
   "cell_type": "code",
   "execution_count": null,
   "id": "4cdbdf45",
   "metadata": {},
   "outputs": [],
   "source": []
  },
  {
   "cell_type": "code",
   "execution_count": 60,
   "id": "9b526ed4",
   "metadata": {
    "ExecuteTime": {
     "end_time": "2023-02-19T16:35:27.444048Z",
     "start_time": "2023-02-19T16:35:27.413148Z"
    }
   },
   "outputs": [
    {
     "data": {
      "text/plain": [
       "title           0\n",
       "price           3\n",
       "description    25\n",
       "url             0\n",
       "dtype: int64"
      ]
     },
     "execution_count": 60,
     "metadata": {},
     "output_type": "execute_result"
    }
   ],
   "source": [
    "Himalaya_Wellness_Site_Products_Data.isnull().sum()"
   ]
  },
  {
   "cell_type": "code",
   "execution_count": 83,
   "id": "ae44c6cb",
   "metadata": {
    "ExecuteTime": {
     "end_time": "2023-02-19T16:45:05.471170Z",
     "start_time": "2023-02-19T16:45:05.447173Z"
    }
   },
   "outputs": [
    {
     "data": {
      "text/plain": [
       "726    https://himalayawellness.in/collections/all/pr...\n",
       "731    https://himalayawellness.in/collections/all/pr...\n",
       "801    https://himalayawellness.in/collections/all/pr...\n",
       "Name: url, dtype: object"
      ]
     },
     "execution_count": 83,
     "metadata": {},
     "output_type": "execute_result"
    }
   ],
   "source": [
    "Himalaya_Wellness_Site_Products_Data[Himalaya_Wellness_Site_Products_Data['price'].isnull()]['url']"
   ]
  },
  {
   "cell_type": "code",
   "execution_count": 84,
   "id": "8f5b3e86",
   "metadata": {
    "ExecuteTime": {
     "end_time": "2023-02-19T16:45:05.772546Z",
     "start_time": "2023-02-19T16:45:05.765120Z"
    }
   },
   "outputs": [],
   "source": [
    "price_filling_array={\n",
    "    \"726\":230.00,\n",
    "    \"731\":130.00,\n",
    "    \"801\":65.00\n",
    "}"
   ]
  },
  {
   "cell_type": "code",
   "execution_count": 85,
   "id": "ee8f85e6",
   "metadata": {
    "ExecuteTime": {
     "end_time": "2023-02-19T16:45:06.108250Z",
     "start_time": "2023-02-19T16:45:06.094907Z"
    }
   },
   "outputs": [],
   "source": [
    "Himalaya_Wellness_Site_Products_Data['price'].fillna(price_filling_array,inplace=True)\n",
    "# =Himalaya_Wellness_Site_Products_Data['price'].fillna(price_filling_array)"
   ]
  },
  {
   "cell_type": "code",
   "execution_count": 86,
   "id": "f7572b45",
   "metadata": {
    "ExecuteTime": {
     "end_time": "2023-02-19T16:45:06.480316Z",
     "start_time": "2023-02-19T16:45:06.463056Z"
    }
   },
   "outputs": [
    {
     "data": {
      "text/plain": [
       "title           0\n",
       "price           3\n",
       "description    25\n",
       "url             0\n",
       "dtype: int64"
      ]
     },
     "execution_count": 86,
     "metadata": {},
     "output_type": "execute_result"
    }
   ],
   "source": [
    "Himalaya_Wellness_Site_Products_Data.isnull().sum()"
   ]
  },
  {
   "cell_type": "code",
   "execution_count": null,
   "id": "a6b7e5f9",
   "metadata": {},
   "outputs": [],
   "source": []
  },
  {
   "cell_type": "code",
   "execution_count": null,
   "id": "f5228f31",
   "metadata": {},
   "outputs": [],
   "source": []
  },
  {
   "cell_type": "code",
   "execution_count": null,
   "id": "7bb2c421",
   "metadata": {},
   "outputs": [],
   "source": []
  },
  {
   "cell_type": "markdown",
   "id": "067db482",
   "metadata": {
    "heading_collapsed": true
   },
   "source": [
    "### Handaling Noisy Data"
   ]
  },
  {
   "cell_type": "code",
   "execution_count": null,
   "id": "6e737653",
   "metadata": {
    "hidden": true
   },
   "outputs": [],
   "source": []
  },
  {
   "cell_type": "code",
   "execution_count": null,
   "id": "664e77f6",
   "metadata": {
    "hidden": true
   },
   "outputs": [],
   "source": []
  },
  {
   "cell_type": "code",
   "execution_count": null,
   "id": "cbdc0078",
   "metadata": {
    "hidden": true
   },
   "outputs": [],
   "source": []
  },
  {
   "cell_type": "code",
   "execution_count": null,
   "id": "13b362e0",
   "metadata": {
    "hidden": true
   },
   "outputs": [],
   "source": []
  },
  {
   "cell_type": "code",
   "execution_count": null,
   "id": "f388ae60",
   "metadata": {
    "hidden": true
   },
   "outputs": [],
   "source": []
  },
  {
   "cell_type": "markdown",
   "id": "25851555",
   "metadata": {
    "heading_collapsed": true
   },
   "source": [
    "## 2. Data Reduction"
   ]
  },
  {
   "cell_type": "markdown",
   "id": "59ce5a2c",
   "metadata": {
    "heading_collapsed": true,
    "hidden": true
   },
   "source": [
    "### Data Size Reduction"
   ]
  },
  {
   "cell_type": "code",
   "execution_count": null,
   "id": "d05f87b2",
   "metadata": {
    "hidden": true
   },
   "outputs": [],
   "source": []
  },
  {
   "cell_type": "markdown",
   "id": "1cf2574e",
   "metadata": {
    "heading_collapsed": true
   },
   "source": [
    "## 3. Data Transformation"
   ]
  },
  {
   "cell_type": "markdown",
   "id": "35a64d52",
   "metadata": {
    "heading_collapsed": true,
    "hidden": true
   },
   "source": [
    "### 1. Data Attribution"
   ]
  },
  {
   "cell_type": "code",
   "execution_count": null,
   "id": "b0973fcd",
   "metadata": {
    "hidden": true
   },
   "outputs": [],
   "source": []
  },
  {
   "cell_type": "code",
   "execution_count": null,
   "id": "b9b23034",
   "metadata": {
    "hidden": true
   },
   "outputs": [],
   "source": []
  },
  {
   "cell_type": "code",
   "execution_count": null,
   "id": "7a6ac677",
   "metadata": {
    "hidden": true
   },
   "outputs": [],
   "source": []
  },
  {
   "cell_type": "code",
   "execution_count": null,
   "id": "9fe25c2b",
   "metadata": {
    "hidden": true
   },
   "outputs": [],
   "source": []
  },
  {
   "cell_type": "code",
   "execution_count": null,
   "id": "bef04e59",
   "metadata": {
    "hidden": true
   },
   "outputs": [],
   "source": []
  },
  {
   "cell_type": "markdown",
   "id": "3a5a18cd",
   "metadata": {
    "executionInfo": {
     "elapsed": 20,
     "status": "ok",
     "timestamp": 1676274913394,
     "user": {
      "displayName": "SHIVKUMAR CHAUHAN",
      "userId": "00181769091967804430"
     },
     "user_tz": -330
    },
    "heading_collapsed": true,
    "id": "6F5X2OnirIXg"
   },
   "source": [
    "## 4. Data Integration"
   ]
  },
  {
   "cell_type": "code",
   "execution_count": null,
   "id": "9b41ecec",
   "metadata": {
    "hidden": true
   },
   "outputs": [],
   "source": []
  },
  {
   "cell_type": "code",
   "execution_count": null,
   "id": "QM7dABauxWJr",
   "metadata": {
    "hidden": true,
    "id": "QM7dABauxWJr"
   },
   "outputs": [],
   "source": []
  },
  {
   "cell_type": "code",
   "execution_count": null,
   "id": "vCz0D4JfxWAY",
   "metadata": {
    "hidden": true,
    "id": "vCz0D4JfxWAY"
   },
   "outputs": [],
   "source": []
  },
  {
   "cell_type": "code",
   "execution_count": null,
   "id": "DS7CF4HWxV8w",
   "metadata": {
    "hidden": true,
    "id": "DS7CF4HWxV8w"
   },
   "outputs": [],
   "source": []
  },
  {
   "cell_type": "markdown",
   "id": "5970c87c",
   "metadata": {
    "heading_collapsed": true,
    "id": "u_RqNKgNxV5p"
   },
   "source": [
    "## 5. Data Filtaration"
   ]
  },
  {
   "cell_type": "markdown",
   "id": "-T3LZkx51Rs_",
   "metadata": {
    "heading_collapsed": true,
    "id": "-T3LZkx51Rs_"
   },
   "source": [
    "# Data Saving on Database"
   ]
  },
  {
   "cell_type": "markdown",
   "id": "v2eCum-E1oFG",
   "metadata": {
    "heading_collapsed": true,
    "hidden": true,
    "id": "v2eCum-E1oFG"
   },
   "source": [
    "## Data Saving on Non-Relational Database\n"
   ]
  },
  {
   "cell_type": "markdown",
   "id": "26194f18",
   "metadata": {
    "heading_collapsed": true,
    "hidden": true,
    "id": "rcxU1ivgxV2Q"
   },
   "source": [
    "### Data Models"
   ]
  },
  {
   "cell_type": "code",
   "execution_count": null,
   "id": "4de5398e",
   "metadata": {
    "hidden": true
   },
   "outputs": [],
   "source": []
  },
  {
   "cell_type": "code",
   "execution_count": null,
   "id": "880f5f0e",
   "metadata": {
    "hidden": true
   },
   "outputs": [],
   "source": []
  },
  {
   "cell_type": "code",
   "execution_count": null,
   "id": "8aa199b9",
   "metadata": {
    "hidden": true
   },
   "outputs": [],
   "source": []
  },
  {
   "cell_type": "code",
   "execution_count": null,
   "id": "ac6291dd",
   "metadata": {
    "hidden": true
   },
   "outputs": [],
   "source": []
  },
  {
   "cell_type": "markdown",
   "id": "e8f270ae",
   "metadata": {
    "heading_collapsed": true,
    "hidden": true
   },
   "source": [
    "### Document Saving"
   ]
  },
  {
   "cell_type": "code",
   "execution_count": null,
   "id": "0205c034",
   "metadata": {
    "hidden": true
   },
   "outputs": [],
   "source": []
  },
  {
   "cell_type": "code",
   "execution_count": null,
   "id": "sEYMWGK8xVzJ",
   "metadata": {
    "hidden": true,
    "id": "sEYMWGK8xVzJ"
   },
   "outputs": [],
   "source": []
  },
  {
   "cell_type": "markdown",
   "id": "oXrI8rrb2H1R",
   "metadata": {
    "heading_collapsed": true,
    "hidden": true,
    "id": "oXrI8rrb2H1R"
   },
   "source": [
    "## Data Saving on Relational Database"
   ]
  },
  {
   "cell_type": "markdown",
   "id": "da43d979",
   "metadata": {
    "heading_collapsed": true,
    "hidden": true,
    "id": "huYpk9UexVvF"
   },
   "source": [
    "### SQL QUERIES"
   ]
  },
  {
   "cell_type": "code",
   "execution_count": null,
   "id": "53a8701c",
   "metadata": {
    "hidden": true
   },
   "outputs": [],
   "source": []
  },
  {
   "cell_type": "code",
   "execution_count": null,
   "id": "5c67e0c2",
   "metadata": {
    "hidden": true
   },
   "outputs": [],
   "source": []
  },
  {
   "cell_type": "code",
   "execution_count": null,
   "id": "0e2fd1a6",
   "metadata": {
    "hidden": true
   },
   "outputs": [],
   "source": []
  },
  {
   "cell_type": "code",
   "execution_count": null,
   "id": "8090e8bd",
   "metadata": {
    "hidden": true
   },
   "outputs": [],
   "source": []
  },
  {
   "cell_type": "markdown",
   "id": "686765d3",
   "metadata": {
    "heading_collapsed": true,
    "hidden": true
   },
   "source": [
    "### Data Loading"
   ]
  },
  {
   "cell_type": "code",
   "execution_count": null,
   "id": "5d424b7e",
   "metadata": {
    "hidden": true
   },
   "outputs": [],
   "source": []
  },
  {
   "cell_type": "code",
   "execution_count": null,
   "id": "Y70pdoJUxVoT",
   "metadata": {
    "hidden": true,
    "id": "Y70pdoJUxVoT"
   },
   "outputs": [],
   "source": []
  }
 ],
 "metadata": {
  "colab": {
   "provenance": [
    {
     "file_id": "157IlCs-7AnovM6nO11wjp7ZhGoWbdd2X",
     "timestamp": 1676270838737
    }
   ],
   "toc_visible": true
  },
  "hide_input": false,
  "kernelspec": {
   "display_name": "Python 3 (ipykernel)",
   "language": "python",
   "name": "python3"
  },
  "language_info": {
   "codemirror_mode": {
    "name": "ipython",
    "version": 3
   },
   "file_extension": ".py",
   "mimetype": "text/x-python",
   "name": "python",
   "nbconvert_exporter": "python",
   "pygments_lexer": "ipython3",
   "version": "3.10.8"
  }
 },
 "nbformat": 4,
 "nbformat_minor": 5
}
