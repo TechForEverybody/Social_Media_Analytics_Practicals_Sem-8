{
 "cells": [
  {
   "cell_type": "markdown",
   "id": "cplbl_qwblRm",
   "metadata": {
    "id": "cplbl_qwblRm"
   },
   "source": [
    "## Name: Shivkumar G. Chauhan\n",
    "### Roll No.: CS8A53\n",
    "### Batch A-3\n",
    "---\n",
    "# Experiment - 3 : Data Preprocessing\n"
   ]
  },
  {
   "cell_type": "markdown",
   "id": "o_ENWMaCoql_",
   "metadata": {
    "id": "o_ENWMaCoql_"
   },
   "source": [
    "## imports"
   ]
  },
  {
   "cell_type": "code",
   "execution_count": 1,
   "id": "c5AfQzN1oegy",
   "metadata": {
    "ExecuteTime": {
     "end_time": "2023-02-20T00:21:06.223727Z",
     "start_time": "2023-02-20T00:20:58.033939Z"
    },
    "executionInfo": {
     "elapsed": 407,
     "status": "ok",
     "timestamp": 1676272695440,
     "user": {
      "displayName": "SHIVKUMAR CHAUHAN",
      "userId": "00181769091967804430"
     },
     "user_tz": -330
    },
    "id": "c5AfQzN1oegy"
   },
   "outputs": [],
   "source": [
    "import os\n",
    "import pandas\n",
    "import numpy\n",
    "import matplotlib.pyplot as pyplot\n",
    "import seaborn\n",
    "import nltk\n",
    "from nltk.corpus import stopwords,wordnet\n",
    "from nltk.stem import WordNetLemmatizer\n",
    "from nltk.probability import FreqDist\n",
    "\n",
    "import re\n",
    "\n",
    "\n",
    "import mysql.connector\n",
    "import pymongo"
   ]
  },
  {
   "cell_type": "markdown",
   "id": "qgy605huYrOI",
   "metadata": {
    "id": "qgy605huYrOI"
   },
   "source": [
    "## Configurations"
   ]
  },
  {
   "cell_type": "code",
   "execution_count": 2,
   "id": "0b8a0de5",
   "metadata": {
    "ExecuteTime": {
     "end_time": "2023-02-19T20:38:40.801915Z",
     "start_time": "2023-02-19T20:38:40.748254Z"
    }
   },
   "outputs": [],
   "source": [
    "# %matplotlib qt;\n",
    "%matplotlib inline\n",
    "pyplot.rcParams[\"figure.figsize\"] = (15, 12);"
   ]
  },
  {
   "cell_type": "code",
   "execution_count": 3,
   "id": "b22dd3f7",
   "metadata": {
    "ExecuteTime": {
     "end_time": "2023-02-19T20:38:41.118206Z",
     "start_time": "2023-02-19T20:38:41.092206Z"
    }
   },
   "outputs": [],
   "source": [
    "Regular_expression_definition_for_html_tags=re.compile('<.*?>')\n",
    "Regular_expression_definition_for_digits=re.compile('\\d+\\s|\\s\\d+|\\s\\d+\\s')\n",
    "Regular_expression_definition_for_links=re.compile('http://\\S+|https://\\S+')\n",
    "word_lemitizer=WordNetLemmatizer()\n",
    "english_stop_words=stopwords.words('english')"
   ]
  },
  {
   "cell_type": "code",
   "execution_count": 4,
   "id": "18794714",
   "metadata": {
    "ExecuteTime": {
     "end_time": "2023-02-19T20:38:41.468242Z",
     "start_time": "2023-02-19T20:38:41.450206Z"
    }
   },
   "outputs": [],
   "source": [
    "def getWordList(textList:list)->list:\n",
    "    Words_list=[text for text in textList]\n",
    "    Words_list=\" \".join(Words_list)\n",
    "    Words_list=Words_list.split()\n",
    "    return Words_list"
   ]
  },
  {
   "cell_type": "code",
   "execution_count": 5,
   "id": "92b92528",
   "metadata": {
    "ExecuteTime": {
     "end_time": "2023-02-19T20:38:41.892915Z",
     "start_time": "2023-02-19T20:38:41.877902Z"
    }
   },
   "outputs": [],
   "source": [
    "def cleaning_of_sentence(text):\n",
    "    text = re.sub(r\"http\\S+|www\\S+|https\\S+\", '', text, flags=re.MULTILINE)\n",
    "    text=Regular_expression_definition_for_html_tags.sub(r\" \",text)\n",
    "    text=Regular_expression_definition_for_digits.sub(r\" \",text)\n",
    "    text=Regular_expression_definition_for_links.sub(r\" \",text)\n",
    "    punctuations = [\".\",\"=\",\"_\",\"<\",\">\",\",\",\"!\",\"?\",\"'\",'\"',\"’\",\":\",\";\",\"*\",\"-\",\"/\",\"+\",\"%\",\"&\",\"$\",\"#\",\"@\",\"(\",\")\",\"[\",\"]\",\"{\",\"}\",'\\n']\n",
    "    for i in punctuations:\n",
    "        text = text.replace(i,\" \")\n",
    "    text=text.lower().split()\n",
    "    text=[word_lemitizer.lemmatize(word) for word in text]\n",
    "    text=[word for word in text if len(word)>1]\n",
    "    return text"
   ]
  },
  {
   "cell_type": "code",
   "execution_count": 6,
   "id": "4335a09e",
   "metadata": {
    "ExecuteTime": {
     "end_time": "2023-02-19T20:38:42.349911Z",
     "start_time": "2023-02-19T20:38:42.338882Z"
    }
   },
   "outputs": [],
   "source": [
    "def getLikePerViews(list_of_likes,list_of_views):\n",
    "    ratio=[]\n",
    "    for i in range(len(list_of_likes)):\n",
    "        if list_of_views[i]>=1:\n",
    "            ratio.append(list_of_likes[i]/list_of_views[i])\n",
    "        else:\n",
    "            ratio.append(0)\n",
    "    return ratio"
   ]
  },
  {
   "cell_type": "markdown",
   "id": "4d9abcfd",
   "metadata": {},
   "source": [
    "### Data Loading"
   ]
  },
  {
   "cell_type": "code",
   "execution_count": 7,
   "id": "QvWQuYFjoTj6",
   "metadata": {
    "ExecuteTime": {
     "end_time": "2023-02-19T20:38:43.263059Z",
     "start_time": "2023-02-19T20:38:43.212064Z"
    },
    "executionInfo": {
     "elapsed": 1055,
     "status": "ok",
     "timestamp": 1676272894786,
     "user": {
      "displayName": "SHIVKUMAR CHAUHAN",
      "userId": "00181769091967804430"
     },
     "user_tz": -330
    },
    "id": "QvWQuYFjoTj6"
   },
   "outputs": [],
   "source": [
    "Himalaya_Tweets_Data=pandas.read_csv(\"../Data/Raw_Data/Twitter_Data/Himalaya_Tweets_Data.csv\")"
   ]
  },
  {
   "cell_type": "code",
   "execution_count": 8,
   "id": "oZa4Bxk9xvIV",
   "metadata": {
    "ExecuteTime": {
     "end_time": "2023-02-19T20:38:44.129768Z",
     "start_time": "2023-02-19T20:38:44.098814Z"
    },
    "id": "oZa4Bxk9xvIV"
   },
   "outputs": [],
   "source": [
    "Tweets_Data_from_Search=pandas.read_csv(\"../Data/Raw_Data/Twitter_Data/Tweets_Data_from_Search.csv\")"
   ]
  },
  {
   "cell_type": "code",
   "execution_count": 9,
   "id": "Zy0tkWH4xvOp",
   "metadata": {
    "ExecuteTime": {
     "end_time": "2023-02-19T20:38:44.507217Z",
     "start_time": "2023-02-19T20:38:44.438451Z"
    },
    "executionInfo": {
     "elapsed": 9,
     "status": "ok",
     "timestamp": 1676275313683,
     "user": {
      "displayName": "SHIVKUMAR CHAUHAN",
      "userId": "00181769091967804430"
     },
     "user_tz": -330
    },
    "id": "Zy0tkWH4xvOp"
   },
   "outputs": [],
   "source": [
    "Himalaya_Wellness_Site_Products_Data=pandas.read_csv(\"../Data/Raw_Data/Himalaya_Wellness_Site_Data/Products_Data.csv\")"
   ]
  },
  {
   "cell_type": "code",
   "execution_count": 10,
   "id": "D1SO0l3_yHun",
   "metadata": {
    "ExecuteTime": {
     "end_time": "2023-02-19T20:38:44.839273Z",
     "start_time": "2023-02-19T20:38:44.753217Z"
    },
    "executionInfo": {
     "elapsed": 726,
     "status": "ok",
     "timestamp": 1676275540986,
     "user": {
      "displayName": "SHIVKUMAR CHAUHAN",
      "userId": "00181769091967804430"
     },
     "user_tz": -330
    },
    "id": "D1SO0l3_yHun"
   },
   "outputs": [],
   "source": [
    "Himalaya_Wellness_Site_Blog_Data=pandas.read_csv(\"../Data/Raw_Data/Himalaya_Wellness_Site_Data/Blogs_Data.csv\")"
   ]
  },
  {
   "cell_type": "code",
   "execution_count": 11,
   "id": "2e125b6a",
   "metadata": {
    "ExecuteTime": {
     "end_time": "2023-02-19T20:38:45.125225Z",
     "start_time": "2023-02-19T20:38:45.019221Z"
    }
   },
   "outputs": [],
   "source": [
    "Facebook_Post_Data=pandas.read_csv(\"../Data/Raw_Data/Facebook_Data/Facebook_Post_Data.csv\")"
   ]
  },
  {
   "cell_type": "code",
   "execution_count": 12,
   "id": "7d858c83",
   "metadata": {
    "ExecuteTime": {
     "end_time": "2023-02-19T20:38:45.333257Z",
     "start_time": "2023-02-19T20:38:45.261221Z"
    }
   },
   "outputs": [],
   "source": [
    "Himalaya_Youtube_Video_Data=pandas.read_csv(\"../Data/Raw_Data/Youtube_Data/Himalaya_Youtube_Video_Data.csv\")"
   ]
  },
  {
   "cell_type": "code",
   "execution_count": 13,
   "id": "37a27016",
   "metadata": {
    "ExecuteTime": {
     "end_time": "2023-02-19T20:38:45.570251Z",
     "start_time": "2023-02-19T20:38:45.513218Z"
    }
   },
   "outputs": [],
   "source": [
    "Himalaya_Youtube_Video_Search_Data=pandas.read_csv(\"../Data/Raw_Data/Youtube_Data/Himalaya_Youtube_Video_Search_Data.csv\")"
   ]
  },
  {
   "cell_type": "code",
   "execution_count": 14,
   "id": "1871c1d0",
   "metadata": {
    "ExecuteTime": {
     "end_time": "2023-02-19T20:38:45.837217Z",
     "start_time": "2023-02-19T20:38:45.747219Z"
    }
   },
   "outputs": [],
   "source": [
    "Youtube_Comments_Data=pandas.read_csv(\"../Data/Raw_Data/Youtube_Data/Youtube_Comments_Data.csv\")"
   ]
  },
  {
   "cell_type": "markdown",
   "id": "e66b7be8",
   "metadata": {},
   "source": [
    "### Credentials Loading"
   ]
  },
  {
   "cell_type": "code",
   "execution_count": 15,
   "id": "45956651",
   "metadata": {
    "ExecuteTime": {
     "end_time": "2023-02-19T20:38:46.291220Z",
     "start_time": "2023-02-19T20:38:46.262220Z"
    }
   },
   "outputs": [],
   "source": [
    "with open('./MySQL.env') as file:\n",
    "    credentials=file.read()\n",
    "credentials=credentials.split(\" \")"
   ]
  },
  {
   "cell_type": "code",
   "execution_count": 16,
   "id": "2b9f9251",
   "metadata": {
    "ExecuteTime": {
     "end_time": "2023-02-19T20:38:46.968937Z",
     "start_time": "2023-02-19T20:38:46.940938Z"
    }
   },
   "outputs": [],
   "source": [
    "connection_url=\"\"\n",
    "with open(\"./MongoDB.env\") as file:\n",
    "    connection_url=file.read()"
   ]
  },
  {
   "cell_type": "markdown",
   "id": "c2078ef1",
   "metadata": {},
   "source": [
    "### MySQL Connection"
   ]
  },
  {
   "cell_type": "code",
   "execution_count": 18,
   "id": "70520cc4",
   "metadata": {
    "ExecuteTime": {
     "end_time": "2023-02-19T20:39:24.764829Z",
     "start_time": "2023-02-19T20:39:24.570671Z"
    }
   },
   "outputs": [],
   "source": [
    "mysql_connection=mysql.connector.connect(username=credentials[0],password=credentials[1],host=credentials[2],port=int(credentials[3]))\n",
    "queryExecuter=mysql_connection.cursor()"
   ]
  },
  {
   "cell_type": "code",
   "execution_count": 19,
   "id": "531f45d6",
   "metadata": {
    "ExecuteTime": {
     "end_time": "2023-02-19T20:39:26.045929Z",
     "start_time": "2023-02-19T20:39:26.021850Z"
    }
   },
   "outputs": [
    {
     "data": {
      "text/plain": [
       "<mysql.connector.connection_cext.CMySQLConnection at 0x15953882fe0>"
      ]
     },
     "execution_count": 19,
     "metadata": {},
     "output_type": "execute_result"
    }
   ],
   "source": [
    "mysql_connection"
   ]
  },
  {
   "cell_type": "code",
   "execution_count": null,
   "id": "a7669362",
   "metadata": {
    "ExecuteTime": {
     "end_time": "2023-02-19T20:38:50.130833Z",
     "start_time": "2023-02-19T20:38:50.130833Z"
    }
   },
   "outputs": [],
   "source": [
    "mysql_connection.close()"
   ]
  },
  {
   "cell_type": "markdown",
   "id": "bed921d5",
   "metadata": {},
   "source": [
    "### MongoDB Connection"
   ]
  },
  {
   "cell_type": "code",
   "execution_count": 20,
   "id": "541f88d1",
   "metadata": {
    "ExecuteTime": {
     "end_time": "2023-02-19T20:39:29.059295Z",
     "start_time": "2023-02-19T20:39:28.815222Z"
    }
   },
   "outputs": [],
   "source": [
    "mongodb_connection=pymongo.MongoClient(connection_url)"
   ]
  },
  {
   "cell_type": "code",
   "execution_count": 21,
   "id": "e275bb18",
   "metadata": {
    "ExecuteTime": {
     "end_time": "2023-02-19T20:39:30.281988Z",
     "start_time": "2023-02-19T20:39:30.259972Z"
    }
   },
   "outputs": [
    {
     "data": {
      "text/plain": [
       "MongoClient(host=['ac-xe1d4nk-shard-00-02.bew2itj.mongodb.net:27017', 'ac-xe1d4nk-shard-00-00.bew2itj.mongodb.net:27017', 'ac-xe1d4nk-shard-00-01.bew2itj.mongodb.net:27017'], document_class=dict, tz_aware=False, connect=True, authsource='admin', replicaset='atlas-fi3jx5-shard-0', tls=True)"
      ]
     },
     "execution_count": 21,
     "metadata": {},
     "output_type": "execute_result"
    }
   ],
   "source": [
    "mongodb_connection"
   ]
  },
  {
   "cell_type": "markdown",
   "id": "U2s8f3KB1J-B",
   "metadata": {
    "id": "U2s8f3KB1J-B"
   },
   "source": [
    "## Data Exploration"
   ]
  },
  {
   "cell_type": "markdown",
   "id": "17e55540",
   "metadata": {},
   "source": [
    "### Initial Lookup"
   ]
  },
  {
   "cell_type": "code",
   "execution_count": 11,
   "id": "XH9imlfOoTnP",
   "metadata": {
    "ExecuteTime": {
     "end_time": "2023-02-19T17:11:49.807347Z",
     "start_time": "2023-02-19T17:11:49.778333Z"
    },
    "colab": {
     "base_uri": "https://localhost:8080/",
     "height": 207
    },
    "executionInfo": {
     "elapsed": 12,
     "status": "ok",
     "timestamp": 1676276278714,
     "user": {
      "displayName": "SHIVKUMAR CHAUHAN",
      "userId": "00181769091967804430"
     },
     "user_tz": -330
    },
    "id": "XH9imlfOoTnP",
    "outputId": "7050f60e-1df5-4c1a-9260-0d453152fd1d"
   },
   "outputs": [
    {
     "data": {
      "text/html": [
       "<div>\n",
       "<style scoped>\n",
       "    .dataframe tbody tr th:only-of-type {\n",
       "        vertical-align: middle;\n",
       "    }\n",
       "\n",
       "    .dataframe tbody tr th {\n",
       "        vertical-align: top;\n",
       "    }\n",
       "\n",
       "    .dataframe thead th {\n",
       "        text-align: right;\n",
       "    }\n",
       "</style>\n",
       "<table border=\"1\" class=\"dataframe\">\n",
       "  <thead>\n",
       "    <tr style=\"text-align: right;\">\n",
       "      <th></th>\n",
       "      <th>date</th>\n",
       "      <th>content</th>\n",
       "      <th>username</th>\n",
       "      <th>likes</th>\n",
       "      <th>views</th>\n",
       "      <th>hashtags</th>\n",
       "      <th>url</th>\n",
       "    </tr>\n",
       "  </thead>\n",
       "  <tbody>\n",
       "    <tr>\n",
       "      <th>0</th>\n",
       "      <td>2023-01-25</td>\n",
       "      <td>The #HimalayaWellnessCompany commemorates the ...</td>\n",
       "      <td>HimalayaIndia</td>\n",
       "      <td>13</td>\n",
       "      <td>1052.0</td>\n",
       "      <td>['HimalayaWellnessCompany', 'RepublicDay', 'Ha...</td>\n",
       "      <td>https://twitter.com/HimalayaIndia/status/16181...</td>\n",
       "    </tr>\n",
       "    <tr>\n",
       "      <th>1</th>\n",
       "      <td>2023-01-23</td>\n",
       "      <td>Himalaya’s new manufacturing facility in Tumak...</td>\n",
       "      <td>HimalayaIndia</td>\n",
       "      <td>20</td>\n",
       "      <td>1284.0</td>\n",
       "      <td>['ISO', 'safety', 'HimalayaWellness']</td>\n",
       "      <td>https://twitter.com/HimalayaIndia/status/16173...</td>\n",
       "    </tr>\n",
       "    <tr>\n",
       "      <th>2</th>\n",
       "      <td>2023-01-17</td>\n",
       "      <td>@MKC1_Reddy Hi Reddy, Could you please DM us y...</td>\n",
       "      <td>HimalayaIndia</td>\n",
       "      <td>0</td>\n",
       "      <td>29.0</td>\n",
       "      <td>NaN</td>\n",
       "      <td>https://twitter.com/HimalayaIndia/status/16152...</td>\n",
       "    </tr>\n",
       "    <tr>\n",
       "      <th>3</th>\n",
       "      <td>2023-01-13</td>\n",
       "      <td>Let's celebrate the onset of warmer days and p...</td>\n",
       "      <td>HimalayaIndia</td>\n",
       "      <td>3</td>\n",
       "      <td>473.0</td>\n",
       "      <td>['HimalayaWellnessCompany', 'Lohri', 'Pongal',...</td>\n",
       "      <td>https://twitter.com/HimalayaIndia/status/16138...</td>\n",
       "    </tr>\n",
       "    <tr>\n",
       "      <th>4</th>\n",
       "      <td>2023-01-13</td>\n",
       "      <td>#Himalaya drives initiatives to enrich lives. ...</td>\n",
       "      <td>HimalayaIndia</td>\n",
       "      <td>3</td>\n",
       "      <td>679.0</td>\n",
       "      <td>['Himalaya', 'Government', 'School']</td>\n",
       "      <td>https://twitter.com/HimalayaIndia/status/16137...</td>\n",
       "    </tr>\n",
       "  </tbody>\n",
       "</table>\n",
       "</div>"
      ],
      "text/plain": [
       "         date                                            content  \\\n",
       "0  2023-01-25  The #HimalayaWellnessCompany commemorates the ...   \n",
       "1  2023-01-23  Himalaya’s new manufacturing facility in Tumak...   \n",
       "2  2023-01-17  @MKC1_Reddy Hi Reddy, Could you please DM us y...   \n",
       "3  2023-01-13  Let's celebrate the onset of warmer days and p...   \n",
       "4  2023-01-13  #Himalaya drives initiatives to enrich lives. ...   \n",
       "\n",
       "        username  likes   views  \\\n",
       "0  HimalayaIndia     13  1052.0   \n",
       "1  HimalayaIndia     20  1284.0   \n",
       "2  HimalayaIndia      0    29.0   \n",
       "3  HimalayaIndia      3   473.0   \n",
       "4  HimalayaIndia      3   679.0   \n",
       "\n",
       "                                            hashtags  \\\n",
       "0  ['HimalayaWellnessCompany', 'RepublicDay', 'Ha...   \n",
       "1              ['ISO', 'safety', 'HimalayaWellness']   \n",
       "2                                                NaN   \n",
       "3  ['HimalayaWellnessCompany', 'Lohri', 'Pongal',...   \n",
       "4               ['Himalaya', 'Government', 'School']   \n",
       "\n",
       "                                                 url  \n",
       "0  https://twitter.com/HimalayaIndia/status/16181...  \n",
       "1  https://twitter.com/HimalayaIndia/status/16173...  \n",
       "2  https://twitter.com/HimalayaIndia/status/16152...  \n",
       "3  https://twitter.com/HimalayaIndia/status/16138...  \n",
       "4  https://twitter.com/HimalayaIndia/status/16137...  "
      ]
     },
     "execution_count": 11,
     "metadata": {},
     "output_type": "execute_result"
    }
   ],
   "source": [
    "Himalaya_Tweets_Data.head()"
   ]
  },
  {
   "cell_type": "code",
   "execution_count": 12,
   "id": "0BQGthvfxvLh",
   "metadata": {
    "ExecuteTime": {
     "end_time": "2023-02-19T17:11:50.165033Z",
     "start_time": "2023-02-19T17:11:50.149645Z"
    },
    "executionInfo": {
     "elapsed": 9,
     "status": "ok",
     "timestamp": 1676275074548,
     "user": {
      "displayName": "SHIVKUMAR CHAUHAN",
      "userId": "00181769091967804430"
     },
     "user_tz": -330
    },
    "id": "0BQGthvfxvLh"
   },
   "outputs": [
    {
     "data": {
      "text/html": [
       "<div>\n",
       "<style scoped>\n",
       "    .dataframe tbody tr th:only-of-type {\n",
       "        vertical-align: middle;\n",
       "    }\n",
       "\n",
       "    .dataframe tbody tr th {\n",
       "        vertical-align: top;\n",
       "    }\n",
       "\n",
       "    .dataframe thead th {\n",
       "        text-align: right;\n",
       "    }\n",
       "</style>\n",
       "<table border=\"1\" class=\"dataframe\">\n",
       "  <thead>\n",
       "    <tr style=\"text-align: right;\">\n",
       "      <th></th>\n",
       "      <th>date</th>\n",
       "      <th>content</th>\n",
       "      <th>username</th>\n",
       "      <th>likes</th>\n",
       "      <th>views</th>\n",
       "      <th>hashtags</th>\n",
       "      <th>url</th>\n",
       "    </tr>\n",
       "  </thead>\n",
       "  <tbody>\n",
       "    <tr>\n",
       "      <th>0</th>\n",
       "      <td>2023-02-12</td>\n",
       "      <td>@Caudalie\\n@HimalayaIndia \\n@sleepy\\n@babyturc...</td>\n",
       "      <td>rabiaerTURKc1</td>\n",
       "      <td>0</td>\n",
       "      <td>61</td>\n",
       "      <td>NaN</td>\n",
       "      <td>https://twitter.com/rabiaerTURKc1/status/16248...</td>\n",
       "    </tr>\n",
       "    <tr>\n",
       "      <th>1</th>\n",
       "      <td>2023-02-12</td>\n",
       "      <td>@PTI_News @PypAyurved @HimalayaIndia @DaburInd...</td>\n",
       "      <td>Green_Laalten</td>\n",
       "      <td>0</td>\n",
       "      <td>183</td>\n",
       "      <td>NaN</td>\n",
       "      <td>https://twitter.com/Green_Laalten/status/16245...</td>\n",
       "    </tr>\n",
       "    <tr>\n",
       "      <th>2</th>\n",
       "      <td>2023-02-10</td>\n",
       "      <td>Please declare these products  @BhagwantMann g...</td>\n",
       "      <td>azeemali3119</td>\n",
       "      <td>2</td>\n",
       "      <td>115</td>\n",
       "      <td>['Punjab', 'Ayurveda', 'unani', 'patanjalifood...</td>\n",
       "      <td>https://twitter.com/azeemali3119/status/162389...</td>\n",
       "    </tr>\n",
       "    <tr>\n",
       "      <th>3</th>\n",
       "      <td>2023-02-08</td>\n",
       "      <td>The prices of #soap are rising like anything i...</td>\n",
       "      <td>AmericanLove4u</td>\n",
       "      <td>0</td>\n",
       "      <td>58</td>\n",
       "      <td>['soap', 'India', 'AUSvsIND', 'Cricket', 'INDv...</td>\n",
       "      <td>https://twitter.com/AmericanLove4u/status/1623...</td>\n",
       "    </tr>\n",
       "    <tr>\n",
       "      <th>4</th>\n",
       "      <td>2023-02-08</td>\n",
       "      <td>Shop @HimalayaIndia 🍃 Herbal products from @iH...</td>\n",
       "      <td>ayurvedanelly</td>\n",
       "      <td>0</td>\n",
       "      <td>49</td>\n",
       "      <td>['India', 'himalaya', 'HimalayaIndia', 'Himala...</td>\n",
       "      <td>https://twitter.com/ayurvedanelly/status/16232...</td>\n",
       "    </tr>\n",
       "  </tbody>\n",
       "</table>\n",
       "</div>"
      ],
      "text/plain": [
       "         date                                            content  \\\n",
       "0  2023-02-12  @Caudalie\\n@HimalayaIndia \\n@sleepy\\n@babyturc...   \n",
       "1  2023-02-12  @PTI_News @PypAyurved @HimalayaIndia @DaburInd...   \n",
       "2  2023-02-10  Please declare these products  @BhagwantMann g...   \n",
       "3  2023-02-08  The prices of #soap are rising like anything i...   \n",
       "4  2023-02-08  Shop @HimalayaIndia 🍃 Herbal products from @iH...   \n",
       "\n",
       "         username  likes  views  \\\n",
       "0   rabiaerTURKc1      0     61   \n",
       "1   Green_Laalten      0    183   \n",
       "2    azeemali3119      2    115   \n",
       "3  AmericanLove4u      0     58   \n",
       "4   ayurvedanelly      0     49   \n",
       "\n",
       "                                            hashtags  \\\n",
       "0                                                NaN   \n",
       "1                                                NaN   \n",
       "2  ['Punjab', 'Ayurveda', 'unani', 'patanjalifood...   \n",
       "3  ['soap', 'India', 'AUSvsIND', 'Cricket', 'INDv...   \n",
       "4  ['India', 'himalaya', 'HimalayaIndia', 'Himala...   \n",
       "\n",
       "                                                 url  \n",
       "0  https://twitter.com/rabiaerTURKc1/status/16248...  \n",
       "1  https://twitter.com/Green_Laalten/status/16245...  \n",
       "2  https://twitter.com/azeemali3119/status/162389...  \n",
       "3  https://twitter.com/AmericanLove4u/status/1623...  \n",
       "4  https://twitter.com/ayurvedanelly/status/16232...  "
      ]
     },
     "execution_count": 12,
     "metadata": {},
     "output_type": "execute_result"
    }
   ],
   "source": [
    "Tweets_Data_from_Search.head()"
   ]
  },
  {
   "cell_type": "code",
   "execution_count": 13,
   "id": "qFUdZS10y0By",
   "metadata": {
    "ExecuteTime": {
     "end_time": "2023-02-19T17:11:50.572741Z",
     "start_time": "2023-02-19T17:11:50.556710Z"
    },
    "executionInfo": {
     "elapsed": 16,
     "status": "ok",
     "timestamp": 1676275323667,
     "user": {
      "displayName": "SHIVKUMAR CHAUHAN",
      "userId": "00181769091967804430"
     },
     "user_tz": -330
    },
    "id": "qFUdZS10y0By",
    "scrolled": true
   },
   "outputs": [
    {
     "data": {
      "text/html": [
       "<div>\n",
       "<style scoped>\n",
       "    .dataframe tbody tr th:only-of-type {\n",
       "        vertical-align: middle;\n",
       "    }\n",
       "\n",
       "    .dataframe tbody tr th {\n",
       "        vertical-align: top;\n",
       "    }\n",
       "\n",
       "    .dataframe thead th {\n",
       "        text-align: right;\n",
       "    }\n",
       "</style>\n",
       "<table border=\"1\" class=\"dataframe\">\n",
       "  <thead>\n",
       "    <tr style=\"text-align: right;\">\n",
       "      <th></th>\n",
       "      <th>title</th>\n",
       "      <th>price</th>\n",
       "      <th>description</th>\n",
       "      <th>url</th>\n",
       "    </tr>\n",
       "  </thead>\n",
       "  <tbody>\n",
       "    <tr>\n",
       "      <th>0</th>\n",
       "      <td>Ashvagandha</td>\n",
       "      <td>₹ 200.00</td>\n",
       "      <td>Helps Boost Immunity and Overall Endurance \\nF...</td>\n",
       "      <td>https://himalayawellness.in/collections/all/pr...</td>\n",
       "    </tr>\n",
       "    <tr>\n",
       "      <th>1</th>\n",
       "      <td>Gokshura</td>\n",
       "      <td>₹ 220.00</td>\n",
       "      <td>Improves vigour</td>\n",
       "      <td>https://himalayawellness.in/collections/all/pr...</td>\n",
       "    </tr>\n",
       "    <tr>\n",
       "      <th>2</th>\n",
       "      <td>Tentex Royal</td>\n",
       "      <td>₹ 225.00</td>\n",
       "      <td>Relieves stress &amp; improves performance.\\nHimal...</td>\n",
       "      <td>https://himalayawellness.in/collections/all/pr...</td>\n",
       "    </tr>\n",
       "    <tr>\n",
       "      <th>3</th>\n",
       "      <td>Tentex Forte</td>\n",
       "      <td>₹ 90.00</td>\n",
       "      <td>Rejuvenate &amp; elevate your performance\\nHimalay...</td>\n",
       "      <td>https://himalayawellness.in/collections/all/pr...</td>\n",
       "    </tr>\n",
       "    <tr>\n",
       "      <th>4</th>\n",
       "      <td>Complete Care Toothpaste</td>\n",
       "      <td>₹ 55.00</td>\n",
       "      <td>Healthy gums . Strong teeth . Fresh breath\\nHi...</td>\n",
       "      <td>https://himalayawellness.in/collections/all/pr...</td>\n",
       "    </tr>\n",
       "  </tbody>\n",
       "</table>\n",
       "</div>"
      ],
      "text/plain": [
       "                      title     price  \\\n",
       "0               Ashvagandha  ₹ 200.00   \n",
       "1                  Gokshura  ₹ 220.00   \n",
       "2              Tentex Royal  ₹ 225.00   \n",
       "3              Tentex Forte   ₹ 90.00   \n",
       "4  Complete Care Toothpaste   ₹ 55.00   \n",
       "\n",
       "                                         description  \\\n",
       "0  Helps Boost Immunity and Overall Endurance \\nF...   \n",
       "1                                    Improves vigour   \n",
       "2  Relieves stress & improves performance.\\nHimal...   \n",
       "3  Rejuvenate & elevate your performance\\nHimalay...   \n",
       "4  Healthy gums . Strong teeth . Fresh breath\\nHi...   \n",
       "\n",
       "                                                 url  \n",
       "0  https://himalayawellness.in/collections/all/pr...  \n",
       "1  https://himalayawellness.in/collections/all/pr...  \n",
       "2  https://himalayawellness.in/collections/all/pr...  \n",
       "3  https://himalayawellness.in/collections/all/pr...  \n",
       "4  https://himalayawellness.in/collections/all/pr...  "
      ]
     },
     "execution_count": 13,
     "metadata": {},
     "output_type": "execute_result"
    }
   ],
   "source": [
    "Himalaya_Wellness_Site_Products_Data.head()"
   ]
  },
  {
   "cell_type": "code",
   "execution_count": 16,
   "id": "y1BR8huWyHzD",
   "metadata": {
    "ExecuteTime": {
     "end_time": "2023-02-19T17:12:43.762006Z",
     "start_time": "2023-02-19T17:12:43.747029Z"
    },
    "executionInfo": {
     "elapsed": 7,
     "status": "ok",
     "timestamp": 1676275906679,
     "user": {
      "displayName": "SHIVKUMAR CHAUHAN",
      "userId": "00181769091967804430"
     },
     "user_tz": -330
    },
    "id": "y1BR8huWyHzD"
   },
   "outputs": [
    {
     "data": {
      "text/html": [
       "<div>\n",
       "<style scoped>\n",
       "    .dataframe tbody tr th:only-of-type {\n",
       "        vertical-align: middle;\n",
       "    }\n",
       "\n",
       "    .dataframe tbody tr th {\n",
       "        vertical-align: top;\n",
       "    }\n",
       "\n",
       "    .dataframe thead th {\n",
       "        text-align: right;\n",
       "    }\n",
       "</style>\n",
       "<table border=\"1\" class=\"dataframe\">\n",
       "  <thead>\n",
       "    <tr style=\"text-align: right;\">\n",
       "      <th></th>\n",
       "      <th>name</th>\n",
       "      <th>posting_timestamp</th>\n",
       "      <th>content</th>\n",
       "      <th>url</th>\n",
       "    </tr>\n",
       "  </thead>\n",
       "  <tbody>\n",
       "    <tr>\n",
       "      <th>0</th>\n",
       "      <td>Face gel over Face cream - Top 4 benefits to m...</td>\n",
       "      <td>08/10/2022 8:33am</td>\n",
       "      <td>Face gel is becoming increasingly popular in s...</td>\n",
       "      <td>https://himalayawellness.in/a/blog/benefits-fa...</td>\n",
       "    </tr>\n",
       "    <tr>\n",
       "      <th>1</th>\n",
       "      <td>Himalaya Immunity Boosters (Tablets and Syrups)</td>\n",
       "      <td>07/11/2022 8:28am</td>\n",
       "      <td>Adopting a healthy and balanced diet, exercisi...</td>\n",
       "      <td>https://himalayawellness.in/a/blog/himalaya-im...</td>\n",
       "    </tr>\n",
       "    <tr>\n",
       "      <th>2</th>\n",
       "      <td>8 Simple Steps for a Perfect Baby Massage</td>\n",
       "      <td>01/02/2023 10:40am</td>\n",
       "      <td>Are you wondering how to give your baby a soot...</td>\n",
       "      <td>https://himalayawellness.in/a/blog/steps-perfe...</td>\n",
       "    </tr>\n",
       "    <tr>\n",
       "      <th>3</th>\n",
       "      <td>10 Benefits of Guduchi (Giloy) Herb</td>\n",
       "      <td>01/02/2023 8:53am</td>\n",
       "      <td>Guduchi (Giloy) is an herb that has several th...</td>\n",
       "      <td>https://himalayawellness.in/a/blog/benefits-of...</td>\n",
       "    </tr>\n",
       "    <tr>\n",
       "      <th>4</th>\n",
       "      <td>How to Boost Bone Health with Nutrition</td>\n",
       "      <td>10/18/2022 8:37am</td>\n",
       "      <td>Osteoporosis (OP) is one of the most common me...</td>\n",
       "      <td>https://himalayawellness.in/a/blog/boost-bone-...</td>\n",
       "    </tr>\n",
       "  </tbody>\n",
       "</table>\n",
       "</div>"
      ],
      "text/plain": [
       "                                                name   posting_timestamp  \\\n",
       "0  Face gel over Face cream - Top 4 benefits to m...   08/10/2022 8:33am   \n",
       "1    Himalaya Immunity Boosters (Tablets and Syrups)   07/11/2022 8:28am   \n",
       "2          8 Simple Steps for a Perfect Baby Massage  01/02/2023 10:40am   \n",
       "3                10 Benefits of Guduchi (Giloy) Herb   01/02/2023 8:53am   \n",
       "4            How to Boost Bone Health with Nutrition   10/18/2022 8:37am   \n",
       "\n",
       "                                             content  \\\n",
       "0  Face gel is becoming increasingly popular in s...   \n",
       "1  Adopting a healthy and balanced diet, exercisi...   \n",
       "2  Are you wondering how to give your baby a soot...   \n",
       "3  Guduchi (Giloy) is an herb that has several th...   \n",
       "4  Osteoporosis (OP) is one of the most common me...   \n",
       "\n",
       "                                                 url  \n",
       "0  https://himalayawellness.in/a/blog/benefits-fa...  \n",
       "1  https://himalayawellness.in/a/blog/himalaya-im...  \n",
       "2  https://himalayawellness.in/a/blog/steps-perfe...  \n",
       "3  https://himalayawellness.in/a/blog/benefits-of...  \n",
       "4  https://himalayawellness.in/a/blog/boost-bone-...  "
      ]
     },
     "execution_count": 16,
     "metadata": {},
     "output_type": "execute_result"
    }
   ],
   "source": [
    "Himalaya_Wellness_Site_Blog_Data.head()"
   ]
  },
  {
   "cell_type": "code",
   "execution_count": 17,
   "id": "51b474a2",
   "metadata": {
    "ExecuteTime": {
     "end_time": "2023-02-19T17:12:44.794704Z",
     "start_time": "2023-02-19T17:12:44.774703Z"
    }
   },
   "outputs": [
    {
     "data": {
      "text/html": [
       "<div>\n",
       "<style scoped>\n",
       "    .dataframe tbody tr th:only-of-type {\n",
       "        vertical-align: middle;\n",
       "    }\n",
       "\n",
       "    .dataframe tbody tr th {\n",
       "        vertical-align: top;\n",
       "    }\n",
       "\n",
       "    .dataframe thead th {\n",
       "        text-align: right;\n",
       "    }\n",
       "</style>\n",
       "<table border=\"1\" class=\"dataframe\">\n",
       "  <thead>\n",
       "    <tr style=\"text-align: right;\">\n",
       "      <th></th>\n",
       "      <th>posted_by</th>\n",
       "      <th>content</th>\n",
       "      <th>likes</th>\n",
       "    </tr>\n",
       "  </thead>\n",
       "  <tbody>\n",
       "    <tr>\n",
       "      <th>0</th>\n",
       "      <td>MGB Foundation</td>\n",
       "      <td>Elevate your self-care routine with HimalayaGi...</td>\n",
       "      <td>3.0</td>\n",
       "    </tr>\n",
       "    <tr>\n",
       "      <th>1</th>\n",
       "      <td>Himalaya Face Care Nepal</td>\n",
       "      <td>Himalaya Purifying Neem Face Wash enriched wit...</td>\n",
       "      <td>201.0</td>\n",
       "    </tr>\n",
       "    <tr>\n",
       "      <th>2</th>\n",
       "      <td>Bestowic</td>\n",
       "      <td>If you're looking for a natural and effective ...</td>\n",
       "      <td>2.0</td>\n",
       "    </tr>\n",
       "    <tr>\n",
       "      <th>3</th>\n",
       "      <td>Plant Care Today</td>\n",
       "      <td>Pink Banana: How To Grow and Care For Musa Vel...</td>\n",
       "      <td>8.0</td>\n",
       "    </tr>\n",
       "    <tr>\n",
       "      <th>4</th>\n",
       "      <td>Shikhar Travels</td>\n",
       "      <td>Looking for an unforgettable adventure? Join u...</td>\n",
       "      <td>1.0</td>\n",
       "    </tr>\n",
       "  </tbody>\n",
       "</table>\n",
       "</div>"
      ],
      "text/plain": [
       "                   posted_by  \\\n",
       "0             MGB Foundation   \n",
       "1  Himalaya Face Care Nepal    \n",
       "2                   Bestowic   \n",
       "3           Plant Care Today   \n",
       "4            Shikhar Travels   \n",
       "\n",
       "                                             content  likes  \n",
       "0  Elevate your self-care routine with HimalayaGi...    3.0  \n",
       "1  Himalaya Purifying Neem Face Wash enriched wit...  201.0  \n",
       "2  If you're looking for a natural and effective ...    2.0  \n",
       "3  Pink Banana: How To Grow and Care For Musa Vel...    8.0  \n",
       "4  Looking for an unforgettable adventure? Join u...    1.0  "
      ]
     },
     "execution_count": 17,
     "metadata": {},
     "output_type": "execute_result"
    }
   ],
   "source": [
    "Facebook_Post_Data.head()"
   ]
  },
  {
   "cell_type": "code",
   "execution_count": 18,
   "id": "27e067fe",
   "metadata": {
    "ExecuteTime": {
     "end_time": "2023-02-19T17:12:45.389236Z",
     "start_time": "2023-02-19T17:12:45.370230Z"
    }
   },
   "outputs": [
    {
     "data": {
      "text/html": [
       "<div>\n",
       "<style scoped>\n",
       "    .dataframe tbody tr th:only-of-type {\n",
       "        vertical-align: middle;\n",
       "    }\n",
       "\n",
       "    .dataframe tbody tr th {\n",
       "        vertical-align: top;\n",
       "    }\n",
       "\n",
       "    .dataframe thead th {\n",
       "        text-align: right;\n",
       "    }\n",
       "</style>\n",
       "<table border=\"1\" class=\"dataframe\">\n",
       "  <thead>\n",
       "    <tr style=\"text-align: right;\">\n",
       "      <th></th>\n",
       "      <th>link</th>\n",
       "      <th>title</th>\n",
       "      <th>duration</th>\n",
       "      <th>views</th>\n",
       "      <th>description</th>\n",
       "      <th>upload_date</th>\n",
       "      <th>category</th>\n",
       "    </tr>\n",
       "  </thead>\n",
       "  <tbody>\n",
       "    <tr>\n",
       "      <th>0</th>\n",
       "      <td>https://www.youtube.com/watch?v=DAIFzQy3DMs</td>\n",
       "      <td>Himalaya Youth Eternity Face Sheet Mask | Heal...</td>\n",
       "      <td>20</td>\n",
       "      <td>129</td>\n",
       "      <td>Himalaya Youth Eternity Face Sheet Mask are in...</td>\n",
       "      <td>2023-02-17</td>\n",
       "      <td>Howto &amp; Style</td>\n",
       "    </tr>\n",
       "    <tr>\n",
       "      <th>1</th>\n",
       "      <td>https://www.youtube.com/watch?v=vvXGQWoLA7Q</td>\n",
       "      <td>Himalaya Youth Eternity Face Sheet Mask | Heal...</td>\n",
       "      <td>50</td>\n",
       "      <td>191</td>\n",
       "      <td>Himalaya Youth Eternity Face Sheet Mask are in...</td>\n",
       "      <td>2023-02-17</td>\n",
       "      <td>Howto &amp; Style</td>\n",
       "    </tr>\n",
       "    <tr>\n",
       "      <th>2</th>\n",
       "      <td>https://www.youtube.com/watch?v=Et8IRYf_iS0</td>\n",
       "      <td>Complete gum care protection</td>\n",
       "      <td>11</td>\n",
       "      <td>47165</td>\n",
       "      <td>Give your gums a complete natural care with he...</td>\n",
       "      <td>2023-01-23</td>\n",
       "      <td>Howto &amp; Style</td>\n",
       "    </tr>\n",
       "    <tr>\n",
       "      <th>3</th>\n",
       "      <td>https://www.youtube.com/watch?v=VogJG0BsbQw</td>\n",
       "      <td>Himalaya Ayurveda Gum Care</td>\n",
       "      <td>10</td>\n",
       "      <td>15210</td>\n",
       "      <td>Wipe out gum problems with goodness of nature!...</td>\n",
       "      <td>2023-01-23</td>\n",
       "      <td>Howto &amp; Style</td>\n",
       "    </tr>\n",
       "    <tr>\n",
       "      <th>4</th>\n",
       "      <td>https://www.youtube.com/watch?v=RFpxEatO5r0</td>\n",
       "      <td>Cure bleeding gums with Himalaya Ayurveda Gum ...</td>\n",
       "      <td>10</td>\n",
       "      <td>67714</td>\n",
       "      <td>Cure bleeding from the roots!\\nHimalaya ayurve...</td>\n",
       "      <td>2023-01-23</td>\n",
       "      <td>Howto &amp; Style</td>\n",
       "    </tr>\n",
       "  </tbody>\n",
       "</table>\n",
       "</div>"
      ],
      "text/plain": [
       "                                          link  \\\n",
       "0  https://www.youtube.com/watch?v=DAIFzQy3DMs   \n",
       "1  https://www.youtube.com/watch?v=vvXGQWoLA7Q   \n",
       "2  https://www.youtube.com/watch?v=Et8IRYf_iS0   \n",
       "3  https://www.youtube.com/watch?v=VogJG0BsbQw   \n",
       "4  https://www.youtube.com/watch?v=RFpxEatO5r0   \n",
       "\n",
       "                                               title  duration  views  \\\n",
       "0  Himalaya Youth Eternity Face Sheet Mask | Heal...        20    129   \n",
       "1  Himalaya Youth Eternity Face Sheet Mask | Heal...        50    191   \n",
       "2                       Complete gum care protection        11  47165   \n",
       "3                         Himalaya Ayurveda Gum Care        10  15210   \n",
       "4  Cure bleeding gums with Himalaya Ayurveda Gum ...        10  67714   \n",
       "\n",
       "                                         description upload_date  \\\n",
       "0  Himalaya Youth Eternity Face Sheet Mask are in...  2023-02-17   \n",
       "1  Himalaya Youth Eternity Face Sheet Mask are in...  2023-02-17   \n",
       "2  Give your gums a complete natural care with he...  2023-01-23   \n",
       "3  Wipe out gum problems with goodness of nature!...  2023-01-23   \n",
       "4  Cure bleeding from the roots!\\nHimalaya ayurve...  2023-01-23   \n",
       "\n",
       "        category  \n",
       "0  Howto & Style  \n",
       "1  Howto & Style  \n",
       "2  Howto & Style  \n",
       "3  Howto & Style  \n",
       "4  Howto & Style  "
      ]
     },
     "execution_count": 18,
     "metadata": {},
     "output_type": "execute_result"
    }
   ],
   "source": [
    "Himalaya_Youtube_Video_Data.head()"
   ]
  },
  {
   "cell_type": "code",
   "execution_count": 19,
   "id": "8b7fc08d",
   "metadata": {
    "ExecuteTime": {
     "end_time": "2023-02-19T17:12:45.859173Z",
     "start_time": "2023-02-19T17:12:45.837383Z"
    },
    "scrolled": true
   },
   "outputs": [
    {
     "data": {
      "text/html": [
       "<div>\n",
       "<style scoped>\n",
       "    .dataframe tbody tr th:only-of-type {\n",
       "        vertical-align: middle;\n",
       "    }\n",
       "\n",
       "    .dataframe tbody tr th {\n",
       "        vertical-align: top;\n",
       "    }\n",
       "\n",
       "    .dataframe thead th {\n",
       "        text-align: right;\n",
       "    }\n",
       "</style>\n",
       "<table border=\"1\" class=\"dataframe\">\n",
       "  <thead>\n",
       "    <tr style=\"text-align: right;\">\n",
       "      <th></th>\n",
       "      <th>link</th>\n",
       "      <th>title</th>\n",
       "      <th>duration</th>\n",
       "      <th>views</th>\n",
       "      <th>description</th>\n",
       "      <th>upload_date</th>\n",
       "      <th>category</th>\n",
       "    </tr>\n",
       "  </thead>\n",
       "  <tbody>\n",
       "    <tr>\n",
       "      <th>0</th>\n",
       "      <td>https://www.youtube.com/watch?v=0kZ-YTBxgFY</td>\n",
       "      <td>Himalaya face wash I Benefits</td>\n",
       "      <td>136</td>\n",
       "      <td>238</td>\n",
       "      <td>Himalaya face wash I Benefits\\n\\nHimalaya face...</td>\n",
       "      <td>2023-02-13</td>\n",
       "      <td>Entertainment</td>\n",
       "    </tr>\n",
       "    <tr>\n",
       "      <th>1</th>\n",
       "      <td>https://www.youtube.com/watch?v=Wvrl23CRhw0</td>\n",
       "      <td>Himalaya Moisturizing ALEO VERA gel | Product ...</td>\n",
       "      <td>236</td>\n",
       "      <td>60</td>\n",
       "      <td>Himalaya Moisturizing ALEO VERA gel\\nFeatures ...</td>\n",
       "      <td>2023-02-11</td>\n",
       "      <td>People &amp; Blogs</td>\n",
       "    </tr>\n",
       "    <tr>\n",
       "      <th>2</th>\n",
       "      <td>https://www.youtube.com/watch?v=whlQ2oI3Q9M</td>\n",
       "      <td>Best Baby 👣👶 care products Review for all moth...</td>\n",
       "      <td>351</td>\n",
       "      <td>187</td>\n",
       "      <td>Baby care Products @FashionandfoodHub \\njohnso...</td>\n",
       "      <td>2023-01-30</td>\n",
       "      <td>People &amp; Blogs</td>\n",
       "    </tr>\n",
       "    <tr>\n",
       "      <th>3</th>\n",
       "      <td>https://www.youtube.com/watch?v=K2IpqAOPblI</td>\n",
       "      <td>Top 12 best Himalaya skincare and haircare pro...</td>\n",
       "      <td>1474</td>\n",
       "      <td>117</td>\n",
       "      <td>#shri.  #himalaya     #skincare    #haircare  ...</td>\n",
       "      <td>2023-01-23</td>\n",
       "      <td>People &amp; Blogs</td>\n",
       "    </tr>\n",
       "    <tr>\n",
       "      <th>4</th>\n",
       "      <td>https://www.youtube.com/watch?v=emqJpf29V1A</td>\n",
       "      <td>बिना पैसे खर्च किए निखार लाय/ Best winter Care...</td>\n",
       "      <td>177</td>\n",
       "      <td>63</td>\n",
       "      <td>बिना पैसे खर्च किए निखार लाय/ Face Care Produc...</td>\n",
       "      <td>2022-12-09</td>\n",
       "      <td>People &amp; Blogs</td>\n",
       "    </tr>\n",
       "  </tbody>\n",
       "</table>\n",
       "</div>"
      ],
      "text/plain": [
       "                                          link  \\\n",
       "0  https://www.youtube.com/watch?v=0kZ-YTBxgFY   \n",
       "1  https://www.youtube.com/watch?v=Wvrl23CRhw0   \n",
       "2  https://www.youtube.com/watch?v=whlQ2oI3Q9M   \n",
       "3  https://www.youtube.com/watch?v=K2IpqAOPblI   \n",
       "4  https://www.youtube.com/watch?v=emqJpf29V1A   \n",
       "\n",
       "                                               title  duration  views  \\\n",
       "0                      Himalaya face wash I Benefits       136    238   \n",
       "1  Himalaya Moisturizing ALEO VERA gel | Product ...       236     60   \n",
       "2  Best Baby 👣👶 care products Review for all moth...       351    187   \n",
       "3  Top 12 best Himalaya skincare and haircare pro...      1474    117   \n",
       "4  बिना पैसे खर्च किए निखार लाय/ Best winter Care...       177     63   \n",
       "\n",
       "                                         description upload_date  \\\n",
       "0  Himalaya face wash I Benefits\\n\\nHimalaya face...  2023-02-13   \n",
       "1  Himalaya Moisturizing ALEO VERA gel\\nFeatures ...  2023-02-11   \n",
       "2  Baby care Products @FashionandfoodHub \\njohnso...  2023-01-30   \n",
       "3  #shri.  #himalaya     #skincare    #haircare  ...  2023-01-23   \n",
       "4  बिना पैसे खर्च किए निखार लाय/ Face Care Produc...  2022-12-09   \n",
       "\n",
       "         category  \n",
       "0   Entertainment  \n",
       "1  People & Blogs  \n",
       "2  People & Blogs  \n",
       "3  People & Blogs  \n",
       "4  People & Blogs  "
      ]
     },
     "execution_count": 19,
     "metadata": {},
     "output_type": "execute_result"
    }
   ],
   "source": [
    "Himalaya_Youtube_Video_Search_Data.head()"
   ]
  },
  {
   "cell_type": "code",
   "execution_count": 20,
   "id": "e2aecdfd",
   "metadata": {
    "ExecuteTime": {
     "end_time": "2023-02-19T17:12:46.269523Z",
     "start_time": "2023-02-19T17:12:46.254488Z"
    }
   },
   "outputs": [
    {
     "data": {
      "text/html": [
       "<div>\n",
       "<style scoped>\n",
       "    .dataframe tbody tr th:only-of-type {\n",
       "        vertical-align: middle;\n",
       "    }\n",
       "\n",
       "    .dataframe tbody tr th {\n",
       "        vertical-align: top;\n",
       "    }\n",
       "\n",
       "    .dataframe thead th {\n",
       "        text-align: right;\n",
       "    }\n",
       "</style>\n",
       "<table border=\"1\" class=\"dataframe\">\n",
       "  <thead>\n",
       "    <tr style=\"text-align: right;\">\n",
       "      <th></th>\n",
       "      <th>video_link</th>\n",
       "      <th>author</th>\n",
       "      <th>content</th>\n",
       "      <th>likes</th>\n",
       "    </tr>\n",
       "  </thead>\n",
       "  <tbody>\n",
       "    <tr>\n",
       "      <th>0</th>\n",
       "      <td>https://www.youtube.com/watch?v=0kZ-YTBxgFY</td>\n",
       "      <td>jibin c j</td>\n",
       "      <td>super</td>\n",
       "      <td>NaN</td>\n",
       "    </tr>\n",
       "    <tr>\n",
       "      <th>1</th>\n",
       "      <td>https://www.youtube.com/watch?v=whlQ2oI3Q9M</td>\n",
       "      <td>@rukhsarhabib1387</td>\n",
       "      <td>Thank you for sharing such precious piece of i...</td>\n",
       "      <td>1.0</td>\n",
       "    </tr>\n",
       "    <tr>\n",
       "      <th>2</th>\n",
       "      <td>https://www.youtube.com/watch?v=whlQ2oI3Q9M</td>\n",
       "      <td>@habibacheema2922</td>\n",
       "      <td>Amazing and great efforts</td>\n",
       "      <td>NaN</td>\n",
       "    </tr>\n",
       "    <tr>\n",
       "      <th>3</th>\n",
       "      <td>https://www.youtube.com/watch?v=whlQ2oI3Q9M</td>\n",
       "      <td>@Roshni7292</td>\n",
       "      <td>Ma Sha allha dear zabrdast information thanks</td>\n",
       "      <td>1.0</td>\n",
       "    </tr>\n",
       "    <tr>\n",
       "      <th>4</th>\n",
       "      <td>https://www.youtube.com/watch?v=whlQ2oI3Q9M</td>\n",
       "      <td>@saminarazalifestyle</td>\n",
       "      <td>Mashallah Zabardast Work Nice Vlog</td>\n",
       "      <td>NaN</td>\n",
       "    </tr>\n",
       "  </tbody>\n",
       "</table>\n",
       "</div>"
      ],
      "text/plain": [
       "                                    video_link                author  \\\n",
       "0  https://www.youtube.com/watch?v=0kZ-YTBxgFY             jibin c j   \n",
       "1  https://www.youtube.com/watch?v=whlQ2oI3Q9M     @rukhsarhabib1387   \n",
       "2  https://www.youtube.com/watch?v=whlQ2oI3Q9M     @habibacheema2922   \n",
       "3  https://www.youtube.com/watch?v=whlQ2oI3Q9M           @Roshni7292   \n",
       "4  https://www.youtube.com/watch?v=whlQ2oI3Q9M  @saminarazalifestyle   \n",
       "\n",
       "                                             content  likes  \n",
       "0                                              super    NaN  \n",
       "1  Thank you for sharing such precious piece of i...    1.0  \n",
       "2                          Amazing and great efforts    NaN  \n",
       "3     Ma Sha allha dear zabrdast information thanks     1.0  \n",
       "4                 Mashallah Zabardast Work Nice Vlog    NaN  "
      ]
     },
     "execution_count": 20,
     "metadata": {},
     "output_type": "execute_result"
    }
   ],
   "source": [
    "Youtube_Comments_Data.head()"
   ]
  },
  {
   "cell_type": "code",
   "execution_count": 21,
   "id": "a2f1d8c1",
   "metadata": {
    "ExecuteTime": {
     "end_time": "2023-02-19T17:12:46.677241Z",
     "start_time": "2023-02-19T17:12:46.656205Z"
    },
    "cell_style": "split"
   },
   "outputs": [
    {
     "name": "stdout",
     "output_type": "stream",
     "text": [
      "<class 'pandas.core.frame.DataFrame'>\n",
      "RangeIndex: 100 entries, 0 to 99\n",
      "Data columns (total 7 columns):\n",
      " #   Column    Non-Null Count  Dtype  \n",
      "---  ------    --------------  -----  \n",
      " 0   date      100 non-null    object \n",
      " 1   content   100 non-null    object \n",
      " 2   username  100 non-null    object \n",
      " 3   likes     100 non-null    int64  \n",
      " 4   views     10 non-null     float64\n",
      " 5   hashtags  75 non-null     object \n",
      " 6   url       100 non-null    object \n",
      "dtypes: float64(1), int64(1), object(5)\n",
      "memory usage: 5.6+ KB\n"
     ]
    }
   ],
   "source": [
    "Himalaya_Tweets_Data.info()"
   ]
  },
  {
   "cell_type": "code",
   "execution_count": 22,
   "id": "3863eda4",
   "metadata": {
    "ExecuteTime": {
     "end_time": "2023-02-19T17:12:47.147308Z",
     "start_time": "2023-02-19T17:12:47.122651Z"
    },
    "cell_style": "split"
   },
   "outputs": [
    {
     "name": "stdout",
     "output_type": "stream",
     "text": [
      "<class 'pandas.core.frame.DataFrame'>\n",
      "RangeIndex: 127 entries, 0 to 126\n",
      "Data columns (total 7 columns):\n",
      " #   Column    Non-Null Count  Dtype \n",
      "---  ------    --------------  ----- \n",
      " 0   date      127 non-null    object\n",
      " 1   content   127 non-null    object\n",
      " 2   username  127 non-null    object\n",
      " 3   likes     127 non-null    int64 \n",
      " 4   views     127 non-null    int64 \n",
      " 5   hashtags  22 non-null     object\n",
      " 6   url       127 non-null    object\n",
      "dtypes: int64(2), object(5)\n",
      "memory usage: 7.1+ KB\n"
     ]
    }
   ],
   "source": [
    "Tweets_Data_from_Search.info()"
   ]
  },
  {
   "cell_type": "code",
   "execution_count": 23,
   "id": "7d712714",
   "metadata": {
    "ExecuteTime": {
     "end_time": "2023-02-19T17:12:47.463352Z",
     "start_time": "2023-02-19T17:12:47.438659Z"
    },
    "cell_style": "split"
   },
   "outputs": [
    {
     "name": "stdout",
     "output_type": "stream",
     "text": [
      "<class 'pandas.core.frame.DataFrame'>\n",
      "RangeIndex: 885 entries, 0 to 884\n",
      "Data columns (total 4 columns):\n",
      " #   Column       Non-Null Count  Dtype \n",
      "---  ------       --------------  ----- \n",
      " 0   title        885 non-null    object\n",
      " 1   price        882 non-null    object\n",
      " 2   description  860 non-null    object\n",
      " 3   url          885 non-null    object\n",
      "dtypes: object(4)\n",
      "memory usage: 27.8+ KB\n"
     ]
    }
   ],
   "source": [
    "Himalaya_Wellness_Site_Products_Data.info()"
   ]
  },
  {
   "cell_type": "code",
   "execution_count": 24,
   "id": "67ozcHxE1Qs7",
   "metadata": {
    "ExecuteTime": {
     "end_time": "2023-02-19T17:12:47.744076Z",
     "start_time": "2023-02-19T17:12:47.734077Z"
    },
    "cell_style": "split",
    "id": "67ozcHxE1Qs7",
    "run_control": {
     "marked": false
    },
    "scrolled": true
   },
   "outputs": [
    {
     "name": "stdout",
     "output_type": "stream",
     "text": [
      "<class 'pandas.core.frame.DataFrame'>\n",
      "RangeIndex: 20 entries, 0 to 19\n",
      "Data columns (total 4 columns):\n",
      " #   Column             Non-Null Count  Dtype \n",
      "---  ------             --------------  ----- \n",
      " 0   name               20 non-null     object\n",
      " 1   posting_timestamp  20 non-null     object\n",
      " 2   content            20 non-null     object\n",
      " 3   url                20 non-null     object\n",
      "dtypes: object(4)\n",
      "memory usage: 768.0+ bytes\n"
     ]
    }
   ],
   "source": [
    "Himalaya_Wellness_Site_Blog_Data.info()"
   ]
  },
  {
   "cell_type": "code",
   "execution_count": 25,
   "id": "ea7a2ca4",
   "metadata": {
    "ExecuteTime": {
     "end_time": "2023-02-19T17:12:48.010610Z",
     "start_time": "2023-02-19T17:12:47.990609Z"
    },
    "cell_style": "split"
   },
   "outputs": [
    {
     "name": "stdout",
     "output_type": "stream",
     "text": [
      "<class 'pandas.core.frame.DataFrame'>\n",
      "RangeIndex: 66 entries, 0 to 65\n",
      "Data columns (total 3 columns):\n",
      " #   Column     Non-Null Count  Dtype  \n",
      "---  ------     --------------  -----  \n",
      " 0   posted_by  65 non-null     object \n",
      " 1   content    63 non-null     object \n",
      " 2   likes      63 non-null     float64\n",
      "dtypes: float64(1), object(2)\n",
      "memory usage: 1.7+ KB\n"
     ]
    }
   ],
   "source": [
    "Facebook_Post_Data.info()"
   ]
  },
  {
   "cell_type": "code",
   "execution_count": 26,
   "id": "c334e428",
   "metadata": {
    "ExecuteTime": {
     "end_time": "2023-02-19T17:12:48.245312Z",
     "start_time": "2023-02-19T17:12:48.232284Z"
    },
    "cell_style": "split"
   },
   "outputs": [
    {
     "name": "stdout",
     "output_type": "stream",
     "text": [
      "<class 'pandas.core.frame.DataFrame'>\n",
      "RangeIndex: 100 entries, 0 to 99\n",
      "Data columns (total 7 columns):\n",
      " #   Column       Non-Null Count  Dtype \n",
      "---  ------       --------------  ----- \n",
      " 0   link         100 non-null    object\n",
      " 1   title        100 non-null    object\n",
      " 2   duration     100 non-null    int64 \n",
      " 3   views        100 non-null    int64 \n",
      " 4   description  100 non-null    object\n",
      " 5   upload_date  100 non-null    object\n",
      " 6   category     100 non-null    object\n",
      "dtypes: int64(2), object(5)\n",
      "memory usage: 5.6+ KB\n"
     ]
    }
   ],
   "source": [
    "Himalaya_Youtube_Video_Data.info()"
   ]
  },
  {
   "cell_type": "code",
   "execution_count": 27,
   "id": "8d8e47b2",
   "metadata": {
    "ExecuteTime": {
     "end_time": "2023-02-19T17:12:48.515292Z",
     "start_time": "2023-02-19T17:12:48.501293Z"
    },
    "cell_style": "split"
   },
   "outputs": [
    {
     "name": "stdout",
     "output_type": "stream",
     "text": [
      "<class 'pandas.core.frame.DataFrame'>\n",
      "RangeIndex: 175 entries, 0 to 174\n",
      "Data columns (total 7 columns):\n",
      " #   Column       Non-Null Count  Dtype \n",
      "---  ------       --------------  ----- \n",
      " 0   link         175 non-null    object\n",
      " 1   title        175 non-null    object\n",
      " 2   duration     175 non-null    int64 \n",
      " 3   views        175 non-null    int64 \n",
      " 4   description  168 non-null    object\n",
      " 5   upload_date  175 non-null    object\n",
      " 6   category     175 non-null    object\n",
      "dtypes: int64(2), object(5)\n",
      "memory usage: 9.7+ KB\n"
     ]
    }
   ],
   "source": [
    "Himalaya_Youtube_Video_Search_Data.info()"
   ]
  },
  {
   "cell_type": "code",
   "execution_count": 28,
   "id": "be7c3691",
   "metadata": {
    "ExecuteTime": {
     "end_time": "2023-02-19T17:12:48.798562Z",
     "start_time": "2023-02-19T17:12:48.779570Z"
    },
    "cell_style": "split"
   },
   "outputs": [
    {
     "name": "stdout",
     "output_type": "stream",
     "text": [
      "<class 'pandas.core.frame.DataFrame'>\n",
      "RangeIndex: 150 entries, 0 to 149\n",
      "Data columns (total 4 columns):\n",
      " #   Column      Non-Null Count  Dtype  \n",
      "---  ------      --------------  -----  \n",
      " 0   video_link  150 non-null    object \n",
      " 1   author      150 non-null    object \n",
      " 2   content     150 non-null    object \n",
      " 3   likes       86 non-null     float64\n",
      "dtypes: float64(1), object(3)\n",
      "memory usage: 4.8+ KB\n"
     ]
    }
   ],
   "source": [
    "Youtube_Comments_Data.info()"
   ]
  },
  {
   "cell_type": "markdown",
   "id": "y8-77Qi6xQ3Z",
   "metadata": {
    "heading_collapsed": true,
    "id": "y8-77Qi6xQ3Z"
   },
   "source": [
    "# Data Preprocessing"
   ]
  },
  {
   "cell_type": "markdown",
   "id": "a2be6d33",
   "metadata": {
    "hidden": true,
    "id": "5wgqiZgS1JC0"
   },
   "source": [
    "## 1. Data Cleaning"
   ]
  },
  {
   "cell_type": "markdown",
   "id": "551e582b",
   "metadata": {
    "hidden": true
   },
   "source": [
    "### Handling Missing Values"
   ]
  },
  {
   "cell_type": "markdown",
   "id": "5e0613d6",
   "metadata": {
    "hidden": true
   },
   "source": [
    "#### Searching for Missing Value"
   ]
  },
  {
   "cell_type": "code",
   "execution_count": 22,
   "id": "cf402cde",
   "metadata": {
    "ExecuteTime": {
     "end_time": "2023-02-19T20:39:39.477631Z",
     "start_time": "2023-02-19T20:39:39.455710Z"
    },
    "cell_style": "split",
    "hidden": true
   },
   "outputs": [
    {
     "data": {
      "text/plain": [
       "date         0\n",
       "content      0\n",
       "username     0\n",
       "likes        0\n",
       "views       90\n",
       "hashtags    25\n",
       "url          0\n",
       "dtype: int64"
      ]
     },
     "execution_count": 22,
     "metadata": {},
     "output_type": "execute_result"
    }
   ],
   "source": [
    "Himalaya_Tweets_Data.isnull().sum()"
   ]
  },
  {
   "cell_type": "code",
   "execution_count": 23,
   "id": "99f65be2",
   "metadata": {
    "ExecuteTime": {
     "end_time": "2023-02-19T20:39:39.777575Z",
     "start_time": "2023-02-19T20:39:39.760577Z"
    },
    "cell_style": "split",
    "hidden": true
   },
   "outputs": [
    {
     "data": {
      "text/plain": [
       "date          0\n",
       "content       0\n",
       "username      0\n",
       "likes         0\n",
       "views         0\n",
       "hashtags    105\n",
       "url           0\n",
       "dtype: int64"
      ]
     },
     "execution_count": 23,
     "metadata": {},
     "output_type": "execute_result"
    }
   ],
   "source": [
    "Tweets_Data_from_Search.isnull().sum()"
   ]
  },
  {
   "cell_type": "code",
   "execution_count": 24,
   "id": "1331c0b3",
   "metadata": {
    "ExecuteTime": {
     "end_time": "2023-02-19T20:39:40.044631Z",
     "start_time": "2023-02-19T20:39:40.025056Z"
    },
    "cell_style": "split",
    "hidden": true
   },
   "outputs": [
    {
     "data": {
      "text/plain": [
       "title           0\n",
       "price           3\n",
       "description    25\n",
       "url             0\n",
       "dtype: int64"
      ]
     },
     "execution_count": 24,
     "metadata": {},
     "output_type": "execute_result"
    }
   ],
   "source": [
    "Himalaya_Wellness_Site_Products_Data.isnull().sum()"
   ]
  },
  {
   "cell_type": "code",
   "execution_count": 25,
   "id": "5d1a6b25",
   "metadata": {
    "ExecuteTime": {
     "end_time": "2023-02-19T20:39:40.292622Z",
     "start_time": "2023-02-19T20:39:40.269746Z"
    },
    "cell_style": "split",
    "hidden": true
   },
   "outputs": [
    {
     "data": {
      "text/plain": [
       "name                 0\n",
       "posting_timestamp    0\n",
       "content              0\n",
       "url                  0\n",
       "dtype: int64"
      ]
     },
     "execution_count": 25,
     "metadata": {},
     "output_type": "execute_result"
    }
   ],
   "source": [
    "Himalaya_Wellness_Site_Blog_Data.isnull().sum()"
   ]
  },
  {
   "cell_type": "code",
   "execution_count": 26,
   "id": "4efc1096",
   "metadata": {
    "ExecuteTime": {
     "end_time": "2023-02-19T20:39:40.527606Z",
     "start_time": "2023-02-19T20:39:40.510571Z"
    },
    "cell_style": "split",
    "hidden": true
   },
   "outputs": [
    {
     "data": {
      "text/plain": [
       "posted_by    1\n",
       "content      3\n",
       "likes        3\n",
       "dtype: int64"
      ]
     },
     "execution_count": 26,
     "metadata": {},
     "output_type": "execute_result"
    }
   ],
   "source": [
    "Facebook_Post_Data.isnull().sum()"
   ]
  },
  {
   "cell_type": "code",
   "execution_count": 27,
   "id": "2148b6ed",
   "metadata": {
    "ExecuteTime": {
     "end_time": "2023-02-19T20:39:40.762338Z",
     "start_time": "2023-02-19T20:39:40.746570Z"
    },
    "cell_style": "split",
    "hidden": true
   },
   "outputs": [
    {
     "data": {
      "text/plain": [
       "link           0\n",
       "title          0\n",
       "duration       0\n",
       "views          0\n",
       "description    0\n",
       "upload_date    0\n",
       "category       0\n",
       "dtype: int64"
      ]
     },
     "execution_count": 27,
     "metadata": {},
     "output_type": "execute_result"
    }
   ],
   "source": [
    "Himalaya_Youtube_Video_Data.isnull().sum()"
   ]
  },
  {
   "cell_type": "code",
   "execution_count": 28,
   "id": "9e932b67",
   "metadata": {
    "ExecuteTime": {
     "end_time": "2023-02-19T20:39:40.964630Z",
     "start_time": "2023-02-19T20:39:40.952570Z"
    },
    "cell_style": "split",
    "hidden": true
   },
   "outputs": [
    {
     "data": {
      "text/plain": [
       "link           0\n",
       "title          0\n",
       "duration       0\n",
       "views          0\n",
       "description    7\n",
       "upload_date    0\n",
       "category       0\n",
       "dtype: int64"
      ]
     },
     "execution_count": 28,
     "metadata": {},
     "output_type": "execute_result"
    }
   ],
   "source": [
    "Himalaya_Youtube_Video_Search_Data.isnull().sum()"
   ]
  },
  {
   "cell_type": "code",
   "execution_count": 29,
   "id": "470c397d",
   "metadata": {
    "ExecuteTime": {
     "end_time": "2023-02-19T20:39:41.197726Z",
     "start_time": "2023-02-19T20:39:41.181572Z"
    },
    "cell_style": "split",
    "hidden": true
   },
   "outputs": [
    {
     "data": {
      "text/plain": [
       "video_link     0\n",
       "author         0\n",
       "content        0\n",
       "likes         64\n",
       "dtype: int64"
      ]
     },
     "execution_count": 29,
     "metadata": {},
     "output_type": "execute_result"
    }
   ],
   "source": [
    "Youtube_Comments_Data.isnull().sum()"
   ]
  },
  {
   "cell_type": "markdown",
   "id": "af2aface",
   "metadata": {
    "hidden": true
   },
   "source": [
    "#### Handling Null Values in Himalaya_Tweets_Data"
   ]
  },
  {
   "cell_type": "code",
   "execution_count": 30,
   "id": "401573ae",
   "metadata": {
    "ExecuteTime": {
     "end_time": "2023-02-19T20:39:41.635572Z",
     "start_time": "2023-02-19T20:39:41.623570Z"
    },
    "hidden": true
   },
   "outputs": [],
   "source": [
    "Himalaya_Tweets_Data['views'].fillna(Himalaya_Tweets_Data[Himalaya_Tweets_Data['views'].isnull()]['likes'].to_dict(),inplace=True)"
   ]
  },
  {
   "cell_type": "code",
   "execution_count": 31,
   "id": "9e201289",
   "metadata": {
    "ExecuteTime": {
     "end_time": "2023-02-19T20:39:41.884043Z",
     "start_time": "2023-02-19T20:39:41.863570Z"
    },
    "hidden": true
   },
   "outputs": [
    {
     "data": {
      "text/plain": [
       "date         0\n",
       "content      0\n",
       "username     0\n",
       "likes        0\n",
       "views        0\n",
       "hashtags    25\n",
       "url          0\n",
       "dtype: int64"
      ]
     },
     "execution_count": 31,
     "metadata": {},
     "output_type": "execute_result"
    }
   ],
   "source": [
    "Himalaya_Tweets_Data.isnull().sum()"
   ]
  },
  {
   "cell_type": "code",
   "execution_count": 32,
   "id": "40d556fe",
   "metadata": {
    "ExecuteTime": {
     "end_time": "2023-02-19T20:39:42.148616Z",
     "start_time": "2023-02-19T20:39:42.119687Z"
    },
    "hidden": true
   },
   "outputs": [
    {
     "data": {
      "text/html": [
       "<div>\n",
       "<style scoped>\n",
       "    .dataframe tbody tr th:only-of-type {\n",
       "        vertical-align: middle;\n",
       "    }\n",
       "\n",
       "    .dataframe tbody tr th {\n",
       "        vertical-align: top;\n",
       "    }\n",
       "\n",
       "    .dataframe thead th {\n",
       "        text-align: right;\n",
       "    }\n",
       "</style>\n",
       "<table border=\"1\" class=\"dataframe\">\n",
       "  <thead>\n",
       "    <tr style=\"text-align: right;\">\n",
       "      <th></th>\n",
       "      <th>date</th>\n",
       "      <th>content</th>\n",
       "      <th>username</th>\n",
       "      <th>likes</th>\n",
       "      <th>views</th>\n",
       "      <th>hashtags</th>\n",
       "      <th>url</th>\n",
       "    </tr>\n",
       "  </thead>\n",
       "  <tbody>\n",
       "    <tr>\n",
       "      <th>2</th>\n",
       "      <td>2023-01-17</td>\n",
       "      <td>@MKC1_Reddy Hi Reddy, Could you please DM us y...</td>\n",
       "      <td>HimalayaIndia</td>\n",
       "      <td>0</td>\n",
       "      <td>29.0</td>\n",
       "      <td>NaN</td>\n",
       "      <td>https://twitter.com/HimalayaIndia/status/16152...</td>\n",
       "    </tr>\n",
       "    <tr>\n",
       "      <th>5</th>\n",
       "      <td>2023-01-02</td>\n",
       "      <td>@kishnpalchauhan Your experience is a priority...</td>\n",
       "      <td>HimalayaIndia</td>\n",
       "      <td>0</td>\n",
       "      <td>46.0</td>\n",
       "      <td>NaN</td>\n",
       "      <td>https://twitter.com/HimalayaIndia/status/16098...</td>\n",
       "    </tr>\n",
       "    <tr>\n",
       "      <th>7</th>\n",
       "      <td>2022-12-27</td>\n",
       "      <td>@rlokeshrao @CDSCO_INDIA_INF Hi Lokesh, we alw...</td>\n",
       "      <td>HimalayaIndia</td>\n",
       "      <td>0</td>\n",
       "      <td>49.0</td>\n",
       "      <td>NaN</td>\n",
       "      <td>https://twitter.com/HimalayaIndia/status/16075...</td>\n",
       "    </tr>\n",
       "    <tr>\n",
       "      <th>12</th>\n",
       "      <td>2022-11-23</td>\n",
       "      <td>@DeshBhaktReva Please refer to our official st...</td>\n",
       "      <td>HimalayaIndia</td>\n",
       "      <td>3</td>\n",
       "      <td>3.0</td>\n",
       "      <td>NaN</td>\n",
       "      <td>https://twitter.com/HimalayaIndia/status/15952...</td>\n",
       "    </tr>\n",
       "    <tr>\n",
       "      <th>22</th>\n",
       "      <td>2022-10-09</td>\n",
       "      <td>@GA_Pansare Please refer to our official state...</td>\n",
       "      <td>HimalayaIndia</td>\n",
       "      <td>0</td>\n",
       "      <td>0.0</td>\n",
       "      <td>NaN</td>\n",
       "      <td>https://twitter.com/HimalayaIndia/status/15791...</td>\n",
       "    </tr>\n",
       "    <tr>\n",
       "      <th>23</th>\n",
       "      <td>2022-10-09</td>\n",
       "      <td>@Sunita1093 Please refer to our official state...</td>\n",
       "      <td>HimalayaIndia</td>\n",
       "      <td>0</td>\n",
       "      <td>0.0</td>\n",
       "      <td>NaN</td>\n",
       "      <td>https://twitter.com/HimalayaIndia/status/15791...</td>\n",
       "    </tr>\n",
       "    <tr>\n",
       "      <th>24</th>\n",
       "      <td>2022-10-09</td>\n",
       "      <td>@Jagdish_189 Please refer to our official stat...</td>\n",
       "      <td>HimalayaIndia</td>\n",
       "      <td>0</td>\n",
       "      <td>0.0</td>\n",
       "      <td>NaN</td>\n",
       "      <td>https://twitter.com/HimalayaIndia/status/15791...</td>\n",
       "    </tr>\n",
       "    <tr>\n",
       "      <th>26</th>\n",
       "      <td>2022-10-06</td>\n",
       "      <td>@SharadG07211098 Hi Sharad! Please be assured ...</td>\n",
       "      <td>HimalayaIndia</td>\n",
       "      <td>0</td>\n",
       "      <td>0.0</td>\n",
       "      <td>NaN</td>\n",
       "      <td>https://twitter.com/HimalayaIndia/status/15778...</td>\n",
       "    </tr>\n",
       "    <tr>\n",
       "      <th>29</th>\n",
       "      <td>2022-09-22</td>\n",
       "      <td>@NVishist17 Hi Nikhil, Please write to us at c...</td>\n",
       "      <td>HimalayaIndia</td>\n",
       "      <td>0</td>\n",
       "      <td>0.0</td>\n",
       "      <td>NaN</td>\n",
       "      <td>https://twitter.com/HimalayaIndia/status/15728...</td>\n",
       "    </tr>\n",
       "    <tr>\n",
       "      <th>33</th>\n",
       "      <td>2022-09-05</td>\n",
       "      <td>@ivnsraju65 Hi Raju, Please refer to our offic...</td>\n",
       "      <td>HimalayaIndia</td>\n",
       "      <td>0</td>\n",
       "      <td>0.0</td>\n",
       "      <td>NaN</td>\n",
       "      <td>https://twitter.com/HimalayaIndia/status/15667...</td>\n",
       "    </tr>\n",
       "    <tr>\n",
       "      <th>35</th>\n",
       "      <td>2022-09-02</td>\n",
       "      <td>@rahulbiddappa Hi Rahul, Please refer to our o...</td>\n",
       "      <td>HimalayaIndia</td>\n",
       "      <td>0</td>\n",
       "      <td>0.0</td>\n",
       "      <td>NaN</td>\n",
       "      <td>https://twitter.com/HimalayaIndia/status/15655...</td>\n",
       "    </tr>\n",
       "    <tr>\n",
       "      <th>36</th>\n",
       "      <td>2022-09-02</td>\n",
       "      <td>@Kala_ET Hi Vijay, Please refer to our officia...</td>\n",
       "      <td>HimalayaIndia</td>\n",
       "      <td>0</td>\n",
       "      <td>0.0</td>\n",
       "      <td>NaN</td>\n",
       "      <td>https://twitter.com/HimalayaIndia/status/15655...</td>\n",
       "    </tr>\n",
       "    <tr>\n",
       "      <th>37</th>\n",
       "      <td>2022-09-02</td>\n",
       "      <td>@mentorpreneur Hi Sanjiv, Please refer to our ...</td>\n",
       "      <td>HimalayaIndia</td>\n",
       "      <td>0</td>\n",
       "      <td>0.0</td>\n",
       "      <td>NaN</td>\n",
       "      <td>https://twitter.com/HimalayaIndia/status/15655...</td>\n",
       "    </tr>\n",
       "    <tr>\n",
       "      <th>38</th>\n",
       "      <td>2022-09-02</td>\n",
       "      <td>@farah_midhat Hi Midhat, Please refer to our o...</td>\n",
       "      <td>HimalayaIndia</td>\n",
       "      <td>0</td>\n",
       "      <td>0.0</td>\n",
       "      <td>NaN</td>\n",
       "      <td>https://twitter.com/HimalayaIndia/status/15655...</td>\n",
       "    </tr>\n",
       "    <tr>\n",
       "      <th>50</th>\n",
       "      <td>2022-07-27</td>\n",
       "      <td>@Word_wielder We understand your concern, Ferg...</td>\n",
       "      <td>HimalayaIndia</td>\n",
       "      <td>0</td>\n",
       "      <td>0.0</td>\n",
       "      <td>NaN</td>\n",
       "      <td>https://twitter.com/HimalayaIndia/status/15522...</td>\n",
       "    </tr>\n",
       "    <tr>\n",
       "      <th>71</th>\n",
       "      <td>2022-06-03</td>\n",
       "      <td>RT @INDIACSR: Sustainability: Himalaya’s commi...</td>\n",
       "      <td>HimalayaIndia</td>\n",
       "      <td>0</td>\n",
       "      <td>0.0</td>\n",
       "      <td>NaN</td>\n",
       "      <td>https://twitter.com/HimalayaIndia/status/15325...</td>\n",
       "    </tr>\n",
       "    <tr>\n",
       "      <th>72</th>\n",
       "      <td>2022-06-02</td>\n",
       "      <td>@iPriyaSinha This is not the experience we wan...</td>\n",
       "      <td>HimalayaIndia</td>\n",
       "      <td>3</td>\n",
       "      <td>3.0</td>\n",
       "      <td>NaN</td>\n",
       "      <td>https://twitter.com/HimalayaIndia/status/15323...</td>\n",
       "    </tr>\n",
       "    <tr>\n",
       "      <th>75</th>\n",
       "      <td>2022-05-13</td>\n",
       "      <td>RT @LogicalIndians: The earth is experiencing ...</td>\n",
       "      <td>HimalayaIndia</td>\n",
       "      <td>0</td>\n",
       "      <td>0.0</td>\n",
       "      <td>NaN</td>\n",
       "      <td>https://twitter.com/HimalayaIndia/status/15249...</td>\n",
       "    </tr>\n",
       "    <tr>\n",
       "      <th>77</th>\n",
       "      <td>2022-05-06</td>\n",
       "      <td>\"Taking proper care of a newborn helps minimiz...</td>\n",
       "      <td>HimalayaIndia</td>\n",
       "      <td>5</td>\n",
       "      <td>5.0</td>\n",
       "      <td>NaN</td>\n",
       "      <td>https://twitter.com/HimalayaIndia/status/15224...</td>\n",
       "    </tr>\n",
       "    <tr>\n",
       "      <th>81</th>\n",
       "      <td>2022-04-18</td>\n",
       "      <td>@nanditaasn @FDA @US_FDA @IndianStandards @ash...</td>\n",
       "      <td>HimalayaIndia</td>\n",
       "      <td>0</td>\n",
       "      <td>0.0</td>\n",
       "      <td>NaN</td>\n",
       "      <td>https://twitter.com/HimalayaIndia/status/15158...</td>\n",
       "    </tr>\n",
       "    <tr>\n",
       "      <th>83</th>\n",
       "      <td>2022-04-12</td>\n",
       "      <td>@Strange16179431 Hi! Please share your contact...</td>\n",
       "      <td>HimalayaIndia</td>\n",
       "      <td>1</td>\n",
       "      <td>1.0</td>\n",
       "      <td>NaN</td>\n",
       "      <td>https://twitter.com/HimalayaIndia/status/15137...</td>\n",
       "    </tr>\n",
       "    <tr>\n",
       "      <th>88</th>\n",
       "      <td>2022-04-01</td>\n",
       "      <td>@TheAtulMishra Please refer to our official st...</td>\n",
       "      <td>HimalayaIndia</td>\n",
       "      <td>4</td>\n",
       "      <td>4.0</td>\n",
       "      <td>NaN</td>\n",
       "      <td>https://twitter.com/HimalayaIndia/status/15098...</td>\n",
       "    </tr>\n",
       "    <tr>\n",
       "      <th>90</th>\n",
       "      <td>2022-04-01</td>\n",
       "      <td>https://t.co/9iCRhuQUbc</td>\n",
       "      <td>HimalayaIndia</td>\n",
       "      <td>6653</td>\n",
       "      <td>6653.0</td>\n",
       "      <td>NaN</td>\n",
       "      <td>https://twitter.com/HimalayaIndia/status/15097...</td>\n",
       "    </tr>\n",
       "    <tr>\n",
       "      <th>97</th>\n",
       "      <td>2022-03-22</td>\n",
       "      <td>@Thanush34343418 Hi Shree, please share your c...</td>\n",
       "      <td>HimalayaIndia</td>\n",
       "      <td>1</td>\n",
       "      <td>1.0</td>\n",
       "      <td>NaN</td>\n",
       "      <td>https://twitter.com/HimalayaIndia/status/15061...</td>\n",
       "    </tr>\n",
       "    <tr>\n",
       "      <th>98</th>\n",
       "      <td>2022-03-21</td>\n",
       "      <td>@hardik_rathod This does not sound right, Hard...</td>\n",
       "      <td>HimalayaIndia</td>\n",
       "      <td>0</td>\n",
       "      <td>0.0</td>\n",
       "      <td>NaN</td>\n",
       "      <td>https://twitter.com/HimalayaIndia/status/15057...</td>\n",
       "    </tr>\n",
       "  </tbody>\n",
       "</table>\n",
       "</div>"
      ],
      "text/plain": [
       "          date                                            content  \\\n",
       "2   2023-01-17  @MKC1_Reddy Hi Reddy, Could you please DM us y...   \n",
       "5   2023-01-02  @kishnpalchauhan Your experience is a priority...   \n",
       "7   2022-12-27  @rlokeshrao @CDSCO_INDIA_INF Hi Lokesh, we alw...   \n",
       "12  2022-11-23  @DeshBhaktReva Please refer to our official st...   \n",
       "22  2022-10-09  @GA_Pansare Please refer to our official state...   \n",
       "23  2022-10-09  @Sunita1093 Please refer to our official state...   \n",
       "24  2022-10-09  @Jagdish_189 Please refer to our official stat...   \n",
       "26  2022-10-06  @SharadG07211098 Hi Sharad! Please be assured ...   \n",
       "29  2022-09-22  @NVishist17 Hi Nikhil, Please write to us at c...   \n",
       "33  2022-09-05  @ivnsraju65 Hi Raju, Please refer to our offic...   \n",
       "35  2022-09-02  @rahulbiddappa Hi Rahul, Please refer to our o...   \n",
       "36  2022-09-02  @Kala_ET Hi Vijay, Please refer to our officia...   \n",
       "37  2022-09-02  @mentorpreneur Hi Sanjiv, Please refer to our ...   \n",
       "38  2022-09-02  @farah_midhat Hi Midhat, Please refer to our o...   \n",
       "50  2022-07-27  @Word_wielder We understand your concern, Ferg...   \n",
       "71  2022-06-03  RT @INDIACSR: Sustainability: Himalaya’s commi...   \n",
       "72  2022-06-02  @iPriyaSinha This is not the experience we wan...   \n",
       "75  2022-05-13  RT @LogicalIndians: The earth is experiencing ...   \n",
       "77  2022-05-06  \"Taking proper care of a newborn helps minimiz...   \n",
       "81  2022-04-18  @nanditaasn @FDA @US_FDA @IndianStandards @ash...   \n",
       "83  2022-04-12  @Strange16179431 Hi! Please share your contact...   \n",
       "88  2022-04-01  @TheAtulMishra Please refer to our official st...   \n",
       "90  2022-04-01                            https://t.co/9iCRhuQUbc   \n",
       "97  2022-03-22  @Thanush34343418 Hi Shree, please share your c...   \n",
       "98  2022-03-21  @hardik_rathod This does not sound right, Hard...   \n",
       "\n",
       "         username  likes   views hashtags  \\\n",
       "2   HimalayaIndia      0    29.0      NaN   \n",
       "5   HimalayaIndia      0    46.0      NaN   \n",
       "7   HimalayaIndia      0    49.0      NaN   \n",
       "12  HimalayaIndia      3     3.0      NaN   \n",
       "22  HimalayaIndia      0     0.0      NaN   \n",
       "23  HimalayaIndia      0     0.0      NaN   \n",
       "24  HimalayaIndia      0     0.0      NaN   \n",
       "26  HimalayaIndia      0     0.0      NaN   \n",
       "29  HimalayaIndia      0     0.0      NaN   \n",
       "33  HimalayaIndia      0     0.0      NaN   \n",
       "35  HimalayaIndia      0     0.0      NaN   \n",
       "36  HimalayaIndia      0     0.0      NaN   \n",
       "37  HimalayaIndia      0     0.0      NaN   \n",
       "38  HimalayaIndia      0     0.0      NaN   \n",
       "50  HimalayaIndia      0     0.0      NaN   \n",
       "71  HimalayaIndia      0     0.0      NaN   \n",
       "72  HimalayaIndia      3     3.0      NaN   \n",
       "75  HimalayaIndia      0     0.0      NaN   \n",
       "77  HimalayaIndia      5     5.0      NaN   \n",
       "81  HimalayaIndia      0     0.0      NaN   \n",
       "83  HimalayaIndia      1     1.0      NaN   \n",
       "88  HimalayaIndia      4     4.0      NaN   \n",
       "90  HimalayaIndia   6653  6653.0      NaN   \n",
       "97  HimalayaIndia      1     1.0      NaN   \n",
       "98  HimalayaIndia      0     0.0      NaN   \n",
       "\n",
       "                                                  url  \n",
       "2   https://twitter.com/HimalayaIndia/status/16152...  \n",
       "5   https://twitter.com/HimalayaIndia/status/16098...  \n",
       "7   https://twitter.com/HimalayaIndia/status/16075...  \n",
       "12  https://twitter.com/HimalayaIndia/status/15952...  \n",
       "22  https://twitter.com/HimalayaIndia/status/15791...  \n",
       "23  https://twitter.com/HimalayaIndia/status/15791...  \n",
       "24  https://twitter.com/HimalayaIndia/status/15791...  \n",
       "26  https://twitter.com/HimalayaIndia/status/15778...  \n",
       "29  https://twitter.com/HimalayaIndia/status/15728...  \n",
       "33  https://twitter.com/HimalayaIndia/status/15667...  \n",
       "35  https://twitter.com/HimalayaIndia/status/15655...  \n",
       "36  https://twitter.com/HimalayaIndia/status/15655...  \n",
       "37  https://twitter.com/HimalayaIndia/status/15655...  \n",
       "38  https://twitter.com/HimalayaIndia/status/15655...  \n",
       "50  https://twitter.com/HimalayaIndia/status/15522...  \n",
       "71  https://twitter.com/HimalayaIndia/status/15325...  \n",
       "72  https://twitter.com/HimalayaIndia/status/15323...  \n",
       "75  https://twitter.com/HimalayaIndia/status/15249...  \n",
       "77  https://twitter.com/HimalayaIndia/status/15224...  \n",
       "81  https://twitter.com/HimalayaIndia/status/15158...  \n",
       "83  https://twitter.com/HimalayaIndia/status/15137...  \n",
       "88  https://twitter.com/HimalayaIndia/status/15098...  \n",
       "90  https://twitter.com/HimalayaIndia/status/15097...  \n",
       "97  https://twitter.com/HimalayaIndia/status/15061...  \n",
       "98  https://twitter.com/HimalayaIndia/status/15057...  "
      ]
     },
     "execution_count": 32,
     "metadata": {},
     "output_type": "execute_result"
    }
   ],
   "source": [
    "Himalaya_Tweets_Data[Himalaya_Tweets_Data['hashtags'].isnull()]"
   ]
  },
  {
   "cell_type": "code",
   "execution_count": 33,
   "id": "3546c801",
   "metadata": {
    "ExecuteTime": {
     "end_time": "2023-02-19T20:39:42.960044Z",
     "start_time": "2023-02-19T20:39:42.939430Z"
    },
    "hidden": true
   },
   "outputs": [],
   "source": [
    "Himalaya_Tweets_Data['hashtags']=Himalaya_Tweets_Data['hashtags'].fillna(\"HimalayaIndia\")"
   ]
  },
  {
   "cell_type": "code",
   "execution_count": 34,
   "id": "ae896565",
   "metadata": {
    "ExecuteTime": {
     "end_time": "2023-02-19T20:39:43.211969Z",
     "start_time": "2023-02-19T20:39:43.199969Z"
    },
    "hidden": true
   },
   "outputs": [
    {
     "data": {
      "text/plain": [
       "date        0\n",
       "content     0\n",
       "username    0\n",
       "likes       0\n",
       "views       0\n",
       "hashtags    0\n",
       "url         0\n",
       "dtype: int64"
      ]
     },
     "execution_count": 34,
     "metadata": {},
     "output_type": "execute_result"
    }
   ],
   "source": [
    "Himalaya_Tweets_Data.isnull().sum()"
   ]
  },
  {
   "cell_type": "markdown",
   "id": "63fb1f15",
   "metadata": {
    "hidden": true
   },
   "source": [
    "#### Handling Null Values in Tweets_Data_from_Search"
   ]
  },
  {
   "cell_type": "code",
   "execution_count": null,
   "id": "f6c2b7a9",
   "metadata": {
    "hidden": true
   },
   "outputs": [],
   "source": []
  },
  {
   "cell_type": "code",
   "execution_count": 35,
   "id": "cc67e75e",
   "metadata": {
    "ExecuteTime": {
     "end_time": "2023-02-19T20:39:43.941234Z",
     "start_time": "2023-02-19T20:39:43.921071Z"
    },
    "hidden": true
   },
   "outputs": [
    {
     "data": {
      "text/plain": [
       "date          0\n",
       "content       0\n",
       "username      0\n",
       "likes         0\n",
       "views         0\n",
       "hashtags    105\n",
       "url           0\n",
       "dtype: int64"
      ]
     },
     "execution_count": 35,
     "metadata": {},
     "output_type": "execute_result"
    }
   ],
   "source": [
    "Tweets_Data_from_Search.isnull().sum()"
   ]
  },
  {
   "cell_type": "code",
   "execution_count": 36,
   "id": "e84eb7dc",
   "metadata": {
    "ExecuteTime": {
     "end_time": "2023-02-19T20:39:44.190722Z",
     "start_time": "2023-02-19T20:39:44.169737Z"
    },
    "hidden": true
   },
   "outputs": [
    {
     "data": {
      "text/plain": [
       "0      @Caudalie\\n@HimalayaIndia \\n@sleepy\\n@babyturc...\n",
       "1      @PTI_News @PypAyurved @HimalayaIndia @DaburInd...\n",
       "5      Why are you using \"Ashvagandha\" instead of \"As...\n",
       "6      @HimalayaIndia \\nSam chaudry weekly ladies ko ...\n",
       "7      @HimalayaIndia ..\\nHii sir ...I m from Mumbai....\n",
       "                             ...                        \n",
       "122    @HimalayaIndia ma świetne pasty bez fluoru, po...\n",
       "123    Dept. of Pharm. Chemistry @McopsM organized it...\n",
       "124    @EduMinOfIndia @HimalayaIndia @dpradhanbjp Res...\n",
       "125    @dhaval351 @Pampers @Flipkart @jagograhakjago ...\n",
       "126    @HimalayaIndia Your Liv 52 tablet contains som...\n",
       "Name: content, Length: 105, dtype: object"
      ]
     },
     "execution_count": 36,
     "metadata": {},
     "output_type": "execute_result"
    }
   ],
   "source": [
    "Tweets_Data_from_Search[Tweets_Data_from_Search['hashtags'].isnull()]['content']"
   ]
  },
  {
   "cell_type": "code",
   "execution_count": 37,
   "id": "32876e40",
   "metadata": {
    "ExecuteTime": {
     "end_time": "2023-02-19T20:39:44.427022Z",
     "start_time": "2023-02-19T20:39:44.419991Z"
    },
    "hidden": true
   },
   "outputs": [],
   "source": [
    "Dictionary_of_Word_Frequency=FreqDist(getWordList(Tweets_Data_from_Search[Tweets_Data_from_Search['hashtags'].isnull()]['content']))"
   ]
  },
  {
   "cell_type": "code",
   "execution_count": 38,
   "id": "c77e888d",
   "metadata": {
    "ExecuteTime": {
     "end_time": "2023-02-19T20:39:44.678240Z",
     "start_time": "2023-02-19T20:39:44.658197Z"
    },
    "hidden": true
   },
   "outputs": [
    {
     "data": {
      "text/plain": [
       "FreqDist({'@HimalayaIndia': 104, 'is': 29, 'and': 19, 'to': 19, 'the': 18, '@theliverdr': 17, 'a': 16, 'of': 15, '@AyurvedaMonk': 15, 'I': 14, ...})"
      ]
     },
     "execution_count": 38,
     "metadata": {},
     "output_type": "execute_result"
    }
   ],
   "source": [
    "Dictionary_of_Word_Frequency"
   ]
  },
  {
   "cell_type": "code",
   "execution_count": 39,
   "id": "2ed881c1",
   "metadata": {
    "ExecuteTime": {
     "end_time": "2023-02-19T20:39:44.963860Z",
     "start_time": "2023-02-19T20:39:44.953807Z"
    },
    "hidden": true
   },
   "outputs": [],
   "source": [
    "Tweets_Data_from_Search['hashtags']=Tweets_Data_from_Search['hashtags'].fillna(\"HimalayaIndia\")"
   ]
  },
  {
   "cell_type": "code",
   "execution_count": 40,
   "id": "556cc089",
   "metadata": {
    "ExecuteTime": {
     "end_time": "2023-02-19T20:39:45.261213Z",
     "start_time": "2023-02-19T20:39:45.249177Z"
    },
    "hidden": true
   },
   "outputs": [
    {
     "data": {
      "text/plain": [
       "date        0\n",
       "content     0\n",
       "username    0\n",
       "likes       0\n",
       "views       0\n",
       "hashtags    0\n",
       "url         0\n",
       "dtype: int64"
      ]
     },
     "execution_count": 40,
     "metadata": {},
     "output_type": "execute_result"
    }
   ],
   "source": [
    "Tweets_Data_from_Search.isnull().sum()"
   ]
  },
  {
   "cell_type": "code",
   "execution_count": null,
   "id": "ae6b8f67",
   "metadata": {
    "hidden": true
   },
   "outputs": [],
   "source": []
  },
  {
   "cell_type": "markdown",
   "id": "922848e2",
   "metadata": {
    "hidden": true,
    "run_control": {
     "marked": true
    }
   },
   "source": [
    "#### Handling Null Values in Himalaya_Wellness_Site_Products_Data"
   ]
  },
  {
   "cell_type": "code",
   "execution_count": 41,
   "id": "3302a7db",
   "metadata": {
    "ExecuteTime": {
     "end_time": "2023-02-19T20:39:46.009422Z",
     "start_time": "2023-02-19T20:39:46.001396Z"
    },
    "hidden": true
   },
   "outputs": [
    {
     "data": {
      "text/plain": [
       "title           0\n",
       "price           3\n",
       "description    25\n",
       "url             0\n",
       "dtype: int64"
      ]
     },
     "execution_count": 41,
     "metadata": {},
     "output_type": "execute_result"
    }
   ],
   "source": [
    "Himalaya_Wellness_Site_Products_Data.isnull().sum()"
   ]
  },
  {
   "cell_type": "code",
   "execution_count": 42,
   "id": "fd89527d",
   "metadata": {
    "ExecuteTime": {
     "end_time": "2023-02-19T20:39:46.264258Z",
     "start_time": "2023-02-19T20:39:46.241432Z"
    },
    "hidden": true
   },
   "outputs": [
    {
     "data": {
      "text/plain": [
       "726    https://himalayawellness.in/collections/all/pr...\n",
       "731    https://himalayawellness.in/collections/all/pr...\n",
       "801    https://himalayawellness.in/collections/all/pr...\n",
       "Name: url, dtype: object"
      ]
     },
     "execution_count": 42,
     "metadata": {},
     "output_type": "execute_result"
    }
   ],
   "source": [
    "Himalaya_Wellness_Site_Products_Data[Himalaya_Wellness_Site_Products_Data['price'].isnull()]['url']"
   ]
  },
  {
   "cell_type": "code",
   "execution_count": 43,
   "id": "e51d3380",
   "metadata": {
    "ExecuteTime": {
     "end_time": "2023-02-19T20:39:46.498401Z",
     "start_time": "2023-02-19T20:39:46.487884Z"
    },
    "hidden": true
   },
   "outputs": [],
   "source": [
    "price_filling_array={\n",
    "    726:230.00,\n",
    "    731:130.00,\n",
    "    801:65.00\n",
    "}"
   ]
  },
  {
   "cell_type": "code",
   "execution_count": 44,
   "id": "fa6bc18c",
   "metadata": {
    "ExecuteTime": {
     "end_time": "2023-02-19T20:39:46.752572Z",
     "start_time": "2023-02-19T20:39:46.737447Z"
    },
    "hidden": true
   },
   "outputs": [],
   "source": [
    "Himalaya_Wellness_Site_Products_Data['price'].fillna(price_filling_array,inplace=True)\n",
    "# = Himalaya_Wellness_Site_Products_Data['price'].fillna(price_filling_array)"
   ]
  },
  {
   "cell_type": "code",
   "execution_count": 45,
   "id": "9b30984d",
   "metadata": {
    "ExecuteTime": {
     "end_time": "2023-02-19T20:39:47.003463Z",
     "start_time": "2023-02-19T20:39:46.991397Z"
    },
    "hidden": true
   },
   "outputs": [],
   "source": [
    "Himalaya_Wellness_Site_Products_Data['price']=Himalaya_Wellness_Site_Products_Data['price'].apply(\n",
    "    lambda x:str(x).split()[-1]\n",
    ")"
   ]
  },
  {
   "cell_type": "code",
   "execution_count": 46,
   "id": "0be97cba",
   "metadata": {
    "ExecuteTime": {
     "end_time": "2023-02-19T20:39:47.243438Z",
     "start_time": "2023-02-19T20:39:47.225400Z"
    },
    "hidden": true
   },
   "outputs": [
    {
     "data": {
      "text/plain": [
       "title           0\n",
       "price           0\n",
       "description    25\n",
       "url             0\n",
       "dtype: int64"
      ]
     },
     "execution_count": 46,
     "metadata": {},
     "output_type": "execute_result"
    }
   ],
   "source": [
    "Himalaya_Wellness_Site_Products_Data.isnull().sum()"
   ]
  },
  {
   "cell_type": "code",
   "execution_count": 47,
   "id": "9b31812e",
   "metadata": {
    "ExecuteTime": {
     "end_time": "2023-02-19T20:39:47.496396Z",
     "start_time": "2023-02-19T20:39:47.482399Z"
    },
    "hidden": true
   },
   "outputs": [],
   "source": [
    "Himalaya_Wellness_Site_Products_Data['description'].fillna(Himalaya_Wellness_Site_Products_Data[Himalaya_Wellness_Site_Products_Data['description'].isnull()]['title'].to_dict(),inplace=True)"
   ]
  },
  {
   "cell_type": "code",
   "execution_count": 48,
   "id": "60a9de11",
   "metadata": {
    "ExecuteTime": {
     "end_time": "2023-02-19T20:39:47.736399Z",
     "start_time": "2023-02-19T20:39:47.725399Z"
    },
    "hidden": true,
    "scrolled": true
   },
   "outputs": [
    {
     "data": {
      "text/plain": [
       "title          0\n",
       "price          0\n",
       "description    0\n",
       "url            0\n",
       "dtype: int64"
      ]
     },
     "execution_count": 48,
     "metadata": {},
     "output_type": "execute_result"
    }
   ],
   "source": [
    "Himalaya_Wellness_Site_Products_Data.isnull().sum()"
   ]
  },
  {
   "cell_type": "code",
   "execution_count": null,
   "id": "598b6af3",
   "metadata": {
    "hidden": true
   },
   "outputs": [],
   "source": []
  },
  {
   "cell_type": "markdown",
   "id": "f8cac74a",
   "metadata": {
    "hidden": true
   },
   "source": [
    "#### Handling Null Values in Himalaya_Wellness_Site_Blog_Data"
   ]
  },
  {
   "cell_type": "code",
   "execution_count": 49,
   "id": "f9b3e41f",
   "metadata": {
    "ExecuteTime": {
     "end_time": "2023-02-19T20:39:48.486908Z",
     "start_time": "2023-02-19T20:39:48.477875Z"
    },
    "hidden": true
   },
   "outputs": [],
   "source": [
    "Himalaya_Wellness_Site_Blog_Data['date']=Himalaya_Wellness_Site_Blog_Data['posting_timestamp'].apply(\n",
    "    lambda x:x.split()[0])"
   ]
  },
  {
   "cell_type": "code",
   "execution_count": 50,
   "id": "ece5986a",
   "metadata": {
    "ExecuteTime": {
     "end_time": "2023-02-19T20:39:48.772917Z",
     "start_time": "2023-02-19T20:39:48.735909Z"
    },
    "hidden": true
   },
   "outputs": [],
   "source": [
    "Himalaya_Wellness_Site_Blog_Data.drop('posting_timestamp',axis=1,inplace=True)"
   ]
  },
  {
   "cell_type": "code",
   "execution_count": null,
   "id": "2b045bc0",
   "metadata": {
    "hidden": true
   },
   "outputs": [],
   "source": []
  },
  {
   "cell_type": "markdown",
   "id": "7eed7d17",
   "metadata": {
    "hidden": true
   },
   "source": [
    "#### Handling Null Values in Facebook_Post_Data"
   ]
  },
  {
   "cell_type": "code",
   "execution_count": 51,
   "id": "320268c4",
   "metadata": {
    "ExecuteTime": {
     "end_time": "2023-02-19T20:39:49.548123Z",
     "start_time": "2023-02-19T20:39:49.537427Z"
    },
    "hidden": true
   },
   "outputs": [],
   "source": [
    "Facebook_Post_Data=Facebook_Post_Data.dropna()"
   ]
  },
  {
   "cell_type": "code",
   "execution_count": 52,
   "id": "dd71fd87",
   "metadata": {
    "ExecuteTime": {
     "end_time": "2023-02-19T20:39:49.787118Z",
     "start_time": "2023-02-19T20:39:49.780119Z"
    },
    "hidden": true
   },
   "outputs": [
    {
     "data": {
      "text/plain": [
       "posted_by    0\n",
       "content      0\n",
       "likes        0\n",
       "dtype: int64"
      ]
     },
     "execution_count": 52,
     "metadata": {},
     "output_type": "execute_result"
    }
   ],
   "source": [
    "Facebook_Post_Data.isnull().sum()"
   ]
  },
  {
   "cell_type": "code",
   "execution_count": null,
   "id": "fdcdef78",
   "metadata": {
    "hidden": true
   },
   "outputs": [],
   "source": []
  },
  {
   "cell_type": "markdown",
   "id": "182a604c",
   "metadata": {
    "hidden": true
   },
   "source": [
    "#### Handling Null Values in Himalaya_Youtube_Video_Search_Data"
   ]
  },
  {
   "cell_type": "code",
   "execution_count": 53,
   "id": "4defde82",
   "metadata": {
    "ExecuteTime": {
     "end_time": "2023-02-19T20:39:50.571698Z",
     "start_time": "2023-02-19T20:39:50.563699Z"
    },
    "hidden": true
   },
   "outputs": [
    {
     "data": {
      "text/plain": [
       "link           0\n",
       "title          0\n",
       "duration       0\n",
       "views          0\n",
       "description    7\n",
       "upload_date    0\n",
       "category       0\n",
       "dtype: int64"
      ]
     },
     "execution_count": 53,
     "metadata": {},
     "output_type": "execute_result"
    }
   ],
   "source": [
    "Himalaya_Youtube_Video_Search_Data.isnull().sum()"
   ]
  },
  {
   "cell_type": "code",
   "execution_count": 54,
   "id": "a3eed2b1",
   "metadata": {
    "ExecuteTime": {
     "end_time": "2023-02-19T20:39:50.858738Z",
     "start_time": "2023-02-19T20:39:50.836698Z"
    },
    "hidden": true
   },
   "outputs": [
    {
     "data": {
      "text/plain": [
       "{8: '#Himalaya face wash..#Himalaya(clarina) anti-acne cream... best product✌',\n",
       " 24: 'Himalaya !! products !!skin care ❤️',\n",
       " 40: 'Nykaa Products Unboxing, Himalaya, Plum Skincare Products Unboxing, Nykaa Makeup Products Unboxing.',\n",
       " 61: '#Himalaya Aloe Vera Face Wash Amazing Product #shorts',\n",
       " 63: 'Himalaya cleansing milk( review) deep pore cleansing product for all type of skin',\n",
       " 96: 'Himalaya skin care product under 150 | Best products in Himalaya |',\n",
       " 163: 'BEST HIMALAYA PRODUCTS FOR OILY SKIN'}"
      ]
     },
     "execution_count": 54,
     "metadata": {},
     "output_type": "execute_result"
    }
   ],
   "source": [
    "Himalaya_Youtube_Video_Search_Data[Himalaya_Youtube_Video_Search_Data['description'].isnull()]['title'].to_dict()"
   ]
  },
  {
   "cell_type": "code",
   "execution_count": 55,
   "id": "cc4cc081",
   "metadata": {
    "ExecuteTime": {
     "end_time": "2023-02-19T20:39:51.173731Z",
     "start_time": "2023-02-19T20:39:51.159729Z"
    },
    "hidden": true
   },
   "outputs": [],
   "source": [
    "Himalaya_Youtube_Video_Search_Data['description'].fillna(\n",
    "Himalaya_Youtube_Video_Search_Data[Himalaya_Youtube_Video_Search_Data['description'].isnull()]['title'].to_dict(),\n",
    "inplace=True\n",
    ")"
   ]
  },
  {
   "cell_type": "code",
   "execution_count": 56,
   "id": "311074ef",
   "metadata": {
    "ExecuteTime": {
     "end_time": "2023-02-19T20:39:51.459657Z",
     "start_time": "2023-02-19T20:39:51.442700Z"
    },
    "hidden": true
   },
   "outputs": [
    {
     "data": {
      "text/plain": [
       "link           0\n",
       "title          0\n",
       "duration       0\n",
       "views          0\n",
       "description    0\n",
       "upload_date    0\n",
       "category       0\n",
       "dtype: int64"
      ]
     },
     "execution_count": 56,
     "metadata": {},
     "output_type": "execute_result"
    }
   ],
   "source": [
    "Himalaya_Youtube_Video_Search_Data.isnull().sum()"
   ]
  },
  {
   "cell_type": "code",
   "execution_count": null,
   "id": "5b8369f0",
   "metadata": {
    "hidden": true
   },
   "outputs": [],
   "source": []
  },
  {
   "cell_type": "markdown",
   "id": "7a1d4dc0",
   "metadata": {
    "hidden": true
   },
   "source": [
    "#### Handling Null Values in Youtube_Comments_Data"
   ]
  },
  {
   "cell_type": "code",
   "execution_count": 57,
   "id": "bb145274",
   "metadata": {
    "ExecuteTime": {
     "end_time": "2023-02-19T20:39:52.232787Z",
     "start_time": "2023-02-19T20:39:52.221747Z"
    },
    "hidden": true
   },
   "outputs": [],
   "source": [
    "Youtube_Comments_Data.fillna(0,inplace=True)"
   ]
  },
  {
   "cell_type": "code",
   "execution_count": 58,
   "id": "cbbc0eba",
   "metadata": {
    "ExecuteTime": {
     "end_time": "2023-02-19T20:39:52.504747Z",
     "start_time": "2023-02-19T20:39:52.493783Z"
    },
    "hidden": true,
    "run_control": {
     "marked": false
    }
   },
   "outputs": [
    {
     "data": {
      "text/plain": [
       "video_link    0\n",
       "author        0\n",
       "content       0\n",
       "likes         0\n",
       "dtype: int64"
      ]
     },
     "execution_count": 58,
     "metadata": {},
     "output_type": "execute_result"
    }
   ],
   "source": [
    "Youtube_Comments_Data.isnull().sum()"
   ]
  },
  {
   "cell_type": "code",
   "execution_count": null,
   "id": "5a75a819",
   "metadata": {
    "hidden": true
   },
   "outputs": [],
   "source": []
  },
  {
   "cell_type": "markdown",
   "id": "067db482",
   "metadata": {
    "hidden": true
   },
   "source": [
    "### Handaling Noisy Data"
   ]
  },
  {
   "cell_type": "code",
   "execution_count": 59,
   "id": "6e737653",
   "metadata": {
    "ExecuteTime": {
     "end_time": "2023-02-19T20:39:54.978940Z",
     "start_time": "2023-02-19T20:39:53.262821Z"
    },
    "hidden": true
   },
   "outputs": [],
   "source": [
    "Himalaya_Tweets_Data['content']=Himalaya_Tweets_Data['content'].apply(lambda x:\" \".join(cleaning_of_sentence(x)))"
   ]
  },
  {
   "cell_type": "code",
   "execution_count": 60,
   "id": "664e77f6",
   "metadata": {
    "ExecuteTime": {
     "end_time": "2023-02-19T20:39:54.994746Z",
     "start_time": "2023-02-19T20:39:54.979773Z"
    },
    "hidden": true
   },
   "outputs": [],
   "source": [
    "Himalaya_Tweets_Data['hashtags']=Himalaya_Tweets_Data['hashtags'].apply(lambda x:\" \".join(cleaning_of_sentence(x)))"
   ]
  },
  {
   "cell_type": "code",
   "execution_count": 61,
   "id": "cbdc0078",
   "metadata": {
    "ExecuteTime": {
     "end_time": "2023-02-19T20:39:55.026788Z",
     "start_time": "2023-02-19T20:39:54.997752Z"
    },
    "hidden": true
   },
   "outputs": [],
   "source": [
    "Tweets_Data_from_Search['content']=Tweets_Data_from_Search['content'].apply(lambda x:\" \".join(cleaning_of_sentence(x)))"
   ]
  },
  {
   "cell_type": "code",
   "execution_count": 62,
   "id": "13b362e0",
   "metadata": {
    "ExecuteTime": {
     "end_time": "2023-02-19T20:39:55.042786Z",
     "start_time": "2023-02-19T20:39:55.030748Z"
    },
    "hidden": true
   },
   "outputs": [],
   "source": [
    "Tweets_Data_from_Search['hashtags']=Tweets_Data_from_Search['hashtags'].apply(lambda x:\" \".join(cleaning_of_sentence(x)))"
   ]
  },
  {
   "cell_type": "code",
   "execution_count": 63,
   "id": "7e4f4f6e",
   "metadata": {
    "ExecuteTime": {
     "end_time": "2023-02-19T20:39:55.090779Z",
     "start_time": "2023-02-19T20:39:55.044748Z"
    },
    "hidden": true
   },
   "outputs": [],
   "source": [
    "Himalaya_Wellness_Site_Products_Data['title']=Himalaya_Wellness_Site_Products_Data['title'].apply(lambda x:\" \".join(cleaning_of_sentence(x)))"
   ]
  },
  {
   "cell_type": "code",
   "execution_count": 64,
   "id": "27a92d8e",
   "metadata": {
    "ExecuteTime": {
     "end_time": "2023-02-19T20:39:55.233747Z",
     "start_time": "2023-02-19T20:39:55.092751Z"
    },
    "hidden": true
   },
   "outputs": [],
   "source": [
    "Himalaya_Wellness_Site_Products_Data['description']=Himalaya_Wellness_Site_Products_Data['description'].apply(lambda x:\" \".join(cleaning_of_sentence(x)))"
   ]
  },
  {
   "cell_type": "code",
   "execution_count": 112,
   "id": "1cd54882",
   "metadata": {
    "ExecuteTime": {
     "end_time": "2023-02-19T20:43:39.980361Z",
     "start_time": "2023-02-19T20:43:39.959400Z"
    },
    "hidden": true
   },
   "outputs": [],
   "source": [
    "Himalaya_Wellness_Site_Products_Data['price']=Himalaya_Wellness_Site_Products_Data['price'].apply(lambda x:float(\"\".join(x.split(\",\"))))"
   ]
  },
  {
   "cell_type": "code",
   "execution_count": 66,
   "id": "692bd2d6",
   "metadata": {
    "ExecuteTime": {
     "end_time": "2023-02-19T20:39:55.264792Z",
     "start_time": "2023-02-19T20:39:55.252750Z"
    },
    "hidden": true
   },
   "outputs": [],
   "source": [
    "Himalaya_Wellness_Site_Blog_Data['name']=Himalaya_Wellness_Site_Blog_Data['name'].apply(lambda x:\" \".join(cleaning_of_sentence(x)))"
   ]
  },
  {
   "cell_type": "code",
   "execution_count": 67,
   "id": "93a4afc8",
   "metadata": {
    "ExecuteTime": {
     "end_time": "2023-02-19T20:39:55.343764Z",
     "start_time": "2023-02-19T20:39:55.320786Z"
    },
    "hidden": true
   },
   "outputs": [],
   "source": [
    "Himalaya_Wellness_Site_Blog_Data['content']=Himalaya_Wellness_Site_Blog_Data['content'].apply(lambda x:\" \".join(cleaning_of_sentence(x)))"
   ]
  },
  {
   "cell_type": "code",
   "execution_count": 68,
   "id": "a2050d11",
   "metadata": {
    "ExecuteTime": {
     "end_time": "2023-02-19T20:39:55.612763Z",
     "start_time": "2023-02-19T20:39:55.593746Z"
    },
    "hidden": true
   },
   "outputs": [],
   "source": [
    "Facebook_Post_Data['posted_by']=Facebook_Post_Data['posted_by'].apply(lambda x:\" \".join(cleaning_of_sentence(x)))"
   ]
  },
  {
   "cell_type": "code",
   "execution_count": 69,
   "id": "d7fc6bff",
   "metadata": {
    "ExecuteTime": {
     "end_time": "2023-02-19T20:39:55.881750Z",
     "start_time": "2023-02-19T20:39:55.854753Z"
    },
    "hidden": true
   },
   "outputs": [],
   "source": [
    "Facebook_Post_Data['content']=Facebook_Post_Data['content'].apply(lambda x:\" \".join(cleaning_of_sentence(x)))"
   ]
  },
  {
   "cell_type": "code",
   "execution_count": null,
   "id": "81fc9235",
   "metadata": {
    "hidden": true
   },
   "outputs": [],
   "source": []
  },
  {
   "cell_type": "code",
   "execution_count": 70,
   "id": "d88a5cf1",
   "metadata": {
    "ExecuteTime": {
     "end_time": "2023-02-19T20:39:56.389523Z",
     "start_time": "2023-02-19T20:39:56.362329Z"
    },
    "hidden": true
   },
   "outputs": [],
   "source": [
    "Himalaya_Youtube_Video_Search_Data['title']=Himalaya_Youtube_Video_Search_Data['title'].apply(lambda x:\" \".join(cleaning_of_sentence(x)))"
   ]
  },
  {
   "cell_type": "code",
   "execution_count": 71,
   "id": "2e08d3a8",
   "metadata": {
    "ExecuteTime": {
     "end_time": "2023-02-19T20:39:56.767501Z",
     "start_time": "2023-02-19T20:39:56.646490Z"
    },
    "hidden": true
   },
   "outputs": [],
   "source": [
    "Himalaya_Youtube_Video_Search_Data['description']=Himalaya_Youtube_Video_Search_Data['description'].apply(lambda x:\" \".join(cleaning_of_sentence(x)))"
   ]
  },
  {
   "cell_type": "code",
   "execution_count": 72,
   "id": "4f157d40",
   "metadata": {
    "ExecuteTime": {
     "end_time": "2023-02-19T20:39:56.927354Z",
     "start_time": "2023-02-19T20:39:56.917320Z"
    },
    "hidden": true
   },
   "outputs": [],
   "source": [
    "Himalaya_Youtube_Video_Search_Data['category']=Himalaya_Youtube_Video_Search_Data['category'].apply(lambda x:\" \".join(cleaning_of_sentence(x)))"
   ]
  },
  {
   "cell_type": "code",
   "execution_count": 73,
   "id": "48569500",
   "metadata": {
    "ExecuteTime": {
     "end_time": "2023-02-19T20:39:57.194890Z",
     "start_time": "2023-02-19T20:39:57.179851Z"
    },
    "hidden": true
   },
   "outputs": [],
   "source": [
    "Himalaya_Youtube_Video_Data['title']=Himalaya_Youtube_Video_Data['title'].apply(lambda x:\" \".join(cleaning_of_sentence(x)))"
   ]
  },
  {
   "cell_type": "code",
   "execution_count": 74,
   "id": "a9afc741",
   "metadata": {
    "ExecuteTime": {
     "end_time": "2023-02-19T20:39:57.482884Z",
     "start_time": "2023-02-19T20:39:57.424847Z"
    },
    "hidden": true
   },
   "outputs": [],
   "source": [
    "Himalaya_Youtube_Video_Data['description']=Himalaya_Youtube_Video_Data['description'].apply(lambda x:\" \".join(cleaning_of_sentence(x)))"
   ]
  },
  {
   "cell_type": "code",
   "execution_count": 75,
   "id": "4749bb75",
   "metadata": {
    "ExecuteTime": {
     "end_time": "2023-02-19T20:39:57.702849Z",
     "start_time": "2023-02-19T20:39:57.692849Z"
    },
    "hidden": true
   },
   "outputs": [],
   "source": [
    "Himalaya_Youtube_Video_Data['category']=Himalaya_Youtube_Video_Data['category'].apply(lambda x:\" \".join(cleaning_of_sentence(x)))"
   ]
  },
  {
   "cell_type": "code",
   "execution_count": 76,
   "id": "e7fba2a6",
   "metadata": {
    "ExecuteTime": {
     "end_time": "2023-02-19T20:39:57.957852Z",
     "start_time": "2023-02-19T20:39:57.939848Z"
    },
    "hidden": true
   },
   "outputs": [],
   "source": [
    "Youtube_Comments_Data['author']=Youtube_Comments_Data['author'].apply(lambda x:\" \".join(cleaning_of_sentence(x)))"
   ]
  },
  {
   "cell_type": "code",
   "execution_count": 77,
   "id": "f5d71a12",
   "metadata": {
    "ExecuteTime": {
     "end_time": "2023-02-19T20:39:58.209882Z",
     "start_time": "2023-02-19T20:39:58.194883Z"
    },
    "hidden": true
   },
   "outputs": [],
   "source": [
    "Youtube_Comments_Data['content']=Youtube_Comments_Data['content'].apply(lambda x:\" \".join(cleaning_of_sentence(x)))"
   ]
  },
  {
   "cell_type": "markdown",
   "id": "25851555",
   "metadata": {
    "hidden": true
   },
   "source": [
    "## 2. Data Reduction"
   ]
  },
  {
   "cell_type": "markdown",
   "id": "59ce5a2c",
   "metadata": {
    "hidden": true
   },
   "source": [
    "### Data Size Reduction"
   ]
  },
  {
   "cell_type": "code",
   "execution_count": 78,
   "id": "d05f87b2",
   "metadata": {
    "ExecuteTime": {
     "end_time": "2023-02-19T20:40:00.688364Z",
     "start_time": "2023-02-19T20:40:00.667328Z"
    },
    "hidden": true
   },
   "outputs": [
    {
     "data": {
      "text/plain": [
       "0"
      ]
     },
     "execution_count": 78,
     "metadata": {},
     "output_type": "execute_result"
    }
   ],
   "source": [
    "sum(Himalaya_Tweets_Data.duplicated())"
   ]
  },
  {
   "cell_type": "code",
   "execution_count": 79,
   "id": "2c2b31bf",
   "metadata": {
    "ExecuteTime": {
     "end_time": "2023-02-19T20:40:01.055327Z",
     "start_time": "2023-02-19T20:40:01.048326Z"
    },
    "hidden": true
   },
   "outputs": [
    {
     "data": {
      "text/plain": [
       "0"
      ]
     },
     "execution_count": 79,
     "metadata": {},
     "output_type": "execute_result"
    }
   ],
   "source": [
    "sum(Tweets_Data_from_Search.duplicated())"
   ]
  },
  {
   "cell_type": "code",
   "execution_count": 80,
   "id": "361aeb21",
   "metadata": {
    "ExecuteTime": {
     "end_time": "2023-02-19T20:40:01.372329Z",
     "start_time": "2023-02-19T20:40:01.355327Z"
    },
    "hidden": true
   },
   "outputs": [
    {
     "data": {
      "text/plain": [
       "468"
      ]
     },
     "execution_count": 80,
     "metadata": {},
     "output_type": "execute_result"
    }
   ],
   "source": [
    "sum(Himalaya_Wellness_Site_Products_Data.duplicated())"
   ]
  },
  {
   "cell_type": "code",
   "execution_count": 81,
   "id": "1f49e53d",
   "metadata": {
    "ExecuteTime": {
     "end_time": "2023-02-19T20:40:01.690326Z",
     "start_time": "2023-02-19T20:40:01.672328Z"
    },
    "hidden": true
   },
   "outputs": [],
   "source": [
    "Himalaya_Wellness_Site_Products_Data.drop_duplicates(inplace=True)"
   ]
  },
  {
   "cell_type": "code",
   "execution_count": 82,
   "id": "891806f8",
   "metadata": {
    "ExecuteTime": {
     "end_time": "2023-02-19T20:40:02.057360Z",
     "start_time": "2023-02-19T20:40:02.040326Z"
    },
    "hidden": true
   },
   "outputs": [
    {
     "data": {
      "text/plain": [
       "0"
      ]
     },
     "execution_count": 82,
     "metadata": {},
     "output_type": "execute_result"
    }
   ],
   "source": [
    "Himalaya_Wellness_Site_Blog_Data.duplicated().sum()"
   ]
  },
  {
   "cell_type": "code",
   "execution_count": 83,
   "id": "86ff252b",
   "metadata": {
    "ExecuteTime": {
     "end_time": "2023-02-19T20:40:02.374610Z",
     "start_time": "2023-02-19T20:40:02.368608Z"
    },
    "hidden": true
   },
   "outputs": [
    {
     "data": {
      "text/plain": [
       "2"
      ]
     },
     "execution_count": 83,
     "metadata": {},
     "output_type": "execute_result"
    }
   ],
   "source": [
    "Facebook_Post_Data.duplicated().sum()"
   ]
  },
  {
   "cell_type": "code",
   "execution_count": 84,
   "id": "1ab0ac3f",
   "metadata": {
    "ExecuteTime": {
     "end_time": "2023-02-19T20:40:02.724780Z",
     "start_time": "2023-02-19T20:40:02.710690Z"
    },
    "hidden": true
   },
   "outputs": [],
   "source": [
    "Facebook_Post_Data.drop_duplicates(inplace=True)"
   ]
  },
  {
   "cell_type": "code",
   "execution_count": 85,
   "id": "329d3a51",
   "metadata": {
    "ExecuteTime": {
     "end_time": "2023-02-19T20:40:03.024746Z",
     "start_time": "2023-02-19T20:40:03.007701Z"
    },
    "hidden": true
   },
   "outputs": [
    {
     "data": {
      "text/plain": [
       "0"
      ]
     },
     "execution_count": 85,
     "metadata": {},
     "output_type": "execute_result"
    }
   ],
   "source": [
    "Himalaya_Youtube_Video_Search_Data.duplicated().sum()"
   ]
  },
  {
   "cell_type": "code",
   "execution_count": 86,
   "id": "d82600a3",
   "metadata": {
    "ExecuteTime": {
     "end_time": "2023-02-19T20:40:03.402723Z",
     "start_time": "2023-02-19T20:40:03.388690Z"
    },
    "hidden": true
   },
   "outputs": [
    {
     "data": {
      "text/plain": [
       "0"
      ]
     },
     "execution_count": 86,
     "metadata": {},
     "output_type": "execute_result"
    }
   ],
   "source": [
    "Himalaya_Youtube_Video_Data.duplicated().sum()"
   ]
  },
  {
   "cell_type": "code",
   "execution_count": 87,
   "id": "84019aa3",
   "metadata": {
    "ExecuteTime": {
     "end_time": "2023-02-19T20:40:04.025865Z",
     "start_time": "2023-02-19T20:40:04.007870Z"
    },
    "hidden": true
   },
   "outputs": [
    {
     "data": {
      "text/plain": [
       "0"
      ]
     },
     "execution_count": 87,
     "metadata": {},
     "output_type": "execute_result"
    }
   ],
   "source": [
    "Youtube_Comments_Data.duplicated().sum()"
   ]
  },
  {
   "cell_type": "markdown",
   "id": "1cf2574e",
   "metadata": {
    "hidden": true
   },
   "source": [
    "## 3. Data Transformation"
   ]
  },
  {
   "cell_type": "markdown",
   "id": "35a64d52",
   "metadata": {
    "hidden": true
   },
   "source": [
    "### 1. Data Attribution"
   ]
  },
  {
   "cell_type": "code",
   "execution_count": 88,
   "id": "b0973fcd",
   "metadata": {
    "ExecuteTime": {
     "end_time": "2023-02-19T20:40:08.597889Z",
     "start_time": "2023-02-19T20:40:08.588886Z"
    },
    "hidden": true
   },
   "outputs": [],
   "source": [
    "Himalaya_Tweets_Data['likes_views_ratio']=getLikePerViews(Himalaya_Tweets_Data['likes'],Himalaya_Tweets_Data['views'])"
   ]
  },
  {
   "cell_type": "code",
   "execution_count": 89,
   "id": "b9b23034",
   "metadata": {
    "ExecuteTime": {
     "end_time": "2023-02-19T20:40:08.944085Z",
     "start_time": "2023-02-19T20:40:08.920085Z"
    },
    "hidden": true
   },
   "outputs": [
    {
     "data": {
      "text/html": [
       "<div>\n",
       "<style scoped>\n",
       "    .dataframe tbody tr th:only-of-type {\n",
       "        vertical-align: middle;\n",
       "    }\n",
       "\n",
       "    .dataframe tbody tr th {\n",
       "        vertical-align: top;\n",
       "    }\n",
       "\n",
       "    .dataframe thead th {\n",
       "        text-align: right;\n",
       "    }\n",
       "</style>\n",
       "<table border=\"1\" class=\"dataframe\">\n",
       "  <thead>\n",
       "    <tr style=\"text-align: right;\">\n",
       "      <th></th>\n",
       "      <th>date</th>\n",
       "      <th>content</th>\n",
       "      <th>username</th>\n",
       "      <th>likes</th>\n",
       "      <th>views</th>\n",
       "      <th>hashtags</th>\n",
       "      <th>url</th>\n",
       "      <th>likes_views_ratio</th>\n",
       "    </tr>\n",
       "  </thead>\n",
       "  <tbody>\n",
       "    <tr>\n",
       "      <th>0</th>\n",
       "      <td>2023-01-25</td>\n",
       "      <td>the himalayawellnesscompany commemorates the s...</td>\n",
       "      <td>HimalayaIndia</td>\n",
       "      <td>13</td>\n",
       "      <td>1052.0</td>\n",
       "      <td>himalayawellnesscompany republicday happyrepub...</td>\n",
       "      <td>https://twitter.com/HimalayaIndia/status/16181...</td>\n",
       "      <td>0.012357</td>\n",
       "    </tr>\n",
       "    <tr>\n",
       "      <th>1</th>\n",
       "      <td>2023-01-23</td>\n",
       "      <td>himalaya new manufacturing facility in tumakur...</td>\n",
       "      <td>HimalayaIndia</td>\n",
       "      <td>20</td>\n",
       "      <td>1284.0</td>\n",
       "      <td>iso safety himalayawellness</td>\n",
       "      <td>https://twitter.com/HimalayaIndia/status/16173...</td>\n",
       "      <td>0.015576</td>\n",
       "    </tr>\n",
       "    <tr>\n",
       "      <th>2</th>\n",
       "      <td>2023-01-17</td>\n",
       "      <td>mkc1 reddy hi reddy could you please dm your c...</td>\n",
       "      <td>HimalayaIndia</td>\n",
       "      <td>0</td>\n",
       "      <td>29.0</td>\n",
       "      <td>himalayaindia</td>\n",
       "      <td>https://twitter.com/HimalayaIndia/status/16152...</td>\n",
       "      <td>0.000000</td>\n",
       "    </tr>\n",
       "    <tr>\n",
       "      <th>3</th>\n",
       "      <td>2023-01-13</td>\n",
       "      <td>let celebrate the onset of warmer day and pros...</td>\n",
       "      <td>HimalayaIndia</td>\n",
       "      <td>3</td>\n",
       "      <td>473.0</td>\n",
       "      <td>himalayawellnesscompany lohri pongal makarsank...</td>\n",
       "      <td>https://twitter.com/HimalayaIndia/status/16138...</td>\n",
       "      <td>0.006342</td>\n",
       "    </tr>\n",
       "    <tr>\n",
       "      <th>4</th>\n",
       "      <td>2023-01-13</td>\n",
       "      <td>himalaya drive initiative to enrich life we ha...</td>\n",
       "      <td>HimalayaIndia</td>\n",
       "      <td>3</td>\n",
       "      <td>679.0</td>\n",
       "      <td>himalaya government school</td>\n",
       "      <td>https://twitter.com/HimalayaIndia/status/16137...</td>\n",
       "      <td>0.004418</td>\n",
       "    </tr>\n",
       "    <tr>\n",
       "      <th>...</th>\n",
       "      <td>...</td>\n",
       "      <td>...</td>\n",
       "      <td>...</td>\n",
       "      <td>...</td>\n",
       "      <td>...</td>\n",
       "      <td>...</td>\n",
       "      <td>...</td>\n",
       "      <td>...</td>\n",
       "    </tr>\n",
       "    <tr>\n",
       "      <th>95</th>\n",
       "      <td>2022-03-24</td>\n",
       "      <td>samarsanatan the social medium post circulated...</td>\n",
       "      <td>HimalayaIndia</td>\n",
       "      <td>0</td>\n",
       "      <td>0.0</td>\n",
       "      <td>himalayawellness fake</td>\n",
       "      <td>https://twitter.com/HimalayaIndia/status/15068...</td>\n",
       "      <td>0.000000</td>\n",
       "    </tr>\n",
       "    <tr>\n",
       "      <th>96</th>\n",
       "      <td>2022-03-22</td>\n",
       "      <td>bhanu the social medium post circulated about ...</td>\n",
       "      <td>HimalayaIndia</td>\n",
       "      <td>1</td>\n",
       "      <td>1.0</td>\n",
       "      <td>himalayawellness fake</td>\n",
       "      <td>https://twitter.com/HimalayaIndia/status/15062...</td>\n",
       "      <td>1.000000</td>\n",
       "    </tr>\n",
       "    <tr>\n",
       "      <th>97</th>\n",
       "      <td>2022-03-22</td>\n",
       "      <td>thanush hi shree please share your contact det...</td>\n",
       "      <td>HimalayaIndia</td>\n",
       "      <td>1</td>\n",
       "      <td>1.0</td>\n",
       "      <td>himalayaindia</td>\n",
       "      <td>https://twitter.com/HimalayaIndia/status/15061...</td>\n",
       "      <td>1.000000</td>\n",
       "    </tr>\n",
       "    <tr>\n",
       "      <th>98</th>\n",
       "      <td>2022-03-21</td>\n",
       "      <td>hardik rathod this doe not sound right hardik ...</td>\n",
       "      <td>HimalayaIndia</td>\n",
       "      <td>0</td>\n",
       "      <td>0.0</td>\n",
       "      <td>himalayaindia</td>\n",
       "      <td>https://twitter.com/HimalayaIndia/status/15057...</td>\n",
       "      <td>0.000000</td>\n",
       "    </tr>\n",
       "    <tr>\n",
       "      <th>99</th>\n",
       "      <td>2022-03-18</td>\n",
       "      <td>we are in conversation with dr guruprasad kv i...</td>\n",
       "      <td>HimalayaIndia</td>\n",
       "      <td>7</td>\n",
       "      <td>7.0</td>\n",
       "      <td>diabetes asia india podcast</td>\n",
       "      <td>https://twitter.com/HimalayaIndia/status/15047...</td>\n",
       "      <td>1.000000</td>\n",
       "    </tr>\n",
       "  </tbody>\n",
       "</table>\n",
       "<p>100 rows × 8 columns</p>\n",
       "</div>"
      ],
      "text/plain": [
       "          date                                            content  \\\n",
       "0   2023-01-25  the himalayawellnesscompany commemorates the s...   \n",
       "1   2023-01-23  himalaya new manufacturing facility in tumakur...   \n",
       "2   2023-01-17  mkc1 reddy hi reddy could you please dm your c...   \n",
       "3   2023-01-13  let celebrate the onset of warmer day and pros...   \n",
       "4   2023-01-13  himalaya drive initiative to enrich life we ha...   \n",
       "..         ...                                                ...   \n",
       "95  2022-03-24  samarsanatan the social medium post circulated...   \n",
       "96  2022-03-22  bhanu the social medium post circulated about ...   \n",
       "97  2022-03-22  thanush hi shree please share your contact det...   \n",
       "98  2022-03-21  hardik rathod this doe not sound right hardik ...   \n",
       "99  2022-03-18  we are in conversation with dr guruprasad kv i...   \n",
       "\n",
       "         username  likes   views  \\\n",
       "0   HimalayaIndia     13  1052.0   \n",
       "1   HimalayaIndia     20  1284.0   \n",
       "2   HimalayaIndia      0    29.0   \n",
       "3   HimalayaIndia      3   473.0   \n",
       "4   HimalayaIndia      3   679.0   \n",
       "..            ...    ...     ...   \n",
       "95  HimalayaIndia      0     0.0   \n",
       "96  HimalayaIndia      1     1.0   \n",
       "97  HimalayaIndia      1     1.0   \n",
       "98  HimalayaIndia      0     0.0   \n",
       "99  HimalayaIndia      7     7.0   \n",
       "\n",
       "                                             hashtags  \\\n",
       "0   himalayawellnesscompany republicday happyrepub...   \n",
       "1                         iso safety himalayawellness   \n",
       "2                                       himalayaindia   \n",
       "3   himalayawellnesscompany lohri pongal makarsank...   \n",
       "4                          himalaya government school   \n",
       "..                                                ...   \n",
       "95                              himalayawellness fake   \n",
       "96                              himalayawellness fake   \n",
       "97                                      himalayaindia   \n",
       "98                                      himalayaindia   \n",
       "99                        diabetes asia india podcast   \n",
       "\n",
       "                                                  url  likes_views_ratio  \n",
       "0   https://twitter.com/HimalayaIndia/status/16181...           0.012357  \n",
       "1   https://twitter.com/HimalayaIndia/status/16173...           0.015576  \n",
       "2   https://twitter.com/HimalayaIndia/status/16152...           0.000000  \n",
       "3   https://twitter.com/HimalayaIndia/status/16138...           0.006342  \n",
       "4   https://twitter.com/HimalayaIndia/status/16137...           0.004418  \n",
       "..                                                ...                ...  \n",
       "95  https://twitter.com/HimalayaIndia/status/15068...           0.000000  \n",
       "96  https://twitter.com/HimalayaIndia/status/15062...           1.000000  \n",
       "97  https://twitter.com/HimalayaIndia/status/15061...           1.000000  \n",
       "98  https://twitter.com/HimalayaIndia/status/15057...           0.000000  \n",
       "99  https://twitter.com/HimalayaIndia/status/15047...           1.000000  \n",
       "\n",
       "[100 rows x 8 columns]"
      ]
     },
     "execution_count": 89,
     "metadata": {},
     "output_type": "execute_result"
    }
   ],
   "source": [
    "Himalaya_Tweets_Data"
   ]
  },
  {
   "cell_type": "code",
   "execution_count": 90,
   "id": "7a6ac677",
   "metadata": {
    "ExecuteTime": {
     "end_time": "2023-02-19T20:40:09.229023Z",
     "start_time": "2023-02-19T20:40:09.218024Z"
    },
    "hidden": true
   },
   "outputs": [],
   "source": [
    "Tweets_Data_from_Search['likes_views_ratio']=getLikePerViews(Tweets_Data_from_Search['likes'],Tweets_Data_from_Search['views'])"
   ]
  },
  {
   "cell_type": "code",
   "execution_count": 91,
   "id": "9fe25c2b",
   "metadata": {
    "ExecuteTime": {
     "end_time": "2023-02-19T20:40:09.624364Z",
     "start_time": "2023-02-19T20:40:09.609333Z"
    },
    "hidden": true
   },
   "outputs": [
    {
     "data": {
      "text/html": [
       "<div>\n",
       "<style scoped>\n",
       "    .dataframe tbody tr th:only-of-type {\n",
       "        vertical-align: middle;\n",
       "    }\n",
       "\n",
       "    .dataframe tbody tr th {\n",
       "        vertical-align: top;\n",
       "    }\n",
       "\n",
       "    .dataframe thead th {\n",
       "        text-align: right;\n",
       "    }\n",
       "</style>\n",
       "<table border=\"1\" class=\"dataframe\">\n",
       "  <thead>\n",
       "    <tr style=\"text-align: right;\">\n",
       "      <th></th>\n",
       "      <th>date</th>\n",
       "      <th>content</th>\n",
       "      <th>username</th>\n",
       "      <th>likes</th>\n",
       "      <th>views</th>\n",
       "      <th>hashtags</th>\n",
       "      <th>url</th>\n",
       "      <th>likes_views_ratio</th>\n",
       "    </tr>\n",
       "  </thead>\n",
       "  <tbody>\n",
       "    <tr>\n",
       "      <th>0</th>\n",
       "      <td>2023-02-12</td>\n",
       "      <td>caudalie himalayaindia sleepy babyturcotr deprem</td>\n",
       "      <td>rabiaerTURKc1</td>\n",
       "      <td>0</td>\n",
       "      <td>61</td>\n",
       "      <td>himalayaindia</td>\n",
       "      <td>https://twitter.com/rabiaerTURKc1/status/16248...</td>\n",
       "      <td>0.000000</td>\n",
       "    </tr>\n",
       "    <tr>\n",
       "      <th>1</th>\n",
       "      <td>2023-02-12</td>\n",
       "      <td>pti news pypayurved himalayaindia daburindia z...</td>\n",
       "      <td>Green_Laalten</td>\n",
       "      <td>0</td>\n",
       "      <td>183</td>\n",
       "      <td>himalayaindia</td>\n",
       "      <td>https://twitter.com/Green_Laalten/status/16245...</td>\n",
       "      <td>0.000000</td>\n",
       "    </tr>\n",
       "    <tr>\n",
       "      <th>2</th>\n",
       "      <td>2023-02-10</td>\n",
       "      <td>please declare these product bhagwantmann cert...</td>\n",
       "      <td>azeemali3119</td>\n",
       "      <td>2</td>\n",
       "      <td>115</td>\n",
       "      <td>punjab ayurveda unani patanjalifoods patanjali...</td>\n",
       "      <td>https://twitter.com/azeemali3119/status/162389...</td>\n",
       "      <td>0.017391</td>\n",
       "    </tr>\n",
       "    <tr>\n",
       "      <th>3</th>\n",
       "      <td>2023-02-08</td>\n",
       "      <td>the price of soap are rising like anything in ...</td>\n",
       "      <td>AmericanLove4u</td>\n",
       "      <td>0</td>\n",
       "      <td>58</td>\n",
       "      <td>soap india ausvsind cricket indvsaus</td>\n",
       "      <td>https://twitter.com/AmericanLove4u/status/1623...</td>\n",
       "      <td>0.000000</td>\n",
       "    </tr>\n",
       "    <tr>\n",
       "      <th>4</th>\n",
       "      <td>2023-02-08</td>\n",
       "      <td>shop himalayaindia herbal product from iherb f...</td>\n",
       "      <td>ayurvedanelly</td>\n",
       "      <td>0</td>\n",
       "      <td>49</td>\n",
       "      <td>india himalaya himalayaindia himalayawellness</td>\n",
       "      <td>https://twitter.com/ayurvedanelly/status/16232...</td>\n",
       "      <td>0.000000</td>\n",
       "    </tr>\n",
       "    <tr>\n",
       "      <th>...</th>\n",
       "      <td>...</td>\n",
       "      <td>...</td>\n",
       "      <td>...</td>\n",
       "      <td>...</td>\n",
       "      <td>...</td>\n",
       "      <td>...</td>\n",
       "      <td>...</td>\n",
       "      <td>...</td>\n",
       "    </tr>\n",
       "    <tr>\n",
       "      <th>122</th>\n",
       "      <td>2023-01-03</td>\n",
       "      <td>himalayaindia ma świetne pasty bez fluoru pole...</td>\n",
       "      <td>severiaan</td>\n",
       "      <td>0</td>\n",
       "      <td>29</td>\n",
       "      <td>himalayaindia</td>\n",
       "      <td>https://twitter.com/severiaan/status/161033390...</td>\n",
       "      <td>0.000000</td>\n",
       "    </tr>\n",
       "    <tr>\n",
       "      <th>123</th>\n",
       "      <td>2023-01-03</td>\n",
       "      <td>dept of pharm chemistry mcopsm organized it se...</td>\n",
       "      <td>McopsM</td>\n",
       "      <td>2</td>\n",
       "      <td>140</td>\n",
       "      <td>himalayaindia</td>\n",
       "      <td>https://twitter.com/McopsM/status/161023740102...</td>\n",
       "      <td>0.014286</td>\n",
       "    </tr>\n",
       "    <tr>\n",
       "      <th>124</th>\n",
       "      <td>2023-01-03</td>\n",
       "      <td>eduminofindia himalayaindia dpradhanbjp respec...</td>\n",
       "      <td>HemanthSharma11</td>\n",
       "      <td>0</td>\n",
       "      <td>47</td>\n",
       "      <td>himalayaindia</td>\n",
       "      <td>https://twitter.com/HemanthSharma11/status/161...</td>\n",
       "      <td>0.000000</td>\n",
       "    </tr>\n",
       "    <tr>\n",
       "      <th>125</th>\n",
       "      <td>2023-01-02</td>\n",
       "      <td>dhaval pampers flipkart jagograhakjago huggies...</td>\n",
       "      <td>gourav00111</td>\n",
       "      <td>0</td>\n",
       "      <td>25</td>\n",
       "      <td>himalayaindia</td>\n",
       "      <td>https://twitter.com/gourav00111/status/1609924...</td>\n",
       "      <td>0.000000</td>\n",
       "    </tr>\n",
       "    <tr>\n",
       "      <th>126</th>\n",
       "      <td>2023-01-02</td>\n",
       "      <td>himalayaindia your liv tablet contains some sa...</td>\n",
       "      <td>kishnpalchauhan</td>\n",
       "      <td>0</td>\n",
       "      <td>62</td>\n",
       "      <td>himalayaindia</td>\n",
       "      <td>https://twitter.com/kishnpalchauhan/status/160...</td>\n",
       "      <td>0.000000</td>\n",
       "    </tr>\n",
       "  </tbody>\n",
       "</table>\n",
       "<p>127 rows × 8 columns</p>\n",
       "</div>"
      ],
      "text/plain": [
       "           date                                            content  \\\n",
       "0    2023-02-12   caudalie himalayaindia sleepy babyturcotr deprem   \n",
       "1    2023-02-12  pti news pypayurved himalayaindia daburindia z...   \n",
       "2    2023-02-10  please declare these product bhagwantmann cert...   \n",
       "3    2023-02-08  the price of soap are rising like anything in ...   \n",
       "4    2023-02-08  shop himalayaindia herbal product from iherb f...   \n",
       "..          ...                                                ...   \n",
       "122  2023-01-03  himalayaindia ma świetne pasty bez fluoru pole...   \n",
       "123  2023-01-03  dept of pharm chemistry mcopsm organized it se...   \n",
       "124  2023-01-03  eduminofindia himalayaindia dpradhanbjp respec...   \n",
       "125  2023-01-02  dhaval pampers flipkart jagograhakjago huggies...   \n",
       "126  2023-01-02  himalayaindia your liv tablet contains some sa...   \n",
       "\n",
       "            username  likes  views  \\\n",
       "0      rabiaerTURKc1      0     61   \n",
       "1      Green_Laalten      0    183   \n",
       "2       azeemali3119      2    115   \n",
       "3     AmericanLove4u      0     58   \n",
       "4      ayurvedanelly      0     49   \n",
       "..               ...    ...    ...   \n",
       "122        severiaan      0     29   \n",
       "123           McopsM      2    140   \n",
       "124  HemanthSharma11      0     47   \n",
       "125      gourav00111      0     25   \n",
       "126  kishnpalchauhan      0     62   \n",
       "\n",
       "                                              hashtags  \\\n",
       "0                                        himalayaindia   \n",
       "1                                        himalayaindia   \n",
       "2    punjab ayurveda unani patanjalifoods patanjali...   \n",
       "3                 soap india ausvsind cricket indvsaus   \n",
       "4        india himalaya himalayaindia himalayawellness   \n",
       "..                                                 ...   \n",
       "122                                      himalayaindia   \n",
       "123                                      himalayaindia   \n",
       "124                                      himalayaindia   \n",
       "125                                      himalayaindia   \n",
       "126                                      himalayaindia   \n",
       "\n",
       "                                                   url  likes_views_ratio  \n",
       "0    https://twitter.com/rabiaerTURKc1/status/16248...           0.000000  \n",
       "1    https://twitter.com/Green_Laalten/status/16245...           0.000000  \n",
       "2    https://twitter.com/azeemali3119/status/162389...           0.017391  \n",
       "3    https://twitter.com/AmericanLove4u/status/1623...           0.000000  \n",
       "4    https://twitter.com/ayurvedanelly/status/16232...           0.000000  \n",
       "..                                                 ...                ...  \n",
       "122  https://twitter.com/severiaan/status/161033390...           0.000000  \n",
       "123  https://twitter.com/McopsM/status/161023740102...           0.014286  \n",
       "124  https://twitter.com/HemanthSharma11/status/161...           0.000000  \n",
       "125  https://twitter.com/gourav00111/status/1609924...           0.000000  \n",
       "126  https://twitter.com/kishnpalchauhan/status/160...           0.000000  \n",
       "\n",
       "[127 rows x 8 columns]"
      ]
     },
     "execution_count": 91,
     "metadata": {},
     "output_type": "execute_result"
    }
   ],
   "source": [
    "Tweets_Data_from_Search"
   ]
  },
  {
   "cell_type": "markdown",
   "id": "3a5a18cd",
   "metadata": {
    "executionInfo": {
     "elapsed": 20,
     "status": "ok",
     "timestamp": 1676274913394,
     "user": {
      "displayName": "SHIVKUMAR CHAUHAN",
      "userId": "00181769091967804430"
     },
     "user_tz": -330
    },
    "hidden": true,
    "id": "6F5X2OnirIXg"
   },
   "source": [
    "## 4. Data Integration"
   ]
  },
  {
   "cell_type": "code",
   "execution_count": 92,
   "id": "9b41ecec",
   "metadata": {
    "ExecuteTime": {
     "end_time": "2023-02-19T20:40:10.364952Z",
     "start_time": "2023-02-19T20:40:10.357922Z"
    },
    "hidden": true
   },
   "outputs": [],
   "source": [
    "Whole_Youtube_Video_Data=pandas.concat([Himalaya_Youtube_Video_Data,Himalaya_Youtube_Video_Search_Data]).reset_index(drop=True)"
   ]
  },
  {
   "cell_type": "code",
   "execution_count": 93,
   "id": "QM7dABauxWJr",
   "metadata": {
    "ExecuteTime": {
     "end_time": "2023-02-19T20:40:12.134730Z",
     "start_time": "2023-02-19T20:40:12.113694Z"
    },
    "hidden": true,
    "id": "QM7dABauxWJr"
   },
   "outputs": [
    {
     "data": {
      "text/html": [
       "<div>\n",
       "<style scoped>\n",
       "    .dataframe tbody tr th:only-of-type {\n",
       "        vertical-align: middle;\n",
       "    }\n",
       "\n",
       "    .dataframe tbody tr th {\n",
       "        vertical-align: top;\n",
       "    }\n",
       "\n",
       "    .dataframe thead th {\n",
       "        text-align: right;\n",
       "    }\n",
       "</style>\n",
       "<table border=\"1\" class=\"dataframe\">\n",
       "  <thead>\n",
       "    <tr style=\"text-align: right;\">\n",
       "      <th></th>\n",
       "      <th>link</th>\n",
       "      <th>title</th>\n",
       "      <th>duration</th>\n",
       "      <th>views</th>\n",
       "      <th>description</th>\n",
       "      <th>upload_date</th>\n",
       "      <th>category</th>\n",
       "    </tr>\n",
       "  </thead>\n",
       "  <tbody>\n",
       "    <tr>\n",
       "      <th>0</th>\n",
       "      <td>https://www.youtube.com/watch?v=DAIFzQy3DMs</td>\n",
       "      <td>himalaya youth eternity face sheet mask health...</td>\n",
       "      <td>20</td>\n",
       "      <td>129</td>\n",
       "      <td>himalaya youth eternity face sheet mask are in...</td>\n",
       "      <td>2023-02-17</td>\n",
       "      <td>howto style</td>\n",
       "    </tr>\n",
       "    <tr>\n",
       "      <th>1</th>\n",
       "      <td>https://www.youtube.com/watch?v=vvXGQWoLA7Q</td>\n",
       "      <td>himalaya youth eternity face sheet mask health...</td>\n",
       "      <td>50</td>\n",
       "      <td>191</td>\n",
       "      <td>himalaya youth eternity face sheet mask are in...</td>\n",
       "      <td>2023-02-17</td>\n",
       "      <td>howto style</td>\n",
       "    </tr>\n",
       "    <tr>\n",
       "      <th>2</th>\n",
       "      <td>https://www.youtube.com/watch?v=Et8IRYf_iS0</td>\n",
       "      <td>complete gum care protection</td>\n",
       "      <td>11</td>\n",
       "      <td>47165</td>\n",
       "      <td>give your gum complete natural care with herb ...</td>\n",
       "      <td>2023-01-23</td>\n",
       "      <td>howto style</td>\n",
       "    </tr>\n",
       "    <tr>\n",
       "      <th>3</th>\n",
       "      <td>https://www.youtube.com/watch?v=VogJG0BsbQw</td>\n",
       "      <td>himalaya ayurveda gum care</td>\n",
       "      <td>10</td>\n",
       "      <td>15210</td>\n",
       "      <td>wipe out gum problem with goodness of nature t...</td>\n",
       "      <td>2023-01-23</td>\n",
       "      <td>howto style</td>\n",
       "    </tr>\n",
       "    <tr>\n",
       "      <th>4</th>\n",
       "      <td>https://www.youtube.com/watch?v=RFpxEatO5r0</td>\n",
       "      <td>cure bleeding gum with himalaya ayurveda gum care</td>\n",
       "      <td>10</td>\n",
       "      <td>67714</td>\n",
       "      <td>cure bleeding from the root himalaya ayurveda ...</td>\n",
       "      <td>2023-01-23</td>\n",
       "      <td>howto style</td>\n",
       "    </tr>\n",
       "    <tr>\n",
       "      <th>...</th>\n",
       "      <td>...</td>\n",
       "      <td>...</td>\n",
       "      <td>...</td>\n",
       "      <td>...</td>\n",
       "      <td>...</td>\n",
       "      <td>...</td>\n",
       "      <td>...</td>\n",
       "    </tr>\n",
       "    <tr>\n",
       "      <th>270</th>\n",
       "      <td>https://www.youtube.com/watch?v=KsMFhXFvMxA</td>\n",
       "      <td>himalaya purifying neem face wash kannada</td>\n",
       "      <td>60</td>\n",
       "      <td>188249</td>\n",
       "      <td>himalaya purifying neem face wash is clinicall...</td>\n",
       "      <td>2020-07-03</td>\n",
       "      <td>howto style</td>\n",
       "    </tr>\n",
       "    <tr>\n",
       "      <th>271</th>\n",
       "      <td>https://www.youtube.com/watch?v=wPxJGlblkPs</td>\n",
       "      <td>himalaya purifying neem face wash tamil</td>\n",
       "      <td>60</td>\n",
       "      <td>439263</td>\n",
       "      <td>himalaya purifying neem face wash is clinicall...</td>\n",
       "      <td>2020-07-03</td>\n",
       "      <td>howto style</td>\n",
       "    </tr>\n",
       "    <tr>\n",
       "      <th>272</th>\n",
       "      <td>https://www.youtube.com/watch?v=er86teCnoVw</td>\n",
       "      <td>summer skincare routine under using only himal...</td>\n",
       "      <td>342</td>\n",
       "      <td>596</td>\n",
       "      <td>skincare routine under using only himalya prod...</td>\n",
       "      <td>2020-07-01</td>\n",
       "      <td>howto style</td>\n",
       "    </tr>\n",
       "    <tr>\n",
       "      <th>273</th>\n",
       "      <td>https://www.youtube.com/watch?v=L5T943418Ko</td>\n",
       "      <td>himalaya baby soap and himalaya baby product r...</td>\n",
       "      <td>557</td>\n",
       "      <td>2555</td>\n",
       "      <td>hai friend welcome to my channel today am shar...</td>\n",
       "      <td>2020-06-30</td>\n",
       "      <td>howto style</td>\n",
       "    </tr>\n",
       "    <tr>\n",
       "      <th>274</th>\n",
       "      <td>https://www.youtube.com/watch?v=bALfap2VsH8</td>\n",
       "      <td>himalaya neem face wash review qualitymantra</td>\n",
       "      <td>204</td>\n",
       "      <td>696238</td>\n",
       "      <td>namaskaar dosto is video mein himalaya ke puri...</td>\n",
       "      <td>2020-06-25</td>\n",
       "      <td>howto style</td>\n",
       "    </tr>\n",
       "  </tbody>\n",
       "</table>\n",
       "<p>275 rows × 7 columns</p>\n",
       "</div>"
      ],
      "text/plain": [
       "                                            link  \\\n",
       "0    https://www.youtube.com/watch?v=DAIFzQy3DMs   \n",
       "1    https://www.youtube.com/watch?v=vvXGQWoLA7Q   \n",
       "2    https://www.youtube.com/watch?v=Et8IRYf_iS0   \n",
       "3    https://www.youtube.com/watch?v=VogJG0BsbQw   \n",
       "4    https://www.youtube.com/watch?v=RFpxEatO5r0   \n",
       "..                                           ...   \n",
       "270  https://www.youtube.com/watch?v=KsMFhXFvMxA   \n",
       "271  https://www.youtube.com/watch?v=wPxJGlblkPs   \n",
       "272  https://www.youtube.com/watch?v=er86teCnoVw   \n",
       "273  https://www.youtube.com/watch?v=L5T943418Ko   \n",
       "274  https://www.youtube.com/watch?v=bALfap2VsH8   \n",
       "\n",
       "                                                 title  duration   views  \\\n",
       "0    himalaya youth eternity face sheet mask health...        20     129   \n",
       "1    himalaya youth eternity face sheet mask health...        50     191   \n",
       "2                         complete gum care protection        11   47165   \n",
       "3                           himalaya ayurveda gum care        10   15210   \n",
       "4    cure bleeding gum with himalaya ayurveda gum care        10   67714   \n",
       "..                                                 ...       ...     ...   \n",
       "270          himalaya purifying neem face wash kannada        60  188249   \n",
       "271            himalaya purifying neem face wash tamil        60  439263   \n",
       "272  summer skincare routine under using only himal...       342     596   \n",
       "273  himalaya baby soap and himalaya baby product r...       557    2555   \n",
       "274       himalaya neem face wash review qualitymantra       204  696238   \n",
       "\n",
       "                                           description upload_date  \\\n",
       "0    himalaya youth eternity face sheet mask are in...  2023-02-17   \n",
       "1    himalaya youth eternity face sheet mask are in...  2023-02-17   \n",
       "2    give your gum complete natural care with herb ...  2023-01-23   \n",
       "3    wipe out gum problem with goodness of nature t...  2023-01-23   \n",
       "4    cure bleeding from the root himalaya ayurveda ...  2023-01-23   \n",
       "..                                                 ...         ...   \n",
       "270  himalaya purifying neem face wash is clinicall...  2020-07-03   \n",
       "271  himalaya purifying neem face wash is clinicall...  2020-07-03   \n",
       "272  skincare routine under using only himalya prod...  2020-07-01   \n",
       "273  hai friend welcome to my channel today am shar...  2020-06-30   \n",
       "274  namaskaar dosto is video mein himalaya ke puri...  2020-06-25   \n",
       "\n",
       "        category  \n",
       "0    howto style  \n",
       "1    howto style  \n",
       "2    howto style  \n",
       "3    howto style  \n",
       "4    howto style  \n",
       "..           ...  \n",
       "270  howto style  \n",
       "271  howto style  \n",
       "272  howto style  \n",
       "273  howto style  \n",
       "274  howto style  \n",
       "\n",
       "[275 rows x 7 columns]"
      ]
     },
     "execution_count": 93,
     "metadata": {},
     "output_type": "execute_result"
    }
   ],
   "source": [
    "Whole_Youtube_Video_Data"
   ]
  },
  {
   "cell_type": "code",
   "execution_count": 94,
   "id": "67b1f231",
   "metadata": {
    "ExecuteTime": {
     "end_time": "2023-02-19T20:40:12.528312Z",
     "start_time": "2023-02-19T20:40:12.521302Z"
    },
    "hidden": true
   },
   "outputs": [],
   "source": [
    "Whole_Twitter_Data=pandas.concat([Himalaya_Tweets_Data,Tweets_Data_from_Search],ignore_index=True)"
   ]
  },
  {
   "cell_type": "code",
   "execution_count": 95,
   "id": "2f568477",
   "metadata": {
    "ExecuteTime": {
     "end_time": "2023-02-19T20:40:13.409158Z",
     "start_time": "2023-02-19T20:40:13.390155Z"
    },
    "hidden": true
   },
   "outputs": [
    {
     "data": {
      "text/html": [
       "<div>\n",
       "<style scoped>\n",
       "    .dataframe tbody tr th:only-of-type {\n",
       "        vertical-align: middle;\n",
       "    }\n",
       "\n",
       "    .dataframe tbody tr th {\n",
       "        vertical-align: top;\n",
       "    }\n",
       "\n",
       "    .dataframe thead th {\n",
       "        text-align: right;\n",
       "    }\n",
       "</style>\n",
       "<table border=\"1\" class=\"dataframe\">\n",
       "  <thead>\n",
       "    <tr style=\"text-align: right;\">\n",
       "      <th></th>\n",
       "      <th>date</th>\n",
       "      <th>content</th>\n",
       "      <th>username</th>\n",
       "      <th>likes</th>\n",
       "      <th>views</th>\n",
       "      <th>hashtags</th>\n",
       "      <th>url</th>\n",
       "      <th>likes_views_ratio</th>\n",
       "    </tr>\n",
       "  </thead>\n",
       "  <tbody>\n",
       "    <tr>\n",
       "      <th>0</th>\n",
       "      <td>2023-01-25</td>\n",
       "      <td>the himalayawellnesscompany commemorates the s...</td>\n",
       "      <td>HimalayaIndia</td>\n",
       "      <td>13</td>\n",
       "      <td>1052.0</td>\n",
       "      <td>himalayawellnesscompany republicday happyrepub...</td>\n",
       "      <td>https://twitter.com/HimalayaIndia/status/16181...</td>\n",
       "      <td>0.012357</td>\n",
       "    </tr>\n",
       "    <tr>\n",
       "      <th>1</th>\n",
       "      <td>2023-01-23</td>\n",
       "      <td>himalaya new manufacturing facility in tumakur...</td>\n",
       "      <td>HimalayaIndia</td>\n",
       "      <td>20</td>\n",
       "      <td>1284.0</td>\n",
       "      <td>iso safety himalayawellness</td>\n",
       "      <td>https://twitter.com/HimalayaIndia/status/16173...</td>\n",
       "      <td>0.015576</td>\n",
       "    </tr>\n",
       "    <tr>\n",
       "      <th>2</th>\n",
       "      <td>2023-01-17</td>\n",
       "      <td>mkc1 reddy hi reddy could you please dm your c...</td>\n",
       "      <td>HimalayaIndia</td>\n",
       "      <td>0</td>\n",
       "      <td>29.0</td>\n",
       "      <td>himalayaindia</td>\n",
       "      <td>https://twitter.com/HimalayaIndia/status/16152...</td>\n",
       "      <td>0.000000</td>\n",
       "    </tr>\n",
       "    <tr>\n",
       "      <th>3</th>\n",
       "      <td>2023-01-13</td>\n",
       "      <td>let celebrate the onset of warmer day and pros...</td>\n",
       "      <td>HimalayaIndia</td>\n",
       "      <td>3</td>\n",
       "      <td>473.0</td>\n",
       "      <td>himalayawellnesscompany lohri pongal makarsank...</td>\n",
       "      <td>https://twitter.com/HimalayaIndia/status/16138...</td>\n",
       "      <td>0.006342</td>\n",
       "    </tr>\n",
       "    <tr>\n",
       "      <th>4</th>\n",
       "      <td>2023-01-13</td>\n",
       "      <td>himalaya drive initiative to enrich life we ha...</td>\n",
       "      <td>HimalayaIndia</td>\n",
       "      <td>3</td>\n",
       "      <td>679.0</td>\n",
       "      <td>himalaya government school</td>\n",
       "      <td>https://twitter.com/HimalayaIndia/status/16137...</td>\n",
       "      <td>0.004418</td>\n",
       "    </tr>\n",
       "    <tr>\n",
       "      <th>...</th>\n",
       "      <td>...</td>\n",
       "      <td>...</td>\n",
       "      <td>...</td>\n",
       "      <td>...</td>\n",
       "      <td>...</td>\n",
       "      <td>...</td>\n",
       "      <td>...</td>\n",
       "      <td>...</td>\n",
       "    </tr>\n",
       "    <tr>\n",
       "      <th>222</th>\n",
       "      <td>2023-01-03</td>\n",
       "      <td>himalayaindia ma świetne pasty bez fluoru pole...</td>\n",
       "      <td>severiaan</td>\n",
       "      <td>0</td>\n",
       "      <td>29.0</td>\n",
       "      <td>himalayaindia</td>\n",
       "      <td>https://twitter.com/severiaan/status/161033390...</td>\n",
       "      <td>0.000000</td>\n",
       "    </tr>\n",
       "    <tr>\n",
       "      <th>223</th>\n",
       "      <td>2023-01-03</td>\n",
       "      <td>dept of pharm chemistry mcopsm organized it se...</td>\n",
       "      <td>McopsM</td>\n",
       "      <td>2</td>\n",
       "      <td>140.0</td>\n",
       "      <td>himalayaindia</td>\n",
       "      <td>https://twitter.com/McopsM/status/161023740102...</td>\n",
       "      <td>0.014286</td>\n",
       "    </tr>\n",
       "    <tr>\n",
       "      <th>224</th>\n",
       "      <td>2023-01-03</td>\n",
       "      <td>eduminofindia himalayaindia dpradhanbjp respec...</td>\n",
       "      <td>HemanthSharma11</td>\n",
       "      <td>0</td>\n",
       "      <td>47.0</td>\n",
       "      <td>himalayaindia</td>\n",
       "      <td>https://twitter.com/HemanthSharma11/status/161...</td>\n",
       "      <td>0.000000</td>\n",
       "    </tr>\n",
       "    <tr>\n",
       "      <th>225</th>\n",
       "      <td>2023-01-02</td>\n",
       "      <td>dhaval pampers flipkart jagograhakjago huggies...</td>\n",
       "      <td>gourav00111</td>\n",
       "      <td>0</td>\n",
       "      <td>25.0</td>\n",
       "      <td>himalayaindia</td>\n",
       "      <td>https://twitter.com/gourav00111/status/1609924...</td>\n",
       "      <td>0.000000</td>\n",
       "    </tr>\n",
       "    <tr>\n",
       "      <th>226</th>\n",
       "      <td>2023-01-02</td>\n",
       "      <td>himalayaindia your liv tablet contains some sa...</td>\n",
       "      <td>kishnpalchauhan</td>\n",
       "      <td>0</td>\n",
       "      <td>62.0</td>\n",
       "      <td>himalayaindia</td>\n",
       "      <td>https://twitter.com/kishnpalchauhan/status/160...</td>\n",
       "      <td>0.000000</td>\n",
       "    </tr>\n",
       "  </tbody>\n",
       "</table>\n",
       "<p>227 rows × 8 columns</p>\n",
       "</div>"
      ],
      "text/plain": [
       "           date                                            content  \\\n",
       "0    2023-01-25  the himalayawellnesscompany commemorates the s...   \n",
       "1    2023-01-23  himalaya new manufacturing facility in tumakur...   \n",
       "2    2023-01-17  mkc1 reddy hi reddy could you please dm your c...   \n",
       "3    2023-01-13  let celebrate the onset of warmer day and pros...   \n",
       "4    2023-01-13  himalaya drive initiative to enrich life we ha...   \n",
       "..          ...                                                ...   \n",
       "222  2023-01-03  himalayaindia ma świetne pasty bez fluoru pole...   \n",
       "223  2023-01-03  dept of pharm chemistry mcopsm organized it se...   \n",
       "224  2023-01-03  eduminofindia himalayaindia dpradhanbjp respec...   \n",
       "225  2023-01-02  dhaval pampers flipkart jagograhakjago huggies...   \n",
       "226  2023-01-02  himalayaindia your liv tablet contains some sa...   \n",
       "\n",
       "            username  likes   views  \\\n",
       "0      HimalayaIndia     13  1052.0   \n",
       "1      HimalayaIndia     20  1284.0   \n",
       "2      HimalayaIndia      0    29.0   \n",
       "3      HimalayaIndia      3   473.0   \n",
       "4      HimalayaIndia      3   679.0   \n",
       "..               ...    ...     ...   \n",
       "222        severiaan      0    29.0   \n",
       "223           McopsM      2   140.0   \n",
       "224  HemanthSharma11      0    47.0   \n",
       "225      gourav00111      0    25.0   \n",
       "226  kishnpalchauhan      0    62.0   \n",
       "\n",
       "                                              hashtags  \\\n",
       "0    himalayawellnesscompany republicday happyrepub...   \n",
       "1                          iso safety himalayawellness   \n",
       "2                                        himalayaindia   \n",
       "3    himalayawellnesscompany lohri pongal makarsank...   \n",
       "4                           himalaya government school   \n",
       "..                                                 ...   \n",
       "222                                      himalayaindia   \n",
       "223                                      himalayaindia   \n",
       "224                                      himalayaindia   \n",
       "225                                      himalayaindia   \n",
       "226                                      himalayaindia   \n",
       "\n",
       "                                                   url  likes_views_ratio  \n",
       "0    https://twitter.com/HimalayaIndia/status/16181...           0.012357  \n",
       "1    https://twitter.com/HimalayaIndia/status/16173...           0.015576  \n",
       "2    https://twitter.com/HimalayaIndia/status/16152...           0.000000  \n",
       "3    https://twitter.com/HimalayaIndia/status/16138...           0.006342  \n",
       "4    https://twitter.com/HimalayaIndia/status/16137...           0.004418  \n",
       "..                                                 ...                ...  \n",
       "222  https://twitter.com/severiaan/status/161033390...           0.000000  \n",
       "223  https://twitter.com/McopsM/status/161023740102...           0.014286  \n",
       "224  https://twitter.com/HemanthSharma11/status/161...           0.000000  \n",
       "225  https://twitter.com/gourav00111/status/1609924...           0.000000  \n",
       "226  https://twitter.com/kishnpalchauhan/status/160...           0.000000  \n",
       "\n",
       "[227 rows x 8 columns]"
      ]
     },
     "execution_count": 95,
     "metadata": {},
     "output_type": "execute_result"
    }
   ],
   "source": [
    "Whole_Twitter_Data"
   ]
  },
  {
   "cell_type": "markdown",
   "id": "5970c87c",
   "metadata": {
    "hidden": true,
    "id": "u_RqNKgNxV5p"
   },
   "source": [
    "## 5. Data Filtaration"
   ]
  },
  {
   "cell_type": "code",
   "execution_count": 170,
   "id": "c72d65a9",
   "metadata": {
    "ExecuteTime": {
     "end_time": "2023-02-19T21:12:06.999568Z",
     "start_time": "2023-02-19T21:12:06.982944Z"
    },
    "hidden": true
   },
   "outputs": [
    {
     "data": {
      "text/html": [
       "<div>\n",
       "<style scoped>\n",
       "    .dataframe tbody tr th:only-of-type {\n",
       "        vertical-align: middle;\n",
       "    }\n",
       "\n",
       "    .dataframe tbody tr th {\n",
       "        vertical-align: top;\n",
       "    }\n",
       "\n",
       "    .dataframe thead th {\n",
       "        text-align: right;\n",
       "    }\n",
       "</style>\n",
       "<table border=\"1\" class=\"dataframe\">\n",
       "  <thead>\n",
       "    <tr style=\"text-align: right;\">\n",
       "      <th></th>\n",
       "      <th>date</th>\n",
       "      <th>content</th>\n",
       "      <th>username</th>\n",
       "      <th>likes</th>\n",
       "      <th>views</th>\n",
       "      <th>hashtags</th>\n",
       "      <th>url</th>\n",
       "      <th>likes_views_ratio</th>\n",
       "    </tr>\n",
       "  </thead>\n",
       "  <tbody>\n",
       "    <tr>\n",
       "      <th>0</th>\n",
       "      <td>2023-01-25</td>\n",
       "      <td>the himalayawellnesscompany commemorates the s...</td>\n",
       "      <td>HimalayaIndia</td>\n",
       "      <td>13</td>\n",
       "      <td>1052.0</td>\n",
       "      <td>himalayawellnesscompany republicday happyrepub...</td>\n",
       "      <td>https://twitter.com/HimalayaIndia/status/16181...</td>\n",
       "      <td>0.012357</td>\n",
       "    </tr>\n",
       "    <tr>\n",
       "      <th>1</th>\n",
       "      <td>2023-01-23</td>\n",
       "      <td>himalaya new manufacturing facility in tumakur...</td>\n",
       "      <td>HimalayaIndia</td>\n",
       "      <td>20</td>\n",
       "      <td>1284.0</td>\n",
       "      <td>iso safety himalayawellness</td>\n",
       "      <td>https://twitter.com/HimalayaIndia/status/16173...</td>\n",
       "      <td>0.015576</td>\n",
       "    </tr>\n",
       "    <tr>\n",
       "      <th>3</th>\n",
       "      <td>2023-01-13</td>\n",
       "      <td>let celebrate the onset of warmer day and pros...</td>\n",
       "      <td>HimalayaIndia</td>\n",
       "      <td>3</td>\n",
       "      <td>473.0</td>\n",
       "      <td>himalayawellnesscompany lohri pongal makarsank...</td>\n",
       "      <td>https://twitter.com/HimalayaIndia/status/16138...</td>\n",
       "      <td>0.006342</td>\n",
       "    </tr>\n",
       "    <tr>\n",
       "      <th>4</th>\n",
       "      <td>2023-01-13</td>\n",
       "      <td>himalaya drive initiative to enrich life we ha...</td>\n",
       "      <td>HimalayaIndia</td>\n",
       "      <td>3</td>\n",
       "      <td>679.0</td>\n",
       "      <td>himalaya government school</td>\n",
       "      <td>https://twitter.com/HimalayaIndia/status/16137...</td>\n",
       "      <td>0.004418</td>\n",
       "    </tr>\n",
       "    <tr>\n",
       "      <th>6</th>\n",
       "      <td>2022-12-31</td>\n",
       "      <td>let bid adieu to and enter with new opportunit...</td>\n",
       "      <td>HimalayaIndia</td>\n",
       "      <td>15</td>\n",
       "      <td>852.0</td>\n",
       "      <td>happynewyear</td>\n",
       "      <td>https://twitter.com/HimalayaIndia/status/16090...</td>\n",
       "      <td>0.017606</td>\n",
       "    </tr>\n",
       "  </tbody>\n",
       "</table>\n",
       "</div>"
      ],
      "text/plain": [
       "         date                                            content  \\\n",
       "0  2023-01-25  the himalayawellnesscompany commemorates the s...   \n",
       "1  2023-01-23  himalaya new manufacturing facility in tumakur...   \n",
       "3  2023-01-13  let celebrate the onset of warmer day and pros...   \n",
       "4  2023-01-13  himalaya drive initiative to enrich life we ha...   \n",
       "6  2022-12-31  let bid adieu to and enter with new opportunit...   \n",
       "\n",
       "        username  likes   views  \\\n",
       "0  HimalayaIndia     13  1052.0   \n",
       "1  HimalayaIndia     20  1284.0   \n",
       "3  HimalayaIndia      3   473.0   \n",
       "4  HimalayaIndia      3   679.0   \n",
       "6  HimalayaIndia     15   852.0   \n",
       "\n",
       "                                            hashtags  \\\n",
       "0  himalayawellnesscompany republicday happyrepub...   \n",
       "1                        iso safety himalayawellness   \n",
       "3  himalayawellnesscompany lohri pongal makarsank...   \n",
       "4                         himalaya government school   \n",
       "6                                       happynewyear   \n",
       "\n",
       "                                                 url  likes_views_ratio  \n",
       "0  https://twitter.com/HimalayaIndia/status/16181...           0.012357  \n",
       "1  https://twitter.com/HimalayaIndia/status/16173...           0.015576  \n",
       "3  https://twitter.com/HimalayaIndia/status/16138...           0.006342  \n",
       "4  https://twitter.com/HimalayaIndia/status/16137...           0.004418  \n",
       "6  https://twitter.com/HimalayaIndia/status/16090...           0.017606  "
      ]
     },
     "execution_count": 170,
     "metadata": {},
     "output_type": "execute_result"
    }
   ],
   "source": [
    "Whole_Twitter_Data[Whole_Twitter_Data['views']>Whole_Twitter_Data['views'].mean()].head()"
   ]
  },
  {
   "cell_type": "code",
   "execution_count": 161,
   "id": "c1aa8d84",
   "metadata": {
    "ExecuteTime": {
     "end_time": "2023-02-19T21:09:33.668883Z",
     "start_time": "2023-02-19T21:09:33.641658Z"
    },
    "hidden": true,
    "scrolled": false
   },
   "outputs": [
    {
     "data": {
      "text/html": [
       "<div>\n",
       "<style scoped>\n",
       "    .dataframe tbody tr th:only-of-type {\n",
       "        vertical-align: middle;\n",
       "    }\n",
       "\n",
       "    .dataframe tbody tr th {\n",
       "        vertical-align: top;\n",
       "    }\n",
       "\n",
       "    .dataframe thead th {\n",
       "        text-align: right;\n",
       "    }\n",
       "</style>\n",
       "<table border=\"1\" class=\"dataframe\">\n",
       "  <thead>\n",
       "    <tr style=\"text-align: right;\">\n",
       "      <th></th>\n",
       "      <th>date</th>\n",
       "      <th>content</th>\n",
       "      <th>username</th>\n",
       "      <th>likes</th>\n",
       "      <th>views</th>\n",
       "      <th>hashtags</th>\n",
       "      <th>url</th>\n",
       "      <th>likes_views_ratio</th>\n",
       "    </tr>\n",
       "  </thead>\n",
       "  <tbody>\n",
       "    <tr>\n",
       "      <th>51</th>\n",
       "      <td>2022-07-25</td>\n",
       "      <td>himalayawellness celebrates and honor year of ...</td>\n",
       "      <td>HimalayaIndia</td>\n",
       "      <td>22</td>\n",
       "      <td>22.0</td>\n",
       "      <td>himalayawellness partnership partnersinprogres...</td>\n",
       "      <td>https://twitter.com/HimalayaIndia/status/15514...</td>\n",
       "      <td>1.0</td>\n",
       "    </tr>\n",
       "    <tr>\n",
       "      <th>62</th>\n",
       "      <td>2022-07-04</td>\n",
       "      <td>hindi hun main the social medium post circulat...</td>\n",
       "      <td>HimalayaIndia</td>\n",
       "      <td>1</td>\n",
       "      <td>1.0</td>\n",
       "      <td>himalayawellness fake</td>\n",
       "      <td>https://twitter.com/HimalayaIndia/status/15437...</td>\n",
       "      <td>1.0</td>\n",
       "    </tr>\n",
       "    <tr>\n",
       "      <th>59</th>\n",
       "      <td>2022-07-05</td>\n",
       "      <td>hi this is not authentic and we request you to...</td>\n",
       "      <td>HimalayaIndia</td>\n",
       "      <td>1</td>\n",
       "      <td>1.0</td>\n",
       "      <td>fake</td>\n",
       "      <td>https://twitter.com/HimalayaIndia/status/15442...</td>\n",
       "      <td>1.0</td>\n",
       "    </tr>\n",
       "    <tr>\n",
       "      <th>55</th>\n",
       "      <td>2022-07-18</td>\n",
       "      <td>we have won economictimes sustainable organiza...</td>\n",
       "      <td>HimalayaIndia</td>\n",
       "      <td>28</td>\n",
       "      <td>28.0</td>\n",
       "      <td>sustainability himalayawellness</td>\n",
       "      <td>https://twitter.com/HimalayaIndia/status/15489...</td>\n",
       "      <td>1.0</td>\n",
       "    </tr>\n",
       "    <tr>\n",
       "      <th>54</th>\n",
       "      <td>2022-07-18</td>\n",
       "      <td>mdsarfa hi this is not authentic and we reques...</td>\n",
       "      <td>HimalayaIndia</td>\n",
       "      <td>1</td>\n",
       "      <td>1.0</td>\n",
       "      <td>fake</td>\n",
       "      <td>https://twitter.com/HimalayaIndia/status/15489...</td>\n",
       "      <td>1.0</td>\n",
       "    </tr>\n",
       "    <tr>\n",
       "      <th>52</th>\n",
       "      <td>2022-07-21</td>\n",
       "      <td>himalayawellness introduces partnersinprogress...</td>\n",
       "      <td>HimalayaIndia</td>\n",
       "      <td>22</td>\n",
       "      <td>22.0</td>\n",
       "      <td>himalayawellness partnersinprogress diverse in...</td>\n",
       "      <td>https://twitter.com/HimalayaIndia/status/15500...</td>\n",
       "      <td>1.0</td>\n",
       "    </tr>\n",
       "    <tr>\n",
       "      <th>89</th>\n",
       "      <td>2022-04-01</td>\n",
       "      <td>sirpareshrawal thank you sirpareshrawal we don...</td>\n",
       "      <td>HimalayaIndia</td>\n",
       "      <td>1951</td>\n",
       "      <td>1951.0</td>\n",
       "      <td>himalaya sharmajinamkeen</td>\n",
       "      <td>https://twitter.com/HimalayaIndia/status/15097...</td>\n",
       "      <td>1.0</td>\n",
       "    </tr>\n",
       "    <tr>\n",
       "      <th>49</th>\n",
       "      <td>2022-08-01</td>\n",
       "      <td>crescent packaging ha played key role in our p...</td>\n",
       "      <td>HimalayaIndia</td>\n",
       "      <td>13</td>\n",
       "      <td>13.0</td>\n",
       "      <td>partnersinprogress packaging himalayawellness</td>\n",
       "      <td>https://twitter.com/HimalayaIndia/status/15540...</td>\n",
       "      <td>1.0</td>\n",
       "    </tr>\n",
       "    <tr>\n",
       "      <th>48</th>\n",
       "      <td>2022-08-08</td>\n",
       "      <td>himalaya incredible year of association with p...</td>\n",
       "      <td>HimalayaIndia</td>\n",
       "      <td>19</td>\n",
       "      <td>19.0</td>\n",
       "      <td>partnersinprogress himalayawellness packaging ...</td>\n",
       "      <td>https://twitter.com/HimalayaIndia/status/15565...</td>\n",
       "      <td>1.0</td>\n",
       "    </tr>\n",
       "    <tr>\n",
       "      <th>90</th>\n",
       "      <td>2022-04-01</td>\n",
       "      <td></td>\n",
       "      <td>HimalayaIndia</td>\n",
       "      <td>6653</td>\n",
       "      <td>6653.0</td>\n",
       "      <td>himalayaindia</td>\n",
       "      <td>https://twitter.com/HimalayaIndia/status/15097...</td>\n",
       "      <td>1.0</td>\n",
       "    </tr>\n",
       "  </tbody>\n",
       "</table>\n",
       "</div>"
      ],
      "text/plain": [
       "          date                                            content  \\\n",
       "51  2022-07-25  himalayawellness celebrates and honor year of ...   \n",
       "62  2022-07-04  hindi hun main the social medium post circulat...   \n",
       "59  2022-07-05  hi this is not authentic and we request you to...   \n",
       "55  2022-07-18  we have won economictimes sustainable organiza...   \n",
       "54  2022-07-18  mdsarfa hi this is not authentic and we reques...   \n",
       "52  2022-07-21  himalayawellness introduces partnersinprogress...   \n",
       "89  2022-04-01  sirpareshrawal thank you sirpareshrawal we don...   \n",
       "49  2022-08-01  crescent packaging ha played key role in our p...   \n",
       "48  2022-08-08  himalaya incredible year of association with p...   \n",
       "90  2022-04-01                                                      \n",
       "\n",
       "         username  likes   views  \\\n",
       "51  HimalayaIndia     22    22.0   \n",
       "62  HimalayaIndia      1     1.0   \n",
       "59  HimalayaIndia      1     1.0   \n",
       "55  HimalayaIndia     28    28.0   \n",
       "54  HimalayaIndia      1     1.0   \n",
       "52  HimalayaIndia     22    22.0   \n",
       "89  HimalayaIndia   1951  1951.0   \n",
       "49  HimalayaIndia     13    13.0   \n",
       "48  HimalayaIndia     19    19.0   \n",
       "90  HimalayaIndia   6653  6653.0   \n",
       "\n",
       "                                             hashtags  \\\n",
       "51  himalayawellness partnership partnersinprogres...   \n",
       "62                              himalayawellness fake   \n",
       "59                                               fake   \n",
       "55                    sustainability himalayawellness   \n",
       "54                                               fake   \n",
       "52  himalayawellness partnersinprogress diverse in...   \n",
       "89                           himalaya sharmajinamkeen   \n",
       "49      partnersinprogress packaging himalayawellness   \n",
       "48  partnersinprogress himalayawellness packaging ...   \n",
       "90                                      himalayaindia   \n",
       "\n",
       "                                                  url  likes_views_ratio  \n",
       "51  https://twitter.com/HimalayaIndia/status/15514...                1.0  \n",
       "62  https://twitter.com/HimalayaIndia/status/15437...                1.0  \n",
       "59  https://twitter.com/HimalayaIndia/status/15442...                1.0  \n",
       "55  https://twitter.com/HimalayaIndia/status/15489...                1.0  \n",
       "54  https://twitter.com/HimalayaIndia/status/15489...                1.0  \n",
       "52  https://twitter.com/HimalayaIndia/status/15500...                1.0  \n",
       "89  https://twitter.com/HimalayaIndia/status/15097...                1.0  \n",
       "49  https://twitter.com/HimalayaIndia/status/15540...                1.0  \n",
       "48  https://twitter.com/HimalayaIndia/status/15565...                1.0  \n",
       "90  https://twitter.com/HimalayaIndia/status/15097...                1.0  "
      ]
     },
     "execution_count": 161,
     "metadata": {},
     "output_type": "execute_result"
    }
   ],
   "source": [
    "Whole_Twitter_Data.sort_values(by='likes_views_ratio',ascending=False).head(10)"
   ]
  },
  {
   "cell_type": "code",
   "execution_count": 169,
   "id": "f4fb55e0",
   "metadata": {
    "ExecuteTime": {
     "end_time": "2023-02-19T21:11:38.171912Z",
     "start_time": "2023-02-19T21:11:38.158179Z"
    },
    "hidden": true,
    "scrolled": false
   },
   "outputs": [
    {
     "data": {
      "text/html": [
       "<div>\n",
       "<style scoped>\n",
       "    .dataframe tbody tr th:only-of-type {\n",
       "        vertical-align: middle;\n",
       "    }\n",
       "\n",
       "    .dataframe tbody tr th {\n",
       "        vertical-align: top;\n",
       "    }\n",
       "\n",
       "    .dataframe thead th {\n",
       "        text-align: right;\n",
       "    }\n",
       "</style>\n",
       "<table border=\"1\" class=\"dataframe\">\n",
       "  <thead>\n",
       "    <tr style=\"text-align: right;\">\n",
       "      <th></th>\n",
       "      <th>link</th>\n",
       "      <th>title</th>\n",
       "      <th>duration</th>\n",
       "      <th>views</th>\n",
       "      <th>description</th>\n",
       "      <th>upload_date</th>\n",
       "      <th>category</th>\n",
       "    </tr>\n",
       "  </thead>\n",
       "  <tbody>\n",
       "    <tr>\n",
       "      <th>5</th>\n",
       "      <td>https://www.youtube.com/watch?v=x7U9HMy2sp8</td>\n",
       "      <td>himalaya pain balm strong keep calm use himala...</td>\n",
       "      <td>35</td>\n",
       "      <td>1630051</td>\n",
       "      <td>when you have headache you tend to become head...</td>\n",
       "      <td>2022-11-14</td>\n",
       "      <td>howto style</td>\n",
       "    </tr>\n",
       "    <tr>\n",
       "      <th>6</th>\n",
       "      <td>https://www.youtube.com/watch?v=1qGuali2VUU</td>\n",
       "      <td>himalaya pain balm strong keep calm use himala...</td>\n",
       "      <td>20</td>\n",
       "      <td>1185314</td>\n",
       "      <td>when you have headache you tend to become head...</td>\n",
       "      <td>2022-11-14</td>\n",
       "      <td>howto style</td>\n",
       "    </tr>\n",
       "    <tr>\n",
       "      <th>7</th>\n",
       "      <td>https://www.youtube.com/watch?v=GGqfYoq-mO0</td>\n",
       "      <td>himalaya pain balm strong keep calm use himala...</td>\n",
       "      <td>10</td>\n",
       "      <td>1184439</td>\n",
       "      <td>when you have headache you tend to become head...</td>\n",
       "      <td>2022-11-14</td>\n",
       "      <td>howto style</td>\n",
       "    </tr>\n",
       "    <tr>\n",
       "      <th>4</th>\n",
       "      <td>https://www.youtube.com/watch?v=RFpxEatO5r0</td>\n",
       "      <td>cure bleeding gum with himalaya ayurveda gum care</td>\n",
       "      <td>10</td>\n",
       "      <td>67714</td>\n",
       "      <td>cure bleeding from the root himalaya ayurveda ...</td>\n",
       "      <td>2023-01-23</td>\n",
       "      <td>howto style</td>\n",
       "    </tr>\n",
       "    <tr>\n",
       "      <th>2</th>\n",
       "      <td>https://www.youtube.com/watch?v=Et8IRYf_iS0</td>\n",
       "      <td>complete gum care protection</td>\n",
       "      <td>11</td>\n",
       "      <td>47165</td>\n",
       "      <td>give your gum complete natural care with herb ...</td>\n",
       "      <td>2023-01-23</td>\n",
       "      <td>howto style</td>\n",
       "    </tr>\n",
       "    <tr>\n",
       "      <th>3</th>\n",
       "      <td>https://www.youtube.com/watch?v=VogJG0BsbQw</td>\n",
       "      <td>himalaya ayurveda gum care</td>\n",
       "      <td>10</td>\n",
       "      <td>15210</td>\n",
       "      <td>wipe out gum problem with goodness of nature t...</td>\n",
       "      <td>2023-01-23</td>\n",
       "      <td>howto style</td>\n",
       "    </tr>\n",
       "    <tr>\n",
       "      <th>8</th>\n",
       "      <td>https://www.youtube.com/watch?v=vBgbsIC_AoA</td>\n",
       "      <td>himalaya pain balm strong keep calm use himala...</td>\n",
       "      <td>6</td>\n",
       "      <td>8321</td>\n",
       "      <td>when you have headache you tend to become head...</td>\n",
       "      <td>2022-11-14</td>\n",
       "      <td>howto style</td>\n",
       "    </tr>\n",
       "    <tr>\n",
       "      <th>9</th>\n",
       "      <td>https://www.youtube.com/watch?v=sP-wHgIJ3gs</td>\n",
       "      <td>pimple problem and still using soap now no mor...</td>\n",
       "      <td>15</td>\n",
       "      <td>6519</td>\n",
       "      <td>science say that soap can increase pimple and ...</td>\n",
       "      <td>2022-11-10</td>\n",
       "      <td>howto style</td>\n",
       "    </tr>\n",
       "    <tr>\n",
       "      <th>1</th>\n",
       "      <td>https://www.youtube.com/watch?v=vvXGQWoLA7Q</td>\n",
       "      <td>himalaya youth eternity face sheet mask health...</td>\n",
       "      <td>50</td>\n",
       "      <td>191</td>\n",
       "      <td>himalaya youth eternity face sheet mask are in...</td>\n",
       "      <td>2023-02-17</td>\n",
       "      <td>howto style</td>\n",
       "    </tr>\n",
       "    <tr>\n",
       "      <th>0</th>\n",
       "      <td>https://www.youtube.com/watch?v=DAIFzQy3DMs</td>\n",
       "      <td>himalaya youth eternity face sheet mask health...</td>\n",
       "      <td>20</td>\n",
       "      <td>129</td>\n",
       "      <td>himalaya youth eternity face sheet mask are in...</td>\n",
       "      <td>2023-02-17</td>\n",
       "      <td>howto style</td>\n",
       "    </tr>\n",
       "  </tbody>\n",
       "</table>\n",
       "</div>"
      ],
      "text/plain": [
       "                                          link  \\\n",
       "5  https://www.youtube.com/watch?v=x7U9HMy2sp8   \n",
       "6  https://www.youtube.com/watch?v=1qGuali2VUU   \n",
       "7  https://www.youtube.com/watch?v=GGqfYoq-mO0   \n",
       "4  https://www.youtube.com/watch?v=RFpxEatO5r0   \n",
       "2  https://www.youtube.com/watch?v=Et8IRYf_iS0   \n",
       "3  https://www.youtube.com/watch?v=VogJG0BsbQw   \n",
       "8  https://www.youtube.com/watch?v=vBgbsIC_AoA   \n",
       "9  https://www.youtube.com/watch?v=sP-wHgIJ3gs   \n",
       "1  https://www.youtube.com/watch?v=vvXGQWoLA7Q   \n",
       "0  https://www.youtube.com/watch?v=DAIFzQy3DMs   \n",
       "\n",
       "                                               title  duration    views  \\\n",
       "5  himalaya pain balm strong keep calm use himala...        35  1630051   \n",
       "6  himalaya pain balm strong keep calm use himala...        20  1185314   \n",
       "7  himalaya pain balm strong keep calm use himala...        10  1184439   \n",
       "4  cure bleeding gum with himalaya ayurveda gum care        10    67714   \n",
       "2                       complete gum care protection        11    47165   \n",
       "3                         himalaya ayurveda gum care        10    15210   \n",
       "8  himalaya pain balm strong keep calm use himala...         6     8321   \n",
       "9  pimple problem and still using soap now no mor...        15     6519   \n",
       "1  himalaya youth eternity face sheet mask health...        50      191   \n",
       "0  himalaya youth eternity face sheet mask health...        20      129   \n",
       "\n",
       "                                         description upload_date     category  \n",
       "5  when you have headache you tend to become head...  2022-11-14  howto style  \n",
       "6  when you have headache you tend to become head...  2022-11-14  howto style  \n",
       "7  when you have headache you tend to become head...  2022-11-14  howto style  \n",
       "4  cure bleeding from the root himalaya ayurveda ...  2023-01-23  howto style  \n",
       "2  give your gum complete natural care with herb ...  2023-01-23  howto style  \n",
       "3  wipe out gum problem with goodness of nature t...  2023-01-23  howto style  \n",
       "8  when you have headache you tend to become head...  2022-11-14  howto style  \n",
       "9  science say that soap can increase pimple and ...  2022-11-10  howto style  \n",
       "1  himalaya youth eternity face sheet mask are in...  2023-02-17  howto style  \n",
       "0  himalaya youth eternity face sheet mask are in...  2023-02-17  howto style  "
      ]
     },
     "execution_count": 169,
     "metadata": {},
     "output_type": "execute_result"
    }
   ],
   "source": [
    "Whole_Youtube_Video_Data.head(10).sort_values(by=\"views\",ascending=False)"
   ]
  },
  {
   "cell_type": "code",
   "execution_count": null,
   "id": "c14b6295",
   "metadata": {
    "hidden": true
   },
   "outputs": [],
   "source": []
  },
  {
   "cell_type": "markdown",
   "id": "-T3LZkx51Rs_",
   "metadata": {
    "id": "-T3LZkx51Rs_"
   },
   "source": [
    "# Data Saving on Database"
   ]
  },
  {
   "cell_type": "code",
   "execution_count": 117,
   "id": "648a8aaa",
   "metadata": {
    "ExecuteTime": {
     "end_time": "2023-02-19T20:46:24.773286Z",
     "start_time": "2023-02-19T20:46:24.760256Z"
    }
   },
   "outputs": [],
   "source": [
    "Whole_Twitter_Data.reset_index(drop=True,inplace=True)\n",
    "Whole_Youtube_Video_Data.reset_index(drop=True,inplace=True)\n",
    "Youtube_Comments_Data.reset_index(drop=True,inplace=True)\n",
    "Facebook_Post_Data.reset_index(drop=True,inplace=True)\n",
    "Himalaya_Wellness_Site_Blog_Data.reset_index(drop=True,inplace=True)\n",
    "Himalaya_Wellness_Site_Products_Data.reset_index(drop=True,inplace=True)"
   ]
  },
  {
   "cell_type": "markdown",
   "id": "07745307",
   "metadata": {},
   "source": [
    "## Saving in CSV Files"
   ]
  },
  {
   "cell_type": "code",
   "execution_count": 118,
   "id": "c7832af2",
   "metadata": {
    "ExecuteTime": {
     "end_time": "2023-02-19T20:46:29.207628Z",
     "start_time": "2023-02-19T20:46:29.190511Z"
    }
   },
   "outputs": [],
   "source": [
    "Whole_Twitter_Data.to_csv(\"../Data/Processesed_Data/Whole_Twitter_Data.csv\",index=False)"
   ]
  },
  {
   "cell_type": "code",
   "execution_count": 119,
   "id": "c3e135d7",
   "metadata": {
    "ExecuteTime": {
     "end_time": "2023-02-19T20:46:29.491779Z",
     "start_time": "2023-02-19T20:46:29.471753Z"
    }
   },
   "outputs": [],
   "source": [
    "Whole_Youtube_Video_Data.to_csv(\"../Data/Processesed_Data/Whole_Youtube_Video_Data.csv\",index=False)"
   ]
  },
  {
   "cell_type": "code",
   "execution_count": 120,
   "id": "da9ddb8f",
   "metadata": {
    "ExecuteTime": {
     "end_time": "2023-02-19T20:46:29.727873Z",
     "start_time": "2023-02-19T20:46:29.708848Z"
    }
   },
   "outputs": [],
   "source": [
    "Youtube_Comments_Data.to_csv(\"../Data/Processesed_Data/Youtube_Comments_Data.csv\",index=False)"
   ]
  },
  {
   "cell_type": "code",
   "execution_count": 121,
   "id": "d3d86dcf",
   "metadata": {
    "ExecuteTime": {
     "end_time": "2023-02-19T20:46:29.965300Z",
     "start_time": "2023-02-19T20:46:29.951241Z"
    }
   },
   "outputs": [],
   "source": [
    "Facebook_Post_Data.to_csv(\"../Data/Processesed_Data/Facebook_Post_Data.csv\",index=False)"
   ]
  },
  {
   "cell_type": "code",
   "execution_count": 122,
   "id": "256f6aa3",
   "metadata": {
    "ExecuteTime": {
     "end_time": "2023-02-19T20:46:30.201284Z",
     "start_time": "2023-02-19T20:46:30.186253Z"
    }
   },
   "outputs": [],
   "source": [
    "Himalaya_Wellness_Site_Blog_Data.to_csv(\"../Data/Processesed_Data/Himalaya_Wellness_Site_Blog_Data.csv\",index=False)"
   ]
  },
  {
   "cell_type": "code",
   "execution_count": 123,
   "id": "977768af",
   "metadata": {
    "ExecuteTime": {
     "end_time": "2023-02-19T20:46:30.423561Z",
     "start_time": "2023-02-19T20:46:30.401567Z"
    }
   },
   "outputs": [],
   "source": [
    "Himalaya_Wellness_Site_Products_Data.to_csv(\"../Data/Processesed_Data/Himalaya_Wellness_Site_Products_Data.csv\",index=False)"
   ]
  },
  {
   "cell_type": "markdown",
   "id": "v2eCum-E1oFG",
   "metadata": {
    "id": "v2eCum-E1oFG"
   },
   "source": [
    "## Data Saving on Non-Relational Database\n"
   ]
  },
  {
   "cell_type": "code",
   "execution_count": 124,
   "id": "f853da9d",
   "metadata": {
    "ExecuteTime": {
     "end_time": "2023-02-19T20:46:31.183226Z",
     "start_time": "2023-02-19T20:46:30.871070Z"
    }
   },
   "outputs": [
    {
     "data": {
      "text/plain": [
       "['admin', 'local']"
      ]
     },
     "execution_count": 124,
     "metadata": {},
     "output_type": "execute_result"
    }
   ],
   "source": [
    "mongodb_connection.list_database_names()"
   ]
  },
  {
   "cell_type": "code",
   "execution_count": 134,
   "id": "c246b687",
   "metadata": {
    "ExecuteTime": {
     "end_time": "2023-02-19T20:49:51.519052Z",
     "start_time": "2023-02-19T20:49:51.507078Z"
    }
   },
   "outputs": [],
   "source": [
    "social_media_collected_database=mongodb_connection['social_media_collected_database']"
   ]
  },
  {
   "cell_type": "code",
   "execution_count": 142,
   "id": "811e643d",
   "metadata": {
    "ExecuteTime": {
     "end_time": "2023-02-19T20:56:49.494060Z",
     "start_time": "2023-02-19T20:56:49.483302Z"
    }
   },
   "outputs": [],
   "source": [
    "def insertInCollection(Data,collection_name):\n",
    "    collection=social_media_collected_database[collection_name]\n",
    "    for row in range(len(Data)):\n",
    "        collection.insert_one(Data.iloc[row,:].to_dict())\n",
    "        print(\"row done:\",row)"
   ]
  },
  {
   "cell_type": "markdown",
   "id": "339709cb",
   "metadata": {},
   "source": [
    "### Document Saving"
   ]
  },
  {
   "cell_type": "code",
   "execution_count": 143,
   "id": "318a6a41",
   "metadata": {
    "ExecuteTime": {
     "end_time": "2023-02-19T20:56:56.358996Z",
     "start_time": "2023-02-19T20:56:50.082858Z"
    },
    "collapsed": true
   },
   "outputs": [
    {
     "name": "stdout",
     "output_type": "stream",
     "text": [
      "row done: 0\n",
      "row done: 1\n",
      "row done: 2\n",
      "row done: 3\n",
      "row done: 4\n",
      "row done: 5\n",
      "row done: 6\n",
      "row done: 7\n",
      "row done: 8\n",
      "row done: 9\n",
      "row done: 10\n",
      "row done: 11\n",
      "row done: 12\n",
      "row done: 13\n",
      "row done: 14\n",
      "row done: 15\n",
      "row done: 16\n",
      "row done: 17\n",
      "row done: 18\n",
      "row done: 19\n"
     ]
    }
   ],
   "source": [
    "insertInCollection(Himalaya_Wellness_Site_Blog_Data,'himalaya_site_blogs_collection')"
   ]
  },
  {
   "cell_type": "code",
   "execution_count": 144,
   "id": "4d660049",
   "metadata": {
    "ExecuteTime": {
     "end_time": "2023-02-19T21:00:29.466879Z",
     "start_time": "2023-02-19T20:59:16.711984Z"
    },
    "collapsed": true
   },
   "outputs": [
    {
     "name": "stdout",
     "output_type": "stream",
     "text": [
      "row done: 0\n",
      "row done: 1\n",
      "row done: 2\n",
      "row done: 3\n",
      "row done: 4\n",
      "row done: 5\n",
      "row done: 6\n",
      "row done: 7\n",
      "row done: 8\n",
      "row done: 9\n",
      "row done: 10\n",
      "row done: 11\n",
      "row done: 12\n",
      "row done: 13\n",
      "row done: 14\n",
      "row done: 15\n",
      "row done: 16\n",
      "row done: 17\n",
      "row done: 18\n",
      "row done: 19\n",
      "row done: 20\n",
      "row done: 21\n",
      "row done: 22\n",
      "row done: 23\n",
      "row done: 24\n",
      "row done: 25\n",
      "row done: 26\n",
      "row done: 27\n",
      "row done: 28\n",
      "row done: 29\n",
      "row done: 30\n",
      "row done: 31\n",
      "row done: 32\n",
      "row done: 33\n",
      "row done: 34\n",
      "row done: 35\n",
      "row done: 36\n",
      "row done: 37\n",
      "row done: 38\n",
      "row done: 39\n",
      "row done: 40\n",
      "row done: 41\n",
      "row done: 42\n",
      "row done: 43\n",
      "row done: 44\n",
      "row done: 45\n",
      "row done: 46\n",
      "row done: 47\n",
      "row done: 48\n",
      "row done: 49\n",
      "row done: 50\n",
      "row done: 51\n",
      "row done: 52\n",
      "row done: 53\n",
      "row done: 54\n",
      "row done: 55\n",
      "row done: 56\n",
      "row done: 57\n",
      "row done: 58\n",
      "row done: 59\n",
      "row done: 60\n",
      "row done: 61\n",
      "row done: 62\n",
      "row done: 63\n",
      "row done: 64\n",
      "row done: 65\n",
      "row done: 66\n",
      "row done: 67\n",
      "row done: 68\n",
      "row done: 69\n",
      "row done: 70\n",
      "row done: 71\n",
      "row done: 72\n",
      "row done: 73\n",
      "row done: 74\n",
      "row done: 75\n",
      "row done: 76\n",
      "row done: 77\n",
      "row done: 78\n",
      "row done: 79\n",
      "row done: 80\n",
      "row done: 81\n",
      "row done: 82\n",
      "row done: 83\n",
      "row done: 84\n",
      "row done: 85\n",
      "row done: 86\n",
      "row done: 87\n",
      "row done: 88\n",
      "row done: 89\n",
      "row done: 90\n",
      "row done: 91\n",
      "row done: 92\n",
      "row done: 93\n",
      "row done: 94\n",
      "row done: 95\n",
      "row done: 96\n",
      "row done: 97\n",
      "row done: 98\n",
      "row done: 99\n",
      "row done: 100\n",
      "row done: 101\n",
      "row done: 102\n",
      "row done: 103\n",
      "row done: 104\n",
      "row done: 105\n",
      "row done: 106\n",
      "row done: 107\n",
      "row done: 108\n",
      "row done: 109\n",
      "row done: 110\n",
      "row done: 111\n",
      "row done: 112\n",
      "row done: 113\n",
      "row done: 114\n",
      "row done: 115\n",
      "row done: 116\n",
      "row done: 117\n",
      "row done: 118\n",
      "row done: 119\n",
      "row done: 120\n",
      "row done: 121\n",
      "row done: 122\n",
      "row done: 123\n",
      "row done: 124\n",
      "row done: 125\n",
      "row done: 126\n",
      "row done: 127\n",
      "row done: 128\n",
      "row done: 129\n",
      "row done: 130\n",
      "row done: 131\n",
      "row done: 132\n",
      "row done: 133\n",
      "row done: 134\n",
      "row done: 135\n",
      "row done: 136\n",
      "row done: 137\n",
      "row done: 138\n",
      "row done: 139\n",
      "row done: 140\n",
      "row done: 141\n",
      "row done: 142\n",
      "row done: 143\n",
      "row done: 144\n",
      "row done: 145\n",
      "row done: 146\n",
      "row done: 147\n",
      "row done: 148\n",
      "row done: 149\n",
      "row done: 150\n",
      "row done: 151\n",
      "row done: 152\n",
      "row done: 153\n",
      "row done: 154\n",
      "row done: 155\n",
      "row done: 156\n",
      "row done: 157\n",
      "row done: 158\n",
      "row done: 159\n",
      "row done: 160\n",
      "row done: 161\n",
      "row done: 162\n",
      "row done: 163\n",
      "row done: 164\n",
      "row done: 165\n",
      "row done: 166\n",
      "row done: 167\n",
      "row done: 168\n",
      "row done: 169\n",
      "row done: 170\n",
      "row done: 171\n",
      "row done: 172\n",
      "row done: 173\n",
      "row done: 174\n",
      "row done: 175\n",
      "row done: 176\n",
      "row done: 177\n",
      "row done: 178\n",
      "row done: 179\n",
      "row done: 180\n",
      "row done: 181\n",
      "row done: 182\n",
      "row done: 183\n",
      "row done: 184\n",
      "row done: 185\n",
      "row done: 186\n",
      "row done: 187\n",
      "row done: 188\n",
      "row done: 189\n",
      "row done: 190\n",
      "row done: 191\n",
      "row done: 192\n",
      "row done: 193\n",
      "row done: 194\n",
      "row done: 195\n",
      "row done: 196\n",
      "row done: 197\n",
      "row done: 198\n",
      "row done: 199\n",
      "row done: 200\n",
      "row done: 201\n",
      "row done: 202\n",
      "row done: 203\n",
      "row done: 204\n",
      "row done: 205\n",
      "row done: 206\n",
      "row done: 207\n",
      "row done: 208\n",
      "row done: 209\n",
      "row done: 210\n",
      "row done: 211\n",
      "row done: 212\n",
      "row done: 213\n",
      "row done: 214\n",
      "row done: 215\n",
      "row done: 216\n",
      "row done: 217\n",
      "row done: 218\n",
      "row done: 219\n",
      "row done: 220\n",
      "row done: 221\n",
      "row done: 222\n",
      "row done: 223\n",
      "row done: 224\n",
      "row done: 225\n",
      "row done: 226\n"
     ]
    }
   ],
   "source": [
    "insertInCollection(Whole_Twitter_Data,'twitter_data_collection')"
   ]
  },
  {
   "cell_type": "code",
   "execution_count": 145,
   "id": "e4007c10",
   "metadata": {
    "ExecuteTime": {
     "end_time": "2023-02-19T21:01:55.166943Z",
     "start_time": "2023-02-19T21:00:29.470858Z"
    },
    "collapsed": true
   },
   "outputs": [
    {
     "name": "stdout",
     "output_type": "stream",
     "text": [
      "row done: 0\n",
      "row done: 1\n",
      "row done: 2\n",
      "row done: 3\n",
      "row done: 4\n",
      "row done: 5\n",
      "row done: 6\n",
      "row done: 7\n",
      "row done: 8\n",
      "row done: 9\n",
      "row done: 10\n",
      "row done: 11\n",
      "row done: 12\n",
      "row done: 13\n",
      "row done: 14\n",
      "row done: 15\n",
      "row done: 16\n",
      "row done: 17\n",
      "row done: 18\n",
      "row done: 19\n",
      "row done: 20\n",
      "row done: 21\n",
      "row done: 22\n",
      "row done: 23\n",
      "row done: 24\n",
      "row done: 25\n",
      "row done: 26\n",
      "row done: 27\n",
      "row done: 28\n",
      "row done: 29\n",
      "row done: 30\n",
      "row done: 31\n",
      "row done: 32\n",
      "row done: 33\n",
      "row done: 34\n",
      "row done: 35\n",
      "row done: 36\n",
      "row done: 37\n",
      "row done: 38\n",
      "row done: 39\n",
      "row done: 40\n",
      "row done: 41\n",
      "row done: 42\n",
      "row done: 43\n",
      "row done: 44\n",
      "row done: 45\n",
      "row done: 46\n",
      "row done: 47\n",
      "row done: 48\n",
      "row done: 49\n",
      "row done: 50\n",
      "row done: 51\n",
      "row done: 52\n",
      "row done: 53\n",
      "row done: 54\n",
      "row done: 55\n",
      "row done: 56\n",
      "row done: 57\n",
      "row done: 58\n",
      "row done: 59\n",
      "row done: 60\n",
      "row done: 61\n",
      "row done: 62\n",
      "row done: 63\n",
      "row done: 64\n",
      "row done: 65\n",
      "row done: 66\n",
      "row done: 67\n",
      "row done: 68\n",
      "row done: 69\n",
      "row done: 70\n",
      "row done: 71\n",
      "row done: 72\n",
      "row done: 73\n",
      "row done: 74\n",
      "row done: 75\n",
      "row done: 76\n",
      "row done: 77\n",
      "row done: 78\n",
      "row done: 79\n",
      "row done: 80\n",
      "row done: 81\n",
      "row done: 82\n",
      "row done: 83\n",
      "row done: 84\n",
      "row done: 85\n",
      "row done: 86\n",
      "row done: 87\n",
      "row done: 88\n",
      "row done: 89\n",
      "row done: 90\n",
      "row done: 91\n",
      "row done: 92\n",
      "row done: 93\n",
      "row done: 94\n",
      "row done: 95\n",
      "row done: 96\n",
      "row done: 97\n",
      "row done: 98\n",
      "row done: 99\n",
      "row done: 100\n",
      "row done: 101\n",
      "row done: 102\n",
      "row done: 103\n",
      "row done: 104\n",
      "row done: 105\n",
      "row done: 106\n",
      "row done: 107\n",
      "row done: 108\n",
      "row done: 109\n",
      "row done: 110\n",
      "row done: 111\n",
      "row done: 112\n",
      "row done: 113\n",
      "row done: 114\n",
      "row done: 115\n",
      "row done: 116\n",
      "row done: 117\n",
      "row done: 118\n",
      "row done: 119\n",
      "row done: 120\n",
      "row done: 121\n",
      "row done: 122\n",
      "row done: 123\n",
      "row done: 124\n",
      "row done: 125\n",
      "row done: 126\n",
      "row done: 127\n",
      "row done: 128\n",
      "row done: 129\n",
      "row done: 130\n",
      "row done: 131\n",
      "row done: 132\n",
      "row done: 133\n",
      "row done: 134\n",
      "row done: 135\n",
      "row done: 136\n",
      "row done: 137\n",
      "row done: 138\n",
      "row done: 139\n",
      "row done: 140\n",
      "row done: 141\n",
      "row done: 142\n",
      "row done: 143\n",
      "row done: 144\n",
      "row done: 145\n",
      "row done: 146\n",
      "row done: 147\n",
      "row done: 148\n",
      "row done: 149\n",
      "row done: 150\n",
      "row done: 151\n",
      "row done: 152\n",
      "row done: 153\n",
      "row done: 154\n",
      "row done: 155\n",
      "row done: 156\n",
      "row done: 157\n",
      "row done: 158\n",
      "row done: 159\n",
      "row done: 160\n",
      "row done: 161\n",
      "row done: 162\n",
      "row done: 163\n",
      "row done: 164\n",
      "row done: 165\n",
      "row done: 166\n",
      "row done: 167\n",
      "row done: 168\n",
      "row done: 169\n",
      "row done: 170\n",
      "row done: 171\n",
      "row done: 172\n",
      "row done: 173\n",
      "row done: 174\n",
      "row done: 175\n",
      "row done: 176\n",
      "row done: 177\n",
      "row done: 178\n",
      "row done: 179\n",
      "row done: 180\n",
      "row done: 181\n",
      "row done: 182\n",
      "row done: 183\n",
      "row done: 184\n",
      "row done: 185\n",
      "row done: 186\n",
      "row done: 187\n",
      "row done: 188\n",
      "row done: 189\n",
      "row done: 190\n",
      "row done: 191\n",
      "row done: 192\n",
      "row done: 193\n",
      "row done: 194\n",
      "row done: 195\n",
      "row done: 196\n",
      "row done: 197\n",
      "row done: 198\n",
      "row done: 199\n",
      "row done: 200\n",
      "row done: 201\n",
      "row done: 202\n",
      "row done: 203\n",
      "row done: 204\n",
      "row done: 205\n",
      "row done: 206\n",
      "row done: 207\n",
      "row done: 208\n",
      "row done: 209\n",
      "row done: 210\n",
      "row done: 211\n",
      "row done: 212\n",
      "row done: 213\n",
      "row done: 214\n",
      "row done: 215\n",
      "row done: 216\n",
      "row done: 217\n",
      "row done: 218\n",
      "row done: 219\n",
      "row done: 220\n",
      "row done: 221\n",
      "row done: 222\n",
      "row done: 223\n",
      "row done: 224\n",
      "row done: 225\n",
      "row done: 226\n",
      "row done: 227\n",
      "row done: 228\n",
      "row done: 229\n",
      "row done: 230\n",
      "row done: 231\n",
      "row done: 232\n",
      "row done: 233\n",
      "row done: 234\n",
      "row done: 235\n",
      "row done: 236\n",
      "row done: 237\n",
      "row done: 238\n",
      "row done: 239\n",
      "row done: 240\n",
      "row done: 241\n",
      "row done: 242\n",
      "row done: 243\n",
      "row done: 244\n",
      "row done: 245\n",
      "row done: 246\n",
      "row done: 247\n",
      "row done: 248\n",
      "row done: 249\n",
      "row done: 250\n",
      "row done: 251\n",
      "row done: 252\n",
      "row done: 253\n",
      "row done: 254\n",
      "row done: 255\n",
      "row done: 256\n",
      "row done: 257\n",
      "row done: 258\n",
      "row done: 259\n",
      "row done: 260\n",
      "row done: 261\n",
      "row done: 262\n",
      "row done: 263\n",
      "row done: 264\n",
      "row done: 265\n",
      "row done: 266\n",
      "row done: 267\n",
      "row done: 268\n",
      "row done: 269\n",
      "row done: 270\n",
      "row done: 271\n",
      "row done: 272\n",
      "row done: 273\n",
      "row done: 274\n"
     ]
    }
   ],
   "source": [
    "insertInCollection(Whole_Youtube_Video_Data,'youtube_videos_data_collection')"
   ]
  },
  {
   "cell_type": "code",
   "execution_count": 146,
   "id": "1a150e80",
   "metadata": {
    "ExecuteTime": {
     "end_time": "2023-02-19T21:02:40.743046Z",
     "start_time": "2023-02-19T21:01:55.169952Z"
    },
    "collapsed": true
   },
   "outputs": [
    {
     "name": "stdout",
     "output_type": "stream",
     "text": [
      "row done: 0\n",
      "row done: 1\n",
      "row done: 2\n",
      "row done: 3\n",
      "row done: 4\n",
      "row done: 5\n",
      "row done: 6\n",
      "row done: 7\n",
      "row done: 8\n",
      "row done: 9\n",
      "row done: 10\n",
      "row done: 11\n",
      "row done: 12\n",
      "row done: 13\n",
      "row done: 14\n",
      "row done: 15\n",
      "row done: 16\n",
      "row done: 17\n",
      "row done: 18\n",
      "row done: 19\n",
      "row done: 20\n",
      "row done: 21\n",
      "row done: 22\n",
      "row done: 23\n",
      "row done: 24\n",
      "row done: 25\n",
      "row done: 26\n",
      "row done: 27\n",
      "row done: 28\n",
      "row done: 29\n",
      "row done: 30\n",
      "row done: 31\n",
      "row done: 32\n",
      "row done: 33\n",
      "row done: 34\n",
      "row done: 35\n",
      "row done: 36\n",
      "row done: 37\n",
      "row done: 38\n",
      "row done: 39\n",
      "row done: 40\n",
      "row done: 41\n",
      "row done: 42\n",
      "row done: 43\n",
      "row done: 44\n",
      "row done: 45\n",
      "row done: 46\n",
      "row done: 47\n",
      "row done: 48\n",
      "row done: 49\n",
      "row done: 50\n",
      "row done: 51\n",
      "row done: 52\n",
      "row done: 53\n",
      "row done: 54\n",
      "row done: 55\n",
      "row done: 56\n",
      "row done: 57\n",
      "row done: 58\n",
      "row done: 59\n",
      "row done: 60\n",
      "row done: 61\n",
      "row done: 62\n",
      "row done: 63\n",
      "row done: 64\n",
      "row done: 65\n",
      "row done: 66\n",
      "row done: 67\n",
      "row done: 68\n",
      "row done: 69\n",
      "row done: 70\n",
      "row done: 71\n",
      "row done: 72\n",
      "row done: 73\n",
      "row done: 74\n",
      "row done: 75\n",
      "row done: 76\n",
      "row done: 77\n",
      "row done: 78\n",
      "row done: 79\n",
      "row done: 80\n",
      "row done: 81\n",
      "row done: 82\n",
      "row done: 83\n",
      "row done: 84\n",
      "row done: 85\n",
      "row done: 86\n",
      "row done: 87\n",
      "row done: 88\n",
      "row done: 89\n",
      "row done: 90\n",
      "row done: 91\n",
      "row done: 92\n",
      "row done: 93\n",
      "row done: 94\n",
      "row done: 95\n",
      "row done: 96\n",
      "row done: 97\n",
      "row done: 98\n",
      "row done: 99\n",
      "row done: 100\n",
      "row done: 101\n",
      "row done: 102\n",
      "row done: 103\n",
      "row done: 104\n",
      "row done: 105\n",
      "row done: 106\n",
      "row done: 107\n",
      "row done: 108\n",
      "row done: 109\n",
      "row done: 110\n",
      "row done: 111\n",
      "row done: 112\n",
      "row done: 113\n",
      "row done: 114\n",
      "row done: 115\n",
      "row done: 116\n",
      "row done: 117\n",
      "row done: 118\n",
      "row done: 119\n",
      "row done: 120\n",
      "row done: 121\n",
      "row done: 122\n",
      "row done: 123\n",
      "row done: 124\n",
      "row done: 125\n",
      "row done: 126\n",
      "row done: 127\n",
      "row done: 128\n",
      "row done: 129\n",
      "row done: 130\n",
      "row done: 131\n",
      "row done: 132\n",
      "row done: 133\n",
      "row done: 134\n",
      "row done: 135\n",
      "row done: 136\n",
      "row done: 137\n",
      "row done: 138\n",
      "row done: 139\n",
      "row done: 140\n",
      "row done: 141\n",
      "row done: 142\n",
      "row done: 143\n",
      "row done: 144\n",
      "row done: 145\n",
      "row done: 146\n",
      "row done: 147\n",
      "row done: 148\n",
      "row done: 149\n"
     ]
    }
   ],
   "source": [
    "insertInCollection(Youtube_Comments_Data,'youtube_comments_data_collection')"
   ]
  },
  {
   "cell_type": "code",
   "execution_count": 147,
   "id": "55cccafb",
   "metadata": {
    "ExecuteTime": {
     "end_time": "2023-02-19T21:04:46.613995Z",
     "start_time": "2023-02-19T21:02:40.746329Z"
    },
    "collapsed": true
   },
   "outputs": [
    {
     "name": "stdout",
     "output_type": "stream",
     "text": [
      "row done: 0\n",
      "row done: 1\n",
      "row done: 2\n",
      "row done: 3\n",
      "row done: 4\n",
      "row done: 5\n",
      "row done: 6\n",
      "row done: 7\n",
      "row done: 8\n",
      "row done: 9\n",
      "row done: 10\n",
      "row done: 11\n",
      "row done: 12\n",
      "row done: 13\n",
      "row done: 14\n",
      "row done: 15\n",
      "row done: 16\n",
      "row done: 17\n",
      "row done: 18\n",
      "row done: 19\n",
      "row done: 20\n",
      "row done: 21\n",
      "row done: 22\n",
      "row done: 23\n",
      "row done: 24\n",
      "row done: 25\n",
      "row done: 26\n",
      "row done: 27\n",
      "row done: 28\n",
      "row done: 29\n",
      "row done: 30\n",
      "row done: 31\n",
      "row done: 32\n",
      "row done: 33\n",
      "row done: 34\n",
      "row done: 35\n",
      "row done: 36\n",
      "row done: 37\n",
      "row done: 38\n",
      "row done: 39\n",
      "row done: 40\n",
      "row done: 41\n",
      "row done: 42\n",
      "row done: 43\n",
      "row done: 44\n",
      "row done: 45\n",
      "row done: 46\n",
      "row done: 47\n",
      "row done: 48\n",
      "row done: 49\n",
      "row done: 50\n",
      "row done: 51\n",
      "row done: 52\n",
      "row done: 53\n",
      "row done: 54\n",
      "row done: 55\n",
      "row done: 56\n",
      "row done: 57\n",
      "row done: 58\n",
      "row done: 59\n",
      "row done: 60\n",
      "row done: 61\n",
      "row done: 62\n",
      "row done: 63\n",
      "row done: 64\n",
      "row done: 65\n",
      "row done: 66\n",
      "row done: 67\n",
      "row done: 68\n",
      "row done: 69\n",
      "row done: 70\n",
      "row done: 71\n",
      "row done: 72\n",
      "row done: 73\n",
      "row done: 74\n",
      "row done: 75\n",
      "row done: 76\n",
      "row done: 77\n",
      "row done: 78\n",
      "row done: 79\n",
      "row done: 80\n",
      "row done: 81\n",
      "row done: 82\n",
      "row done: 83\n",
      "row done: 84\n",
      "row done: 85\n",
      "row done: 86\n",
      "row done: 87\n",
      "row done: 88\n",
      "row done: 89\n",
      "row done: 90\n",
      "row done: 91\n",
      "row done: 92\n",
      "row done: 93\n",
      "row done: 94\n",
      "row done: 95\n",
      "row done: 96\n",
      "row done: 97\n",
      "row done: 98\n",
      "row done: 99\n",
      "row done: 100\n",
      "row done: 101\n",
      "row done: 102\n",
      "row done: 103\n",
      "row done: 104\n",
      "row done: 105\n",
      "row done: 106\n",
      "row done: 107\n",
      "row done: 108\n",
      "row done: 109\n",
      "row done: 110\n",
      "row done: 111\n",
      "row done: 112\n",
      "row done: 113\n",
      "row done: 114\n",
      "row done: 115\n",
      "row done: 116\n",
      "row done: 117\n",
      "row done: 118\n",
      "row done: 119\n",
      "row done: 120\n",
      "row done: 121\n",
      "row done: 122\n",
      "row done: 123\n",
      "row done: 124\n",
      "row done: 125\n",
      "row done: 126\n",
      "row done: 127\n",
      "row done: 128\n",
      "row done: 129\n",
      "row done: 130\n",
      "row done: 131\n",
      "row done: 132\n",
      "row done: 133\n",
      "row done: 134\n",
      "row done: 135\n",
      "row done: 136\n",
      "row done: 137\n",
      "row done: 138\n",
      "row done: 139\n",
      "row done: 140\n",
      "row done: 141\n",
      "row done: 142\n",
      "row done: 143\n",
      "row done: 144\n",
      "row done: 145\n",
      "row done: 146\n",
      "row done: 147\n",
      "row done: 148\n",
      "row done: 149\n",
      "row done: 150\n",
      "row done: 151\n",
      "row done: 152\n",
      "row done: 153\n",
      "row done: 154\n",
      "row done: 155\n",
      "row done: 156\n",
      "row done: 157\n",
      "row done: 158\n",
      "row done: 159\n",
      "row done: 160\n",
      "row done: 161\n",
      "row done: 162\n",
      "row done: 163\n",
      "row done: 164\n",
      "row done: 165\n",
      "row done: 166\n",
      "row done: 167\n",
      "row done: 168\n",
      "row done: 169\n",
      "row done: 170\n",
      "row done: 171\n",
      "row done: 172\n",
      "row done: 173\n",
      "row done: 174\n",
      "row done: 175\n",
      "row done: 176\n",
      "row done: 177\n",
      "row done: 178\n",
      "row done: 179\n",
      "row done: 180\n",
      "row done: 181\n",
      "row done: 182\n",
      "row done: 183\n",
      "row done: 184\n",
      "row done: 185\n",
      "row done: 186\n",
      "row done: 187\n",
      "row done: 188\n",
      "row done: 189\n",
      "row done: 190\n",
      "row done: 191\n",
      "row done: 192\n",
      "row done: 193\n",
      "row done: 194\n",
      "row done: 195\n",
      "row done: 196\n",
      "row done: 197\n",
      "row done: 198\n",
      "row done: 199\n",
      "row done: 200\n",
      "row done: 201\n",
      "row done: 202\n",
      "row done: 203\n",
      "row done: 204\n",
      "row done: 205\n",
      "row done: 206\n",
      "row done: 207\n",
      "row done: 208\n",
      "row done: 209\n",
      "row done: 210\n",
      "row done: 211\n",
      "row done: 212\n",
      "row done: 213\n",
      "row done: 214\n",
      "row done: 215\n",
      "row done: 216\n",
      "row done: 217\n",
      "row done: 218\n",
      "row done: 219\n",
      "row done: 220\n",
      "row done: 221\n",
      "row done: 222\n",
      "row done: 223\n",
      "row done: 224\n",
      "row done: 225\n",
      "row done: 226\n",
      "row done: 227\n",
      "row done: 228\n",
      "row done: 229\n",
      "row done: 230\n",
      "row done: 231\n",
      "row done: 232\n",
      "row done: 233\n",
      "row done: 234\n",
      "row done: 235\n",
      "row done: 236\n",
      "row done: 237\n",
      "row done: 238\n",
      "row done: 239\n",
      "row done: 240\n",
      "row done: 241\n",
      "row done: 242\n",
      "row done: 243\n",
      "row done: 244\n",
      "row done: 245\n",
      "row done: 246\n",
      "row done: 247\n",
      "row done: 248\n",
      "row done: 249\n",
      "row done: 250\n",
      "row done: 251\n",
      "row done: 252\n",
      "row done: 253\n",
      "row done: 254\n",
      "row done: 255\n",
      "row done: 256\n",
      "row done: 257\n",
      "row done: 258\n",
      "row done: 259\n",
      "row done: 260\n",
      "row done: 261\n",
      "row done: 262\n",
      "row done: 263\n",
      "row done: 264\n",
      "row done: 265\n",
      "row done: 266\n",
      "row done: 267\n",
      "row done: 268\n",
      "row done: 269\n",
      "row done: 270\n",
      "row done: 271\n",
      "row done: 272\n",
      "row done: 273\n",
      "row done: 274\n",
      "row done: 275\n",
      "row done: 276\n",
      "row done: 277\n",
      "row done: 278\n",
      "row done: 279\n",
      "row done: 280\n",
      "row done: 281\n",
      "row done: 282\n",
      "row done: 283\n",
      "row done: 284\n",
      "row done: 285\n",
      "row done: 286\n",
      "row done: 287\n",
      "row done: 288\n",
      "row done: 289\n",
      "row done: 290\n",
      "row done: 291\n",
      "row done: 292\n",
      "row done: 293\n",
      "row done: 294\n",
      "row done: 295\n",
      "row done: 296\n",
      "row done: 297\n",
      "row done: 298\n",
      "row done: 299\n",
      "row done: 300\n",
      "row done: 301\n",
      "row done: 302\n",
      "row done: 303\n",
      "row done: 304\n",
      "row done: 305\n",
      "row done: 306\n",
      "row done: 307\n",
      "row done: 308\n",
      "row done: 309\n",
      "row done: 310\n",
      "row done: 311\n",
      "row done: 312\n",
      "row done: 313\n",
      "row done: 314\n",
      "row done: 315\n",
      "row done: 316\n",
      "row done: 317\n",
      "row done: 318\n",
      "row done: 319\n",
      "row done: 320\n",
      "row done: 321\n",
      "row done: 322\n",
      "row done: 323\n",
      "row done: 324\n",
      "row done: 325\n",
      "row done: 326\n",
      "row done: 327\n",
      "row done: 328\n",
      "row done: 329\n",
      "row done: 330\n",
      "row done: 331\n",
      "row done: 332\n",
      "row done: 333\n",
      "row done: 334\n",
      "row done: 335\n",
      "row done: 336\n",
      "row done: 337\n",
      "row done: 338\n",
      "row done: 339\n",
      "row done: 340\n",
      "row done: 341\n",
      "row done: 342\n",
      "row done: 343\n",
      "row done: 344\n",
      "row done: 345\n",
      "row done: 346\n",
      "row done: 347\n",
      "row done: 348\n",
      "row done: 349\n",
      "row done: 350\n",
      "row done: 351\n",
      "row done: 352\n",
      "row done: 353\n",
      "row done: 354\n",
      "row done: 355\n",
      "row done: 356\n",
      "row done: 357\n",
      "row done: 358\n",
      "row done: 359\n",
      "row done: 360\n",
      "row done: 361\n",
      "row done: 362\n",
      "row done: 363\n",
      "row done: 364\n",
      "row done: 365\n",
      "row done: 366\n",
      "row done: 367\n",
      "row done: 368\n",
      "row done: 369\n",
      "row done: 370\n",
      "row done: 371\n",
      "row done: 372\n",
      "row done: 373\n",
      "row done: 374\n",
      "row done: 375\n",
      "row done: 376\n",
      "row done: 377\n",
      "row done: 378\n",
      "row done: 379\n",
      "row done: 380\n",
      "row done: 381\n",
      "row done: 382\n",
      "row done: 383\n",
      "row done: 384\n",
      "row done: 385\n",
      "row done: 386\n",
      "row done: 387\n",
      "row done: 388\n",
      "row done: 389\n",
      "row done: 390\n",
      "row done: 391\n",
      "row done: 392\n",
      "row done: 393\n",
      "row done: 394\n",
      "row done: 395\n",
      "row done: 396\n",
      "row done: 397\n",
      "row done: 398\n",
      "row done: 399\n",
      "row done: 400\n",
      "row done: 401\n",
      "row done: 402\n",
      "row done: 403\n",
      "row done: 404\n",
      "row done: 405\n",
      "row done: 406\n",
      "row done: 407\n",
      "row done: 408\n",
      "row done: 409\n",
      "row done: 410\n",
      "row done: 411\n",
      "row done: 412\n",
      "row done: 413\n",
      "row done: 414\n",
      "row done: 415\n",
      "row done: 416\n"
     ]
    }
   ],
   "source": [
    "insertInCollection(Himalaya_Wellness_Site_Products_Data,'himalaya_site_products_data_collection')"
   ]
  },
  {
   "cell_type": "code",
   "execution_count": 148,
   "id": "7660c1f3",
   "metadata": {
    "ExecuteTime": {
     "end_time": "2023-02-19T21:05:05.803520Z",
     "start_time": "2023-02-19T21:04:46.616863Z"
    },
    "collapsed": true
   },
   "outputs": [
    {
     "name": "stdout",
     "output_type": "stream",
     "text": [
      "row done: 0\n",
      "row done: 1\n",
      "row done: 2\n",
      "row done: 3\n",
      "row done: 4\n",
      "row done: 5\n",
      "row done: 6\n",
      "row done: 7\n",
      "row done: 8\n",
      "row done: 9\n",
      "row done: 10\n",
      "row done: 11\n",
      "row done: 12\n",
      "row done: 13\n",
      "row done: 14\n",
      "row done: 15\n",
      "row done: 16\n",
      "row done: 17\n",
      "row done: 18\n",
      "row done: 19\n",
      "row done: 20\n",
      "row done: 21\n",
      "row done: 22\n",
      "row done: 23\n",
      "row done: 24\n",
      "row done: 25\n",
      "row done: 26\n",
      "row done: 27\n",
      "row done: 28\n",
      "row done: 29\n",
      "row done: 30\n",
      "row done: 31\n",
      "row done: 32\n",
      "row done: 33\n",
      "row done: 34\n",
      "row done: 35\n",
      "row done: 36\n",
      "row done: 37\n",
      "row done: 38\n",
      "row done: 39\n",
      "row done: 40\n",
      "row done: 41\n",
      "row done: 42\n",
      "row done: 43\n",
      "row done: 44\n",
      "row done: 45\n",
      "row done: 46\n",
      "row done: 47\n",
      "row done: 48\n",
      "row done: 49\n",
      "row done: 50\n",
      "row done: 51\n",
      "row done: 52\n",
      "row done: 53\n",
      "row done: 54\n",
      "row done: 55\n",
      "row done: 56\n",
      "row done: 57\n",
      "row done: 58\n",
      "row done: 59\n",
      "row done: 60\n"
     ]
    }
   ],
   "source": [
    "insertInCollection(Facebook_Post_Data,'facebook_data_collection')"
   ]
  },
  {
   "cell_type": "markdown",
   "id": "oXrI8rrb2H1R",
   "metadata": {
    "id": "oXrI8rrb2H1R"
   },
   "source": [
    "## Data Saving on Relational Database"
   ]
  },
  {
   "cell_type": "markdown",
   "id": "e700b87c",
   "metadata": {
    "id": "huYpk9UexVvF"
   },
   "source": [
    "### SQL QUERIES"
   ]
  },
  {
   "cell_type": "code",
   "execution_count": 104,
   "id": "c715f097",
   "metadata": {
    "ExecuteTime": {
     "end_time": "2023-02-19T20:40:50.227701Z",
     "start_time": "2023-02-19T20:40:50.214700Z"
    },
    "run_control": {
     "marked": false
    }
   },
   "outputs": [],
   "source": [
    "INITIAL_SQL_QUERY=[\"\"\"\n",
    "CREATE DATABASE social_media_collected_data;\n",
    "\"\"\",\"\"\"\n",
    "use social_media_collected_data;\n",
    "\"\"\",\"\"\"\n",
    "CREATE TABLE twitter_data(\n",
    "    `id` int NOT NULL PRIMARY KEY AUTO_INCREMENT,\n",
    "    `date` text,\n",
    "    `content` text,\n",
    "    `username` text,\n",
    "    `likes` int,\n",
    "    `views` int,\n",
    "    `hashtags` text,\n",
    "    `url` text,\n",
    "    `likes_views_ratio` float\n",
    ");\n",
    "\n",
    "\"\"\",\"\"\"\n",
    "\n",
    "CREATE TABLE himalaya_site_products_data(\n",
    "    `id` int NOT NULL PRIMARY KEY AUTO_INCREMENT,\n",
    "    `title` text,\n",
    "    `price` float,\n",
    "    `description` text,\n",
    "    `url` text\n",
    ");\n",
    "\"\"\",\"\"\"\n",
    "\n",
    "CREATE TABLE himalaya_site_blogs_data(\n",
    "    `id` int NOT NULL PRIMARY KEY AUTO_INCREMENT,\n",
    "    `name` text,\n",
    "    `content` text,\n",
    "    `url` text,\n",
    "    `date` text\n",
    ");\n",
    "\n",
    "\"\"\",\"\"\"\n",
    "\n",
    "CREATE TABLE facebook_data(\n",
    "    `id` int NOT NULL PRIMARY KEY AUTO_INCREMENT,\n",
    "    `posted_by` text,\n",
    "    `content` text,\n",
    "    `likes` float\n",
    ");\n",
    "\"\"\",\"\"\"\n",
    "\n",
    "CREATE TABLE youtube_videos_data(\n",
    "    `id` int NOT NULL PRIMARY KEY AUTO_INCREMENT,\n",
    "    `link` text,\n",
    "    `title` text,\n",
    "    `duration` text,\n",
    "    `views` text,\n",
    "    `description` text,\n",
    "    `upload_date` text,\n",
    "    `category` text\n",
    ");\n",
    "\"\"\",\"\"\"\n",
    "\n",
    "CREATE TABLE youtube_comments_data(\n",
    "    `id` int NOT NULL PRIMARY KEY AUTO_INCREMENT,\n",
    "    `video_link` text,\n",
    "    `author` text,\n",
    "    `content` text,\n",
    "    `likes` float\n",
    ");\n",
    "\"\"\"]"
   ]
  },
  {
   "cell_type": "code",
   "execution_count": 105,
   "id": "cf792dff",
   "metadata": {
    "ExecuteTime": {
     "end_time": "2023-02-19T20:40:51.341937Z",
     "start_time": "2023-02-19T20:40:51.332004Z"
    },
    "scrolled": false
   },
   "outputs": [],
   "source": [
    "def initial_setup():\n",
    "    try:\n",
    "        queryExecuter.execute(\"use social_media_collected_data;\")\n",
    "        print(\"Data base Exists\")\n",
    "    except Exception as e:\n",
    "        print(e)\n",
    "        print(\"Creating Database ......\")\n",
    "        for query in INITIAL_SQL_QUERY:\n",
    "            print(query)\n",
    "            queryExecuter.execute(query)\n",
    "        mysql_connection.commit()"
   ]
  },
  {
   "cell_type": "code",
   "execution_count": 106,
   "id": "d2dae50e",
   "metadata": {
    "ExecuteTime": {
     "end_time": "2023-02-19T20:40:52.108091Z",
     "start_time": "2023-02-19T20:40:52.083726Z"
    }
   },
   "outputs": [
    {
     "name": "stdout",
     "output_type": "stream",
     "text": [
      "Data base Exists\n"
     ]
    }
   ],
   "source": [
    "initial_setup()"
   ]
  },
  {
   "cell_type": "code",
   "execution_count": 127,
   "id": "d6c2dad8",
   "metadata": {
    "ExecuteTime": {
     "end_time": "2023-02-19T20:46:49.205168Z",
     "start_time": "2023-02-19T20:46:49.193168Z"
    }
   },
   "outputs": [],
   "source": [
    "def insertDataFromDataFrame(Data:pandas.DataFrame,database_name)->None:\n",
    "    try:\n",
    "        for row in range(len(Data)):\n",
    "            SQL_QUERY=\"INSERT INTO \"+database_name+\"(\"+\",\".join(list(Data.columns))+\")VALUES(\"\n",
    "            for column in Data.columns:\n",
    "                if list(Data.columns).index(column)!=0:\n",
    "                    SQL_QUERY=SQL_QUERY+\",\"\n",
    "                try:\n",
    "                    int(Data[column][row])\n",
    "                    SQL_QUERY=SQL_QUERY+f\"{Data[column][row]}\"\n",
    "                except:\n",
    "                    SQL_QUERY=SQL_QUERY+f\"'{Data[column][row]}'\"\n",
    "            SQL_QUERY=SQL_QUERY+\");\"\n",
    "            queryExecuter.execute(SQL_QUERY)\n",
    "            print(\"row done:\",row)\n",
    "        mysql_connection.commit()\n",
    "    except Exception as e:\n",
    "        print(e)\n",
    "        mysql_connection.rollback()"
   ]
  },
  {
   "cell_type": "markdown",
   "id": "4e2f352e",
   "metadata": {},
   "source": [
    "### Data Loading"
   ]
  },
  {
   "cell_type": "code",
   "execution_count": 590,
   "id": "0303266a",
   "metadata": {
    "ExecuteTime": {
     "end_time": "2023-02-19T20:25:26.005781Z",
     "start_time": "2023-02-19T20:25:25.982780Z"
    },
    "collapsed": true
   },
   "outputs": [
    {
     "name": "stdout",
     "output_type": "stream",
     "text": [
      "row done: 0\n",
      "row done: 1\n",
      "row done: 2\n",
      "row done: 3\n",
      "row done: 4\n",
      "row done: 5\n",
      "row done: 6\n",
      "row done: 7\n",
      "row done: 8\n",
      "row done: 9\n",
      "row done: 10\n",
      "row done: 11\n",
      "row done: 12\n",
      "row done: 13\n",
      "row done: 14\n",
      "row done: 15\n",
      "row done: 16\n",
      "row done: 17\n",
      "row done: 18\n",
      "row done: 19\n"
     ]
    }
   ],
   "source": [
    "insertDataFromDataFrame(Himalaya_Wellness_Site_Blog_Data,\"himalaya_site_blogs_data\")"
   ]
  },
  {
   "cell_type": "code",
   "execution_count": 591,
   "id": "67d4e4f4",
   "metadata": {
    "ExecuteTime": {
     "end_time": "2023-02-19T20:25:27.112666Z",
     "start_time": "2023-02-19T20:25:26.968504Z"
    },
    "collapsed": true
   },
   "outputs": [
    {
     "name": "stdout",
     "output_type": "stream",
     "text": [
      "row done: 0\n",
      "row done: 1\n",
      "row done: 2\n",
      "row done: 3\n",
      "row done: 4\n",
      "row done: 5\n",
      "row done: 6\n",
      "row done: 7\n",
      "row done: 8\n",
      "row done: 9\n",
      "row done: 10\n",
      "row done: 11\n",
      "row done: 12\n",
      "row done: 13\n",
      "row done: 14\n",
      "row done: 15\n",
      "row done: 16\n",
      "row done: 17\n",
      "row done: 18\n",
      "row done: 19\n",
      "row done: 20\n",
      "row done: 21\n",
      "row done: 22\n",
      "row done: 23\n",
      "row done: 24\n",
      "row done: 25\n",
      "row done: 26\n",
      "row done: 27\n",
      "row done: 28\n",
      "row done: 29\n",
      "row done: 30\n",
      "row done: 31\n",
      "row done: 32\n",
      "row done: 33\n",
      "row done: 34\n",
      "row done: 35\n",
      "row done: 36\n",
      "row done: 37\n",
      "row done: 38\n",
      "row done: 39\n",
      "row done: 40\n",
      "row done: 41\n",
      "row done: 42\n",
      "row done: 43\n",
      "row done: 44\n",
      "row done: 45\n",
      "row done: 46\n",
      "row done: 47\n",
      "row done: 48\n",
      "row done: 49\n",
      "row done: 50\n",
      "row done: 51\n",
      "row done: 52\n",
      "row done: 53\n",
      "row done: 54\n",
      "row done: 55\n",
      "row done: 56\n",
      "row done: 57\n",
      "row done: 58\n",
      "row done: 59\n",
      "row done: 60\n",
      "row done: 61\n",
      "row done: 62\n",
      "row done: 63\n",
      "row done: 64\n",
      "row done: 65\n",
      "row done: 66\n",
      "row done: 67\n",
      "row done: 68\n",
      "row done: 69\n",
      "row done: 70\n",
      "row done: 71\n",
      "row done: 72\n",
      "row done: 73\n",
      "row done: 74\n",
      "row done: 75\n",
      "row done: 76\n",
      "row done: 77\n",
      "row done: 78\n",
      "row done: 79\n",
      "row done: 80\n",
      "row done: 81\n",
      "row done: 82\n",
      "row done: 83\n",
      "row done: 84\n",
      "row done: 85\n",
      "row done: 86\n",
      "row done: 87\n",
      "row done: 88\n",
      "row done: 89\n",
      "row done: 90\n",
      "row done: 91\n",
      "row done: 92\n",
      "row done: 93\n",
      "row done: 94\n",
      "row done: 95\n",
      "row done: 96\n",
      "row done: 97\n",
      "row done: 98\n",
      "row done: 99\n",
      "row done: 100\n",
      "row done: 101\n",
      "row done: 102\n",
      "row done: 103\n",
      "row done: 104\n",
      "row done: 105\n",
      "row done: 106\n",
      "row done: 107\n",
      "row done: 108\n",
      "row done: 109\n",
      "row done: 110\n",
      "row done: 111\n",
      "row done: 112\n",
      "row done: 113\n",
      "row done: 114\n",
      "row done: 115\n",
      "row done: 116\n",
      "row done: 117\n",
      "row done: 118\n",
      "row done: 119\n",
      "row done: 120\n",
      "row done: 121\n",
      "row done: 122\n",
      "row done: 123\n",
      "row done: 124\n",
      "row done: 125\n",
      "row done: 126\n",
      "row done: 127\n",
      "row done: 128\n",
      "row done: 129\n",
      "row done: 130\n",
      "row done: 131\n",
      "row done: 132\n",
      "row done: 133\n",
      "row done: 134\n",
      "row done: 135\n",
      "row done: 136\n",
      "row done: 137\n",
      "row done: 138\n",
      "row done: 139\n",
      "row done: 140\n",
      "row done: 141\n",
      "row done: 142\n",
      "row done: 143\n",
      "row done: 144\n",
      "row done: 145\n",
      "row done: 146\n",
      "row done: 147\n",
      "row done: 148\n",
      "row done: 149\n",
      "row done: 150\n",
      "row done: 151\n",
      "row done: 152\n",
      "row done: 153\n",
      "row done: 154\n",
      "row done: 155\n",
      "row done: 156\n",
      "row done: 157\n",
      "row done: 158\n",
      "row done: 159\n",
      "row done: 160\n",
      "row done: 161\n",
      "row done: 162\n",
      "row done: 163\n",
      "row done: 164\n",
      "row done: 165\n",
      "row done: 166\n",
      "row done: 167\n",
      "row done: 168\n",
      "row done: 169\n",
      "row done: 170\n",
      "row done: 171\n",
      "row done: 172\n",
      "row done: 173\n",
      "row done: 174\n",
      "row done: 175\n",
      "row done: 176\n",
      "row done: 177\n",
      "row done: 178\n",
      "row done: 179\n",
      "row done: 180\n",
      "row done: 181\n",
      "row done: 182\n",
      "row done: 183\n",
      "row done: 184\n",
      "row done: 185\n",
      "row done: 186\n",
      "row done: 187\n",
      "row done: 188\n",
      "row done: 189\n",
      "row done: 190\n",
      "row done: 191\n",
      "row done: 192\n",
      "row done: 193\n",
      "row done: 194\n",
      "row done: 195\n",
      "row done: 196\n",
      "row done: 197\n",
      "row done: 198\n",
      "row done: 199\n",
      "row done: 200\n",
      "row done: 201\n",
      "row done: 202\n",
      "row done: 203\n",
      "row done: 204\n",
      "row done: 205\n",
      "row done: 206\n",
      "row done: 207\n",
      "row done: 208\n",
      "row done: 209\n",
      "row done: 210\n",
      "row done: 211\n",
      "row done: 212\n",
      "row done: 213\n",
      "row done: 214\n",
      "row done: 215\n",
      "row done: 216\n",
      "row done: 217\n",
      "row done: 218\n",
      "row done: 219\n",
      "row done: 220\n",
      "row done: 221\n",
      "row done: 222\n",
      "row done: 223\n",
      "row done: 224\n",
      "row done: 225\n",
      "row done: 226\n"
     ]
    }
   ],
   "source": [
    "insertDataFromDataFrame(Whole_Twitter_Data,\"twitter_data\")"
   ]
  },
  {
   "cell_type": "code",
   "execution_count": 128,
   "id": "438fa3ae",
   "metadata": {
    "ExecuteTime": {
     "end_time": "2023-02-19T20:46:51.914087Z",
     "start_time": "2023-02-19T20:46:51.756808Z"
    },
    "collapsed": true
   },
   "outputs": [
    {
     "name": "stdout",
     "output_type": "stream",
     "text": [
      "row done: 0\n",
      "row done: 1\n",
      "row done: 2\n",
      "row done: 3\n",
      "row done: 4\n",
      "row done: 5\n",
      "row done: 6\n",
      "row done: 7\n",
      "row done: 8\n",
      "row done: 9\n",
      "row done: 10\n",
      "row done: 11\n",
      "row done: 12\n",
      "row done: 13\n",
      "row done: 14\n",
      "row done: 15\n",
      "row done: 16\n",
      "row done: 17\n",
      "row done: 18\n",
      "row done: 19\n",
      "row done: 20\n",
      "row done: 21\n",
      "row done: 22\n",
      "row done: 23\n",
      "row done: 24\n",
      "row done: 25\n",
      "row done: 26\n",
      "row done: 27\n",
      "row done: 28\n",
      "row done: 29\n",
      "row done: 30\n",
      "row done: 31\n",
      "row done: 32\n",
      "row done: 33\n",
      "row done: 34\n",
      "row done: 35\n",
      "row done: 36\n",
      "row done: 37\n",
      "row done: 38\n",
      "row done: 39\n",
      "row done: 40\n",
      "row done: 41\n",
      "row done: 42\n",
      "row done: 43\n",
      "row done: 44\n",
      "row done: 45\n",
      "row done: 46\n",
      "row done: 47\n",
      "row done: 48\n",
      "row done: 49\n",
      "row done: 50\n",
      "row done: 51\n",
      "row done: 52\n",
      "row done: 53\n",
      "row done: 54\n",
      "row done: 55\n",
      "row done: 56\n",
      "row done: 57\n",
      "row done: 58\n",
      "row done: 59\n",
      "row done: 60\n",
      "row done: 61\n",
      "row done: 62\n",
      "row done: 63\n",
      "row done: 64\n",
      "row done: 65\n",
      "row done: 66\n",
      "row done: 67\n",
      "row done: 68\n",
      "row done: 69\n",
      "row done: 70\n",
      "row done: 71\n",
      "row done: 72\n",
      "row done: 73\n",
      "row done: 74\n",
      "row done: 75\n",
      "row done: 76\n",
      "row done: 77\n",
      "row done: 78\n",
      "row done: 79\n",
      "row done: 80\n",
      "row done: 81\n",
      "row done: 82\n",
      "row done: 83\n",
      "row done: 84\n",
      "row done: 85\n",
      "row done: 86\n",
      "row done: 87\n",
      "row done: 88\n",
      "row done: 89\n",
      "row done: 90\n",
      "row done: 91\n",
      "row done: 92\n",
      "row done: 93\n",
      "row done: 94\n",
      "row done: 95\n",
      "row done: 96\n",
      "row done: 97\n",
      "row done: 98\n",
      "row done: 99\n",
      "row done: 100\n",
      "row done: 101\n",
      "row done: 102\n",
      "row done: 103\n",
      "row done: 104\n",
      "row done: 105\n",
      "row done: 106\n",
      "row done: 107\n",
      "row done: 108\n",
      "row done: 109\n",
      "row done: 110\n",
      "row done: 111\n",
      "row done: 112\n",
      "row done: 113\n",
      "row done: 114\n",
      "row done: 115\n",
      "row done: 116\n",
      "row done: 117\n",
      "row done: 118\n",
      "row done: 119\n",
      "row done: 120\n",
      "row done: 121\n",
      "row done: 122\n",
      "row done: 123\n",
      "row done: 124\n",
      "row done: 125\n",
      "row done: 126\n",
      "row done: 127\n",
      "row done: 128\n",
      "row done: 129\n",
      "row done: 130\n",
      "row done: 131\n",
      "row done: 132\n",
      "row done: 133\n",
      "row done: 134\n",
      "row done: 135\n",
      "row done: 136\n",
      "row done: 137\n",
      "row done: 138\n",
      "row done: 139\n",
      "row done: 140\n",
      "row done: 141\n",
      "row done: 142\n",
      "row done: 143\n",
      "row done: 144\n",
      "row done: 145\n",
      "row done: 146\n",
      "row done: 147\n",
      "row done: 148\n",
      "row done: 149\n",
      "row done: 150\n",
      "row done: 151\n",
      "row done: 152\n",
      "row done: 153\n",
      "row done: 154\n",
      "row done: 155\n",
      "row done: 156\n",
      "row done: 157\n",
      "row done: 158\n",
      "row done: 159\n",
      "row done: 160\n",
      "row done: 161\n",
      "row done: 162\n",
      "row done: 163\n",
      "row done: 164\n",
      "row done: 165\n",
      "row done: 166\n",
      "row done: 167\n",
      "row done: 168\n",
      "row done: 169\n",
      "row done: 170\n",
      "row done: 171\n",
      "row done: 172\n",
      "row done: 173\n",
      "row done: 174\n",
      "row done: 175\n",
      "row done: 176\n",
      "row done: 177\n",
      "row done: 178\n",
      "row done: 179\n",
      "row done: 180\n",
      "row done: 181\n",
      "row done: 182\n",
      "row done: 183\n",
      "row done: 184\n",
      "row done: 185\n",
      "row done: 186\n",
      "row done: 187\n",
      "row done: 188\n",
      "row done: 189\n",
      "row done: 190\n",
      "row done: 191\n",
      "row done: 192\n",
      "row done: 193\n",
      "row done: 194\n",
      "row done: 195\n",
      "row done: 196\n",
      "row done: 197\n",
      "row done: 198\n",
      "row done: 199\n",
      "row done: 200\n",
      "row done: 201\n",
      "row done: 202\n",
      "row done: 203\n",
      "row done: 204\n",
      "row done: 205\n",
      "row done: 206\n",
      "row done: 207\n",
      "row done: 208\n",
      "row done: 209\n",
      "row done: 210\n",
      "row done: 211\n",
      "row done: 212\n",
      "row done: 213\n",
      "row done: 214\n",
      "row done: 215\n",
      "row done: 216\n",
      "row done: 217\n",
      "row done: 218\n",
      "row done: 219\n",
      "row done: 220\n",
      "row done: 221\n",
      "row done: 222\n",
      "row done: 223\n",
      "row done: 224\n",
      "row done: 225\n",
      "row done: 226\n",
      "row done: 227\n",
      "row done: 228\n",
      "row done: 229\n",
      "row done: 230\n",
      "row done: 231\n",
      "row done: 232\n",
      "row done: 233\n",
      "row done: 234\n",
      "row done: 235\n",
      "row done: 236\n",
      "row done: 237\n",
      "row done: 238\n",
      "row done: 239\n",
      "row done: 240\n",
      "row done: 241\n",
      "row done: 242\n",
      "row done: 243\n",
      "row done: 244\n",
      "row done: 245\n",
      "row done: 246\n",
      "row done: 247\n",
      "row done: 248\n",
      "row done: 249\n",
      "row done: 250\n",
      "row done: 251\n",
      "row done: 252\n",
      "row done: 253\n",
      "row done: 254\n",
      "row done: 255\n",
      "row done: 256\n",
      "row done: 257\n",
      "row done: 258\n",
      "row done: 259\n",
      "row done: 260\n",
      "row done: 261\n",
      "row done: 262\n",
      "row done: 263\n",
      "row done: 264\n",
      "row done: 265\n",
      "row done: 266\n",
      "row done: 267\n",
      "row done: 268\n",
      "row done: 269\n",
      "row done: 270\n",
      "row done: 271\n",
      "row done: 272\n",
      "row done: 273\n",
      "row done: 274\n",
      "row done: 275\n",
      "row done: 276\n",
      "row done: 277\n",
      "row done: 278\n",
      "row done: 279\n",
      "row done: 280\n",
      "row done: 281\n",
      "row done: 282\n",
      "row done: 283\n",
      "row done: 284\n",
      "row done: 285\n",
      "row done: 286\n",
      "row done: 287\n",
      "row done: 288\n",
      "row done: 289\n",
      "row done: 290\n",
      "row done: 291\n",
      "row done: 292\n",
      "row done: 293\n",
      "row done: 294\n",
      "row done: 295\n",
      "row done: 296\n",
      "row done: 297\n",
      "row done: 298\n",
      "row done: 299\n",
      "row done: 300\n",
      "row done: 301\n",
      "row done: 302\n",
      "row done: 303\n",
      "row done: 304\n",
      "row done: 305\n",
      "row done: 306\n",
      "row done: 307\n",
      "row done: 308\n",
      "row done: 309\n",
      "row done: 310\n",
      "row done: 311\n",
      "row done: 312\n",
      "row done: 313\n",
      "row done: 314\n",
      "row done: 315\n",
      "row done: 316\n",
      "row done: 317\n",
      "row done: 318\n",
      "row done: 319\n",
      "row done: 320\n",
      "row done: 321\n",
      "row done: 322\n",
      "row done: 323\n",
      "row done: 324\n",
      "row done: 325\n",
      "row done: 326\n",
      "row done: 327\n",
      "row done: 328\n",
      "row done: 329\n",
      "row done: 330\n",
      "row done: 331\n",
      "row done: 332\n",
      "row done: 333\n",
      "row done: 334\n",
      "row done: 335\n",
      "row done: 336\n",
      "row done: 337\n",
      "row done: 338\n",
      "row done: 339\n",
      "row done: 340\n",
      "row done: 341\n",
      "row done: 342\n",
      "row done: 343\n",
      "row done: 344\n",
      "row done: 345\n",
      "row done: 346\n",
      "row done: 347\n",
      "row done: 348\n",
      "row done: 349\n",
      "row done: 350\n",
      "row done: 351\n",
      "row done: 352\n",
      "row done: 353\n",
      "row done: 354\n",
      "row done: 355\n",
      "row done: 356\n",
      "row done: 357\n",
      "row done: 358\n",
      "row done: 359\n",
      "row done: 360\n",
      "row done: 361\n",
      "row done: 362\n",
      "row done: 363\n",
      "row done: 364\n",
      "row done: 365\n",
      "row done: 366\n",
      "row done: 367\n",
      "row done: 368\n",
      "row done: 369\n",
      "row done: 370\n",
      "row done: 371\n",
      "row done: 372\n",
      "row done: 373\n",
      "row done: 374\n",
      "row done: 375\n",
      "row done: 376\n",
      "row done: 377\n",
      "row done: 378\n",
      "row done: 379\n",
      "row done: 380\n",
      "row done: 381\n",
      "row done: 382\n",
      "row done: 383\n",
      "row done: 384\n",
      "row done: 385\n",
      "row done: 386\n",
      "row done: 387\n",
      "row done: 388\n",
      "row done: 389\n",
      "row done: 390\n",
      "row done: 391\n",
      "row done: 392\n",
      "row done: 393\n",
      "row done: 394\n",
      "row done: 395\n",
      "row done: 396\n",
      "row done: 397\n",
      "row done: 398\n",
      "row done: 399\n",
      "row done: 400\n",
      "row done: 401\n",
      "row done: 402\n",
      "row done: 403\n",
      "row done: 404\n",
      "row done: 405\n",
      "row done: 406\n",
      "row done: 407\n",
      "row done: 408\n",
      "row done: 409\n",
      "row done: 410\n",
      "row done: 411\n",
      "row done: 412\n",
      "row done: 413\n",
      "row done: 414\n",
      "row done: 415\n",
      "row done: 416\n"
     ]
    }
   ],
   "source": [
    "insertDataFromDataFrame(Himalaya_Wellness_Site_Products_Data,\"himalaya_site_products_data\")"
   ]
  },
  {
   "cell_type": "code",
   "execution_count": 129,
   "id": "1fc10e93",
   "metadata": {
    "ExecuteTime": {
     "end_time": "2023-02-19T20:46:57.810457Z",
     "start_time": "2023-02-19T20:46:57.769424Z"
    },
    "collapsed": true
   },
   "outputs": [
    {
     "name": "stdout",
     "output_type": "stream",
     "text": [
      "row done: 0\n",
      "row done: 1\n",
      "row done: 2\n",
      "row done: 3\n",
      "row done: 4\n",
      "row done: 5\n",
      "row done: 6\n",
      "row done: 7\n",
      "row done: 8\n",
      "row done: 9\n",
      "row done: 10\n",
      "row done: 11\n",
      "row done: 12\n",
      "row done: 13\n",
      "row done: 14\n",
      "row done: 15\n",
      "row done: 16\n",
      "row done: 17\n",
      "row done: 18\n",
      "row done: 19\n",
      "row done: 20\n",
      "row done: 21\n",
      "row done: 22\n",
      "row done: 23\n",
      "row done: 24\n",
      "row done: 25\n",
      "row done: 26\n",
      "row done: 27\n",
      "row done: 28\n",
      "row done: 29\n",
      "row done: 30\n",
      "row done: 31\n",
      "row done: 32\n",
      "row done: 33\n",
      "row done: 34\n",
      "row done: 35\n",
      "row done: 36\n",
      "row done: 37\n",
      "row done: 38\n",
      "row done: 39\n",
      "row done: 40\n",
      "row done: 41\n",
      "row done: 42\n",
      "row done: 43\n",
      "row done: 44\n",
      "row done: 45\n",
      "row done: 46\n",
      "row done: 47\n",
      "row done: 48\n",
      "row done: 49\n",
      "row done: 50\n",
      "row done: 51\n",
      "row done: 52\n",
      "row done: 53\n",
      "row done: 54\n",
      "row done: 55\n",
      "row done: 56\n",
      "row done: 57\n",
      "row done: 58\n",
      "row done: 59\n",
      "row done: 60\n"
     ]
    }
   ],
   "source": [
    "insertDataFromDataFrame(Facebook_Post_Data,\"facebook_data\")"
   ]
  },
  {
   "cell_type": "code",
   "execution_count": 596,
   "id": "647242de",
   "metadata": {
    "ExecuteTime": {
     "end_time": "2023-02-19T20:25:47.381436Z",
     "start_time": "2023-02-19T20:25:47.059436Z"
    },
    "collapsed": true
   },
   "outputs": [
    {
     "name": "stdout",
     "output_type": "stream",
     "text": [
      "row done: 0\n",
      "row done: 1\n",
      "row done: 2\n",
      "row done: 3\n",
      "row done: 4\n",
      "row done: 5\n",
      "row done: 6\n",
      "row done: 7\n",
      "row done: 8\n",
      "row done: 9\n",
      "row done: 10\n",
      "row done: 11\n",
      "row done: 12\n",
      "row done: 13\n",
      "row done: 14\n",
      "row done: 15\n",
      "row done: 16\n",
      "row done: 17\n",
      "row done: 18\n",
      "row done: 19\n",
      "row done: 20\n",
      "row done: 21\n",
      "row done: 22\n",
      "row done: 23\n",
      "row done: 24\n",
      "row done: 25\n",
      "row done: 26\n",
      "row done: 27\n",
      "row done: 28\n",
      "row done: 29\n",
      "row done: 30\n",
      "row done: 31\n",
      "row done: 32\n",
      "row done: 33\n",
      "row done: 34\n",
      "row done: 35\n",
      "row done: 36\n",
      "row done: 37\n",
      "row done: 38\n",
      "row done: 39\n",
      "row done: 40\n",
      "row done: 41\n",
      "row done: 42\n",
      "row done: 43\n",
      "row done: 44\n",
      "row done: 45\n",
      "row done: 46\n",
      "row done: 47\n",
      "row done: 48\n",
      "row done: 49\n",
      "row done: 50\n",
      "row done: 51\n",
      "row done: 52\n",
      "row done: 53\n",
      "row done: 54\n",
      "row done: 55\n",
      "row done: 56\n",
      "row done: 57\n",
      "row done: 58\n",
      "row done: 59\n",
      "row done: 60\n",
      "row done: 61\n",
      "row done: 62\n",
      "row done: 63\n",
      "row done: 64\n",
      "row done: 65\n",
      "row done: 66\n",
      "row done: 67\n",
      "row done: 68\n",
      "row done: 69\n",
      "row done: 70\n",
      "row done: 71\n",
      "row done: 72\n",
      "row done: 73\n",
      "row done: 74\n",
      "row done: 75\n",
      "row done: 76\n",
      "row done: 77\n",
      "row done: 78\n",
      "row done: 79\n",
      "row done: 80\n",
      "row done: 81\n",
      "row done: 82\n",
      "row done: 83\n",
      "row done: 84\n",
      "row done: 85\n",
      "row done: 86\n",
      "row done: 87\n",
      "row done: 88\n",
      "row done: 89\n",
      "row done: 90\n",
      "row done: 91\n",
      "row done: 92\n",
      "row done: 93\n",
      "row done: 94\n",
      "row done: 95\n",
      "row done: 96\n",
      "row done: 97\n",
      "row done: 98\n",
      "row done: 99\n",
      "row done: 100\n",
      "row done: 101\n",
      "row done: 102\n",
      "row done: 103\n",
      "row done: 104\n",
      "row done: 105\n",
      "row done: 106\n",
      "row done: 107\n",
      "row done: 108\n",
      "row done: 109\n",
      "row done: 110\n",
      "row done: 111\n",
      "row done: 112\n",
      "row done: 113\n",
      "row done: 114\n",
      "row done: 115\n",
      "row done: 116\n",
      "row done: 117\n",
      "row done: 118\n",
      "row done: 119\n",
      "row done: 120\n",
      "row done: 121\n",
      "row done: 122\n",
      "row done: 123\n",
      "row done: 124\n",
      "row done: 125\n",
      "row done: 126\n",
      "row done: 127\n",
      "row done: 128\n",
      "row done: 129\n",
      "row done: 130\n",
      "row done: 131\n",
      "row done: 132\n",
      "row done: 133\n",
      "row done: 134\n",
      "row done: 135\n",
      "row done: 136\n",
      "row done: 137\n",
      "row done: 138\n",
      "row done: 139\n",
      "row done: 140\n",
      "row done: 141\n",
      "row done: 142\n",
      "row done: 143\n",
      "row done: 144\n",
      "row done: 145\n",
      "row done: 146\n",
      "row done: 147\n",
      "row done: 148\n",
      "row done: 149\n",
      "row done: 150\n",
      "row done: 151\n",
      "row done: 152\n",
      "row done: 153\n",
      "row done: 154\n",
      "row done: 155\n",
      "row done: 156\n",
      "row done: 157\n",
      "row done: 158\n",
      "row done: 159\n",
      "row done: 160\n",
      "row done: 161\n",
      "row done: 162\n",
      "row done: 163\n",
      "row done: 164\n",
      "row done: 165\n",
      "row done: 166\n",
      "row done: 167\n",
      "row done: 168\n",
      "row done: 169\n",
      "row done: 170\n",
      "row done: 171\n",
      "row done: 172\n",
      "row done: 173\n",
      "row done: 174\n",
      "row done: 175\n",
      "row done: 176\n",
      "row done: 177\n",
      "row done: 178\n",
      "row done: 179\n",
      "row done: 180\n",
      "row done: 181\n",
      "row done: 182\n",
      "row done: 183\n",
      "row done: 184\n",
      "row done: 185\n",
      "row done: 186\n",
      "row done: 187\n",
      "row done: 188\n",
      "row done: 189\n",
      "row done: 190\n",
      "row done: 191\n",
      "row done: 192\n",
      "row done: 193\n",
      "row done: 194\n",
      "row done: 195\n",
      "row done: 196\n",
      "row done: 197\n",
      "row done: 198\n",
      "row done: 199\n",
      "row done: 200\n",
      "row done: 201\n",
      "row done: 202\n",
      "row done: 203\n",
      "row done: 204\n",
      "row done: 205\n",
      "row done: 206\n",
      "row done: 207\n",
      "row done: 208\n",
      "row done: 209\n",
      "row done: 210\n",
      "row done: 211\n",
      "row done: 212\n",
      "row done: 213\n",
      "row done: 214\n",
      "row done: 215\n",
      "row done: 216\n",
      "row done: 217\n",
      "row done: 218\n",
      "row done: 219\n",
      "row done: 220\n",
      "row done: 221\n",
      "row done: 222\n",
      "row done: 223\n",
      "row done: 224\n",
      "row done: 225\n",
      "row done: 226\n",
      "row done: 227\n",
      "row done: 228\n",
      "row done: 229\n",
      "row done: 230\n",
      "row done: 231\n",
      "row done: 232\n",
      "row done: 233\n",
      "row done: 234\n",
      "row done: 235\n",
      "row done: 236\n",
      "row done: 237\n",
      "row done: 238\n",
      "row done: 239\n",
      "row done: 240\n",
      "row done: 241\n",
      "row done: 242\n",
      "row done: 243\n",
      "row done: 244\n",
      "row done: 245\n",
      "row done: 246\n",
      "row done: 247\n",
      "row done: 248\n",
      "row done: 249\n",
      "row done: 250\n",
      "row done: 251\n",
      "row done: 252\n",
      "row done: 253\n",
      "row done: 254\n",
      "row done: 255\n",
      "row done: 256\n",
      "row done: 257\n",
      "row done: 258\n",
      "row done: 259\n",
      "row done: 260\n",
      "row done: 261\n",
      "row done: 262\n",
      "row done: 263\n",
      "row done: 264\n",
      "row done: 265\n",
      "row done: 266\n",
      "row done: 267\n",
      "row done: 268\n",
      "row done: 269\n",
      "row done: 270\n",
      "row done: 271\n",
      "row done: 272\n",
      "row done: 273\n",
      "row done: 274\n"
     ]
    }
   ],
   "source": [
    "insertDataFromDataFrame(Whole_Youtube_Video_Data,\"youtube_videos_data\")"
   ]
  },
  {
   "cell_type": "code",
   "execution_count": 597,
   "id": "e261a2f1",
   "metadata": {
    "ExecuteTime": {
     "end_time": "2023-02-19T20:25:47.538436Z",
     "start_time": "2023-02-19T20:25:47.386435Z"
    },
    "collapsed": true
   },
   "outputs": [
    {
     "name": "stdout",
     "output_type": "stream",
     "text": [
      "row done: 0\n",
      "row done: 1\n",
      "row done: 2\n",
      "row done: 3\n",
      "row done: 4\n",
      "row done: 5\n",
      "row done: 6\n",
      "row done: 7\n",
      "row done: 8\n",
      "row done: 9\n",
      "row done: 10\n",
      "row done: 11\n",
      "row done: 12\n",
      "row done: 13\n",
      "row done: 14\n",
      "row done: 15\n",
      "row done: 16\n",
      "row done: 17\n",
      "row done: 18\n",
      "row done: 19\n",
      "row done: 20\n",
      "row done: 21\n",
      "row done: 22\n",
      "row done: 23\n",
      "row done: 24\n",
      "row done: 25\n",
      "row done: 26\n",
      "row done: 27\n",
      "row done: 28\n",
      "row done: 29\n",
      "row done: 30\n",
      "row done: 31\n",
      "row done: 32\n",
      "row done: 33\n",
      "row done: 34\n",
      "row done: 35\n",
      "row done: 36\n",
      "row done: 37\n",
      "row done: 38\n",
      "row done: 39\n",
      "row done: 40\n",
      "row done: 41\n",
      "row done: 42\n",
      "row done: 43\n",
      "row done: 44\n",
      "row done: 45\n",
      "row done: 46\n",
      "row done: 47\n",
      "row done: 48\n",
      "row done: 49\n",
      "row done: 50\n",
      "row done: 51\n",
      "row done: 52\n",
      "row done: 53\n",
      "row done: 54\n",
      "row done: 55\n",
      "row done: 56\n",
      "row done: 57\n",
      "row done: 58\n",
      "row done: 59\n",
      "row done: 60\n",
      "row done: 61\n",
      "row done: 62\n",
      "row done: 63\n",
      "row done: 64\n",
      "row done: 65\n",
      "row done: 66\n",
      "row done: 67\n",
      "row done: 68\n",
      "row done: 69\n",
      "row done: 70\n",
      "row done: 71\n",
      "row done: 72\n",
      "row done: 73\n",
      "row done: 74\n",
      "row done: 75\n",
      "row done: 76\n",
      "row done: 77\n",
      "row done: 78\n",
      "row done: 79\n",
      "row done: 80\n",
      "row done: 81\n",
      "row done: 82\n",
      "row done: 83\n",
      "row done: 84\n",
      "row done: 85\n",
      "row done: 86\n",
      "row done: 87\n",
      "row done: 88\n",
      "row done: 89\n",
      "row done: 90\n",
      "row done: 91\n",
      "row done: 92\n",
      "row done: 93\n",
      "row done: 94\n",
      "row done: 95\n",
      "row done: 96\n",
      "row done: 97\n",
      "row done: 98\n",
      "row done: 99\n",
      "row done: 100\n",
      "row done: 101\n",
      "row done: 102\n",
      "row done: 103\n",
      "row done: 104\n",
      "row done: 105\n",
      "row done: 106\n",
      "row done: 107\n",
      "row done: 108\n",
      "row done: 109\n",
      "row done: 110\n",
      "row done: 111\n",
      "row done: 112\n",
      "row done: 113\n",
      "row done: 114\n",
      "row done: 115\n",
      "row done: 116\n",
      "row done: 117\n",
      "row done: 118\n",
      "row done: 119\n",
      "row done: 120\n",
      "row done: 121\n",
      "row done: 122\n",
      "row done: 123\n",
      "row done: 124\n",
      "row done: 125\n",
      "row done: 126\n",
      "row done: 127\n",
      "row done: 128\n",
      "row done: 129\n",
      "row done: 130\n",
      "row done: 131\n",
      "row done: 132\n",
      "row done: 133\n",
      "row done: 134\n",
      "row done: 135\n",
      "row done: 136\n",
      "row done: 137\n",
      "row done: 138\n",
      "row done: 139\n",
      "row done: 140\n",
      "row done: 141\n",
      "row done: 142\n",
      "row done: 143\n",
      "row done: 144\n",
      "row done: 145\n",
      "row done: 146\n",
      "row done: 147\n",
      "row done: 148\n",
      "row done: 149\n"
     ]
    }
   ],
   "source": [
    "insertDataFromDataFrame(Youtube_Comments_Data,\"youtube_comments_data\")"
   ]
  }
 ],
 "metadata": {
  "colab": {
   "provenance": [
    {
     "file_id": "157IlCs-7AnovM6nO11wjp7ZhGoWbdd2X",
     "timestamp": 1676270838737
    }
   ],
   "toc_visible": true
  },
  "hide_input": false,
  "kernelspec": {
   "display_name": "Python 3 (ipykernel)",
   "language": "python",
   "name": "python3"
  },
  "language_info": {
   "codemirror_mode": {
    "name": "ipython",
    "version": 3
   },
   "file_extension": ".py",
   "mimetype": "text/x-python",
   "name": "python",
   "nbconvert_exporter": "python",
   "pygments_lexer": "ipython3",
   "version": "3.10.8"
  }
 },
 "nbformat": 4,
 "nbformat_minor": 5
}
